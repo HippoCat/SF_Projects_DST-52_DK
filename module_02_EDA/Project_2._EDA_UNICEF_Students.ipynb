{
 "cells": [
  {
   "cell_type": "markdown",
   "metadata": {},
   "source": [
    "# Проект UNICEF\n",
    "\n",
    "### Влияние условий жизни учащихся в возрасте от 15 до 22 лет на их успеваемость по математике\n",
    "\n",
    "__29-31.03.2021__\n",
    "\n",
    "Дмитрий Кузнецов"
   ]
  },
  {
   "cell_type": "code",
   "execution_count": 3394,
   "metadata": {},
   "outputs": [
    {
     "data": {
      "text/html": [
       "<div>\n",
       "<style scoped>\n",
       "    .dataframe tbody tr th:only-of-type {\n",
       "        vertical-align: middle;\n",
       "    }\n",
       "\n",
       "    .dataframe tbody tr th {\n",
       "        vertical-align: top;\n",
       "    }\n",
       "\n",
       "    .dataframe thead th {\n",
       "        text-align: right;\n",
       "    }\n",
       "</style>\n",
       "<table border=\"1\" class=\"dataframe\">\n",
       "  <thead>\n",
       "    <tr style=\"text-align: right;\">\n",
       "      <th></th>\n",
       "      <th>school</th>\n",
       "      <th>sex</th>\n",
       "      <th>age</th>\n",
       "      <th>address</th>\n",
       "      <th>famsize</th>\n",
       "      <th>pstatus</th>\n",
       "      <th>medu</th>\n",
       "      <th>fedu</th>\n",
       "      <th>mjob</th>\n",
       "      <th>fjob</th>\n",
       "      <th>reason</th>\n",
       "      <th>guardian</th>\n",
       "      <th>traveltime</th>\n",
       "      <th>studytime</th>\n",
       "      <th>failures</th>\n",
       "      <th>schoolsup</th>\n",
       "      <th>famsup</th>\n",
       "      <th>paid</th>\n",
       "      <th>activities</th>\n",
       "      <th>nursery</th>\n",
       "      <th>granular</th>\n",
       "      <th>higher</th>\n",
       "      <th>internet</th>\n",
       "      <th>romantic</th>\n",
       "      <th>famrel</th>\n",
       "      <th>freetime</th>\n",
       "      <th>goout</th>\n",
       "      <th>health</th>\n",
       "      <th>absences</th>\n",
       "      <th>score</th>\n",
       "    </tr>\n",
       "  </thead>\n",
       "  <tbody>\n",
       "    <tr>\n",
       "      <th>0</th>\n",
       "      <td>GP</td>\n",
       "      <td>F</td>\n",
       "      <td>18</td>\n",
       "      <td>U</td>\n",
       "      <td>NaN</td>\n",
       "      <td>A</td>\n",
       "      <td>4.0</td>\n",
       "      <td>4.0</td>\n",
       "      <td>at_home</td>\n",
       "      <td>teacher</td>\n",
       "      <td>course</td>\n",
       "      <td>mother</td>\n",
       "      <td>2.0</td>\n",
       "      <td>2.0</td>\n",
       "      <td>0.0</td>\n",
       "      <td>yes</td>\n",
       "      <td>no</td>\n",
       "      <td>no</td>\n",
       "      <td>no</td>\n",
       "      <td>yes</td>\n",
       "      <td>-6.0</td>\n",
       "      <td>yes</td>\n",
       "      <td>NaN</td>\n",
       "      <td>no</td>\n",
       "      <td>4.0</td>\n",
       "      <td>3.0</td>\n",
       "      <td>4.0</td>\n",
       "      <td>3.0</td>\n",
       "      <td>6.0</td>\n",
       "      <td>30.0</td>\n",
       "    </tr>\n",
       "    <tr>\n",
       "      <th>1</th>\n",
       "      <td>GP</td>\n",
       "      <td>F</td>\n",
       "      <td>17</td>\n",
       "      <td>U</td>\n",
       "      <td>GT3</td>\n",
       "      <td>NaN</td>\n",
       "      <td>1.0</td>\n",
       "      <td>1.0</td>\n",
       "      <td>at_home</td>\n",
       "      <td>other</td>\n",
       "      <td>course</td>\n",
       "      <td>father</td>\n",
       "      <td>1.0</td>\n",
       "      <td>2.0</td>\n",
       "      <td>0.0</td>\n",
       "      <td>no</td>\n",
       "      <td>yes</td>\n",
       "      <td>no</td>\n",
       "      <td>no</td>\n",
       "      <td>no</td>\n",
       "      <td>-6.0</td>\n",
       "      <td>yes</td>\n",
       "      <td>yes</td>\n",
       "      <td>no</td>\n",
       "      <td>5.0</td>\n",
       "      <td>3.0</td>\n",
       "      <td>3.0</td>\n",
       "      <td>3.0</td>\n",
       "      <td>4.0</td>\n",
       "      <td>30.0</td>\n",
       "    </tr>\n",
       "    <tr>\n",
       "      <th>2</th>\n",
       "      <td>GP</td>\n",
       "      <td>F</td>\n",
       "      <td>15</td>\n",
       "      <td>U</td>\n",
       "      <td>LE3</td>\n",
       "      <td>T</td>\n",
       "      <td>1.0</td>\n",
       "      <td>1.0</td>\n",
       "      <td>at_home</td>\n",
       "      <td>other</td>\n",
       "      <td>other</td>\n",
       "      <td>mother</td>\n",
       "      <td>1.0</td>\n",
       "      <td>2.0</td>\n",
       "      <td>3.0</td>\n",
       "      <td>yes</td>\n",
       "      <td>no</td>\n",
       "      <td>NaN</td>\n",
       "      <td>no</td>\n",
       "      <td>yes</td>\n",
       "      <td>-6.0</td>\n",
       "      <td>yes</td>\n",
       "      <td>yes</td>\n",
       "      <td>NaN</td>\n",
       "      <td>4.0</td>\n",
       "      <td>3.0</td>\n",
       "      <td>2.0</td>\n",
       "      <td>3.0</td>\n",
       "      <td>10.0</td>\n",
       "      <td>50.0</td>\n",
       "    </tr>\n",
       "    <tr>\n",
       "      <th>3</th>\n",
       "      <td>GP</td>\n",
       "      <td>F</td>\n",
       "      <td>15</td>\n",
       "      <td>U</td>\n",
       "      <td>GT3</td>\n",
       "      <td>T</td>\n",
       "      <td>4.0</td>\n",
       "      <td>2.0</td>\n",
       "      <td>health</td>\n",
       "      <td>NaN</td>\n",
       "      <td>home</td>\n",
       "      <td>mother</td>\n",
       "      <td>1.0</td>\n",
       "      <td>3.0</td>\n",
       "      <td>0.0</td>\n",
       "      <td>no</td>\n",
       "      <td>yes</td>\n",
       "      <td>yes</td>\n",
       "      <td>yes</td>\n",
       "      <td>yes</td>\n",
       "      <td>-9.0</td>\n",
       "      <td>yes</td>\n",
       "      <td>yes</td>\n",
       "      <td>yes</td>\n",
       "      <td>3.0</td>\n",
       "      <td>2.0</td>\n",
       "      <td>2.0</td>\n",
       "      <td>5.0</td>\n",
       "      <td>2.0</td>\n",
       "      <td>75.0</td>\n",
       "    </tr>\n",
       "    <tr>\n",
       "      <th>4</th>\n",
       "      <td>GP</td>\n",
       "      <td>F</td>\n",
       "      <td>16</td>\n",
       "      <td>U</td>\n",
       "      <td>GT3</td>\n",
       "      <td>T</td>\n",
       "      <td>3.0</td>\n",
       "      <td>3.0</td>\n",
       "      <td>other</td>\n",
       "      <td>other</td>\n",
       "      <td>home</td>\n",
       "      <td>father</td>\n",
       "      <td>1.0</td>\n",
       "      <td>2.0</td>\n",
       "      <td>0.0</td>\n",
       "      <td>no</td>\n",
       "      <td>yes</td>\n",
       "      <td>yes</td>\n",
       "      <td>no</td>\n",
       "      <td>yes</td>\n",
       "      <td>-6.0</td>\n",
       "      <td>yes</td>\n",
       "      <td>no</td>\n",
       "      <td>no</td>\n",
       "      <td>4.0</td>\n",
       "      <td>3.0</td>\n",
       "      <td>2.0</td>\n",
       "      <td>5.0</td>\n",
       "      <td>4.0</td>\n",
       "      <td>50.0</td>\n",
       "    </tr>\n",
       "    <tr>\n",
       "      <th>...</th>\n",
       "      <td>...</td>\n",
       "      <td>...</td>\n",
       "      <td>...</td>\n",
       "      <td>...</td>\n",
       "      <td>...</td>\n",
       "      <td>...</td>\n",
       "      <td>...</td>\n",
       "      <td>...</td>\n",
       "      <td>...</td>\n",
       "      <td>...</td>\n",
       "      <td>...</td>\n",
       "      <td>...</td>\n",
       "      <td>...</td>\n",
       "      <td>...</td>\n",
       "      <td>...</td>\n",
       "      <td>...</td>\n",
       "      <td>...</td>\n",
       "      <td>...</td>\n",
       "      <td>...</td>\n",
       "      <td>...</td>\n",
       "      <td>...</td>\n",
       "      <td>...</td>\n",
       "      <td>...</td>\n",
       "      <td>...</td>\n",
       "      <td>...</td>\n",
       "      <td>...</td>\n",
       "      <td>...</td>\n",
       "      <td>...</td>\n",
       "      <td>...</td>\n",
       "      <td>...</td>\n",
       "    </tr>\n",
       "    <tr>\n",
       "      <th>390</th>\n",
       "      <td>MS</td>\n",
       "      <td>M</td>\n",
       "      <td>20</td>\n",
       "      <td>U</td>\n",
       "      <td>LE3</td>\n",
       "      <td>A</td>\n",
       "      <td>2.0</td>\n",
       "      <td>2.0</td>\n",
       "      <td>services</td>\n",
       "      <td>services</td>\n",
       "      <td>course</td>\n",
       "      <td>NaN</td>\n",
       "      <td>1.0</td>\n",
       "      <td>2.0</td>\n",
       "      <td>2.0</td>\n",
       "      <td>no</td>\n",
       "      <td>yes</td>\n",
       "      <td>yes</td>\n",
       "      <td>no</td>\n",
       "      <td>yes</td>\n",
       "      <td>-6.0</td>\n",
       "      <td>yes</td>\n",
       "      <td>no</td>\n",
       "      <td>no</td>\n",
       "      <td>5.0</td>\n",
       "      <td>5.0</td>\n",
       "      <td>4.0</td>\n",
       "      <td>4.0</td>\n",
       "      <td>212.0</td>\n",
       "      <td>45.0</td>\n",
       "    </tr>\n",
       "    <tr>\n",
       "      <th>391</th>\n",
       "      <td>MS</td>\n",
       "      <td>M</td>\n",
       "      <td>17</td>\n",
       "      <td>U</td>\n",
       "      <td>LE3</td>\n",
       "      <td>T</td>\n",
       "      <td>3.0</td>\n",
       "      <td>1.0</td>\n",
       "      <td>services</td>\n",
       "      <td>services</td>\n",
       "      <td>course</td>\n",
       "      <td>mother</td>\n",
       "      <td>2.0</td>\n",
       "      <td>1.0</td>\n",
       "      <td>0.0</td>\n",
       "      <td>no</td>\n",
       "      <td>no</td>\n",
       "      <td>no</td>\n",
       "      <td>no</td>\n",
       "      <td>no</td>\n",
       "      <td>-3.0</td>\n",
       "      <td>yes</td>\n",
       "      <td>yes</td>\n",
       "      <td>no</td>\n",
       "      <td>2.0</td>\n",
       "      <td>4.0</td>\n",
       "      <td>5.0</td>\n",
       "      <td>2.0</td>\n",
       "      <td>3.0</td>\n",
       "      <td>80.0</td>\n",
       "    </tr>\n",
       "    <tr>\n",
       "      <th>392</th>\n",
       "      <td>MS</td>\n",
       "      <td>M</td>\n",
       "      <td>21</td>\n",
       "      <td>R</td>\n",
       "      <td>GT3</td>\n",
       "      <td>T</td>\n",
       "      <td>1.0</td>\n",
       "      <td>1.0</td>\n",
       "      <td>other</td>\n",
       "      <td>other</td>\n",
       "      <td>course</td>\n",
       "      <td>NaN</td>\n",
       "      <td>1.0</td>\n",
       "      <td>1.0</td>\n",
       "      <td>3.0</td>\n",
       "      <td>NaN</td>\n",
       "      <td>no</td>\n",
       "      <td>no</td>\n",
       "      <td>no</td>\n",
       "      <td>no</td>\n",
       "      <td>-3.0</td>\n",
       "      <td>NaN</td>\n",
       "      <td>no</td>\n",
       "      <td>no</td>\n",
       "      <td>5.0</td>\n",
       "      <td>5.0</td>\n",
       "      <td>3.0</td>\n",
       "      <td>3.0</td>\n",
       "      <td>3.0</td>\n",
       "      <td>35.0</td>\n",
       "    </tr>\n",
       "    <tr>\n",
       "      <th>393</th>\n",
       "      <td>MS</td>\n",
       "      <td>M</td>\n",
       "      <td>18</td>\n",
       "      <td>R</td>\n",
       "      <td>LE3</td>\n",
       "      <td>T</td>\n",
       "      <td>3.0</td>\n",
       "      <td>2.0</td>\n",
       "      <td>services</td>\n",
       "      <td>other</td>\n",
       "      <td>course</td>\n",
       "      <td>mother</td>\n",
       "      <td>3.0</td>\n",
       "      <td>1.0</td>\n",
       "      <td>0.0</td>\n",
       "      <td>no</td>\n",
       "      <td>no</td>\n",
       "      <td>no</td>\n",
       "      <td>NaN</td>\n",
       "      <td>no</td>\n",
       "      <td>-3.0</td>\n",
       "      <td>yes</td>\n",
       "      <td>yes</td>\n",
       "      <td>no</td>\n",
       "      <td>4.0</td>\n",
       "      <td>4.0</td>\n",
       "      <td>1.0</td>\n",
       "      <td>5.0</td>\n",
       "      <td>0.0</td>\n",
       "      <td>50.0</td>\n",
       "    </tr>\n",
       "    <tr>\n",
       "      <th>394</th>\n",
       "      <td>MS</td>\n",
       "      <td>M</td>\n",
       "      <td>19</td>\n",
       "      <td>U</td>\n",
       "      <td>LE3</td>\n",
       "      <td>T</td>\n",
       "      <td>1.0</td>\n",
       "      <td>1.0</td>\n",
       "      <td>other</td>\n",
       "      <td>at_home</td>\n",
       "      <td>NaN</td>\n",
       "      <td>father</td>\n",
       "      <td>1.0</td>\n",
       "      <td>1.0</td>\n",
       "      <td>0.0</td>\n",
       "      <td>NaN</td>\n",
       "      <td>no</td>\n",
       "      <td>no</td>\n",
       "      <td>no</td>\n",
       "      <td>yes</td>\n",
       "      <td>-3.0</td>\n",
       "      <td>yes</td>\n",
       "      <td>yes</td>\n",
       "      <td>no</td>\n",
       "      <td>3.0</td>\n",
       "      <td>2.0</td>\n",
       "      <td>3.0</td>\n",
       "      <td>5.0</td>\n",
       "      <td>5.0</td>\n",
       "      <td>45.0</td>\n",
       "    </tr>\n",
       "  </tbody>\n",
       "</table>\n",
       "<p>395 rows × 30 columns</p>\n",
       "</div>"
      ],
      "text/plain": [
       "    school sex  age address famsize pstatus  medu  fedu      mjob      fjob  \\\n",
       "0       GP   F   18       U     NaN       A   4.0   4.0   at_home   teacher   \n",
       "1       GP   F   17       U     GT3     NaN   1.0   1.0   at_home     other   \n",
       "2       GP   F   15       U     LE3       T   1.0   1.0   at_home     other   \n",
       "3       GP   F   15       U     GT3       T   4.0   2.0    health       NaN   \n",
       "4       GP   F   16       U     GT3       T   3.0   3.0     other     other   \n",
       "..     ...  ..  ...     ...     ...     ...   ...   ...       ...       ...   \n",
       "390     MS   M   20       U     LE3       A   2.0   2.0  services  services   \n",
       "391     MS   M   17       U     LE3       T   3.0   1.0  services  services   \n",
       "392     MS   M   21       R     GT3       T   1.0   1.0     other     other   \n",
       "393     MS   M   18       R     LE3       T   3.0   2.0  services     other   \n",
       "394     MS   M   19       U     LE3       T   1.0   1.0     other   at_home   \n",
       "\n",
       "     reason guardian  traveltime  studytime  failures schoolsup famsup paid  \\\n",
       "0    course   mother         2.0        2.0       0.0       yes     no   no   \n",
       "1    course   father         1.0        2.0       0.0        no    yes   no   \n",
       "2     other   mother         1.0        2.0       3.0       yes     no  NaN   \n",
       "3      home   mother         1.0        3.0       0.0        no    yes  yes   \n",
       "4      home   father         1.0        2.0       0.0        no    yes  yes   \n",
       "..      ...      ...         ...        ...       ...       ...    ...  ...   \n",
       "390  course      NaN         1.0        2.0       2.0        no    yes  yes   \n",
       "391  course   mother         2.0        1.0       0.0        no     no   no   \n",
       "392  course      NaN         1.0        1.0       3.0       NaN     no   no   \n",
       "393  course   mother         3.0        1.0       0.0        no     no   no   \n",
       "394     NaN   father         1.0        1.0       0.0       NaN     no   no   \n",
       "\n",
       "    activities nursery  granular higher internet romantic  famrel  freetime  \\\n",
       "0           no     yes      -6.0    yes      NaN       no     4.0       3.0   \n",
       "1           no      no      -6.0    yes      yes       no     5.0       3.0   \n",
       "2           no     yes      -6.0    yes      yes      NaN     4.0       3.0   \n",
       "3          yes     yes      -9.0    yes      yes      yes     3.0       2.0   \n",
       "4           no     yes      -6.0    yes       no       no     4.0       3.0   \n",
       "..         ...     ...       ...    ...      ...      ...     ...       ...   \n",
       "390         no     yes      -6.0    yes       no       no     5.0       5.0   \n",
       "391         no      no      -3.0    yes      yes       no     2.0       4.0   \n",
       "392         no      no      -3.0    NaN       no       no     5.0       5.0   \n",
       "393        NaN      no      -3.0    yes      yes       no     4.0       4.0   \n",
       "394         no     yes      -3.0    yes      yes       no     3.0       2.0   \n",
       "\n",
       "     goout  health  absences  score  \n",
       "0      4.0     3.0       6.0   30.0  \n",
       "1      3.0     3.0       4.0   30.0  \n",
       "2      2.0     3.0      10.0   50.0  \n",
       "3      2.0     5.0       2.0   75.0  \n",
       "4      2.0     5.0       4.0   50.0  \n",
       "..     ...     ...       ...    ...  \n",
       "390    4.0     4.0     212.0   45.0  \n",
       "391    5.0     2.0       3.0   80.0  \n",
       "392    3.0     3.0       3.0   35.0  \n",
       "393    1.0     5.0       0.0   50.0  \n",
       "394    3.0     5.0       5.0   45.0  \n",
       "\n",
       "[395 rows x 30 columns]"
      ]
     },
     "metadata": {},
     "output_type": "display_data"
    }
   ],
   "source": [
    "import pandas as pd\n",
    "import numpy as np\n",
    "import matplotlib.pyplot as plt\n",
    "import seaborn as sns\n",
    "from itertools import combinations\n",
    "from scipy.stats import ttest_ind\n",
    "import warnings; warnings.simplefilter('ignore')\n",
    "\n",
    "pd.set_option('display.max_rows', 50)  # показывать больше строк\n",
    "pd.set_option('display.max_columns', 50)  # показывать больше колонок\n",
    "\n",
    "students = pd.read_csv('stud_math.csv')\n",
    "\n",
    "# To rename many or all columns:\n",
    "# students.columns = ['school', 'sex', 'age', 'address', 'famsize', 'Pstatus', \n",
    "#                     'Medu', 'Fedu', 'Mjob', 'Fjob', 'reason', 'guardian', \n",
    "#                     'traveltime', 'studytime', 'failures', 'schoolsup', \n",
    "#                     'famsup', 'paid', 'activities', 'nursery', 'studytime', \n",
    "#                     'higher', 'internet', 'romantic', 'famrel', 'freetime', \n",
    "#                     'goout', 'health', 'absences', 'score']\n",
    "\n",
    "# Rename 'studytime, granular' to just 'granular' for convenience\n",
    "# Rename 'Pstatus', 'Medu', 'Fedu', 'Mjob', 'Fjob' to small letters \n",
    "students.rename(columns = {'studytime, granular':'granular',\n",
    "                           'Pstatus':'pstatus',\n",
    "                           'Medu':'medu', 'Fedu':'fedu', \n",
    "                           'Mjob':'mjob', 'Fjob':'fjob'}, inplace = True)\n",
    "\n",
    "display(students)\n",
    "\n",
    "\n",
    "# Define the function to alalyze an object type column.\n",
    "\n",
    "# Substitutes:\n",
    "# - empty strings or stringes of spaces to None\n",
    "\n",
    "# Prints:\n",
    "# - number of blanks/NaN and % of all;\n",
    "# - for each unique value: count and % of all;\n",
    "# - total number of rows.\n",
    "\n",
    "# Returns:\n",
    "# - column;\n",
    "# - total number of rows in column;\n",
    "# - DataFrame containing counts of unique values;\n",
    "# - a.m. DataFrame length, e.g. number of unique values.\n",
    "\n",
    "def column_analysis(col):\n",
    "    \n",
    "    students[col] = students[col].astype(str).apply(lambda x: None if pd.isna(x) \n",
    "                                                    else None if x == 'nan' \n",
    "                                                    else x)\n",
    "    total_rows = len(students[col])\n",
    "    df = pd.DataFrame(students[col].value_counts())\n",
    "    number_of_unigue_values = len(df)\n",
    "    number_of_none = students[col].isna().sum()\n",
    "    \n",
    "    print(\"NaN\", ': ', number_of_none, ' (', \n",
    "          round(number_of_none/total_rows*100, 1), '%)', sep='')\n",
    "    \n",
    "    # Iteration by rows:\n",
    "    # http://espressocode.top/different-ways-to-iterate-over-rows-in-pandas-dataframe/\n",
    "    for row in df.index:\n",
    "        print(row, ': ', int(df.loc[row]), ' (', \n",
    "              round(int(df.loc[row])/total_rows*100, 1), '%)', sep='')\n",
    "    \n",
    "    print(\"Всего строк:\", total_rows)\n",
    "    \n",
    "    if df[col].sum() + number_of_none != total_rows:\n",
    "        print('Something is rotten in the state of Denmark ...')\n",
    "    \n",
    "    return (col, total_rows, df, total_rows)\n",
    "\n",
    "# ЭТАЛОН-исходник от Sergey Meshcheryakov (meshcheryakovsvru@yandex.ru)\n",
    "\n",
    "# Option 1\n",
    "# def nan_to_values(column):\n",
    "#     np.random.seed(1)\n",
    "#     nan_index_list = stud[pd.isna(stud[column])].index\n",
    "#     for index in nan_index_list:\n",
    "#         stud.iat[index, stud.columns.get_loc(column)] = np.random.choice(['yes','no'],1)[0]\n",
    "# stud = pd.read_csv('stud_math.xls')\n",
    "# display(stud.romantic.value_counts(dropna=False))\n",
    "# nan_to_values('romantic')\n",
    "# display(stud.romantic.value_counts(dropna=False))\n",
    "\n",
    "# Option 2\n",
    "# def nan_to_values(column, change_list):\n",
    "#     np.random.seed(1)\n",
    "#     stud[column] = stud[column].apply(lambda x: np.random.choice(change_list,1)[0] \n",
    "#                                   if pd.isna(x) else x)\n",
    "# change_list = ['yes','no']\n",
    "# nan_to_values('romantic',change_list)\n",
    "\n",
    "# Define function fill_nan_randomly():\n",
    "# fills nans randomly with values from change_options_list\n",
    "\n",
    "def fill_nan_randomly(col, change_options_list):\n",
    "    np.random.seed(1) # initialize the random number generator\n",
    "    students[col] = students[col].apply(lambda x: \n",
    "                                        np.random.choice(change_options_list, 1)[0]\n",
    "                                        if pd.isna(x) else x)\n",
    "\n",
    "    \n",
    "# Function definition from the SkillFactory course - Student test\n",
    "\n",
    "def get_stat_dif(column):\n",
    "    cols = students.loc[:, column].value_counts().index[:10]\n",
    "#     cols = students.loc[:, column]\n",
    "    combinations_all = list(combinations(cols, 2))\n",
    "    for comb in combinations_all:\n",
    "        print(comb)\n",
    "        if ttest_ind(students.loc[students.loc[:, column] == comb[0], 'score'], \n",
    "                     students.loc[students.loc[:, column] == comb[1], 'score']).pvalue \\\n",
    "        <= 0.05/len(combinations_all): # Учли поправку Бонферони\n",
    "            print('Найдены статистически значимые различия для колонки', column)\n",
    "            break"
   ]
  },
  {
   "cell_type": "markdown",
   "metadata": {},
   "source": [
    "Итак, 395 строк и 30 столбцов-колонок. Сразу видим расхождение с описанием от авторов - у них в перечне 29 колонок. В реальном датасете есть \"недокументированная\" колонка __studytime, granular__. "
   ]
  },
  {
   "cell_type": "code",
   "execution_count": 3395,
   "metadata": {},
   "outputs": [],
   "source": [
    "#--------1---------2---------3---------4---------5---------6---------7---------8\n",
    "\n",
    "# To rename many or all columns:\n",
    "# students.columns = ['school', 'sex', 'age', 'address', 'famsize', 'Pstatus', \n",
    "#                     'Medu', 'Fedu', 'Mjob', 'Fjob', 'reason', 'guardian', \n",
    "#                     'traveltime', 'studytime', 'failures', 'schoolsup', \n",
    "#                     'famsup', 'paid', 'activities', 'nursery', 'studytime', \n",
    "#                     'higher', 'internet', 'romantic', 'famrel', 'freetime', \n",
    "#                     'goout', 'health', 'absences', 'score']\n",
    "\n",
    "# Rename 'studytime, granular' to just 'granular' for convenience\n",
    "# Rename 'Pstatus', 'Medu', 'Fedu', 'Mjob', 'Fjob' to small letters \n",
    "# students.rename(columns = {'studytime, granular':'granular',\n",
    "#                            'Pstatus':'pstatus',\n",
    "#                            'Medu':'medu', 'Fedu':'fedu', \n",
    "#                            'Mjob':'mjob', 'Fjob':'fjob'}, inplace = True)\n",
    "# display(students)"
   ]
  },
  {
   "cell_type": "code",
   "execution_count": 3396,
   "metadata": {},
   "outputs": [
    {
     "name": "stdout",
     "output_type": "stream",
     "text": [
      "<class 'pandas.core.frame.DataFrame'>\n",
      "RangeIndex: 395 entries, 0 to 394\n",
      "Data columns (total 30 columns):\n",
      " #   Column      Non-Null Count  Dtype  \n",
      "---  ------      --------------  -----  \n",
      " 0   school      395 non-null    object \n",
      " 1   sex         395 non-null    object \n",
      " 2   age         395 non-null    int64  \n",
      " 3   address     378 non-null    object \n",
      " 4   famsize     368 non-null    object \n",
      " 5   pstatus     350 non-null    object \n",
      " 6   medu        392 non-null    float64\n",
      " 7   fedu        371 non-null    float64\n",
      " 8   mjob        376 non-null    object \n",
      " 9   fjob        359 non-null    object \n",
      " 10  reason      378 non-null    object \n",
      " 11  guardian    364 non-null    object \n",
      " 12  traveltime  367 non-null    float64\n",
      " 13  studytime   388 non-null    float64\n",
      " 14  failures    373 non-null    float64\n",
      " 15  schoolsup   386 non-null    object \n",
      " 16  famsup      356 non-null    object \n",
      " 17  paid        355 non-null    object \n",
      " 18  activities  381 non-null    object \n",
      " 19  nursery     379 non-null    object \n",
      " 20  granular    388 non-null    float64\n",
      " 21  higher      375 non-null    object \n",
      " 22  internet    361 non-null    object \n",
      " 23  romantic    364 non-null    object \n",
      " 24  famrel      368 non-null    float64\n",
      " 25  freetime    384 non-null    float64\n",
      " 26  goout       387 non-null    float64\n",
      " 27  health      380 non-null    float64\n",
      " 28  absences    383 non-null    float64\n",
      " 29  score       389 non-null    float64\n",
      "dtypes: float64(12), int64(1), object(17)\n",
      "memory usage: 92.7+ KB\n"
     ]
    }
   ],
   "source": [
    "students.info()"
   ]
  },
  {
   "cell_type": "markdown",
   "metadata": {},
   "source": [
    "Раскладка по типам колонок:\n",
    "- object - 17\n",
    "- int64 - 1 - [age]\n",
    "- float64 - 12\n",
    "\n",
    "__Всего 30__\n",
    "\n",
    "Рассмотрим каждую колонку по отдельности."
   ]
  },
  {
   "cell_type": "markdown",
   "metadata": {},
   "source": [
    "### __1. \"school\", строковая__"
   ]
  },
  {
   "cell_type": "code",
   "execution_count": 3397,
   "metadata": {},
   "outputs": [
    {
     "data": {
      "text/html": [
       "<div>\n",
       "<style scoped>\n",
       "    .dataframe tbody tr th:only-of-type {\n",
       "        vertical-align: middle;\n",
       "    }\n",
       "\n",
       "    .dataframe tbody tr th {\n",
       "        vertical-align: top;\n",
       "    }\n",
       "\n",
       "    .dataframe thead th {\n",
       "        text-align: right;\n",
       "    }\n",
       "</style>\n",
       "<table border=\"1\" class=\"dataframe\">\n",
       "  <thead>\n",
       "    <tr style=\"text-align: right;\">\n",
       "      <th></th>\n",
       "      <th>school</th>\n",
       "    </tr>\n",
       "  </thead>\n",
       "  <tbody>\n",
       "    <tr>\n",
       "      <th>GP</th>\n",
       "      <td>349</td>\n",
       "    </tr>\n",
       "    <tr>\n",
       "      <th>MS</th>\n",
       "      <td>46</td>\n",
       "    </tr>\n",
       "  </tbody>\n",
       "</table>\n",
       "</div>"
      ],
      "text/plain": [
       "    school\n",
       "GP     349\n",
       "MS      46"
      ]
     },
     "execution_count": 3397,
     "metadata": {},
     "output_type": "execute_result"
    }
   ],
   "source": [
    "pd.DataFrame(students.school.value_counts())"
   ]
  },
  {
   "cell_type": "code",
   "execution_count": 3398,
   "metadata": {},
   "outputs": [
    {
     "data": {
      "text/plain": [
       "GP    349\n",
       "MS     46\n",
       "Name: school, dtype: int64"
      ]
     },
     "execution_count": 3398,
     "metadata": {},
     "output_type": "execute_result"
    }
   ],
   "source": [
    "# Another option:\n",
    "\n",
    "students.school.value_counts()"
   ]
  },
  {
   "cell_type": "code",
   "execution_count": 3399,
   "metadata": {},
   "outputs": [
    {
     "name": "stdout",
     "output_type": "stream",
     "text": [
      "NaN: 0 (0.0%)\n",
      "GP: 349 (88.4%)\n",
      "MS: 46 (11.6%)\n",
      "Всего строк: 395\n"
     ]
    }
   ],
   "source": [
    "# Use our column_analysis() function:\n",
    "\n",
    "school = column_analysis('school')"
   ]
  },
  {
   "cell_type": "markdown",
   "metadata": {},
   "source": [
    "Видим всего две школы, пропусков нет."
   ]
  },
  {
   "cell_type": "markdown",
   "metadata": {},
   "source": [
    "### __2. \"sex\", строковая__"
   ]
  },
  {
   "cell_type": "code",
   "execution_count": 3400,
   "metadata": {},
   "outputs": [
    {
     "name": "stdout",
     "output_type": "stream",
     "text": [
      "NaN: 0 (0.0%)\n",
      "F: 208 (52.7%)\n",
      "M: 187 (47.3%)\n",
      "Всего строк: 395\n"
     ]
    }
   ],
   "source": [
    "sex = column_analysis('sex')"
   ]
  },
  {
   "cell_type": "markdown",
   "metadata": {},
   "source": [
    "Видим всего два пола, пропусков нет."
   ]
  },
  {
   "cell_type": "markdown",
   "metadata": {},
   "source": [
    "### __3. \"age\", числовая - int64__"
   ]
  },
  {
   "cell_type": "code",
   "execution_count": 3401,
   "metadata": {},
   "outputs": [
    {
     "name": "stdout",
     "output_type": "stream",
     "text": [
      "NaN: 0 (0.0%)\n",
      "16: 104 (26.3%)\n",
      "17: 98 (24.8%)\n",
      "18: 82 (20.8%)\n",
      "15: 82 (20.8%)\n",
      "19: 24 (6.1%)\n",
      "20: 3 (0.8%)\n",
      "21: 1 (0.3%)\n",
      "22: 1 (0.3%)\n",
      "Всего строк: 395\n"
     ]
    }
   ],
   "source": [
    "age = column_analysis('age')"
   ]
  },
  {
   "cell_type": "code",
   "execution_count": 3402,
   "metadata": {},
   "outputs": [],
   "source": [
    "# NON pretty part of the code\n",
    "# The point is that column_analysis() functions \n",
    "# converts all fields to strubg type.\n",
    "# We now convert is back to integer.\n",
    "\n",
    "students['age'] = students['age'].apply(lambda x: int(x))"
   ]
  },
  {
   "cell_type": "markdown",
   "metadata": {},
   "source": [
    "Пропусков нет. Смотрим гистограмму."
   ]
  },
  {
   "cell_type": "code",
   "execution_count": 3403,
   "metadata": {},
   "outputs": [
    {
     "data": {
      "text/plain": [
       "<AxesSubplot:xlabel='age', ylabel='count'>"
      ]
     },
     "execution_count": 3403,
     "metadata": {},
     "output_type": "execute_result"
    },
    {
     "data": {
      "image/png": "[encoded data removed]",
      "text/plain": [
       "<Figure size 432x288 with 1 Axes>"
      ]
     },
     "metadata": {
      "needs_background": "light"
     },
     "output_type": "display_data"
    }
   ],
   "source": [
    "sns.countplot(x = 'age', data = students)"
   ]
  },
  {
   "cell_type": "markdown",
   "metadata": {},
   "source": [
    "Видно, что 366 из 395 студентов имеют возраст от 15 до 18 включительно.\n",
    "\n",
    "Еще 24 студента в возрасте 19 лет.\n",
    "\n",
    "Студентов возраста 20, 21 и 22 года - всего 5 человек, то есть чуть более 1% датасета.\n",
    "\n",
    "Поэтому предлагаю считать \"возрастных\" студентов старше 19 лет выбросами и удалить из рассмотрения."
   ]
  },
  {
   "cell_type": "code",
   "execution_count": 3404,
   "metadata": {},
   "outputs": [],
   "source": [
    "students = students.loc[students.age <= 19]"
   ]
  },
  {
   "cell_type": "markdown",
   "metadata": {},
   "source": [
    "Осталось 390 строк и 30 столбцов."
   ]
  },
  {
   "cell_type": "markdown",
   "metadata": {},
   "source": [
    "__30.03.2021 12:00__"
   ]
  },
  {
   "cell_type": "markdown",
   "metadata": {},
   "source": [
    "### __4. \"address\", строковая__"
   ]
  },
  {
   "cell_type": "code",
   "execution_count": 3405,
   "metadata": {
    "scrolled": true
   },
   "outputs": [
    {
     "name": "stdout",
     "output_type": "stream",
     "text": [
      "NaN: 16 (4.1%)\n",
      "U: 292 (74.9%)\n",
      "R: 82 (21.0%)\n",
      "Всего строк: 390\n"
     ]
    }
   ],
   "source": [
    "address = column_analysis('address')"
   ]
  },
  {
   "cell_type": "markdown",
   "metadata": {},
   "source": [
    "Пропусков (nan) - 4.1%.\n",
    "\n",
    "Можно удалить эти 14 строк с пропусками, а можно рандомно заполнить либо U, либо R.\n",
    "\n",
    "##### ЗАМЕЧАНИЕ: Можно написать функцию, которая будет заменять пропуски либо на U, либо на R, но не просто рандомно, а пропорционально, в соотношении распределения U/R, то есть рандомно и в пропорции 292/82. В силу временнЫх ограничений, ограничимся простым случайным заполнением."
   ]
  },
  {
   "cell_type": "code",
   "execution_count": 3406,
   "metadata": {
    "scrolled": true
   },
   "outputs": [],
   "source": [
    "change_list = ['U','R']\n",
    "fill_nan_randomly('address', change_list) # Fill NaN Randomly"
   ]
  },
  {
   "cell_type": "code",
   "execution_count": 3407,
   "metadata": {},
   "outputs": [
    {
     "name": "stdout",
     "output_type": "stream",
     "text": [
      "NaN: 0 (0.0%)\n",
      "U: 298 (76.4%)\n",
      "R: 92 (23.6%)\n",
      "Всего строк: 390\n"
     ]
    }
   ],
   "source": [
    "address = column_analysis('address')"
   ]
  },
  {
   "cell_type": "markdown",
   "metadata": {},
   "source": [
    "Заменив пропуски, получили датасет с 390 строками.\n",
    "\n",
    "Видно, что 298 (76.4%) учеников живет в городах (Urban) и 92 (23.6%) за городом (Rural)."
   ]
  },
  {
   "cell_type": "markdown",
   "metadata": {},
   "source": [
    "### __5. \"famsize\", строковая — размер семьи ('LE3' <= 3, 'GT3' >3)__"
   ]
  },
  {
   "cell_type": "code",
   "execution_count": 3408,
   "metadata": {},
   "outputs": [
    {
     "name": "stdout",
     "output_type": "stream",
     "text": [
      "NaN: 27 (6.9%)\n",
      "GT3: 257 (65.9%)\n",
      "LE3: 106 (27.2%)\n",
      "Всего строк: 390\n"
     ]
    }
   ],
   "source": [
    "famsize = column_analysis('famsize')"
   ]
  },
  {
   "cell_type": "markdown",
   "metadata": {},
   "source": [
    "Заменяем 27 пропусков."
   ]
  },
  {
   "cell_type": "code",
   "execution_count": 3409,
   "metadata": {},
   "outputs": [],
   "source": [
    "change_list = ['GT3','LE3']\n",
    "fill_nan_randomly('famsize', change_list)  # Fill NaN Randomly"
   ]
  },
  {
   "cell_type": "code",
   "execution_count": 3410,
   "metadata": {},
   "outputs": [
    {
     "name": "stdout",
     "output_type": "stream",
     "text": [
      "NaN: 0 (0.0%)\n",
      "GT3: 271 (69.5%)\n",
      "LE3: 119 (30.5%)\n",
      "Всего строк: 390\n"
     ]
    }
   ],
   "source": [
    "famsize = column_analysis('famsize')"
   ]
  },
  {
   "cell_type": "markdown",
   "metadata": {},
   "source": [
    "Видно, что у 271 (69.5%) учеников размер семьи более 3 человек (GT3).\n",
    "\n",
    "119 (30.5%) учеников имеют семью из 3 и менее человек (LE3)."
   ]
  },
  {
   "cell_type": "markdown",
   "metadata": {},
   "source": [
    "### __6. \"pstatus\", строковая — статус совместного жилья родителей__\n",
    "('T' - живут вместе 'A' - раздельно)"
   ]
  },
  {
   "cell_type": "code",
   "execution_count": 3411,
   "metadata": {},
   "outputs": [
    {
     "name": "stdout",
     "output_type": "stream",
     "text": [
      "NaN: 45 (11.5%)\n",
      "T: 311 (79.7%)\n",
      "A: 34 (8.7%)\n",
      "Всего строк: 390\n"
     ]
    }
   ],
   "source": [
    "pstatus = column_analysis('pstatus')"
   ]
  },
  {
   "cell_type": "markdown",
   "metadata": {},
   "source": [
    "Пропусков 45, почти 12%, заменим случайным образом."
   ]
  },
  {
   "cell_type": "code",
   "execution_count": 3412,
   "metadata": {},
   "outputs": [],
   "source": [
    "change_list = ['T','A']\n",
    "fill_nan_randomly('pstatus', change_list)  # Fill NaN Randomly"
   ]
  },
  {
   "cell_type": "code",
   "execution_count": 3413,
   "metadata": {},
   "outputs": [
    {
     "name": "stdout",
     "output_type": "stream",
     "text": [
      "NaN: 0 (0.0%)\n",
      "T: 332 (85.1%)\n",
      "A: 58 (14.9%)\n",
      "Всего строк: 390\n"
     ]
    }
   ],
   "source": [
    "pstatus = column_analysis('pstatus')"
   ]
  },
  {
   "cell_type": "markdown",
   "metadata": {},
   "source": [
    "У 332 (85.1%) учеников родители живут вместе, у 58 (14.9%) раздельно."
   ]
  },
  {
   "cell_type": "markdown",
   "metadata": {},
   "source": [
    "### __7. \"medu\", float — образование матери__\n",
    "(0 - нет, 1 - 4 класса, 2 - 5-9 классы, 3 - среднее специальное или 11 классов, 4 - высшее)"
   ]
  },
  {
   "cell_type": "code",
   "execution_count": 3414,
   "metadata": {},
   "outputs": [
    {
     "name": "stdout",
     "output_type": "stream",
     "text": [
      "NaN: 3 (0.8%)\n",
      "4.0: 130 (33.3%)\n",
      "2.0: 101 (25.9%)\n",
      "3.0: 95 (24.4%)\n",
      "1.0: 58 (14.9%)\n",
      "0.0: 3 (0.8%)\n",
      "Всего строк: 390\n"
     ]
    }
   ],
   "source": [
    "medu = column_analysis('medu')"
   ]
  },
  {
   "cell_type": "code",
   "execution_count": 3415,
   "metadata": {},
   "outputs": [],
   "source": [
    "change_list = ['1.0','2.0', '3.0','4.0']\n",
    "fill_nan_randomly('medu', change_list)  # Fill NaN Randomly"
   ]
  },
  {
   "cell_type": "code",
   "execution_count": 3416,
   "metadata": {},
   "outputs": [
    {
     "data": {
      "text/html": [
       "<div>\n",
       "<style scoped>\n",
       "    .dataframe tbody tr th:only-of-type {\n",
       "        vertical-align: middle;\n",
       "    }\n",
       "\n",
       "    .dataframe tbody tr th {\n",
       "        vertical-align: top;\n",
       "    }\n",
       "\n",
       "    .dataframe thead th {\n",
       "        text-align: right;\n",
       "    }\n",
       "</style>\n",
       "<table border=\"1\" class=\"dataframe\">\n",
       "  <thead>\n",
       "    <tr style=\"text-align: right;\">\n",
       "      <th></th>\n",
       "      <th>school</th>\n",
       "      <th>sex</th>\n",
       "      <th>age</th>\n",
       "      <th>address</th>\n",
       "      <th>famsize</th>\n",
       "      <th>pstatus</th>\n",
       "      <th>medu</th>\n",
       "      <th>fedu</th>\n",
       "      <th>mjob</th>\n",
       "      <th>fjob</th>\n",
       "      <th>reason</th>\n",
       "      <th>guardian</th>\n",
       "      <th>traveltime</th>\n",
       "      <th>studytime</th>\n",
       "      <th>failures</th>\n",
       "      <th>schoolsup</th>\n",
       "      <th>famsup</th>\n",
       "      <th>paid</th>\n",
       "      <th>activities</th>\n",
       "      <th>nursery</th>\n",
       "      <th>granular</th>\n",
       "      <th>higher</th>\n",
       "      <th>internet</th>\n",
       "      <th>romantic</th>\n",
       "      <th>famrel</th>\n",
       "      <th>freetime</th>\n",
       "      <th>goout</th>\n",
       "      <th>health</th>\n",
       "      <th>absences</th>\n",
       "      <th>score</th>\n",
       "    </tr>\n",
       "  </thead>\n",
       "  <tbody>\n",
       "    <tr>\n",
       "      <th>0</th>\n",
       "      <td>GP</td>\n",
       "      <td>F</td>\n",
       "      <td>18</td>\n",
       "      <td>U</td>\n",
       "      <td>LE3</td>\n",
       "      <td>A</td>\n",
       "      <td>4.0</td>\n",
       "      <td>4.0</td>\n",
       "      <td>at_home</td>\n",
       "      <td>teacher</td>\n",
       "      <td>course</td>\n",
       "      <td>mother</td>\n",
       "      <td>2.0</td>\n",
       "      <td>2.0</td>\n",
       "      <td>0.0</td>\n",
       "      <td>yes</td>\n",
       "      <td>no</td>\n",
       "      <td>no</td>\n",
       "      <td>no</td>\n",
       "      <td>yes</td>\n",
       "      <td>-6.0</td>\n",
       "      <td>yes</td>\n",
       "      <td>NaN</td>\n",
       "      <td>no</td>\n",
       "      <td>4.0</td>\n",
       "      <td>3.0</td>\n",
       "      <td>4.0</td>\n",
       "      <td>3.0</td>\n",
       "      <td>6.0</td>\n",
       "      <td>30.0</td>\n",
       "    </tr>\n",
       "    <tr>\n",
       "      <th>1</th>\n",
       "      <td>GP</td>\n",
       "      <td>F</td>\n",
       "      <td>17</td>\n",
       "      <td>U</td>\n",
       "      <td>GT3</td>\n",
       "      <td>A</td>\n",
       "      <td>1.0</td>\n",
       "      <td>1.0</td>\n",
       "      <td>at_home</td>\n",
       "      <td>other</td>\n",
       "      <td>course</td>\n",
       "      <td>father</td>\n",
       "      <td>1.0</td>\n",
       "      <td>2.0</td>\n",
       "      <td>0.0</td>\n",
       "      <td>no</td>\n",
       "      <td>yes</td>\n",
       "      <td>no</td>\n",
       "      <td>no</td>\n",
       "      <td>no</td>\n",
       "      <td>-6.0</td>\n",
       "      <td>yes</td>\n",
       "      <td>yes</td>\n",
       "      <td>no</td>\n",
       "      <td>5.0</td>\n",
       "      <td>3.0</td>\n",
       "      <td>3.0</td>\n",
       "      <td>3.0</td>\n",
       "      <td>4.0</td>\n",
       "      <td>30.0</td>\n",
       "    </tr>\n",
       "    <tr>\n",
       "      <th>2</th>\n",
       "      <td>GP</td>\n",
       "      <td>F</td>\n",
       "      <td>15</td>\n",
       "      <td>U</td>\n",
       "      <td>LE3</td>\n",
       "      <td>T</td>\n",
       "      <td>1.0</td>\n",
       "      <td>1.0</td>\n",
       "      <td>at_home</td>\n",
       "      <td>other</td>\n",
       "      <td>other</td>\n",
       "      <td>mother</td>\n",
       "      <td>1.0</td>\n",
       "      <td>2.0</td>\n",
       "      <td>3.0</td>\n",
       "      <td>yes</td>\n",
       "      <td>no</td>\n",
       "      <td>NaN</td>\n",
       "      <td>no</td>\n",
       "      <td>yes</td>\n",
       "      <td>-6.0</td>\n",
       "      <td>yes</td>\n",
       "      <td>yes</td>\n",
       "      <td>NaN</td>\n",
       "      <td>4.0</td>\n",
       "      <td>3.0</td>\n",
       "      <td>2.0</td>\n",
       "      <td>3.0</td>\n",
       "      <td>10.0</td>\n",
       "      <td>50.0</td>\n",
       "    </tr>\n",
       "    <tr>\n",
       "      <th>3</th>\n",
       "      <td>GP</td>\n",
       "      <td>F</td>\n",
       "      <td>15</td>\n",
       "      <td>U</td>\n",
       "      <td>GT3</td>\n",
       "      <td>T</td>\n",
       "      <td>4.0</td>\n",
       "      <td>2.0</td>\n",
       "      <td>health</td>\n",
       "      <td>NaN</td>\n",
       "      <td>home</td>\n",
       "      <td>mother</td>\n",
       "      <td>1.0</td>\n",
       "      <td>3.0</td>\n",
       "      <td>0.0</td>\n",
       "      <td>no</td>\n",
       "      <td>yes</td>\n",
       "      <td>yes</td>\n",
       "      <td>yes</td>\n",
       "      <td>yes</td>\n",
       "      <td>-9.0</td>\n",
       "      <td>yes</td>\n",
       "      <td>yes</td>\n",
       "      <td>yes</td>\n",
       "      <td>3.0</td>\n",
       "      <td>2.0</td>\n",
       "      <td>2.0</td>\n",
       "      <td>5.0</td>\n",
       "      <td>2.0</td>\n",
       "      <td>75.0</td>\n",
       "    </tr>\n",
       "    <tr>\n",
       "      <th>4</th>\n",
       "      <td>GP</td>\n",
       "      <td>F</td>\n",
       "      <td>16</td>\n",
       "      <td>U</td>\n",
       "      <td>GT3</td>\n",
       "      <td>T</td>\n",
       "      <td>3.0</td>\n",
       "      <td>3.0</td>\n",
       "      <td>other</td>\n",
       "      <td>other</td>\n",
       "      <td>home</td>\n",
       "      <td>father</td>\n",
       "      <td>1.0</td>\n",
       "      <td>2.0</td>\n",
       "      <td>0.0</td>\n",
       "      <td>no</td>\n",
       "      <td>yes</td>\n",
       "      <td>yes</td>\n",
       "      <td>no</td>\n",
       "      <td>yes</td>\n",
       "      <td>-6.0</td>\n",
       "      <td>yes</td>\n",
       "      <td>no</td>\n",
       "      <td>no</td>\n",
       "      <td>4.0</td>\n",
       "      <td>3.0</td>\n",
       "      <td>2.0</td>\n",
       "      <td>5.0</td>\n",
       "      <td>4.0</td>\n",
       "      <td>50.0</td>\n",
       "    </tr>\n",
       "    <tr>\n",
       "      <th>...</th>\n",
       "      <td>...</td>\n",
       "      <td>...</td>\n",
       "      <td>...</td>\n",
       "      <td>...</td>\n",
       "      <td>...</td>\n",
       "      <td>...</td>\n",
       "      <td>...</td>\n",
       "      <td>...</td>\n",
       "      <td>...</td>\n",
       "      <td>...</td>\n",
       "      <td>...</td>\n",
       "      <td>...</td>\n",
       "      <td>...</td>\n",
       "      <td>...</td>\n",
       "      <td>...</td>\n",
       "      <td>...</td>\n",
       "      <td>...</td>\n",
       "      <td>...</td>\n",
       "      <td>...</td>\n",
       "      <td>...</td>\n",
       "      <td>...</td>\n",
       "      <td>...</td>\n",
       "      <td>...</td>\n",
       "      <td>...</td>\n",
       "      <td>...</td>\n",
       "      <td>...</td>\n",
       "      <td>...</td>\n",
       "      <td>...</td>\n",
       "      <td>...</td>\n",
       "      <td>...</td>\n",
       "    </tr>\n",
       "    <tr>\n",
       "      <th>388</th>\n",
       "      <td>MS</td>\n",
       "      <td>F</td>\n",
       "      <td>18</td>\n",
       "      <td>U</td>\n",
       "      <td>LE3</td>\n",
       "      <td>T</td>\n",
       "      <td>3.0</td>\n",
       "      <td>1.0</td>\n",
       "      <td>teacher</td>\n",
       "      <td>services</td>\n",
       "      <td>course</td>\n",
       "      <td>mother</td>\n",
       "      <td>1.0</td>\n",
       "      <td>2.0</td>\n",
       "      <td>0.0</td>\n",
       "      <td>no</td>\n",
       "      <td>yes</td>\n",
       "      <td>yes</td>\n",
       "      <td>no</td>\n",
       "      <td>yes</td>\n",
       "      <td>-6.0</td>\n",
       "      <td>yes</td>\n",
       "      <td>yes</td>\n",
       "      <td>no</td>\n",
       "      <td>4.0</td>\n",
       "      <td>3.0</td>\n",
       "      <td>4.0</td>\n",
       "      <td>1.0</td>\n",
       "      <td>0.0</td>\n",
       "      <td>40.0</td>\n",
       "    </tr>\n",
       "    <tr>\n",
       "      <th>389</th>\n",
       "      <td>MS</td>\n",
       "      <td>F</td>\n",
       "      <td>18</td>\n",
       "      <td>U</td>\n",
       "      <td>GT3</td>\n",
       "      <td>T</td>\n",
       "      <td>1.0</td>\n",
       "      <td>1.0</td>\n",
       "      <td>other</td>\n",
       "      <td>other</td>\n",
       "      <td>course</td>\n",
       "      <td>mother</td>\n",
       "      <td>NaN</td>\n",
       "      <td>2.0</td>\n",
       "      <td>1.0</td>\n",
       "      <td>no</td>\n",
       "      <td>no</td>\n",
       "      <td>no</td>\n",
       "      <td>yes</td>\n",
       "      <td>yes</td>\n",
       "      <td>-6.0</td>\n",
       "      <td>yes</td>\n",
       "      <td>NaN</td>\n",
       "      <td>no</td>\n",
       "      <td>1.0</td>\n",
       "      <td>1.0</td>\n",
       "      <td>1.0</td>\n",
       "      <td>5.0</td>\n",
       "      <td>0.0</td>\n",
       "      <td>0.0</td>\n",
       "    </tr>\n",
       "    <tr>\n",
       "      <th>391</th>\n",
       "      <td>MS</td>\n",
       "      <td>M</td>\n",
       "      <td>17</td>\n",
       "      <td>U</td>\n",
       "      <td>LE3</td>\n",
       "      <td>T</td>\n",
       "      <td>3.0</td>\n",
       "      <td>1.0</td>\n",
       "      <td>services</td>\n",
       "      <td>services</td>\n",
       "      <td>course</td>\n",
       "      <td>mother</td>\n",
       "      <td>2.0</td>\n",
       "      <td>1.0</td>\n",
       "      <td>0.0</td>\n",
       "      <td>no</td>\n",
       "      <td>no</td>\n",
       "      <td>no</td>\n",
       "      <td>no</td>\n",
       "      <td>no</td>\n",
       "      <td>-3.0</td>\n",
       "      <td>yes</td>\n",
       "      <td>yes</td>\n",
       "      <td>no</td>\n",
       "      <td>2.0</td>\n",
       "      <td>4.0</td>\n",
       "      <td>5.0</td>\n",
       "      <td>2.0</td>\n",
       "      <td>3.0</td>\n",
       "      <td>80.0</td>\n",
       "    </tr>\n",
       "    <tr>\n",
       "      <th>393</th>\n",
       "      <td>MS</td>\n",
       "      <td>M</td>\n",
       "      <td>18</td>\n",
       "      <td>R</td>\n",
       "      <td>LE3</td>\n",
       "      <td>T</td>\n",
       "      <td>3.0</td>\n",
       "      <td>2.0</td>\n",
       "      <td>services</td>\n",
       "      <td>other</td>\n",
       "      <td>course</td>\n",
       "      <td>mother</td>\n",
       "      <td>3.0</td>\n",
       "      <td>1.0</td>\n",
       "      <td>0.0</td>\n",
       "      <td>no</td>\n",
       "      <td>no</td>\n",
       "      <td>no</td>\n",
       "      <td>NaN</td>\n",
       "      <td>no</td>\n",
       "      <td>-3.0</td>\n",
       "      <td>yes</td>\n",
       "      <td>yes</td>\n",
       "      <td>no</td>\n",
       "      <td>4.0</td>\n",
       "      <td>4.0</td>\n",
       "      <td>1.0</td>\n",
       "      <td>5.0</td>\n",
       "      <td>0.0</td>\n",
       "      <td>50.0</td>\n",
       "    </tr>\n",
       "    <tr>\n",
       "      <th>394</th>\n",
       "      <td>MS</td>\n",
       "      <td>M</td>\n",
       "      <td>19</td>\n",
       "      <td>U</td>\n",
       "      <td>LE3</td>\n",
       "      <td>T</td>\n",
       "      <td>1.0</td>\n",
       "      <td>1.0</td>\n",
       "      <td>other</td>\n",
       "      <td>at_home</td>\n",
       "      <td>NaN</td>\n",
       "      <td>father</td>\n",
       "      <td>1.0</td>\n",
       "      <td>1.0</td>\n",
       "      <td>0.0</td>\n",
       "      <td>NaN</td>\n",
       "      <td>no</td>\n",
       "      <td>no</td>\n",
       "      <td>no</td>\n",
       "      <td>yes</td>\n",
       "      <td>-3.0</td>\n",
       "      <td>yes</td>\n",
       "      <td>yes</td>\n",
       "      <td>no</td>\n",
       "      <td>3.0</td>\n",
       "      <td>2.0</td>\n",
       "      <td>3.0</td>\n",
       "      <td>5.0</td>\n",
       "      <td>5.0</td>\n",
       "      <td>45.0</td>\n",
       "    </tr>\n",
       "  </tbody>\n",
       "</table>\n",
       "<p>387 rows × 30 columns</p>\n",
       "</div>"
      ],
      "text/plain": [
       "    school sex  age address famsize pstatus medu  fedu      mjob      fjob  \\\n",
       "0       GP   F   18       U     LE3       A  4.0   4.0   at_home   teacher   \n",
       "1       GP   F   17       U     GT3       A  1.0   1.0   at_home     other   \n",
       "2       GP   F   15       U     LE3       T  1.0   1.0   at_home     other   \n",
       "3       GP   F   15       U     GT3       T  4.0   2.0    health       NaN   \n",
       "4       GP   F   16       U     GT3       T  3.0   3.0     other     other   \n",
       "..     ...  ..  ...     ...     ...     ...  ...   ...       ...       ...   \n",
       "388     MS   F   18       U     LE3       T  3.0   1.0   teacher  services   \n",
       "389     MS   F   18       U     GT3       T  1.0   1.0     other     other   \n",
       "391     MS   M   17       U     LE3       T  3.0   1.0  services  services   \n",
       "393     MS   M   18       R     LE3       T  3.0   2.0  services     other   \n",
       "394     MS   M   19       U     LE3       T  1.0   1.0     other   at_home   \n",
       "\n",
       "     reason guardian  traveltime  studytime  failures schoolsup famsup paid  \\\n",
       "0    course   mother         2.0        2.0       0.0       yes     no   no   \n",
       "1    course   father         1.0        2.0       0.0        no    yes   no   \n",
       "2     other   mother         1.0        2.0       3.0       yes     no  NaN   \n",
       "3      home   mother         1.0        3.0       0.0        no    yes  yes   \n",
       "4      home   father         1.0        2.0       0.0        no    yes  yes   \n",
       "..      ...      ...         ...        ...       ...       ...    ...  ...   \n",
       "388  course   mother         1.0        2.0       0.0        no    yes  yes   \n",
       "389  course   mother         NaN        2.0       1.0        no     no   no   \n",
       "391  course   mother         2.0        1.0       0.0        no     no   no   \n",
       "393  course   mother         3.0        1.0       0.0        no     no   no   \n",
       "394     NaN   father         1.0        1.0       0.0       NaN     no   no   \n",
       "\n",
       "    activities nursery  granular higher internet romantic  famrel  freetime  \\\n",
       "0           no     yes      -6.0    yes      NaN       no     4.0       3.0   \n",
       "1           no      no      -6.0    yes      yes       no     5.0       3.0   \n",
       "2           no     yes      -6.0    yes      yes      NaN     4.0       3.0   \n",
       "3          yes     yes      -9.0    yes      yes      yes     3.0       2.0   \n",
       "4           no     yes      -6.0    yes       no       no     4.0       3.0   \n",
       "..         ...     ...       ...    ...      ...      ...     ...       ...   \n",
       "388         no     yes      -6.0    yes      yes       no     4.0       3.0   \n",
       "389        yes     yes      -6.0    yes      NaN       no     1.0       1.0   \n",
       "391         no      no      -3.0    yes      yes       no     2.0       4.0   \n",
       "393        NaN      no      -3.0    yes      yes       no     4.0       4.0   \n",
       "394         no     yes      -3.0    yes      yes       no     3.0       2.0   \n",
       "\n",
       "     goout  health  absences  score  \n",
       "0      4.0     3.0       6.0   30.0  \n",
       "1      3.0     3.0       4.0   30.0  \n",
       "2      2.0     3.0      10.0   50.0  \n",
       "3      2.0     5.0       2.0   75.0  \n",
       "4      2.0     5.0       4.0   50.0  \n",
       "..     ...     ...       ...    ...  \n",
       "388    4.0     1.0       0.0   40.0  \n",
       "389    1.0     5.0       0.0    0.0  \n",
       "391    5.0     2.0       3.0   80.0  \n",
       "393    1.0     5.0       0.0   50.0  \n",
       "394    3.0     5.0       5.0   45.0  \n",
       "\n",
       "[387 rows x 30 columns]"
      ]
     },
     "execution_count": 3416,
     "metadata": {},
     "output_type": "execute_result"
    }
   ],
   "source": [
    "students = students.loc[students.medu != '0.0'] # Delete 3 zero education level\n",
    "students"
   ]
  },
  {
   "cell_type": "code",
   "execution_count": 3417,
   "metadata": {},
   "outputs": [
    {
     "name": "stdout",
     "output_type": "stream",
     "text": [
      "NaN: 0 (0.0%)\n",
      "4.0: 131 (33.9%)\n",
      "2.0: 102 (26.4%)\n",
      "3.0: 95 (24.5%)\n",
      "1.0: 59 (15.2%)\n",
      "Всего строк: 387\n"
     ]
    }
   ],
   "source": [
    "medu = column_analysis('medu')"
   ]
  },
  {
   "cell_type": "code",
   "execution_count": 3418,
   "metadata": {},
   "outputs": [
    {
     "data": {
      "text/html": [
       "<div>\n",
       "<style scoped>\n",
       "    .dataframe tbody tr th:only-of-type {\n",
       "        vertical-align: middle;\n",
       "    }\n",
       "\n",
       "    .dataframe tbody tr th {\n",
       "        vertical-align: top;\n",
       "    }\n",
       "\n",
       "    .dataframe thead th {\n",
       "        text-align: right;\n",
       "    }\n",
       "</style>\n",
       "<table border=\"1\" class=\"dataframe\">\n",
       "  <thead>\n",
       "    <tr style=\"text-align: right;\">\n",
       "      <th></th>\n",
       "      <th>school</th>\n",
       "      <th>sex</th>\n",
       "      <th>age</th>\n",
       "      <th>address</th>\n",
       "      <th>famsize</th>\n",
       "      <th>pstatus</th>\n",
       "      <th>medu</th>\n",
       "      <th>fedu</th>\n",
       "      <th>mjob</th>\n",
       "      <th>fjob</th>\n",
       "      <th>reason</th>\n",
       "      <th>guardian</th>\n",
       "      <th>traveltime</th>\n",
       "      <th>studytime</th>\n",
       "      <th>failures</th>\n",
       "      <th>schoolsup</th>\n",
       "      <th>famsup</th>\n",
       "      <th>paid</th>\n",
       "      <th>activities</th>\n",
       "      <th>nursery</th>\n",
       "      <th>granular</th>\n",
       "      <th>higher</th>\n",
       "      <th>internet</th>\n",
       "      <th>romantic</th>\n",
       "      <th>famrel</th>\n",
       "      <th>freetime</th>\n",
       "      <th>goout</th>\n",
       "      <th>health</th>\n",
       "      <th>absences</th>\n",
       "      <th>score</th>\n",
       "    </tr>\n",
       "  </thead>\n",
       "  <tbody>\n",
       "    <tr>\n",
       "      <th>0</th>\n",
       "      <td>GP</td>\n",
       "      <td>F</td>\n",
       "      <td>18</td>\n",
       "      <td>U</td>\n",
       "      <td>LE3</td>\n",
       "      <td>A</td>\n",
       "      <td>4</td>\n",
       "      <td>4.0</td>\n",
       "      <td>at_home</td>\n",
       "      <td>teacher</td>\n",
       "      <td>course</td>\n",
       "      <td>mother</td>\n",
       "      <td>2.0</td>\n",
       "      <td>2.0</td>\n",
       "      <td>0.0</td>\n",
       "      <td>yes</td>\n",
       "      <td>no</td>\n",
       "      <td>no</td>\n",
       "      <td>no</td>\n",
       "      <td>yes</td>\n",
       "      <td>-6.0</td>\n",
       "      <td>yes</td>\n",
       "      <td>NaN</td>\n",
       "      <td>no</td>\n",
       "      <td>4.0</td>\n",
       "      <td>3.0</td>\n",
       "      <td>4.0</td>\n",
       "      <td>3.0</td>\n",
       "      <td>6.0</td>\n",
       "      <td>30.0</td>\n",
       "    </tr>\n",
       "    <tr>\n",
       "      <th>1</th>\n",
       "      <td>GP</td>\n",
       "      <td>F</td>\n",
       "      <td>17</td>\n",
       "      <td>U</td>\n",
       "      <td>GT3</td>\n",
       "      <td>A</td>\n",
       "      <td>1</td>\n",
       "      <td>1.0</td>\n",
       "      <td>at_home</td>\n",
       "      <td>other</td>\n",
       "      <td>course</td>\n",
       "      <td>father</td>\n",
       "      <td>1.0</td>\n",
       "      <td>2.0</td>\n",
       "      <td>0.0</td>\n",
       "      <td>no</td>\n",
       "      <td>yes</td>\n",
       "      <td>no</td>\n",
       "      <td>no</td>\n",
       "      <td>no</td>\n",
       "      <td>-6.0</td>\n",
       "      <td>yes</td>\n",
       "      <td>yes</td>\n",
       "      <td>no</td>\n",
       "      <td>5.0</td>\n",
       "      <td>3.0</td>\n",
       "      <td>3.0</td>\n",
       "      <td>3.0</td>\n",
       "      <td>4.0</td>\n",
       "      <td>30.0</td>\n",
       "    </tr>\n",
       "    <tr>\n",
       "      <th>2</th>\n",
       "      <td>GP</td>\n",
       "      <td>F</td>\n",
       "      <td>15</td>\n",
       "      <td>U</td>\n",
       "      <td>LE3</td>\n",
       "      <td>T</td>\n",
       "      <td>1</td>\n",
       "      <td>1.0</td>\n",
       "      <td>at_home</td>\n",
       "      <td>other</td>\n",
       "      <td>other</td>\n",
       "      <td>mother</td>\n",
       "      <td>1.0</td>\n",
       "      <td>2.0</td>\n",
       "      <td>3.0</td>\n",
       "      <td>yes</td>\n",
       "      <td>no</td>\n",
       "      <td>NaN</td>\n",
       "      <td>no</td>\n",
       "      <td>yes</td>\n",
       "      <td>-6.0</td>\n",
       "      <td>yes</td>\n",
       "      <td>yes</td>\n",
       "      <td>NaN</td>\n",
       "      <td>4.0</td>\n",
       "      <td>3.0</td>\n",
       "      <td>2.0</td>\n",
       "      <td>3.0</td>\n",
       "      <td>10.0</td>\n",
       "      <td>50.0</td>\n",
       "    </tr>\n",
       "    <tr>\n",
       "      <th>3</th>\n",
       "      <td>GP</td>\n",
       "      <td>F</td>\n",
       "      <td>15</td>\n",
       "      <td>U</td>\n",
       "      <td>GT3</td>\n",
       "      <td>T</td>\n",
       "      <td>4</td>\n",
       "      <td>2.0</td>\n",
       "      <td>health</td>\n",
       "      <td>NaN</td>\n",
       "      <td>home</td>\n",
       "      <td>mother</td>\n",
       "      <td>1.0</td>\n",
       "      <td>3.0</td>\n",
       "      <td>0.0</td>\n",
       "      <td>no</td>\n",
       "      <td>yes</td>\n",
       "      <td>yes</td>\n",
       "      <td>yes</td>\n",
       "      <td>yes</td>\n",
       "      <td>-9.0</td>\n",
       "      <td>yes</td>\n",
       "      <td>yes</td>\n",
       "      <td>yes</td>\n",
       "      <td>3.0</td>\n",
       "      <td>2.0</td>\n",
       "      <td>2.0</td>\n",
       "      <td>5.0</td>\n",
       "      <td>2.0</td>\n",
       "      <td>75.0</td>\n",
       "    </tr>\n",
       "    <tr>\n",
       "      <th>4</th>\n",
       "      <td>GP</td>\n",
       "      <td>F</td>\n",
       "      <td>16</td>\n",
       "      <td>U</td>\n",
       "      <td>GT3</td>\n",
       "      <td>T</td>\n",
       "      <td>3</td>\n",
       "      <td>3.0</td>\n",
       "      <td>other</td>\n",
       "      <td>other</td>\n",
       "      <td>home</td>\n",
       "      <td>father</td>\n",
       "      <td>1.0</td>\n",
       "      <td>2.0</td>\n",
       "      <td>0.0</td>\n",
       "      <td>no</td>\n",
       "      <td>yes</td>\n",
       "      <td>yes</td>\n",
       "      <td>no</td>\n",
       "      <td>yes</td>\n",
       "      <td>-6.0</td>\n",
       "      <td>yes</td>\n",
       "      <td>no</td>\n",
       "      <td>no</td>\n",
       "      <td>4.0</td>\n",
       "      <td>3.0</td>\n",
       "      <td>2.0</td>\n",
       "      <td>5.0</td>\n",
       "      <td>4.0</td>\n",
       "      <td>50.0</td>\n",
       "    </tr>\n",
       "    <tr>\n",
       "      <th>...</th>\n",
       "      <td>...</td>\n",
       "      <td>...</td>\n",
       "      <td>...</td>\n",
       "      <td>...</td>\n",
       "      <td>...</td>\n",
       "      <td>...</td>\n",
       "      <td>...</td>\n",
       "      <td>...</td>\n",
       "      <td>...</td>\n",
       "      <td>...</td>\n",
       "      <td>...</td>\n",
       "      <td>...</td>\n",
       "      <td>...</td>\n",
       "      <td>...</td>\n",
       "      <td>...</td>\n",
       "      <td>...</td>\n",
       "      <td>...</td>\n",
       "      <td>...</td>\n",
       "      <td>...</td>\n",
       "      <td>...</td>\n",
       "      <td>...</td>\n",
       "      <td>...</td>\n",
       "      <td>...</td>\n",
       "      <td>...</td>\n",
       "      <td>...</td>\n",
       "      <td>...</td>\n",
       "      <td>...</td>\n",
       "      <td>...</td>\n",
       "      <td>...</td>\n",
       "      <td>...</td>\n",
       "    </tr>\n",
       "    <tr>\n",
       "      <th>388</th>\n",
       "      <td>MS</td>\n",
       "      <td>F</td>\n",
       "      <td>18</td>\n",
       "      <td>U</td>\n",
       "      <td>LE3</td>\n",
       "      <td>T</td>\n",
       "      <td>3</td>\n",
       "      <td>1.0</td>\n",
       "      <td>teacher</td>\n",
       "      <td>services</td>\n",
       "      <td>course</td>\n",
       "      <td>mother</td>\n",
       "      <td>1.0</td>\n",
       "      <td>2.0</td>\n",
       "      <td>0.0</td>\n",
       "      <td>no</td>\n",
       "      <td>yes</td>\n",
       "      <td>yes</td>\n",
       "      <td>no</td>\n",
       "      <td>yes</td>\n",
       "      <td>-6.0</td>\n",
       "      <td>yes</td>\n",
       "      <td>yes</td>\n",
       "      <td>no</td>\n",
       "      <td>4.0</td>\n",
       "      <td>3.0</td>\n",
       "      <td>4.0</td>\n",
       "      <td>1.0</td>\n",
       "      <td>0.0</td>\n",
       "      <td>40.0</td>\n",
       "    </tr>\n",
       "    <tr>\n",
       "      <th>389</th>\n",
       "      <td>MS</td>\n",
       "      <td>F</td>\n",
       "      <td>18</td>\n",
       "      <td>U</td>\n",
       "      <td>GT3</td>\n",
       "      <td>T</td>\n",
       "      <td>1</td>\n",
       "      <td>1.0</td>\n",
       "      <td>other</td>\n",
       "      <td>other</td>\n",
       "      <td>course</td>\n",
       "      <td>mother</td>\n",
       "      <td>NaN</td>\n",
       "      <td>2.0</td>\n",
       "      <td>1.0</td>\n",
       "      <td>no</td>\n",
       "      <td>no</td>\n",
       "      <td>no</td>\n",
       "      <td>yes</td>\n",
       "      <td>yes</td>\n",
       "      <td>-6.0</td>\n",
       "      <td>yes</td>\n",
       "      <td>NaN</td>\n",
       "      <td>no</td>\n",
       "      <td>1.0</td>\n",
       "      <td>1.0</td>\n",
       "      <td>1.0</td>\n",
       "      <td>5.0</td>\n",
       "      <td>0.0</td>\n",
       "      <td>0.0</td>\n",
       "    </tr>\n",
       "    <tr>\n",
       "      <th>391</th>\n",
       "      <td>MS</td>\n",
       "      <td>M</td>\n",
       "      <td>17</td>\n",
       "      <td>U</td>\n",
       "      <td>LE3</td>\n",
       "      <td>T</td>\n",
       "      <td>3</td>\n",
       "      <td>1.0</td>\n",
       "      <td>services</td>\n",
       "      <td>services</td>\n",
       "      <td>course</td>\n",
       "      <td>mother</td>\n",
       "      <td>2.0</td>\n",
       "      <td>1.0</td>\n",
       "      <td>0.0</td>\n",
       "      <td>no</td>\n",
       "      <td>no</td>\n",
       "      <td>no</td>\n",
       "      <td>no</td>\n",
       "      <td>no</td>\n",
       "      <td>-3.0</td>\n",
       "      <td>yes</td>\n",
       "      <td>yes</td>\n",
       "      <td>no</td>\n",
       "      <td>2.0</td>\n",
       "      <td>4.0</td>\n",
       "      <td>5.0</td>\n",
       "      <td>2.0</td>\n",
       "      <td>3.0</td>\n",
       "      <td>80.0</td>\n",
       "    </tr>\n",
       "    <tr>\n",
       "      <th>393</th>\n",
       "      <td>MS</td>\n",
       "      <td>M</td>\n",
       "      <td>18</td>\n",
       "      <td>R</td>\n",
       "      <td>LE3</td>\n",
       "      <td>T</td>\n",
       "      <td>3</td>\n",
       "      <td>2.0</td>\n",
       "      <td>services</td>\n",
       "      <td>other</td>\n",
       "      <td>course</td>\n",
       "      <td>mother</td>\n",
       "      <td>3.0</td>\n",
       "      <td>1.0</td>\n",
       "      <td>0.0</td>\n",
       "      <td>no</td>\n",
       "      <td>no</td>\n",
       "      <td>no</td>\n",
       "      <td>NaN</td>\n",
       "      <td>no</td>\n",
       "      <td>-3.0</td>\n",
       "      <td>yes</td>\n",
       "      <td>yes</td>\n",
       "      <td>no</td>\n",
       "      <td>4.0</td>\n",
       "      <td>4.0</td>\n",
       "      <td>1.0</td>\n",
       "      <td>5.0</td>\n",
       "      <td>0.0</td>\n",
       "      <td>50.0</td>\n",
       "    </tr>\n",
       "    <tr>\n",
       "      <th>394</th>\n",
       "      <td>MS</td>\n",
       "      <td>M</td>\n",
       "      <td>19</td>\n",
       "      <td>U</td>\n",
       "      <td>LE3</td>\n",
       "      <td>T</td>\n",
       "      <td>1</td>\n",
       "      <td>1.0</td>\n",
       "      <td>other</td>\n",
       "      <td>at_home</td>\n",
       "      <td>NaN</td>\n",
       "      <td>father</td>\n",
       "      <td>1.0</td>\n",
       "      <td>1.0</td>\n",
       "      <td>0.0</td>\n",
       "      <td>NaN</td>\n",
       "      <td>no</td>\n",
       "      <td>no</td>\n",
       "      <td>no</td>\n",
       "      <td>yes</td>\n",
       "      <td>-3.0</td>\n",
       "      <td>yes</td>\n",
       "      <td>yes</td>\n",
       "      <td>no</td>\n",
       "      <td>3.0</td>\n",
       "      <td>2.0</td>\n",
       "      <td>3.0</td>\n",
       "      <td>5.0</td>\n",
       "      <td>5.0</td>\n",
       "      <td>45.0</td>\n",
       "    </tr>\n",
       "  </tbody>\n",
       "</table>\n",
       "<p>387 rows × 30 columns</p>\n",
       "</div>"
      ],
      "text/plain": [
       "    school sex  age address famsize pstatus  medu  fedu      mjob      fjob  \\\n",
       "0       GP   F   18       U     LE3       A     4   4.0   at_home   teacher   \n",
       "1       GP   F   17       U     GT3       A     1   1.0   at_home     other   \n",
       "2       GP   F   15       U     LE3       T     1   1.0   at_home     other   \n",
       "3       GP   F   15       U     GT3       T     4   2.0    health       NaN   \n",
       "4       GP   F   16       U     GT3       T     3   3.0     other     other   \n",
       "..     ...  ..  ...     ...     ...     ...   ...   ...       ...       ...   \n",
       "388     MS   F   18       U     LE3       T     3   1.0   teacher  services   \n",
       "389     MS   F   18       U     GT3       T     1   1.0     other     other   \n",
       "391     MS   M   17       U     LE3       T     3   1.0  services  services   \n",
       "393     MS   M   18       R     LE3       T     3   2.0  services     other   \n",
       "394     MS   M   19       U     LE3       T     1   1.0     other   at_home   \n",
       "\n",
       "     reason guardian  traveltime  studytime  failures schoolsup famsup paid  \\\n",
       "0    course   mother         2.0        2.0       0.0       yes     no   no   \n",
       "1    course   father         1.0        2.0       0.0        no    yes   no   \n",
       "2     other   mother         1.0        2.0       3.0       yes     no  NaN   \n",
       "3      home   mother         1.0        3.0       0.0        no    yes  yes   \n",
       "4      home   father         1.0        2.0       0.0        no    yes  yes   \n",
       "..      ...      ...         ...        ...       ...       ...    ...  ...   \n",
       "388  course   mother         1.0        2.0       0.0        no    yes  yes   \n",
       "389  course   mother         NaN        2.0       1.0        no     no   no   \n",
       "391  course   mother         2.0        1.0       0.0        no     no   no   \n",
       "393  course   mother         3.0        1.0       0.0        no     no   no   \n",
       "394     NaN   father         1.0        1.0       0.0       NaN     no   no   \n",
       "\n",
       "    activities nursery  granular higher internet romantic  famrel  freetime  \\\n",
       "0           no     yes      -6.0    yes      NaN       no     4.0       3.0   \n",
       "1           no      no      -6.0    yes      yes       no     5.0       3.0   \n",
       "2           no     yes      -6.0    yes      yes      NaN     4.0       3.0   \n",
       "3          yes     yes      -9.0    yes      yes      yes     3.0       2.0   \n",
       "4           no     yes      -6.0    yes       no       no     4.0       3.0   \n",
       "..         ...     ...       ...    ...      ...      ...     ...       ...   \n",
       "388         no     yes      -6.0    yes      yes       no     4.0       3.0   \n",
       "389        yes     yes      -6.0    yes      NaN       no     1.0       1.0   \n",
       "391         no      no      -3.0    yes      yes       no     2.0       4.0   \n",
       "393        NaN      no      -3.0    yes      yes       no     4.0       4.0   \n",
       "394         no     yes      -3.0    yes      yes       no     3.0       2.0   \n",
       "\n",
       "     goout  health  absences  score  \n",
       "0      4.0     3.0       6.0   30.0  \n",
       "1      3.0     3.0       4.0   30.0  \n",
       "2      2.0     3.0      10.0   50.0  \n",
       "3      2.0     5.0       2.0   75.0  \n",
       "4      2.0     5.0       4.0   50.0  \n",
       "..     ...     ...       ...    ...  \n",
       "388    4.0     1.0       0.0   40.0  \n",
       "389    1.0     5.0       0.0    0.0  \n",
       "391    5.0     2.0       3.0   80.0  \n",
       "393    1.0     5.0       0.0   50.0  \n",
       "394    3.0     5.0       5.0   45.0  \n",
       "\n",
       "[387 rows x 30 columns]"
      ]
     },
     "execution_count": 3418,
     "metadata": {},
     "output_type": "execute_result"
    }
   ],
   "source": [
    "# Change medu column to integer\n",
    "\n",
    "students['medu'] = students['medu'].apply(lambda x: int(float(x)))\n",
    "students"
   ]
  },
  {
   "cell_type": "code",
   "execution_count": 3419,
   "metadata": {},
   "outputs": [
    {
     "data": {
      "text/plain": [
       "count    387.000000\n",
       "mean       2.770026\n",
       "std        1.077961\n",
       "min        1.000000\n",
       "25%        2.000000\n",
       "50%        3.000000\n",
       "75%        4.000000\n",
       "max        4.000000\n",
       "Name: medu, dtype: float64"
      ]
     },
     "execution_count": 3419,
     "metadata": {},
     "output_type": "execute_result"
    },
    {
     "data": {
      "image/png": "[encoded data removed]",
      "text/plain": [
       "<Figure size 432x288 with 1 Axes>"
      ]
     },
     "metadata": {
      "needs_background": "light"
     },
     "output_type": "display_data"
    }
   ],
   "source": [
    "sns.countplot(x = 'medu', data = students)\n",
    "students.medu.describe()"
   ]
  },
  {
   "cell_type": "code",
   "execution_count": 3420,
   "metadata": {},
   "outputs": [
    {
     "name": "stdout",
     "output_type": "stream",
     "text": [
      "NaN: 0 (0.0%)\n",
      "4: 131 (33.9%)\n",
      "2: 102 (26.4%)\n",
      "3: 95 (24.5%)\n",
      "1: 59 (15.2%)\n",
      "Всего строк: 387\n"
     ]
    }
   ],
   "source": [
    "medu = column_analysis('medu')\n",
    "students['medu'] = students['medu'].apply(lambda x: int(float(x)))"
   ]
  },
  {
   "cell_type": "markdown",
   "metadata": {},
   "source": [
    "Матери учеников имеют следующее образование:\n",
    "\n",
    "- 131 (33.9%) - высшее;\n",
    "- 102 (26.4%) - 5-9 классов;\n",
    "- 95 (24.5%) - среднее специальное или 11 классов;\n",
    "- 59 (15.2%) - 4 класса.\n",
    "\n",
    "Наиболее распространенное - высшее - примерно 1/3, далее примерно по 1/4 5-9 классов и среднее специальное или 11 классов, наименее частое - 4 класса, около 15%."
   ]
  },
  {
   "cell_type": "markdown",
   "metadata": {},
   "source": [
    "### __8. \"fedu\", float — образование отца__\n",
    "(0 - нет, 1 - 4 класса, 2 - 5-9 классы, 3 - среднее специальное или 11 классов, 4 - высшее)"
   ]
  },
  {
   "cell_type": "code",
   "execution_count": 3421,
   "metadata": {},
   "outputs": [
    {
     "name": "stdout",
     "output_type": "stream",
     "text": [
      "NaN: 24 (6.2%)\n",
      "2.0: 101 (26.1%)\n",
      "3.0: 96 (24.8%)\n",
      "4.0: 88 (22.7%)\n",
      "1.0: 75 (19.4%)\n",
      "0.0: 2 (0.5%)\n",
      "40.0: 1 (0.3%)\n",
      "Всего строк: 387\n"
     ]
    }
   ],
   "source": [
    "fedu = column_analysis('fedu')"
   ]
  },
  {
   "cell_type": "markdown",
   "metadata": {},
   "source": [
    "Видно, что значение 40 - явная ошибка. Можно удалить, а можно исправить на 4, предположив, что это опечатка.\n",
    "\n",
    "Заменим значение 40 на 4.\n",
    "\n",
    "Заменим также 21 пропуск.\n",
    "\n",
    "Удалим два случая с fedu = 0.0"
   ]
  },
  {
   "cell_type": "code",
   "execution_count": 3422,
   "metadata": {},
   "outputs": [
    {
     "data": {
      "text/html": [
       "<div>\n",
       "<style scoped>\n",
       "    .dataframe tbody tr th:only-of-type {\n",
       "        vertical-align: middle;\n",
       "    }\n",
       "\n",
       "    .dataframe tbody tr th {\n",
       "        vertical-align: top;\n",
       "    }\n",
       "\n",
       "    .dataframe thead th {\n",
       "        text-align: right;\n",
       "    }\n",
       "</style>\n",
       "<table border=\"1\" class=\"dataframe\">\n",
       "  <thead>\n",
       "    <tr style=\"text-align: right;\">\n",
       "      <th></th>\n",
       "      <th>school</th>\n",
       "      <th>sex</th>\n",
       "      <th>age</th>\n",
       "      <th>address</th>\n",
       "      <th>famsize</th>\n",
       "      <th>pstatus</th>\n",
       "      <th>medu</th>\n",
       "      <th>fedu</th>\n",
       "      <th>mjob</th>\n",
       "      <th>fjob</th>\n",
       "      <th>reason</th>\n",
       "      <th>guardian</th>\n",
       "      <th>traveltime</th>\n",
       "      <th>studytime</th>\n",
       "      <th>failures</th>\n",
       "      <th>schoolsup</th>\n",
       "      <th>famsup</th>\n",
       "      <th>paid</th>\n",
       "      <th>activities</th>\n",
       "      <th>nursery</th>\n",
       "      <th>granular</th>\n",
       "      <th>higher</th>\n",
       "      <th>internet</th>\n",
       "      <th>romantic</th>\n",
       "      <th>famrel</th>\n",
       "      <th>freetime</th>\n",
       "      <th>goout</th>\n",
       "      <th>health</th>\n",
       "      <th>absences</th>\n",
       "      <th>score</th>\n",
       "    </tr>\n",
       "  </thead>\n",
       "  <tbody>\n",
       "    <tr>\n",
       "      <th>0</th>\n",
       "      <td>GP</td>\n",
       "      <td>F</td>\n",
       "      <td>18</td>\n",
       "      <td>U</td>\n",
       "      <td>LE3</td>\n",
       "      <td>A</td>\n",
       "      <td>4</td>\n",
       "      <td>4</td>\n",
       "      <td>at_home</td>\n",
       "      <td>teacher</td>\n",
       "      <td>course</td>\n",
       "      <td>mother</td>\n",
       "      <td>2.0</td>\n",
       "      <td>2.0</td>\n",
       "      <td>0.0</td>\n",
       "      <td>yes</td>\n",
       "      <td>no</td>\n",
       "      <td>no</td>\n",
       "      <td>no</td>\n",
       "      <td>yes</td>\n",
       "      <td>-6.0</td>\n",
       "      <td>yes</td>\n",
       "      <td>NaN</td>\n",
       "      <td>no</td>\n",
       "      <td>4.0</td>\n",
       "      <td>3.0</td>\n",
       "      <td>4.0</td>\n",
       "      <td>3.0</td>\n",
       "      <td>6.0</td>\n",
       "      <td>30.0</td>\n",
       "    </tr>\n",
       "    <tr>\n",
       "      <th>1</th>\n",
       "      <td>GP</td>\n",
       "      <td>F</td>\n",
       "      <td>17</td>\n",
       "      <td>U</td>\n",
       "      <td>GT3</td>\n",
       "      <td>A</td>\n",
       "      <td>1</td>\n",
       "      <td>1</td>\n",
       "      <td>at_home</td>\n",
       "      <td>other</td>\n",
       "      <td>course</td>\n",
       "      <td>father</td>\n",
       "      <td>1.0</td>\n",
       "      <td>2.0</td>\n",
       "      <td>0.0</td>\n",
       "      <td>no</td>\n",
       "      <td>yes</td>\n",
       "      <td>no</td>\n",
       "      <td>no</td>\n",
       "      <td>no</td>\n",
       "      <td>-6.0</td>\n",
       "      <td>yes</td>\n",
       "      <td>yes</td>\n",
       "      <td>no</td>\n",
       "      <td>5.0</td>\n",
       "      <td>3.0</td>\n",
       "      <td>3.0</td>\n",
       "      <td>3.0</td>\n",
       "      <td>4.0</td>\n",
       "      <td>30.0</td>\n",
       "    </tr>\n",
       "    <tr>\n",
       "      <th>2</th>\n",
       "      <td>GP</td>\n",
       "      <td>F</td>\n",
       "      <td>15</td>\n",
       "      <td>U</td>\n",
       "      <td>LE3</td>\n",
       "      <td>T</td>\n",
       "      <td>1</td>\n",
       "      <td>1</td>\n",
       "      <td>at_home</td>\n",
       "      <td>other</td>\n",
       "      <td>other</td>\n",
       "      <td>mother</td>\n",
       "      <td>1.0</td>\n",
       "      <td>2.0</td>\n",
       "      <td>3.0</td>\n",
       "      <td>yes</td>\n",
       "      <td>no</td>\n",
       "      <td>NaN</td>\n",
       "      <td>no</td>\n",
       "      <td>yes</td>\n",
       "      <td>-6.0</td>\n",
       "      <td>yes</td>\n",
       "      <td>yes</td>\n",
       "      <td>NaN</td>\n",
       "      <td>4.0</td>\n",
       "      <td>3.0</td>\n",
       "      <td>2.0</td>\n",
       "      <td>3.0</td>\n",
       "      <td>10.0</td>\n",
       "      <td>50.0</td>\n",
       "    </tr>\n",
       "    <tr>\n",
       "      <th>3</th>\n",
       "      <td>GP</td>\n",
       "      <td>F</td>\n",
       "      <td>15</td>\n",
       "      <td>U</td>\n",
       "      <td>GT3</td>\n",
       "      <td>T</td>\n",
       "      <td>4</td>\n",
       "      <td>2</td>\n",
       "      <td>health</td>\n",
       "      <td>NaN</td>\n",
       "      <td>home</td>\n",
       "      <td>mother</td>\n",
       "      <td>1.0</td>\n",
       "      <td>3.0</td>\n",
       "      <td>0.0</td>\n",
       "      <td>no</td>\n",
       "      <td>yes</td>\n",
       "      <td>yes</td>\n",
       "      <td>yes</td>\n",
       "      <td>yes</td>\n",
       "      <td>-9.0</td>\n",
       "      <td>yes</td>\n",
       "      <td>yes</td>\n",
       "      <td>yes</td>\n",
       "      <td>3.0</td>\n",
       "      <td>2.0</td>\n",
       "      <td>2.0</td>\n",
       "      <td>5.0</td>\n",
       "      <td>2.0</td>\n",
       "      <td>75.0</td>\n",
       "    </tr>\n",
       "    <tr>\n",
       "      <th>4</th>\n",
       "      <td>GP</td>\n",
       "      <td>F</td>\n",
       "      <td>16</td>\n",
       "      <td>U</td>\n",
       "      <td>GT3</td>\n",
       "      <td>T</td>\n",
       "      <td>3</td>\n",
       "      <td>3</td>\n",
       "      <td>other</td>\n",
       "      <td>other</td>\n",
       "      <td>home</td>\n",
       "      <td>father</td>\n",
       "      <td>1.0</td>\n",
       "      <td>2.0</td>\n",
       "      <td>0.0</td>\n",
       "      <td>no</td>\n",
       "      <td>yes</td>\n",
       "      <td>yes</td>\n",
       "      <td>no</td>\n",
       "      <td>yes</td>\n",
       "      <td>-6.0</td>\n",
       "      <td>yes</td>\n",
       "      <td>no</td>\n",
       "      <td>no</td>\n",
       "      <td>4.0</td>\n",
       "      <td>3.0</td>\n",
       "      <td>2.0</td>\n",
       "      <td>5.0</td>\n",
       "      <td>4.0</td>\n",
       "      <td>50.0</td>\n",
       "    </tr>\n",
       "    <tr>\n",
       "      <th>...</th>\n",
       "      <td>...</td>\n",
       "      <td>...</td>\n",
       "      <td>...</td>\n",
       "      <td>...</td>\n",
       "      <td>...</td>\n",
       "      <td>...</td>\n",
       "      <td>...</td>\n",
       "      <td>...</td>\n",
       "      <td>...</td>\n",
       "      <td>...</td>\n",
       "      <td>...</td>\n",
       "      <td>...</td>\n",
       "      <td>...</td>\n",
       "      <td>...</td>\n",
       "      <td>...</td>\n",
       "      <td>...</td>\n",
       "      <td>...</td>\n",
       "      <td>...</td>\n",
       "      <td>...</td>\n",
       "      <td>...</td>\n",
       "      <td>...</td>\n",
       "      <td>...</td>\n",
       "      <td>...</td>\n",
       "      <td>...</td>\n",
       "      <td>...</td>\n",
       "      <td>...</td>\n",
       "      <td>...</td>\n",
       "      <td>...</td>\n",
       "      <td>...</td>\n",
       "      <td>...</td>\n",
       "    </tr>\n",
       "    <tr>\n",
       "      <th>388</th>\n",
       "      <td>MS</td>\n",
       "      <td>F</td>\n",
       "      <td>18</td>\n",
       "      <td>U</td>\n",
       "      <td>LE3</td>\n",
       "      <td>T</td>\n",
       "      <td>3</td>\n",
       "      <td>1</td>\n",
       "      <td>teacher</td>\n",
       "      <td>services</td>\n",
       "      <td>course</td>\n",
       "      <td>mother</td>\n",
       "      <td>1.0</td>\n",
       "      <td>2.0</td>\n",
       "      <td>0.0</td>\n",
       "      <td>no</td>\n",
       "      <td>yes</td>\n",
       "      <td>yes</td>\n",
       "      <td>no</td>\n",
       "      <td>yes</td>\n",
       "      <td>-6.0</td>\n",
       "      <td>yes</td>\n",
       "      <td>yes</td>\n",
       "      <td>no</td>\n",
       "      <td>4.0</td>\n",
       "      <td>3.0</td>\n",
       "      <td>4.0</td>\n",
       "      <td>1.0</td>\n",
       "      <td>0.0</td>\n",
       "      <td>40.0</td>\n",
       "    </tr>\n",
       "    <tr>\n",
       "      <th>389</th>\n",
       "      <td>MS</td>\n",
       "      <td>F</td>\n",
       "      <td>18</td>\n",
       "      <td>U</td>\n",
       "      <td>GT3</td>\n",
       "      <td>T</td>\n",
       "      <td>1</td>\n",
       "      <td>1</td>\n",
       "      <td>other</td>\n",
       "      <td>other</td>\n",
       "      <td>course</td>\n",
       "      <td>mother</td>\n",
       "      <td>NaN</td>\n",
       "      <td>2.0</td>\n",
       "      <td>1.0</td>\n",
       "      <td>no</td>\n",
       "      <td>no</td>\n",
       "      <td>no</td>\n",
       "      <td>yes</td>\n",
       "      <td>yes</td>\n",
       "      <td>-6.0</td>\n",
       "      <td>yes</td>\n",
       "      <td>NaN</td>\n",
       "      <td>no</td>\n",
       "      <td>1.0</td>\n",
       "      <td>1.0</td>\n",
       "      <td>1.0</td>\n",
       "      <td>5.0</td>\n",
       "      <td>0.0</td>\n",
       "      <td>0.0</td>\n",
       "    </tr>\n",
       "    <tr>\n",
       "      <th>391</th>\n",
       "      <td>MS</td>\n",
       "      <td>M</td>\n",
       "      <td>17</td>\n",
       "      <td>U</td>\n",
       "      <td>LE3</td>\n",
       "      <td>T</td>\n",
       "      <td>3</td>\n",
       "      <td>1</td>\n",
       "      <td>services</td>\n",
       "      <td>services</td>\n",
       "      <td>course</td>\n",
       "      <td>mother</td>\n",
       "      <td>2.0</td>\n",
       "      <td>1.0</td>\n",
       "      <td>0.0</td>\n",
       "      <td>no</td>\n",
       "      <td>no</td>\n",
       "      <td>no</td>\n",
       "      <td>no</td>\n",
       "      <td>no</td>\n",
       "      <td>-3.0</td>\n",
       "      <td>yes</td>\n",
       "      <td>yes</td>\n",
       "      <td>no</td>\n",
       "      <td>2.0</td>\n",
       "      <td>4.0</td>\n",
       "      <td>5.0</td>\n",
       "      <td>2.0</td>\n",
       "      <td>3.0</td>\n",
       "      <td>80.0</td>\n",
       "    </tr>\n",
       "    <tr>\n",
       "      <th>393</th>\n",
       "      <td>MS</td>\n",
       "      <td>M</td>\n",
       "      <td>18</td>\n",
       "      <td>R</td>\n",
       "      <td>LE3</td>\n",
       "      <td>T</td>\n",
       "      <td>3</td>\n",
       "      <td>2</td>\n",
       "      <td>services</td>\n",
       "      <td>other</td>\n",
       "      <td>course</td>\n",
       "      <td>mother</td>\n",
       "      <td>3.0</td>\n",
       "      <td>1.0</td>\n",
       "      <td>0.0</td>\n",
       "      <td>no</td>\n",
       "      <td>no</td>\n",
       "      <td>no</td>\n",
       "      <td>NaN</td>\n",
       "      <td>no</td>\n",
       "      <td>-3.0</td>\n",
       "      <td>yes</td>\n",
       "      <td>yes</td>\n",
       "      <td>no</td>\n",
       "      <td>4.0</td>\n",
       "      <td>4.0</td>\n",
       "      <td>1.0</td>\n",
       "      <td>5.0</td>\n",
       "      <td>0.0</td>\n",
       "      <td>50.0</td>\n",
       "    </tr>\n",
       "    <tr>\n",
       "      <th>394</th>\n",
       "      <td>MS</td>\n",
       "      <td>M</td>\n",
       "      <td>19</td>\n",
       "      <td>U</td>\n",
       "      <td>LE3</td>\n",
       "      <td>T</td>\n",
       "      <td>1</td>\n",
       "      <td>1</td>\n",
       "      <td>other</td>\n",
       "      <td>at_home</td>\n",
       "      <td>NaN</td>\n",
       "      <td>father</td>\n",
       "      <td>1.0</td>\n",
       "      <td>1.0</td>\n",
       "      <td>0.0</td>\n",
       "      <td>NaN</td>\n",
       "      <td>no</td>\n",
       "      <td>no</td>\n",
       "      <td>no</td>\n",
       "      <td>yes</td>\n",
       "      <td>-3.0</td>\n",
       "      <td>yes</td>\n",
       "      <td>yes</td>\n",
       "      <td>no</td>\n",
       "      <td>3.0</td>\n",
       "      <td>2.0</td>\n",
       "      <td>3.0</td>\n",
       "      <td>5.0</td>\n",
       "      <td>5.0</td>\n",
       "      <td>45.0</td>\n",
       "    </tr>\n",
       "  </tbody>\n",
       "</table>\n",
       "<p>385 rows × 30 columns</p>\n",
       "</div>"
      ],
      "text/plain": [
       "    school sex  age address famsize pstatus  medu  fedu      mjob      fjob  \\\n",
       "0       GP   F   18       U     LE3       A     4     4   at_home   teacher   \n",
       "1       GP   F   17       U     GT3       A     1     1   at_home     other   \n",
       "2       GP   F   15       U     LE3       T     1     1   at_home     other   \n",
       "3       GP   F   15       U     GT3       T     4     2    health       NaN   \n",
       "4       GP   F   16       U     GT3       T     3     3     other     other   \n",
       "..     ...  ..  ...     ...     ...     ...   ...   ...       ...       ...   \n",
       "388     MS   F   18       U     LE3       T     3     1   teacher  services   \n",
       "389     MS   F   18       U     GT3       T     1     1     other     other   \n",
       "391     MS   M   17       U     LE3       T     3     1  services  services   \n",
       "393     MS   M   18       R     LE3       T     3     2  services     other   \n",
       "394     MS   M   19       U     LE3       T     1     1     other   at_home   \n",
       "\n",
       "     reason guardian  traveltime  studytime  failures schoolsup famsup paid  \\\n",
       "0    course   mother         2.0        2.0       0.0       yes     no   no   \n",
       "1    course   father         1.0        2.0       0.0        no    yes   no   \n",
       "2     other   mother         1.0        2.0       3.0       yes     no  NaN   \n",
       "3      home   mother         1.0        3.0       0.0        no    yes  yes   \n",
       "4      home   father         1.0        2.0       0.0        no    yes  yes   \n",
       "..      ...      ...         ...        ...       ...       ...    ...  ...   \n",
       "388  course   mother         1.0        2.0       0.0        no    yes  yes   \n",
       "389  course   mother         NaN        2.0       1.0        no     no   no   \n",
       "391  course   mother         2.0        1.0       0.0        no     no   no   \n",
       "393  course   mother         3.0        1.0       0.0        no     no   no   \n",
       "394     NaN   father         1.0        1.0       0.0       NaN     no   no   \n",
       "\n",
       "    activities nursery  granular higher internet romantic  famrel  freetime  \\\n",
       "0           no     yes      -6.0    yes      NaN       no     4.0       3.0   \n",
       "1           no      no      -6.0    yes      yes       no     5.0       3.0   \n",
       "2           no     yes      -6.0    yes      yes      NaN     4.0       3.0   \n",
       "3          yes     yes      -9.0    yes      yes      yes     3.0       2.0   \n",
       "4           no     yes      -6.0    yes       no       no     4.0       3.0   \n",
       "..         ...     ...       ...    ...      ...      ...     ...       ...   \n",
       "388         no     yes      -6.0    yes      yes       no     4.0       3.0   \n",
       "389        yes     yes      -6.0    yes      NaN       no     1.0       1.0   \n",
       "391         no      no      -3.0    yes      yes       no     2.0       4.0   \n",
       "393        NaN      no      -3.0    yes      yes       no     4.0       4.0   \n",
       "394         no     yes      -3.0    yes      yes       no     3.0       2.0   \n",
       "\n",
       "     goout  health  absences  score  \n",
       "0      4.0     3.0       6.0   30.0  \n",
       "1      3.0     3.0       4.0   30.0  \n",
       "2      2.0     3.0      10.0   50.0  \n",
       "3      2.0     5.0       2.0   75.0  \n",
       "4      2.0     5.0       4.0   50.0  \n",
       "..     ...     ...       ...    ...  \n",
       "388    4.0     1.0       0.0   40.0  \n",
       "389    1.0     5.0       0.0    0.0  \n",
       "391    5.0     2.0       3.0   80.0  \n",
       "393    1.0     5.0       0.0   50.0  \n",
       "394    3.0     5.0       5.0   45.0  \n",
       "\n",
       "[385 rows x 30 columns]"
      ]
     },
     "execution_count": 3422,
     "metadata": {},
     "output_type": "execute_result"
    }
   ],
   "source": [
    "# Delete 1 case with fedu = 0.0 as they are less than 1%\n",
    "students = students.loc[students.fedu != '0.0'] # Delete zero education level\n",
    "\n",
    "change_list = ['1.0','2.0', '3.0','4.0']\n",
    "fill_nan_randomly('fedu', change_list)  # Fill NaN Randomly\n",
    "\n",
    "# Change column from string to integer\n",
    "students['fedu'] = students['fedu'].apply(lambda x: int(float(x)))\n",
    "\n",
    "# Change 40 to 4\n",
    "students.fedu = students.fedu.replace(40, 4)\n",
    "students"
   ]
  },
  {
   "cell_type": "code",
   "execution_count": 3423,
   "metadata": {},
   "outputs": [
    {
     "data": {
      "text/plain": [
       "count    385.000000\n",
       "mean       2.532468\n",
       "std        1.082344\n",
       "min        1.000000\n",
       "25%        2.000000\n",
       "50%        3.000000\n",
       "75%        3.000000\n",
       "max        4.000000\n",
       "Name: fedu, dtype: float64"
      ]
     },
     "execution_count": 3423,
     "metadata": {},
     "output_type": "execute_result"
    },
    {
     "data": {
      "image/png": "[encoded data removed]",
      "text/plain": [
       "<Figure size 432x288 with 1 Axes>"
      ]
     },
     "metadata": {
      "needs_background": "light"
     },
     "output_type": "display_data"
    }
   ],
   "source": [
    "sns.countplot(x = 'fedu', data = students)\n",
    "students.fedu.describe()"
   ]
  },
  {
   "cell_type": "code",
   "execution_count": 3424,
   "metadata": {},
   "outputs": [
    {
     "name": "stdout",
     "output_type": "stream",
     "text": [
      "NaN: 0 (0.0%)\n",
      "2: 108 (28.1%)\n",
      "3: 100 (26.0%)\n",
      "4: 94 (24.4%)\n",
      "1: 83 (21.6%)\n",
      "Всего строк: 385\n"
     ]
    }
   ],
   "source": [
    "fedu = column_analysis('fedu')\n",
    "students['fedu'] = students['fedu'].apply(lambda x: int(float(x)))"
   ]
  },
  {
   "cell_type": "markdown",
   "metadata": {},
   "source": [
    "Отцы учеников имеют следующее образование:\n",
    "\n",
    "- 108 (28.1%) - 5-9 классы;\n",
    "- 100 (26.0%) - среднее специальное или 11 классов;\n",
    "- 94 (24.4%) - высшее;\n",
    "- 83 (21.6%) - 4 класса.\n",
    "\n",
    "Уровни образования отцов распределены примерно поровну - от 83 (21.6%) наиболее редкого 4 класса до 108 (28.1%) наиболее частого 5-9 классов."
   ]
  },
  {
   "cell_type": "markdown",
   "metadata": {},
   "source": [
    "### __9. \"mjob\", строковая — работа матери__\n",
    "('teacher' - учитель, 'health' - сфера здравоохранения, 'services' - гос служба, 'at_home' - не работает, 'other' - другое)"
   ]
  },
  {
   "cell_type": "code",
   "execution_count": 3425,
   "metadata": {},
   "outputs": [
    {
     "name": "stdout",
     "output_type": "stream",
     "text": [
      "NaN: 19 (4.9%)\n",
      "other: 130 (33.8%)\n",
      "services: 95 (24.7%)\n",
      "at_home: 56 (14.5%)\n",
      "teacher: 54 (14.0%)\n",
      "health: 31 (8.1%)\n",
      "Всего строк: 385\n"
     ]
    }
   ],
   "source": [
    "mjob = column_analysis('mjob')"
   ]
  },
  {
   "cell_type": "code",
   "execution_count": 3426,
   "metadata": {},
   "outputs": [],
   "source": [
    "change_list = ['teacher', 'health', 'services', 'at_home', 'other']\n",
    "fill_nan_randomly('mjob', change_list)  # Fill NaN Randomly"
   ]
  },
  {
   "cell_type": "code",
   "execution_count": 3427,
   "metadata": {},
   "outputs": [
    {
     "data": {
      "text/plain": [
       "<AxesSubplot:xlabel='mjob', ylabel='count'>"
      ]
     },
     "execution_count": 3427,
     "metadata": {},
     "output_type": "execute_result"
    },
    {
     "data": {
      "image/png": "[encoded data removed]",
      "text/plain": [
       "<Figure size 432x288 with 1 Axes>"
      ]
     },
     "metadata": {
      "needs_background": "light"
     },
     "output_type": "display_data"
    }
   ],
   "source": [
    "sns.countplot(x = 'mjob', data = students)"
   ]
  },
  {
   "cell_type": "code",
   "execution_count": 3428,
   "metadata": {},
   "outputs": [
    {
     "name": "stdout",
     "output_type": "stream",
     "text": [
      "NaN: 0 (0.0%)\n",
      "other: 137 (35.6%)\n",
      "services: 98 (25.5%)\n",
      "at_home: 59 (15.3%)\n",
      "teacher: 57 (14.8%)\n",
      "health: 34 (8.8%)\n",
      "Всего строк: 385\n"
     ]
    }
   ],
   "source": [
    "mjob = column_analysis('mjob')"
   ]
  },
  {
   "cell_type": "markdown",
   "metadata": {},
   "source": [
    "Кем работают матери учеников ('teacher' - учитель, 'health' - сфера здравоохранения, 'services' - гос служба, 'at_home' - не работает, 'other' - другое):\n",
    "\n",
    "- other: 137 (35.6%) - __наиболее часто встречающееся значение__\n",
    "- services: 98 (25.5%)\n",
    "- at_home: 59 (15.3%)\n",
    "- teacher: 57 (14.8%)\n",
    "- health: 34 (8.8%)"
   ]
  },
  {
   "cell_type": "markdown",
   "metadata": {},
   "source": [
    "### __10. \"fjob\", строковая — работа отца__\n",
    "('teacher' - учитель, 'health' - сфера здравоохранения, 'services' - гос служба, 'at_home' - не работает, 'other' - другое)"
   ]
  },
  {
   "cell_type": "code",
   "execution_count": 3429,
   "metadata": {},
   "outputs": [
    {
     "name": "stdout",
     "output_type": "stream",
     "text": [
      "NaN: 36 (9.4%)\n",
      "other: 190 (49.4%)\n",
      "services: 100 (26.0%)\n",
      "teacher: 29 (7.5%)\n",
      "health: 15 (3.9%)\n",
      "at_home: 15 (3.9%)\n",
      "Всего строк: 385\n"
     ]
    }
   ],
   "source": [
    "fjob = column_analysis('fjob')"
   ]
  },
  {
   "cell_type": "code",
   "execution_count": 3430,
   "metadata": {},
   "outputs": [],
   "source": [
    "change_list = ['teacher', 'health', 'services', 'at_home', 'other']\n",
    "fill_nan_randomly('fjob', change_list)  # Fill NaN Randomly"
   ]
  },
  {
   "cell_type": "code",
   "execution_count": 3431,
   "metadata": {},
   "outputs": [
    {
     "data": {
      "text/plain": [
       "<AxesSubplot:xlabel='fjob', ylabel='count'>"
      ]
     },
     "execution_count": 3431,
     "metadata": {},
     "output_type": "execute_result"
    },
    {
     "data": {
      "image/png": "[encoded data removed]",
      "text/plain": [
       "<Figure size 432x288 with 1 Axes>"
      ]
     },
     "metadata": {
      "needs_background": "light"
     },
     "output_type": "display_data"
    }
   ],
   "source": [
    "sns.countplot(x = 'fjob', data = students)"
   ]
  },
  {
   "cell_type": "code",
   "execution_count": 3432,
   "metadata": {},
   "outputs": [
    {
     "name": "stdout",
     "output_type": "stream",
     "text": [
      "NaN: 0 (0.0%)\n",
      "other: 199 (51.7%)\n",
      "services: 105 (27.3%)\n",
      "teacher: 36 (9.4%)\n",
      "health: 26 (6.8%)\n",
      "at_home: 19 (4.9%)\n",
      "Всего строк: 385\n"
     ]
    }
   ],
   "source": [
    "mjob = column_analysis('fjob')"
   ]
  },
  {
   "cell_type": "markdown",
   "metadata": {},
   "source": [
    "Кем работают отцы учеников ('teacher' - учитель, 'health' - сфера здравоохранения, 'services' - гос служба, 'at_home' - не работает, 'other' - другое):\n",
    "\n",
    "- other: 199 (51.7%) - __наиболее часто встречающееся значение__\n",
    "- services: 105 (27.3%)\n",
    "- teacher: 36 (9.4%)\n",
    "- health: 26 (6.8%)\n",
    "- at_home: 19 (4.9%)"
   ]
  },
  {
   "cell_type": "markdown",
   "metadata": {},
   "source": [
    "### __11. \"reason\", строковая — причина выбора школы__\n",
    "('home' - близость к дому, 'reputation' - репутация школы, 'course' - образовательная программа, 'other' - другое)"
   ]
  },
  {
   "cell_type": "code",
   "execution_count": 3433,
   "metadata": {},
   "outputs": [
    {
     "name": "stdout",
     "output_type": "stream",
     "text": [
      "NaN: 17 (4.4%)\n",
      "course: 131 (34.0%)\n",
      "home: 103 (26.8%)\n",
      "reputation: 102 (26.5%)\n",
      "other: 32 (8.3%)\n",
      "Всего строк: 385\n"
     ]
    }
   ],
   "source": [
    "reason = column_analysis('reason')"
   ]
  },
  {
   "cell_type": "code",
   "execution_count": 3434,
   "metadata": {},
   "outputs": [],
   "source": [
    "change_list = ['home', 'reputation', 'course', 'other']\n",
    "fill_nan_randomly('reason', change_list)  # Fill NaN Randomly"
   ]
  },
  {
   "cell_type": "code",
   "execution_count": 3435,
   "metadata": {},
   "outputs": [
    {
     "data": {
      "text/plain": [
       "<AxesSubplot:xlabel='reason', ylabel='count'>"
      ]
     },
     "execution_count": 3435,
     "metadata": {},
     "output_type": "execute_result"
    },
    {
     "data": {
      "image/png": "[encoded data removed]",
      "text/plain": [
       "<Figure size 432x288 with 1 Axes>"
      ]
     },
     "metadata": {
      "needs_background": "light"
     },
     "output_type": "display_data"
    }
   ],
   "source": [
    "sns.countplot(x = 'reason', data = students)"
   ]
  },
  {
   "cell_type": "code",
   "execution_count": 3436,
   "metadata": {},
   "outputs": [
    {
     "name": "stdout",
     "output_type": "stream",
     "text": [
      "NaN: 0 (0.0%)\n",
      "course: 132 (34.3%)\n",
      "home: 109 (28.3%)\n",
      "reputation: 107 (27.8%)\n",
      "other: 37 (9.6%)\n",
      "Всего строк: 385\n"
     ]
    }
   ],
   "source": [
    "reason = column_analysis('reason')"
   ]
  },
  {
   "cell_type": "markdown",
   "metadata": {},
   "source": [
    "Причины выборы школы учениками:\n",
    "\n",
    "- course: 132 (34.3%) - образовательная программа;\n",
    "- home: 109 (28.3%) - близость к дому;\n",
    "- reputation: 107 (27.8%) - репутация школы;\n",
    "- other: 37 (9.6%) - другое.\n",
    "\n",
    "Видно, что в 90% случаев причина одна из трёх - программа, близость к дому или репутация школы."
   ]
  },
  {
   "cell_type": "markdown",
   "metadata": {},
   "source": [
    "### __12. \"guardian\", строковая — опекун__\n",
    "('mother' - мать, 'father' - отец, 'other' - другое)"
   ]
  },
  {
   "cell_type": "code",
   "execution_count": 3437,
   "metadata": {},
   "outputs": [
    {
     "name": "stdout",
     "output_type": "stream",
     "text": [
      "NaN: 28 (7.3%)\n",
      "mother: 246 (63.9%)\n",
      "father: 85 (22.1%)\n",
      "other: 26 (6.8%)\n",
      "Всего строк: 385\n"
     ]
    }
   ],
   "source": [
    "guardian = column_analysis('guardian')"
   ]
  },
  {
   "cell_type": "code",
   "execution_count": 3438,
   "metadata": {},
   "outputs": [
    {
     "data": {
      "text/plain": [
       "<AxesSubplot:xlabel='guardian', ylabel='count'>"
      ]
     },
     "execution_count": 3438,
     "metadata": {},
     "output_type": "execute_result"
    },
    {
     "data": {
      "image/png": "[encoded data removed]",
      "text/plain": [
       "<Figure size 432x288 with 1 Axes>"
      ]
     },
     "metadata": {
      "needs_background": "light"
     },
     "output_type": "display_data"
    }
   ],
   "source": [
    "change_list = ['mother', 'father', 'other']\n",
    "fill_nan_randomly('guardian', change_list)  # Fill NaN Randomly\n",
    "\n",
    "sns.countplot(x = 'guardian', data = students)"
   ]
  },
  {
   "cell_type": "code",
   "execution_count": 3439,
   "metadata": {},
   "outputs": [
    {
     "name": "stdout",
     "output_type": "stream",
     "text": [
      "NaN: 0 (0.0%)\n",
      "mother: 257 (66.8%)\n",
      "father: 95 (24.7%)\n",
      "other: 33 (8.6%)\n",
      "Всего строк: 385\n"
     ]
    }
   ],
   "source": [
    "guardian = column_analysis('guardian')"
   ]
  },
  {
   "cell_type": "markdown",
   "metadata": {},
   "source": [
    "Распределение опекунства:\n",
    "\n",
    "- mother: 257 (66.8%);\n",
    "- father: 95 (24.7%);\n",
    "- other: 33 (8.6%)."
   ]
  },
  {
   "cell_type": "code",
   "execution_count": null,
   "metadata": {},
   "outputs": [],
   "source": []
  },
  {
   "cell_type": "markdown",
   "metadata": {},
   "source": [
    "### __13. \"traveltime\", float - время в пути до школы__\n",
    "(время в пути до школы (1 - <15 мин., 2 - 15-30 мин., 3 - 30-60 мин., 4 - >60 мин.)"
   ]
  },
  {
   "cell_type": "code",
   "execution_count": 3440,
   "metadata": {},
   "outputs": [
    {
     "name": "stdout",
     "output_type": "stream",
     "text": [
      "NaN: 28 (7.3%)\n",
      "1.0: 236 (61.3%)\n",
      "2.0: 92 (23.9%)\n",
      "3.0: 22 (5.7%)\n",
      "4.0: 7 (1.8%)\n",
      "Всего строк: 385\n"
     ]
    }
   ],
   "source": [
    "traveltime = column_analysis('traveltime')"
   ]
  },
  {
   "cell_type": "code",
   "execution_count": 3441,
   "metadata": {},
   "outputs": [],
   "source": [
    "change_list = ['1.0','2.0', '3.0','4.0']\n",
    "fill_nan_randomly('traveltime', change_list)  # Fill NaN Randomly\n",
    "\n",
    "# Change fedu column from string to integer in [0, 4]\n",
    "students['traveltime'] = students['traveltime'].apply(lambda x: int(float(x)))"
   ]
  },
  {
   "cell_type": "code",
   "execution_count": 3442,
   "metadata": {},
   "outputs": [
    {
     "data": {
      "text/plain": [
       "<AxesSubplot:xlabel='traveltime', ylabel='count'>"
      ]
     },
     "execution_count": 3442,
     "metadata": {},
     "output_type": "execute_result"
    },
    {
     "data": {
      "image/png": "[encoded data removed]",
      "text/plain": [
       "<Figure size 432x288 with 1 Axes>"
      ]
     },
     "metadata": {
      "needs_background": "light"
     },
     "output_type": "display_data"
    }
   ],
   "source": [
    "sns.countplot(x = 'traveltime', data = students)"
   ]
  },
  {
   "cell_type": "code",
   "execution_count": 3443,
   "metadata": {},
   "outputs": [
    {
     "name": "stdout",
     "output_type": "stream",
     "text": [
      "NaN: 0 (0.0%)\n",
      "1: 246 (63.9%)\n",
      "2: 99 (25.7%)\n",
      "3: 27 (7.0%)\n",
      "4: 13 (3.4%)\n",
      "Всего строк: 385\n"
     ]
    }
   ],
   "source": [
    "traveltims = column_analysis('traveltime')\n",
    "students['traveltime'] = students['traveltime'].apply(lambda x: int(float(x)))"
   ]
  },
  {
   "cell_type": "markdown",
   "metadata": {},
   "source": [
    "Отчетливо видна тенденция жить ближе к школе:\n",
    "\n",
    "- 1: 246 (63.9%) - <15 минут\n",
    "- 2: 99 (25.7%) - 15-30 минут\n",
    "- 3: 27 (7.0%) - 30-60 минут\n",
    "- 4: 13 (3.4%) - >60 минут\n",
    "\n",
    "Более 90% учеников тратят на дорогу до школы не более 30 минут, а пости 2/3 учеников менее 15."
   ]
  },
  {
   "cell_type": "markdown",
   "metadata": {},
   "source": [
    "### __14. \"studytime\", float - время на учёбу помимо школы в неделю__\n",
    "(1 - <2 часов, 2 - 2-5 часов, 3 - 5-10 часов, 4 - >10 часов)"
   ]
  },
  {
   "cell_type": "code",
   "execution_count": 3444,
   "metadata": {},
   "outputs": [
    {
     "name": "stdout",
     "output_type": "stream",
     "text": [
      "NaN: 7 (1.8%)\n",
      "2.0: 191 (49.6%)\n",
      "1.0: 99 (25.7%)\n",
      "3.0: 62 (16.1%)\n",
      "4.0: 26 (6.8%)\n",
      "Всего строк: 385\n"
     ]
    }
   ],
   "source": [
    "studytime = column_analysis('studytime')"
   ]
  },
  {
   "cell_type": "code",
   "execution_count": 3445,
   "metadata": {},
   "outputs": [
    {
     "data": {
      "text/plain": [
       "<AxesSubplot:xlabel='studytime', ylabel='count'>"
      ]
     },
     "execution_count": 3445,
     "metadata": {},
     "output_type": "execute_result"
    },
    {
     "data": {
      "image/png": "[encoded data removed]",
      "text/plain": [
       "<Figure size 432x288 with 1 Axes>"
      ]
     },
     "metadata": {
      "needs_background": "light"
     },
     "output_type": "display_data"
    }
   ],
   "source": [
    "change_list = ['1.0','2.0', '3.0','4.0']\n",
    "fill_nan_randomly('studytime', change_list)  # Fill NaN Randomly\n",
    "\n",
    "# Change fedu column from string to integer in [0, 4]\n",
    "students['studytime'] = students['studytime'].apply(lambda x: int(float(x)))\n",
    "\n",
    "sns.countplot(x = 'studytime', data = students)"
   ]
  },
  {
   "cell_type": "code",
   "execution_count": 3446,
   "metadata": {},
   "outputs": [
    {
     "name": "stdout",
     "output_type": "stream",
     "text": [
      "NaN: 0 (0.0%)\n",
      "2: 193 (50.1%)\n",
      "1: 101 (26.2%)\n",
      "3: 62 (16.1%)\n",
      "4: 29 (7.5%)\n",
      "Всего строк: 385\n"
     ]
    }
   ],
   "source": [
    "studytime = column_analysis('studytime')\n",
    "students['studytime'] = students['studytime'].apply(lambda x: int(float(x)))"
   ]
  },
  {
   "cell_type": "markdown",
   "metadata": {},
   "source": [
    "Распределение учеников по времени занятий вне школы:\n",
    "\n",
    "- 2: 193 (50.1%)\n",
    "- 1: 101 (26.2%)\n",
    "- 3: 62 (16.1%)\n",
    "- 4: 29 (7.5%)\n",
    "\n",
    "Большинство - 193 (50.1%) - занимается дополнительно 2-5 часов в неделю. Около 101 (26.2%) занимаются менее 2 часов.\n",
    "\n",
    "Более настойчивые учатся дополнительно 5-10 часов в неделю - 62 (16.1%).\n",
    "\n",
    "29 (7.5%) - Настоящие ботаники и нерды учатся почти непрерывно, более 10 часов в неделю помимо школы."
   ]
  },
  {
   "cell_type": "markdown",
   "metadata": {},
   "source": [
    "### __15. \"failures\", float - количество внеучебных неудач__\n",
    "(n, если 1<=n<=3, иначе 0)"
   ]
  },
  {
   "cell_type": "code",
   "execution_count": 3447,
   "metadata": {},
   "outputs": [
    {
     "name": "stdout",
     "output_type": "stream",
     "text": [
      "NaN: 21 (5.5%)\n",
      "0.0: 289 (75.1%)\n",
      "1.0: 49 (12.7%)\n",
      "2.0: 14 (3.6%)\n",
      "3.0: 12 (3.1%)\n",
      "Всего строк: 385\n"
     ]
    }
   ],
   "source": [
    "x = column_analysis('failures')"
   ]
  },
  {
   "cell_type": "code",
   "execution_count": 3448,
   "metadata": {},
   "outputs": [
    {
     "data": {
      "text/plain": [
       "<AxesSubplot:xlabel='failures', ylabel='count'>"
      ]
     },
     "execution_count": 3448,
     "metadata": {},
     "output_type": "execute_result"
    },
    {
     "data": {
      "image/png": "[encoded data removed]",
      "text/plain": [
       "<Figure size 432x288 with 1 Axes>"
      ]
     },
     "metadata": {
      "needs_background": "light"
     },
     "output_type": "display_data"
    }
   ],
   "source": [
    "change_list = ['0.0', '1.0','2.0', '3.0']\n",
    "fill_nan_randomly('failures', change_list)  # Fill NaN Randomly\n",
    "\n",
    "# Change column from string to integer\n",
    "students['failures'] = students['failures'].apply(lambda x: int(float(x)))\n",
    "\n",
    "sns.countplot(x = 'failures', data = students)"
   ]
  },
  {
   "cell_type": "code",
   "execution_count": 3449,
   "metadata": {},
   "outputs": [
    {
     "name": "stdout",
     "output_type": "stream",
     "text": [
      "NaN: 0 (0.0%)\n",
      "0: 296 (76.9%)\n",
      "1: 55 (14.3%)\n",
      "2: 17 (4.4%)\n",
      "3: 17 (4.4%)\n",
      "Всего строк: 385\n"
     ]
    }
   ],
   "source": [
    "x = column_analysis('failures')\n",
    "\n",
    "# Change column from string to integer\n",
    "students['failures'] = students['failures'].apply(lambda x: int(float(x)))"
   ]
  },
  {
   "cell_type": "markdown",
   "metadata": {},
   "source": [
    "У большинства учеников 296 (76.9%) нулевое количество внеучебных неудач."
   ]
  },
  {
   "cell_type": "markdown",
   "metadata": {},
   "source": [
    "Пропусков нет, __ура!__"
   ]
  },
  {
   "cell_type": "markdown",
   "metadata": {},
   "source": [
    "### __16. \"schoolsup\", строковая - дополнительная образовательная поддержка__\n",
    "(yes или no)"
   ]
  },
  {
   "cell_type": "code",
   "execution_count": 3450,
   "metadata": {},
   "outputs": [
    {
     "name": "stdout",
     "output_type": "stream",
     "text": [
      "NaN: 8 (2.1%)\n",
      "no: 326 (84.7%)\n",
      "yes: 51 (13.2%)\n",
      "Всего строк: 385\n"
     ]
    }
   ],
   "source": [
    "x = column_analysis('schoolsup')"
   ]
  },
  {
   "cell_type": "code",
   "execution_count": 3451,
   "metadata": {},
   "outputs": [
    {
     "data": {
      "text/plain": [
       "<AxesSubplot:xlabel='schoolsup', ylabel='count'>"
      ]
     },
     "execution_count": 3451,
     "metadata": {},
     "output_type": "execute_result"
    },
    {
     "data": {
      "image/png": "[encoded data removed]",
      "text/plain": [
       "<Figure size 432x288 with 1 Axes>"
      ]
     },
     "metadata": {
      "needs_background": "light"
     },
     "output_type": "display_data"
    }
   ],
   "source": [
    "change_list = ['yes', 'no']\n",
    "fill_nan_randomly('schoolsup', change_list)  # Fill NaN Randomly\n",
    "\n",
    "sns.countplot(x = 'schoolsup', data = students)"
   ]
  },
  {
   "cell_type": "code",
   "execution_count": 3452,
   "metadata": {},
   "outputs": [
    {
     "name": "stdout",
     "output_type": "stream",
     "text": [
      "NaN: 0 (0.0%)\n",
      "no: 332 (86.2%)\n",
      "yes: 53 (13.8%)\n",
      "Всего строк: 385\n"
     ]
    }
   ],
   "source": [
    "x = column_analysis('schoolsup')"
   ]
  },
  {
   "cell_type": "markdown",
   "metadata": {},
   "source": [
    "Большинство учеников, 332 (86.2%), не имеют дополнительной образовательной поддержки."
   ]
  },
  {
   "cell_type": "markdown",
   "metadata": {},
   "source": [
    "### 17. \"famsup\", строковая - семейная образовательная поддержка\n",
    "### 18. \"paid\", строковая - дополнительные платные занятия по математике\n",
    "### 19. \"activities\", строковая - дополнительные внеучебные занятия\n",
    "### 20. \"nursery\", строковая - посещал детский сад\n",
    "### 21. \"higher\", строковая - хочет получить высшее образование\n",
    "### 22. \"internet\", строковая - наличие интернета дома\n",
    "### 23. \"romantic\", строковая - в романтических отношениях\n",
    "Везде выше - (yes или no)"
   ]
  },
  {
   "cell_type": "markdown",
   "metadata": {},
   "source": [
    "Слегка автоматизируем процесс первичного анализа строковых данных."
   ]
  },
  {
   "cell_type": "code",
   "execution_count": 3453,
   "metadata": {},
   "outputs": [],
   "source": [
    "# Make list of columns\n",
    "analyse_this = ['famsup', 'paid', 'activities', 'nursery', \n",
    "                'higher', 'internet', 'romantic']"
   ]
  },
  {
   "cell_type": "code",
   "execution_count": 3454,
   "metadata": {},
   "outputs": [
    {
     "name": "stdout",
     "output_type": "stream",
     "text": [
      "famsup\n",
      "NaN: 38 (9.9%)\n",
      "yes: 216 (56.1%)\n",
      "no: 131 (34.0%)\n",
      "Всего строк: 385\n",
      "\n",
      "paid\n",
      "NaN: 40 (10.4%)\n",
      "no: 194 (50.4%)\n",
      "yes: 151 (39.2%)\n",
      "Всего строк: 385\n",
      "\n",
      "activities\n",
      "NaN: 14 (3.6%)\n",
      "yes: 192 (49.9%)\n",
      "no: 179 (46.5%)\n",
      "Всего строк: 385\n",
      "\n",
      "nursery\n",
      "NaN: 15 (3.9%)\n",
      "yes: 295 (76.6%)\n",
      "no: 75 (19.5%)\n",
      "Всего строк: 385\n",
      "\n",
      "higher\n",
      "NaN: 17 (4.4%)\n",
      "yes: 351 (91.2%)\n",
      "no: 17 (4.4%)\n",
      "Всего строк: 385\n",
      "\n",
      "internet\n",
      "NaN: 34 (8.8%)\n",
      "yes: 299 (77.7%)\n",
      "no: 52 (13.5%)\n",
      "Всего строк: 385\n",
      "\n",
      "romantic\n",
      "NaN: 31 (8.1%)\n",
      "no: 233 (60.5%)\n",
      "yes: 121 (31.4%)\n",
      "Всего строк: 385\n",
      "\n"
     ]
    }
   ],
   "source": [
    "change_list = ['yes', 'no']\n",
    "\n",
    "for col in analyse_this:\n",
    "    print(col)\n",
    "    column_analysis(col)\n",
    "    fill_nan_randomly(col, change_list)  # Fill NaN Randomly\n",
    "    print('')"
   ]
  },
  {
   "cell_type": "markdown",
   "metadata": {},
   "source": [
    "Видим распределения выше. Не вполне понимаю, что нам это дает. Но мы хотя бы пропуски заполнили.\n",
    "\n",
    "Стоит отметить, что большинство, 300 (77.9%) посещали детский сад.\n",
    "\n",
    "Также большинство, 358 (93.0%), хотят получить высшее образование. Возможно обе школы, которые мы рассматриваем, \"заточены\" на подготовку в ВУЗ.\n",
    "\n",
    "Большая часть учеников, 317 (82.3%), имеют доступ в интернет."
   ]
  },
  {
   "cell_type": "markdown",
   "metadata": {},
   "source": [
    "### 24. \"famrel\", float - семейные отношения\n",
    "(от 1 - очень плохо до 5 - очень хорошо)\n",
    "\n",
    "### 25. \"freetime\", float - свободное время после школы\n",
    "(от 1 - очень мало до 5 - очень много)\n",
    "\n",
    "### 26. \"goout\", float - проведение времени с друзьями\n",
    "(от 1 - очень мало до 5 - очень много)\n",
    "\n",
    "### 27. \"health\", float - текущее состояние здоровья\n",
    "(от 1 - очень плохо до 5 - очень хорошо)"
   ]
  },
  {
   "cell_type": "markdown",
   "metadata": {},
   "source": [
    "Слегка автоматизируем процесс первичного анализа числовых данных :-)"
   ]
  },
  {
   "cell_type": "code",
   "execution_count": 3455,
   "metadata": {},
   "outputs": [],
   "source": [
    "# Make list of columns\n",
    "analyse_this = ['famrel', 'freetime', 'goout', 'health']"
   ]
  },
  {
   "cell_type": "code",
   "execution_count": 3456,
   "metadata": {},
   "outputs": [
    {
     "name": "stdout",
     "output_type": "stream",
     "text": [
      "famrel\n",
      "NaN: 27 (7.0%)\n",
      "4.0: 180 (46.8%)\n",
      "5.0: 94 (24.4%)\n",
      "3.0: 59 (15.3%)\n",
      "2.0: 17 (4.4%)\n",
      "1.0: 7 (1.8%)\n",
      "-1.0: 1 (0.3%)\n",
      "Всего строк: 385\n",
      "\n",
      "freetime\n",
      "NaN: 11 (2.9%)\n",
      "3.0: 150 (39.0%)\n",
      "4.0: 108 (28.1%)\n",
      "2.0: 63 (16.4%)\n",
      "5.0: 35 (9.1%)\n",
      "1.0: 18 (4.7%)\n",
      "Всего строк: 385\n",
      "\n",
      "goout\n",
      "NaN: 8 (2.1%)\n",
      "3.0: 122 (31.7%)\n",
      "2.0: 98 (25.5%)\n",
      "4.0: 83 (21.6%)\n",
      "5.0: 51 (13.2%)\n",
      "1.0: 23 (6.0%)\n",
      "Всего строк: 385\n",
      "\n",
      "health\n",
      "NaN: 15 (3.9%)\n",
      "5.0: 135 (35.1%)\n",
      "3.0: 86 (22.3%)\n",
      "4.0: 62 (16.1%)\n",
      "1.0: 45 (11.7%)\n",
      "2.0: 42 (10.9%)\n",
      "Всего строк: 385\n",
      "\n"
     ]
    }
   ],
   "source": [
    "change_list = ['0.0', '1.0', '2.0', '3.0', '4.0']\n",
    "\n",
    "for col in analyse_this:\n",
    "    print(col)\n",
    "    column_analysis(col)\n",
    "    fill_nan_randomly(col, change_list)  # Fill NaN Randomly\n",
    "    \n",
    "    # Change column from string to integer\n",
    "    students[col] = students[col].apply(lambda x: int(float(x)))\n",
    "    print('')"
   ]
  },
  {
   "cell_type": "markdown",
   "metadata": {},
   "source": [
    "Видно, что во всех колонках присутствуют значени 0, которых не должно быть по описанию, посокльку все шкалы размечены от 1 до 5.\n",
    "\n",
    "Кроме того, в колонке 'famrel' присутствует значение -1, что также является] ошибкой.\n",
    "\n",
    "Заменим для начала -1 на 1."
   ]
  },
  {
   "cell_type": "code",
   "execution_count": 3457,
   "metadata": {},
   "outputs": [],
   "source": [
    "students.famrel = students.famrel.replace(-1, 1)"
   ]
  },
  {
   "cell_type": "markdown",
   "metadata": {},
   "source": [
    "С нулями предлагаю поступить так - заменить на моду в каждом столбце."
   ]
  },
  {
   "cell_type": "code",
   "execution_count": 3458,
   "metadata": {},
   "outputs": [],
   "source": [
    "students.famrel = students.famrel.replace(0, 4)\n",
    "students.freetime = students.freetime.replace(0, 3)\n",
    "students.goout = students.goout.replace(0, 3)\n",
    "students.health = students.health.replace(0, 5)"
   ]
  },
  {
   "cell_type": "code",
   "execution_count": 3459,
   "metadata": {},
   "outputs": [
    {
     "name": "stdout",
     "output_type": "stream",
     "text": [
      "famrel\n",
      "NaN: 0 (0.0%)\n",
      "4: 192 (49.9%)\n",
      "5: 94 (24.4%)\n",
      "3: 62 (16.1%)\n",
      "2: 21 (5.5%)\n",
      "1: 16 (4.2%)\n",
      "Всего строк: 385\n",
      "\n",
      "freetime\n",
      "NaN: 0 (0.0%)\n",
      "3: 155 (40.3%)\n",
      "4: 111 (28.8%)\n",
      "2: 63 (16.4%)\n",
      "5: 35 (9.1%)\n",
      "1: 21 (5.5%)\n",
      "Всего строк: 385\n",
      "\n",
      "goout\n",
      "NaN: 0 (0.0%)\n",
      "3: 127 (33.0%)\n",
      "2: 98 (25.5%)\n",
      "4: 84 (21.8%)\n",
      "5: 51 (13.2%)\n",
      "1: 25 (6.5%)\n",
      "Всего строк: 385\n",
      "\n",
      "health\n",
      "NaN: 0 (0.0%)\n",
      "5: 138 (35.8%)\n",
      "3: 88 (22.9%)\n",
      "4: 67 (17.4%)\n",
      "1: 48 (12.5%)\n",
      "2: 44 (11.4%)\n",
      "Всего строк: 385\n",
      "\n"
     ]
    }
   ],
   "source": [
    "change_list = ['0.0', '1.0', '2.0', '3.0', '4.0']\n",
    "\n",
    "for col in analyse_this:\n",
    "    print(col)\n",
    "    column_analysis(col)\n",
    "    fill_nan_randomly(col, change_list)  # Fill NaN Randomly\n",
    "    \n",
    "    # Change column from string to integer\n",
    "    students[col] = students[col].apply(lambda x: int(float(x)))\n",
    "    print('')"
   ]
  },
  {
   "cell_type": "markdown",
   "metadata": {},
   "source": [
    "Для наглядности обратим теперь внимание на гистограммы."
   ]
  },
  {
   "cell_type": "code",
   "execution_count": 3460,
   "metadata": {},
   "outputs": [
    {
     "data": {
      "text/plain": [
       "<AxesSubplot:xlabel='famrel', ylabel='count'>"
      ]
     },
     "execution_count": 3460,
     "metadata": {},
     "output_type": "execute_result"
    },
    {
     "data": {
      "image/png": "[encoded data removed]",
      "text/plain": [
       "<Figure size 432x288 with 1 Axes>"
      ]
     },
     "metadata": {
      "needs_background": "light"
     },
     "output_type": "display_data"
    }
   ],
   "source": [
    "sns.countplot(x = 'famrel', data = students)"
   ]
  },
  {
   "cell_type": "code",
   "execution_count": 3461,
   "metadata": {},
   "outputs": [
    {
     "data": {
      "text/plain": [
       "<AxesSubplot:xlabel='freetime', ylabel='count'>"
      ]
     },
     "execution_count": 3461,
     "metadata": {},
     "output_type": "execute_result"
    },
    {
     "data": {
      "image/png": "[encoded data removed]",
      "text/plain": [
       "<Figure size 432x288 with 1 Axes>"
      ]
     },
     "metadata": {
      "needs_background": "light"
     },
     "output_type": "display_data"
    }
   ],
   "source": [
    "sns.countplot(x = 'freetime', data = students)"
   ]
  },
  {
   "cell_type": "code",
   "execution_count": 3462,
   "metadata": {},
   "outputs": [
    {
     "data": {
      "text/plain": [
       "<AxesSubplot:xlabel='goout', ylabel='count'>"
      ]
     },
     "execution_count": 3462,
     "metadata": {},
     "output_type": "execute_result"
    },
    {
     "data": {
      "image/png": "[encoded data removed]",
      "text/plain": [
       "<Figure size 432x288 with 1 Axes>"
      ]
     },
     "metadata": {
      "needs_background": "light"
     },
     "output_type": "display_data"
    }
   ],
   "source": [
    "sns.countplot(x = 'goout', data = students)"
   ]
  },
  {
   "cell_type": "code",
   "execution_count": 3463,
   "metadata": {},
   "outputs": [
    {
     "data": {
      "text/plain": [
       "<AxesSubplot:xlabel='health', ylabel='count'>"
      ]
     },
     "execution_count": 3463,
     "metadata": {},
     "output_type": "execute_result"
    },
    {
     "data": {
      "image/png": "[encoded data removed]",
      "text/plain": [
       "<Figure size 432x288 with 1 Axes>"
      ]
     },
     "metadata": {
      "needs_background": "light"
     },
     "output_type": "display_data"
    }
   ],
   "source": [
    "sns.countplot(x = 'health', data = students)"
   ]
  },
  {
   "cell_type": "code",
   "execution_count": 3464,
   "metadata": {},
   "outputs": [],
   "source": [
    "# sns.pairplot(students)"
   ]
  },
  {
   "cell_type": "markdown",
   "metadata": {},
   "source": [
    "### 28. \"absences\", float - количество пропущенных занятий"
   ]
  },
  {
   "cell_type": "code",
   "execution_count": 3465,
   "metadata": {},
   "outputs": [
    {
     "data": {
      "text/plain": [
       "count    373.000000\n",
       "mean       6.812332\n",
       "std       21.252632\n",
       "min        0.000000\n",
       "25%        0.000000\n",
       "50%        4.000000\n",
       "75%        8.000000\n",
       "max      385.000000\n",
       "Name: absences, dtype: float64"
      ]
     },
     "execution_count": 3465,
     "metadata": {},
     "output_type": "execute_result"
    }
   ],
   "source": [
    "students.absences.describe()"
   ]
  },
  {
   "cell_type": "code",
   "execution_count": 3466,
   "metadata": {},
   "outputs": [],
   "source": [
    "# Delete one students with 385 missed lessons\n",
    "students = students[students.absences != students.absences.max()]"
   ]
  },
  {
   "cell_type": "code",
   "execution_count": 3467,
   "metadata": {},
   "outputs": [],
   "source": [
    "change_list = ['0.0', '2.0', '4.0', '6.0', '8.0', '10.0'] # Most freauent values\n",
    "fill_nan_randomly('absences', change_list)  # Fill NaN Randomly"
   ]
  },
  {
   "cell_type": "code",
   "execution_count": 3468,
   "metadata": {},
   "outputs": [
    {
     "name": "stdout",
     "output_type": "stream",
     "text": [
      "NaN: 0 (0.0%)\n",
      "0.0: 111 (28.9%)\n",
      "2.0: 60 (15.6%)\n",
      "4.0: 52 (13.5%)\n",
      "6.0: 33 (8.6%)\n",
      "8.0: 22 (5.7%)\n",
      "10.0: 20 (5.2%)\n",
      "12.0: 12 (3.1%)\n",
      "14.0: 12 (3.1%)\n",
      "3.0: 7 (1.8%)\n",
      "7.0: 6 (1.6%)\n",
      "16.0: 6 (1.6%)\n",
      "18.0: 5 (1.3%)\n",
      "5.0: 5 (1.3%)\n",
      "20.0: 4 (1.0%)\n",
      "1.0: 3 (0.8%)\n",
      "9.0: 3 (0.8%)\n",
      "22.0: 3 (0.8%)\n",
      "13.0: 2 (0.5%)\n",
      "15.0: 2 (0.5%)\n",
      "11.0: 2 (0.5%)\n",
      "24.0: 1 (0.3%)\n",
      "21.0: 1 (0.3%)\n",
      "38.0: 1 (0.3%)\n",
      "23.0: 1 (0.3%)\n",
      "26.0: 1 (0.3%)\n",
      "75.0: 1 (0.3%)\n",
      "17.0: 1 (0.3%)\n",
      "56.0: 1 (0.3%)\n",
      "54.0: 1 (0.3%)\n",
      "40.0: 1 (0.3%)\n",
      "19.0: 1 (0.3%)\n",
      "30.0: 1 (0.3%)\n",
      "25.0: 1 (0.3%)\n",
      "28.0: 1 (0.3%)\n",
      "Всего строк: 384\n"
     ]
    }
   ],
   "source": [
    "x = column_analysis('absences')\n",
    "\n",
    "# Change column from string to integer\n",
    "students['absences'] = students['absences'].apply(lambda x: int(float(x)))"
   ]
  },
  {
   "cell_type": "code",
   "execution_count": 3469,
   "metadata": {},
   "outputs": [
    {
     "data": {
      "text/plain": [
       "<AxesSubplot:xlabel='absences', ylabel='Density'>"
      ]
     },
     "execution_count": 3469,
     "metadata": {},
     "output_type": "execute_result"
    },
    {
     "data": {
      "image/png": "[encoded data removed]",
      "text/plain": [
       "<Figure size 432x288 with 1 Axes>"
      ]
     },
     "metadata": {
      "needs_background": "light"
     },
     "output_type": "display_data"
    }
   ],
   "source": [
    "sns.distplot(students['absences'])"
   ]
  },
  {
   "cell_type": "code",
   "execution_count": 3470,
   "metadata": {},
   "outputs": [
    {
     "data": {
      "text/plain": [
       "<AxesSubplot:xlabel='absences', ylabel='count'>"
      ]
     },
     "execution_count": 3470,
     "metadata": {},
     "output_type": "execute_result"
    },
    {
     "data": {
      "image/png": "[encoded data removed]",
      "text/plain": [
       "<Figure size 432x288 with 1 Axes>"
      ]
     },
     "metadata": {
      "needs_background": "light"
     },
     "output_type": "display_data"
    }
   ],
   "source": [
    "sns.countplot(x = 'absences', data = students)"
   ]
  },
  {
   "cell_type": "markdown",
   "metadata": {},
   "source": [
    "Интересно, что существенно чаще пропускают чётное количество занятий. Возможно причина в том, что занятия сдвоенные, по приципу \"пары\", и в связи с этим чаще пропускают полную \"пару\". Можно попробовать для упрощения восприятия округлить все неплоные пары до полных."
   ]
  },
  {
   "cell_type": "code",
   "execution_count": 3471,
   "metadata": {},
   "outputs": [],
   "source": [
    "students['absences'] = students['absences'].apply(lambda x: x+1 if x%2 else x)"
   ]
  },
  {
   "cell_type": "code",
   "execution_count": 3472,
   "metadata": {},
   "outputs": [
    {
     "data": {
      "text/plain": [
       "<AxesSubplot:xlabel='absences', ylabel='count'>"
      ]
     },
     "execution_count": 3472,
     "metadata": {},
     "output_type": "execute_result"
    },
    {
     "data": {
      "image/png": "[encoded data removed]",
      "text/plain": [
       "<Figure size 432x288 with 1 Axes>"
      ]
     },
     "metadata": {
      "needs_background": "light"
     },
     "output_type": "display_data"
    }
   ],
   "source": [
    "sns.countplot(x = 'absences', data = students)"
   ]
  },
  {
   "cell_type": "markdown",
   "metadata": {},
   "source": [
    "На первый взгляд, здесь все понятно - большее количество пропусков встречается реже."
   ]
  },
  {
   "cell_type": "markdown",
   "metadata": {},
   "source": [
    "### 29. \"score\", float - баллы по госэкзамену по математике"
   ]
  },
  {
   "cell_type": "code",
   "execution_count": 3473,
   "metadata": {},
   "outputs": [
    {
     "data": {
      "text/plain": [
       "count    378.000000\n",
       "mean      51.944444\n",
       "std       22.940115\n",
       "min        0.000000\n",
       "25%       40.000000\n",
       "50%       55.000000\n",
       "75%       65.000000\n",
       "max      100.000000\n",
       "Name: score, dtype: float64"
      ]
     },
     "execution_count": 3473,
     "metadata": {},
     "output_type": "execute_result"
    }
   ],
   "source": [
    "students.score.describe()"
   ]
  },
  {
   "cell_type": "markdown",
   "metadata": {},
   "source": [
    "Судя по всему, госэкзамен оценивается по 100-бальной шкале."
   ]
  },
  {
   "cell_type": "code",
   "execution_count": 3474,
   "metadata": {},
   "outputs": [
    {
     "data": {
      "text/plain": [
       "37"
      ]
     },
     "execution_count": 3474,
     "metadata": {},
     "output_type": "execute_result"
    }
   ],
   "source": [
    "len(students[students.score == students.score.min()])"
   ]
  },
  {
   "cell_type": "markdown",
   "metadata": {},
   "source": [
    "У нас есть 37 студентов, которые сдали госэкзамен на 0 баллов, то есть по-видимому его просто не сдавали."
   ]
  },
  {
   "cell_type": "markdown",
   "metadata": {},
   "source": [
    "Предлагаю их удалить из нашего датасета. Поскольку во-первых, мы всё-таки изучаем  влияние условий жизни учащихся на их успеваемость, а если мы не знаем их успеваемости, то что изучать?\n",
    "\n",
    "Во-вторых, заполнять случайными оценками в данном конкретном случае интуитивно представляется не корректным.\n",
    "\n",
    "И в-третьих, студентов с нулевым результатом менее 10%.\n",
    "\n",
    "Поэтому удаляем."
   ]
  },
  {
   "cell_type": "code",
   "execution_count": 3475,
   "metadata": {},
   "outputs": [
    {
     "data": {
      "text/html": [
       "<div>\n",
       "<style scoped>\n",
       "    .dataframe tbody tr th:only-of-type {\n",
       "        vertical-align: middle;\n",
       "    }\n",
       "\n",
       "    .dataframe tbody tr th {\n",
       "        vertical-align: top;\n",
       "    }\n",
       "\n",
       "    .dataframe thead th {\n",
       "        text-align: right;\n",
       "    }\n",
       "</style>\n",
       "<table border=\"1\" class=\"dataframe\">\n",
       "  <thead>\n",
       "    <tr style=\"text-align: right;\">\n",
       "      <th></th>\n",
       "      <th>school</th>\n",
       "      <th>sex</th>\n",
       "      <th>age</th>\n",
       "      <th>address</th>\n",
       "      <th>famsize</th>\n",
       "      <th>pstatus</th>\n",
       "      <th>medu</th>\n",
       "      <th>fedu</th>\n",
       "      <th>mjob</th>\n",
       "      <th>fjob</th>\n",
       "      <th>reason</th>\n",
       "      <th>guardian</th>\n",
       "      <th>traveltime</th>\n",
       "      <th>studytime</th>\n",
       "      <th>failures</th>\n",
       "      <th>schoolsup</th>\n",
       "      <th>famsup</th>\n",
       "      <th>paid</th>\n",
       "      <th>activities</th>\n",
       "      <th>nursery</th>\n",
       "      <th>granular</th>\n",
       "      <th>higher</th>\n",
       "      <th>internet</th>\n",
       "      <th>romantic</th>\n",
       "      <th>famrel</th>\n",
       "      <th>freetime</th>\n",
       "      <th>goout</th>\n",
       "      <th>health</th>\n",
       "      <th>absences</th>\n",
       "      <th>score</th>\n",
       "    </tr>\n",
       "  </thead>\n",
       "  <tbody>\n",
       "    <tr>\n",
       "      <th>0</th>\n",
       "      <td>GP</td>\n",
       "      <td>F</td>\n",
       "      <td>18</td>\n",
       "      <td>U</td>\n",
       "      <td>LE3</td>\n",
       "      <td>A</td>\n",
       "      <td>4</td>\n",
       "      <td>4</td>\n",
       "      <td>at_home</td>\n",
       "      <td>teacher</td>\n",
       "      <td>course</td>\n",
       "      <td>mother</td>\n",
       "      <td>2</td>\n",
       "      <td>2</td>\n",
       "      <td>0</td>\n",
       "      <td>yes</td>\n",
       "      <td>no</td>\n",
       "      <td>no</td>\n",
       "      <td>no</td>\n",
       "      <td>yes</td>\n",
       "      <td>-6.0</td>\n",
       "      <td>yes</td>\n",
       "      <td>no</td>\n",
       "      <td>no</td>\n",
       "      <td>4</td>\n",
       "      <td>3</td>\n",
       "      <td>4</td>\n",
       "      <td>3</td>\n",
       "      <td>6</td>\n",
       "      <td>30.0</td>\n",
       "    </tr>\n",
       "    <tr>\n",
       "      <th>1</th>\n",
       "      <td>GP</td>\n",
       "      <td>F</td>\n",
       "      <td>17</td>\n",
       "      <td>U</td>\n",
       "      <td>GT3</td>\n",
       "      <td>A</td>\n",
       "      <td>1</td>\n",
       "      <td>1</td>\n",
       "      <td>at_home</td>\n",
       "      <td>other</td>\n",
       "      <td>course</td>\n",
       "      <td>father</td>\n",
       "      <td>1</td>\n",
       "      <td>2</td>\n",
       "      <td>0</td>\n",
       "      <td>no</td>\n",
       "      <td>yes</td>\n",
       "      <td>no</td>\n",
       "      <td>no</td>\n",
       "      <td>no</td>\n",
       "      <td>-6.0</td>\n",
       "      <td>yes</td>\n",
       "      <td>yes</td>\n",
       "      <td>no</td>\n",
       "      <td>5</td>\n",
       "      <td>3</td>\n",
       "      <td>3</td>\n",
       "      <td>3</td>\n",
       "      <td>4</td>\n",
       "      <td>30.0</td>\n",
       "    </tr>\n",
       "    <tr>\n",
       "      <th>2</th>\n",
       "      <td>GP</td>\n",
       "      <td>F</td>\n",
       "      <td>15</td>\n",
       "      <td>U</td>\n",
       "      <td>LE3</td>\n",
       "      <td>T</td>\n",
       "      <td>1</td>\n",
       "      <td>1</td>\n",
       "      <td>at_home</td>\n",
       "      <td>other</td>\n",
       "      <td>other</td>\n",
       "      <td>mother</td>\n",
       "      <td>1</td>\n",
       "      <td>2</td>\n",
       "      <td>3</td>\n",
       "      <td>yes</td>\n",
       "      <td>no</td>\n",
       "      <td>no</td>\n",
       "      <td>no</td>\n",
       "      <td>yes</td>\n",
       "      <td>-6.0</td>\n",
       "      <td>yes</td>\n",
       "      <td>yes</td>\n",
       "      <td>no</td>\n",
       "      <td>4</td>\n",
       "      <td>3</td>\n",
       "      <td>2</td>\n",
       "      <td>3</td>\n",
       "      <td>10</td>\n",
       "      <td>50.0</td>\n",
       "    </tr>\n",
       "    <tr>\n",
       "      <th>3</th>\n",
       "      <td>GP</td>\n",
       "      <td>F</td>\n",
       "      <td>15</td>\n",
       "      <td>U</td>\n",
       "      <td>GT3</td>\n",
       "      <td>T</td>\n",
       "      <td>4</td>\n",
       "      <td>2</td>\n",
       "      <td>health</td>\n",
       "      <td>at_home</td>\n",
       "      <td>home</td>\n",
       "      <td>mother</td>\n",
       "      <td>1</td>\n",
       "      <td>3</td>\n",
       "      <td>0</td>\n",
       "      <td>no</td>\n",
       "      <td>yes</td>\n",
       "      <td>yes</td>\n",
       "      <td>yes</td>\n",
       "      <td>yes</td>\n",
       "      <td>-9.0</td>\n",
       "      <td>yes</td>\n",
       "      <td>yes</td>\n",
       "      <td>yes</td>\n",
       "      <td>3</td>\n",
       "      <td>2</td>\n",
       "      <td>2</td>\n",
       "      <td>5</td>\n",
       "      <td>2</td>\n",
       "      <td>75.0</td>\n",
       "    </tr>\n",
       "    <tr>\n",
       "      <th>4</th>\n",
       "      <td>GP</td>\n",
       "      <td>F</td>\n",
       "      <td>16</td>\n",
       "      <td>U</td>\n",
       "      <td>GT3</td>\n",
       "      <td>T</td>\n",
       "      <td>3</td>\n",
       "      <td>3</td>\n",
       "      <td>other</td>\n",
       "      <td>other</td>\n",
       "      <td>home</td>\n",
       "      <td>father</td>\n",
       "      <td>1</td>\n",
       "      <td>2</td>\n",
       "      <td>0</td>\n",
       "      <td>no</td>\n",
       "      <td>yes</td>\n",
       "      <td>yes</td>\n",
       "      <td>no</td>\n",
       "      <td>yes</td>\n",
       "      <td>-6.0</td>\n",
       "      <td>yes</td>\n",
       "      <td>no</td>\n",
       "      <td>no</td>\n",
       "      <td>4</td>\n",
       "      <td>3</td>\n",
       "      <td>2</td>\n",
       "      <td>5</td>\n",
       "      <td>4</td>\n",
       "      <td>50.0</td>\n",
       "    </tr>\n",
       "    <tr>\n",
       "      <th>...</th>\n",
       "      <td>...</td>\n",
       "      <td>...</td>\n",
       "      <td>...</td>\n",
       "      <td>...</td>\n",
       "      <td>...</td>\n",
       "      <td>...</td>\n",
       "      <td>...</td>\n",
       "      <td>...</td>\n",
       "      <td>...</td>\n",
       "      <td>...</td>\n",
       "      <td>...</td>\n",
       "      <td>...</td>\n",
       "      <td>...</td>\n",
       "      <td>...</td>\n",
       "      <td>...</td>\n",
       "      <td>...</td>\n",
       "      <td>...</td>\n",
       "      <td>...</td>\n",
       "      <td>...</td>\n",
       "      <td>...</td>\n",
       "      <td>...</td>\n",
       "      <td>...</td>\n",
       "      <td>...</td>\n",
       "      <td>...</td>\n",
       "      <td>...</td>\n",
       "      <td>...</td>\n",
       "      <td>...</td>\n",
       "      <td>...</td>\n",
       "      <td>...</td>\n",
       "      <td>...</td>\n",
       "    </tr>\n",
       "    <tr>\n",
       "      <th>386</th>\n",
       "      <td>MS</td>\n",
       "      <td>F</td>\n",
       "      <td>18</td>\n",
       "      <td>R</td>\n",
       "      <td>GT3</td>\n",
       "      <td>T</td>\n",
       "      <td>4</td>\n",
       "      <td>4</td>\n",
       "      <td>teacher</td>\n",
       "      <td>at_home</td>\n",
       "      <td>reputation</td>\n",
       "      <td>mother</td>\n",
       "      <td>3</td>\n",
       "      <td>1</td>\n",
       "      <td>0</td>\n",
       "      <td>no</td>\n",
       "      <td>yes</td>\n",
       "      <td>yes</td>\n",
       "      <td>yes</td>\n",
       "      <td>yes</td>\n",
       "      <td>-3.0</td>\n",
       "      <td>yes</td>\n",
       "      <td>yes</td>\n",
       "      <td>yes</td>\n",
       "      <td>4</td>\n",
       "      <td>4</td>\n",
       "      <td>3</td>\n",
       "      <td>5</td>\n",
       "      <td>8</td>\n",
       "      <td>30.0</td>\n",
       "    </tr>\n",
       "    <tr>\n",
       "      <th>388</th>\n",
       "      <td>MS</td>\n",
       "      <td>F</td>\n",
       "      <td>18</td>\n",
       "      <td>U</td>\n",
       "      <td>LE3</td>\n",
       "      <td>T</td>\n",
       "      <td>3</td>\n",
       "      <td>1</td>\n",
       "      <td>teacher</td>\n",
       "      <td>services</td>\n",
       "      <td>course</td>\n",
       "      <td>mother</td>\n",
       "      <td>1</td>\n",
       "      <td>2</td>\n",
       "      <td>0</td>\n",
       "      <td>no</td>\n",
       "      <td>yes</td>\n",
       "      <td>yes</td>\n",
       "      <td>no</td>\n",
       "      <td>yes</td>\n",
       "      <td>-6.0</td>\n",
       "      <td>yes</td>\n",
       "      <td>yes</td>\n",
       "      <td>no</td>\n",
       "      <td>4</td>\n",
       "      <td>3</td>\n",
       "      <td>4</td>\n",
       "      <td>1</td>\n",
       "      <td>0</td>\n",
       "      <td>40.0</td>\n",
       "    </tr>\n",
       "    <tr>\n",
       "      <th>391</th>\n",
       "      <td>MS</td>\n",
       "      <td>M</td>\n",
       "      <td>17</td>\n",
       "      <td>U</td>\n",
       "      <td>LE3</td>\n",
       "      <td>T</td>\n",
       "      <td>3</td>\n",
       "      <td>1</td>\n",
       "      <td>services</td>\n",
       "      <td>services</td>\n",
       "      <td>course</td>\n",
       "      <td>mother</td>\n",
       "      <td>2</td>\n",
       "      <td>1</td>\n",
       "      <td>0</td>\n",
       "      <td>no</td>\n",
       "      <td>no</td>\n",
       "      <td>no</td>\n",
       "      <td>no</td>\n",
       "      <td>no</td>\n",
       "      <td>-3.0</td>\n",
       "      <td>yes</td>\n",
       "      <td>yes</td>\n",
       "      <td>no</td>\n",
       "      <td>2</td>\n",
       "      <td>4</td>\n",
       "      <td>5</td>\n",
       "      <td>2</td>\n",
       "      <td>4</td>\n",
       "      <td>80.0</td>\n",
       "    </tr>\n",
       "    <tr>\n",
       "      <th>393</th>\n",
       "      <td>MS</td>\n",
       "      <td>M</td>\n",
       "      <td>18</td>\n",
       "      <td>R</td>\n",
       "      <td>LE3</td>\n",
       "      <td>T</td>\n",
       "      <td>3</td>\n",
       "      <td>2</td>\n",
       "      <td>services</td>\n",
       "      <td>other</td>\n",
       "      <td>course</td>\n",
       "      <td>mother</td>\n",
       "      <td>3</td>\n",
       "      <td>1</td>\n",
       "      <td>0</td>\n",
       "      <td>no</td>\n",
       "      <td>no</td>\n",
       "      <td>no</td>\n",
       "      <td>no</td>\n",
       "      <td>no</td>\n",
       "      <td>-3.0</td>\n",
       "      <td>yes</td>\n",
       "      <td>yes</td>\n",
       "      <td>no</td>\n",
       "      <td>4</td>\n",
       "      <td>4</td>\n",
       "      <td>1</td>\n",
       "      <td>5</td>\n",
       "      <td>0</td>\n",
       "      <td>50.0</td>\n",
       "    </tr>\n",
       "    <tr>\n",
       "      <th>394</th>\n",
       "      <td>MS</td>\n",
       "      <td>M</td>\n",
       "      <td>19</td>\n",
       "      <td>U</td>\n",
       "      <td>LE3</td>\n",
       "      <td>T</td>\n",
       "      <td>1</td>\n",
       "      <td>1</td>\n",
       "      <td>other</td>\n",
       "      <td>at_home</td>\n",
       "      <td>course</td>\n",
       "      <td>father</td>\n",
       "      <td>1</td>\n",
       "      <td>1</td>\n",
       "      <td>0</td>\n",
       "      <td>no</td>\n",
       "      <td>no</td>\n",
       "      <td>no</td>\n",
       "      <td>no</td>\n",
       "      <td>yes</td>\n",
       "      <td>-3.0</td>\n",
       "      <td>yes</td>\n",
       "      <td>yes</td>\n",
       "      <td>no</td>\n",
       "      <td>3</td>\n",
       "      <td>2</td>\n",
       "      <td>3</td>\n",
       "      <td>5</td>\n",
       "      <td>6</td>\n",
       "      <td>45.0</td>\n",
       "    </tr>\n",
       "  </tbody>\n",
       "</table>\n",
       "<p>347 rows × 30 columns</p>\n",
       "</div>"
      ],
      "text/plain": [
       "    school sex  age address famsize pstatus  medu  fedu      mjob      fjob  \\\n",
       "0       GP   F   18       U     LE3       A     4     4   at_home   teacher   \n",
       "1       GP   F   17       U     GT3       A     1     1   at_home     other   \n",
       "2       GP   F   15       U     LE3       T     1     1   at_home     other   \n",
       "3       GP   F   15       U     GT3       T     4     2    health   at_home   \n",
       "4       GP   F   16       U     GT3       T     3     3     other     other   \n",
       "..     ...  ..  ...     ...     ...     ...   ...   ...       ...       ...   \n",
       "386     MS   F   18       R     GT3       T     4     4   teacher   at_home   \n",
       "388     MS   F   18       U     LE3       T     3     1   teacher  services   \n",
       "391     MS   M   17       U     LE3       T     3     1  services  services   \n",
       "393     MS   M   18       R     LE3       T     3     2  services     other   \n",
       "394     MS   M   19       U     LE3       T     1     1     other   at_home   \n",
       "\n",
       "         reason guardian  traveltime  studytime  failures schoolsup famsup  \\\n",
       "0        course   mother           2          2         0       yes     no   \n",
       "1        course   father           1          2         0        no    yes   \n",
       "2         other   mother           1          2         3       yes     no   \n",
       "3          home   mother           1          3         0        no    yes   \n",
       "4          home   father           1          2         0        no    yes   \n",
       "..          ...      ...         ...        ...       ...       ...    ...   \n",
       "386  reputation   mother           3          1         0        no    yes   \n",
       "388      course   mother           1          2         0        no    yes   \n",
       "391      course   mother           2          1         0        no     no   \n",
       "393      course   mother           3          1         0        no     no   \n",
       "394      course   father           1          1         0        no     no   \n",
       "\n",
       "    paid activities nursery  granular higher internet romantic  famrel  \\\n",
       "0     no         no     yes      -6.0    yes       no       no       4   \n",
       "1     no         no      no      -6.0    yes      yes       no       5   \n",
       "2     no         no     yes      -6.0    yes      yes       no       4   \n",
       "3    yes        yes     yes      -9.0    yes      yes      yes       3   \n",
       "4    yes         no     yes      -6.0    yes       no       no       4   \n",
       "..   ...        ...     ...       ...    ...      ...      ...     ...   \n",
       "386  yes        yes     yes      -3.0    yes      yes      yes       4   \n",
       "388  yes         no     yes      -6.0    yes      yes       no       4   \n",
       "391   no         no      no      -3.0    yes      yes       no       2   \n",
       "393   no         no      no      -3.0    yes      yes       no       4   \n",
       "394   no         no     yes      -3.0    yes      yes       no       3   \n",
       "\n",
       "     freetime  goout  health  absences  score  \n",
       "0           3      4       3         6   30.0  \n",
       "1           3      3       3         4   30.0  \n",
       "2           3      2       3        10   50.0  \n",
       "3           2      2       5         2   75.0  \n",
       "4           3      2       5         4   50.0  \n",
       "..        ...    ...     ...       ...    ...  \n",
       "386         4      3       5         8   30.0  \n",
       "388         3      4       1         0   40.0  \n",
       "391         4      5       2         4   80.0  \n",
       "393         4      1       5         0   50.0  \n",
       "394         2      3       5         6   45.0  \n",
       "\n",
       "[347 rows x 30 columns]"
      ]
     },
     "execution_count": 3475,
     "metadata": {},
     "output_type": "execute_result"
    }
   ],
   "source": [
    "students = students[students.score != 0]\n",
    "students"
   ]
  },
  {
   "cell_type": "markdown",
   "metadata": {},
   "source": [
    "Пропусков у нас больше нет, и это замечательно."
   ]
  },
  {
   "cell_type": "code",
   "execution_count": 3476,
   "metadata": {},
   "outputs": [
    {
     "data": {
      "text/plain": [
       "<AxesSubplot:xlabel='score', ylabel='Density'>"
      ]
     },
     "execution_count": 3476,
     "metadata": {},
     "output_type": "execute_result"
    },
    {
     "data": {
      "image/png": "[encoded data removed]",
      "text/plain": [
       "<Figure size 432x288 with 1 Axes>"
      ]
     },
     "metadata": {
      "needs_background": "light"
     },
     "output_type": "display_data"
    }
   ],
   "source": [
    "sns.distplot(students['score'])"
   ]
  },
  {
   "cell_type": "code",
   "execution_count": 3477,
   "metadata": {},
   "outputs": [
    {
     "data": {
      "text/plain": [
       "count    341.000000\n",
       "mean      57.580645\n",
       "std       16.063205\n",
       "min       20.000000\n",
       "25%       45.000000\n",
       "50%       55.000000\n",
       "75%       70.000000\n",
       "max      100.000000\n",
       "Name: score, dtype: float64"
      ]
     },
     "execution_count": 3477,
     "metadata": {},
     "output_type": "execute_result"
    }
   ],
   "source": [
    "students.score.describe()"
   ]
  },
  {
   "cell_type": "markdown",
   "metadata": {},
   "source": [
    "- Средний балл - 57.6\n",
    "- Стандартное отклонение - 16.1\n",
    "\n",
    "- Минимум - 20\n",
    "- Q1 - 45\n",
    "- Q2 (медиана) - 55\n",
    "- Q3 - 70\n",
    "- Максимум - 100"
   ]
  },
  {
   "cell_type": "markdown",
   "metadata": {},
   "source": [
    "### 30. \"studytime, granular\", float - недокументированный столбец"
   ]
  },
  {
   "cell_type": "code",
   "execution_count": 3478,
   "metadata": {},
   "outputs": [
    {
     "data": {
      "text/plain": [
       "count    340.000000\n",
       "mean      -6.150000\n",
       "std        2.493265\n",
       "min      -12.000000\n",
       "25%       -6.000000\n",
       "50%       -6.000000\n",
       "75%       -3.000000\n",
       "max       -3.000000\n",
       "Name: granular, dtype: float64"
      ]
     },
     "execution_count": 3478,
     "metadata": {},
     "output_type": "execute_result"
    }
   ],
   "source": [
    "students.granular.describe()"
   ]
  },
  {
   "cell_type": "code",
   "execution_count": 3479,
   "metadata": {},
   "outputs": [
    {
     "data": {
      "text/plain": [
       "<AxesSubplot:xlabel='granular', ylabel='Density'>"
      ]
     },
     "execution_count": 3479,
     "metadata": {},
     "output_type": "execute_result"
    },
    {
     "data": {
      "image/png": "[encoded data removed]",
      "text/plain": [
       "<Figure size 432x288 with 1 Axes>"
      ]
     },
     "metadata": {
      "needs_background": "light"
     },
     "output_type": "display_data"
    }
   ],
   "source": [
    "sns.distplot(students['granular'])"
   ]
  },
  {
   "cell_type": "code",
   "execution_count": 3480,
   "metadata": {},
   "outputs": [
    {
     "name": "stdout",
     "output_type": "stream",
     "text": [
      "NaN: 7 (2.0%)\n",
      "-6.0: 174 (50.1%)\n",
      "-3.0: 86 (24.8%)\n",
      "-9.0: 57 (16.4%)\n",
      "-12.0: 23 (6.6%)\n",
      "Всего строк: 347\n"
     ]
    }
   ],
   "source": [
    "x = column_analysis('granular')"
   ]
  },
  {
   "cell_type": "code",
   "execution_count": 3481,
   "metadata": {},
   "outputs": [],
   "source": [
    "change_list = ['-3.0', '-6.0','-9.0', '-12.0']\n",
    "fill_nan_randomly('granular', change_list)  # Fill NaN Randomly"
   ]
  },
  {
   "cell_type": "code",
   "execution_count": 3482,
   "metadata": {},
   "outputs": [],
   "source": [
    "students['granular'] = students['granular'].apply(lambda x: int(float(x)))"
   ]
  },
  {
   "cell_type": "code",
   "execution_count": 3483,
   "metadata": {},
   "outputs": [
    {
     "data": {
      "text/plain": [
       "count    347.000000\n",
       "mean      -6.181556\n",
       "std        2.538468\n",
       "min      -12.000000\n",
       "25%       -6.000000\n",
       "50%       -6.000000\n",
       "75%       -3.000000\n",
       "max       -3.000000\n",
       "Name: granular, dtype: float64"
      ]
     },
     "execution_count": 3483,
     "metadata": {},
     "output_type": "execute_result"
    }
   ],
   "source": [
    "students.granular.describe()"
   ]
  },
  {
   "cell_type": "code",
   "execution_count": 3484,
   "metadata": {},
   "outputs": [
    {
     "data": {
      "text/plain": [
       "<AxesSubplot:xlabel='granular', ylabel='Density'>"
      ]
     },
     "execution_count": 3484,
     "metadata": {},
     "output_type": "execute_result"
    },
    {
     "data": {
      "image/png": "[encoded data removed]",
      "text/plain": [
       "<Figure size 432x288 with 1 Axes>"
      ]
     },
     "metadata": {
      "needs_background": "light"
     },
     "output_type": "display_data"
    }
   ],
   "source": [
    "sns.distplot(students['granular'])"
   ]
  },
  {
   "cell_type": "markdown",
   "metadata": {},
   "source": [
    "## Анализ категориальных признаков"
   ]
  },
  {
   "cell_type": "code",
   "execution_count": 3485,
   "metadata": {},
   "outputs": [
    {
     "data": {
      "text/plain": [
       "<AxesSubplot:xlabel='school', ylabel='score'>"
      ]
     },
     "execution_count": 3485,
     "metadata": {},
     "output_type": "execute_result"
    },
    {
     "data": {
      "image/png": "[encoded data removed]",
      "text/plain": [
       "<Figure size 432x288 with 1 Axes>"
      ]
     },
     "metadata": {
      "needs_background": "light"
     },
     "output_type": "display_data"
    }
   ],
   "source": [
    "sns.boxplot(x = 'school', y = 'score', data = students)"
   ]
  },
  {
   "cell_type": "markdown",
   "metadata": {},
   "source": [
    "В школе GP уровень подготовки выше. В школе MS имеется один выброс."
   ]
  },
  {
   "cell_type": "code",
   "execution_count": 3486,
   "metadata": {},
   "outputs": [
    {
     "data": {
      "text/plain": [
       "<AxesSubplot:xlabel='sex', ylabel='score'>"
      ]
     },
     "execution_count": 3486,
     "metadata": {},
     "output_type": "execute_result"
    },
    {
     "data": {
      "image/png": "[encoded data removed]",
      "text/plain": [
       "<Figure size 432x288 with 1 Axes>"
      ]
     },
     "metadata": {
      "needs_background": "light"
     },
     "output_type": "display_data"
    }
   ],
   "source": [
    "sns.boxplot(x = 'sex', y = 'score', data = students)"
   ]
  },
  {
   "cell_type": "markdown",
   "metadata": {},
   "source": [
    "Молодые люди успевают по математике в среднем лучше девушек."
   ]
  },
  {
   "cell_type": "code",
   "execution_count": 3487,
   "metadata": {},
   "outputs": [
    {
     "data": {
      "text/plain": [
       "<AxesSubplot:xlabel='age', ylabel='score'>"
      ]
     },
     "execution_count": 3487,
     "metadata": {},
     "output_type": "execute_result"
    },
    {
     "data": {
      "image/png": "[encoded data removed]",
      "text/plain": [
       "<Figure size 432x288 with 1 Axes>"
      ]
     },
     "metadata": {
      "needs_background": "light"
     },
     "output_type": "display_data"
    }
   ],
   "source": [
    "sns.boxplot(x = 'age', y = 'score', data = students)"
   ]
  },
  {
   "cell_type": "markdown",
   "metadata": {},
   "source": [
    "15-летние успевают немного лучше других возрастов. У возрастов от 26 до 19 примерно одинаковый средний уровень оценок."
   ]
  },
  {
   "cell_type": "code",
   "execution_count": 3488,
   "metadata": {},
   "outputs": [
    {
     "data": {
      "text/plain": [
       "<AxesSubplot:xlabel='address', ylabel='score'>"
      ]
     },
     "execution_count": 3488,
     "metadata": {},
     "output_type": "execute_result"
    },
    {
     "data": {
      "image/png": "[encoded data removed]",
      "text/plain": [
       "<Figure size 432x288 with 1 Axes>"
      ]
     },
     "metadata": {
      "needs_background": "light"
     },
     "output_type": "display_data"
    }
   ],
   "source": [
    "sns.boxplot(x = 'address', y = 'score', data = students)"
   ]
  },
  {
   "cell_type": "markdown",
   "metadata": {},
   "source": [
    "Средние оценки примерно одинаковы для городских и сельских жителей. У городских наблюдается чуть большие Q1 и Q3."
   ]
  },
  {
   "cell_type": "code",
   "execution_count": 3489,
   "metadata": {},
   "outputs": [
    {
     "data": {
      "text/plain": [
       "<AxesSubplot:xlabel='famsize', ylabel='score'>"
      ]
     },
     "execution_count": 3489,
     "metadata": {},
     "output_type": "execute_result"
    },
    {
     "data": {
      "image/png": "[encoded data removed]",
      "text/plain": [
       "<Figure size 432x288 with 1 Axes>"
      ]
     },
     "metadata": {
      "needs_background": "light"
     },
     "output_type": "display_data"
    }
   ],
   "source": [
    "sns.boxplot(x = 'famsize', y = 'score', data = students)"
   ]
  },
  {
   "cell_type": "markdown",
   "metadata": {},
   "source": [
    "Средние оценки примерно равны. В семьях с более чем 3 членами имеет место больший разброс оценок. В малодетных семьях есть один выброс."
   ]
  },
  {
   "cell_type": "code",
   "execution_count": 3490,
   "metadata": {},
   "outputs": [
    {
     "data": {
      "text/plain": [
       "<AxesSubplot:xlabel='pstatus', ylabel='score'>"
      ]
     },
     "execution_count": 3490,
     "metadata": {},
     "output_type": "execute_result"
    },
    {
     "data": {
      "image/png": "[encoded data removed]",
      "text/plain": [
       "<Figure size 432x288 with 1 Axes>"
      ]
     },
     "metadata": {
      "needs_background": "light"
     },
     "output_type": "display_data"
    }
   ],
   "source": [
    "sns.boxplot(x = 'pstatus', y = 'score', data = students)"
   ]
  },
  {
   "cell_type": "code",
   "execution_count": 3491,
   "metadata": {},
   "outputs": [
    {
     "data": {
      "text/plain": [
       "<AxesSubplot:xlabel='medu', ylabel='score'>"
      ]
     },
     "execution_count": 3491,
     "metadata": {},
     "output_type": "execute_result"
    },
    {
     "data": {
      "image/png": "[encoded data removed]",
      "text/plain": [
       "<Figure size 432x288 with 1 Axes>"
      ]
     },
     "metadata": {
      "needs_background": "light"
     },
     "output_type": "display_data"
    }
   ],
   "source": [
    "sns.boxplot(x = 'medu', y = 'score', data = students)"
   ]
  },
  {
   "cell_type": "code",
   "execution_count": 3492,
   "metadata": {},
   "outputs": [
    {
     "data": {
      "text/plain": [
       "<AxesSubplot:xlabel='fedu', ylabel='score'>"
      ]
     },
     "execution_count": 3492,
     "metadata": {},
     "output_type": "execute_result"
    },
    {
     "data": {
      "image/png": "[encoded data removed]",
      "text/plain": [
       "<Figure size 432x288 with 1 Axes>"
      ]
     },
     "metadata": {
      "needs_background": "light"
     },
     "output_type": "display_data"
    }
   ],
   "source": [
    "sns.boxplot(x = 'fedu', y = 'score', data = students)"
   ]
  },
  {
   "cell_type": "markdown",
   "metadata": {},
   "source": [
    "Успеваемость студентов тем выше, чем выше уровень образования родителей."
   ]
  },
  {
   "cell_type": "code",
   "execution_count": 3493,
   "metadata": {},
   "outputs": [
    {
     "data": {
      "text/plain": [
       "<AxesSubplot:xlabel='mjob', ylabel='score'>"
      ]
     },
     "execution_count": 3493,
     "metadata": {},
     "output_type": "execute_result"
    },
    {
     "data": {
      "image/png": "[encoded data removed]",
      "text/plain": [
       "<Figure size 432x288 with 1 Axes>"
      ]
     },
     "metadata": {
      "needs_background": "light"
     },
     "output_type": "display_data"
    }
   ],
   "source": [
    "sns.boxplot(x = 'mjob', y = 'score', data = students)"
   ]
  },
  {
   "cell_type": "code",
   "execution_count": 3494,
   "metadata": {},
   "outputs": [
    {
     "data": {
      "text/plain": [
       "<AxesSubplot:xlabel='fjob', ylabel='score'>"
      ]
     },
     "execution_count": 3494,
     "metadata": {},
     "output_type": "execute_result"
    },
    {
     "data": {
      "image/png": "[encoded data removed]",
      "text/plain": [
       "<Figure size 432x288 with 1 Axes>"
      ]
     },
     "metadata": {
      "needs_background": "light"
     },
     "output_type": "display_data"
    }
   ],
   "source": [
    "sns.boxplot(x = 'fjob', y = 'score', data = students)"
   ]
  },
  {
   "cell_type": "markdown",
   "metadata": {},
   "source": [
    "Примечательно, что лучше успевают студенты у которых:\n",
    "\n",
    "- либо мать работает в сфере здравоохранения;\n",
    "- либо отец работает учителем."
   ]
  },
  {
   "cell_type": "code",
   "execution_count": 3495,
   "metadata": {},
   "outputs": [
    {
     "data": {
      "text/plain": [
       "<AxesSubplot:xlabel='reason', ylabel='score'>"
      ]
     },
     "execution_count": 3495,
     "metadata": {},
     "output_type": "execute_result"
    },
    {
     "data": {
      "image/png": "[encoded data removed]",
      "text/plain": [
       "<Figure size 432x288 with 1 Axes>"
      ]
     },
     "metadata": {
      "needs_background": "light"
     },
     "output_type": "display_data"
    }
   ],
   "source": [
    "sns.boxplot(x = 'reason', y = 'score', data = students)"
   ]
  },
  {
   "cell_type": "markdown",
   "metadata": {},
   "source": [
    "Лучшие средние оценки показывают студенты, выбравшие школу по причине её репутации."
   ]
  },
  {
   "cell_type": "code",
   "execution_count": 3496,
   "metadata": {},
   "outputs": [
    {
     "data": {
      "text/plain": [
       "<AxesSubplot:xlabel='guardian', ylabel='score'>"
      ]
     },
     "execution_count": 3496,
     "metadata": {},
     "output_type": "execute_result"
    },
    {
     "data": {
      "image/png": "[encoded data removed]",
      "text/plain": [
       "<Figure size 432x288 with 1 Axes>"
      ]
     },
     "metadata": {
      "needs_background": "light"
     },
     "output_type": "display_data"
    }
   ],
   "source": [
    "sns.boxplot(x = 'guardian', y = 'score', data = students)"
   ]
  },
  {
   "cell_type": "markdown",
   "metadata": {},
   "source": [
    "Разницы между средними оценками в зависимости от опекуна не наблюдается."
   ]
  },
  {
   "cell_type": "code",
   "execution_count": 3497,
   "metadata": {},
   "outputs": [
    {
     "data": {
      "text/plain": [
       "<AxesSubplot:xlabel='traveltime', ylabel='score'>"
      ]
     },
     "execution_count": 3497,
     "metadata": {},
     "output_type": "execute_result"
    },
    {
     "data": {
      "image/png": "[encoded data removed]",
      "text/plain": [
       "<Figure size 432x288 with 1 Axes>"
      ]
     },
     "metadata": {
      "needs_background": "light"
     },
     "output_type": "display_data"
    }
   ],
   "source": [
    "sns.boxplot(x = 'traveltime', y = 'score', data = students)"
   ]
  },
  {
   "cell_type": "markdown",
   "metadata": {},
   "source": [
    "Разницы между средними оценками в зависимости от времени в пути до школы не наблюдается."
   ]
  },
  {
   "cell_type": "code",
   "execution_count": 3498,
   "metadata": {},
   "outputs": [
    {
     "data": {
      "text/plain": [
       "<AxesSubplot:xlabel='studytime', ylabel='score'>"
      ]
     },
     "execution_count": 3498,
     "metadata": {},
     "output_type": "execute_result"
    },
    {
     "data": {
      "image/png": "[encoded data removed]",
      "text/plain": [
       "<Figure size 432x288 with 1 Axes>"
      ]
     },
     "metadata": {
      "needs_background": "light"
     },
     "output_type": "display_data"
    }
   ],
   "source": [
    "sns.boxplot(x = 'studytime', y = 'score', data = students)"
   ]
  },
  {
   "cell_type": "markdown",
   "metadata": {},
   "source": [
    "Наблюдается прямая зависимость между временем на учёбу помимо школы в неделю и успеваемостью."
   ]
  },
  {
   "cell_type": "code",
   "execution_count": 3499,
   "metadata": {},
   "outputs": [
    {
     "data": {
      "text/plain": [
       "<AxesSubplot:xlabel='failures', ylabel='score'>"
      ]
     },
     "execution_count": 3499,
     "metadata": {},
     "output_type": "execute_result"
    },
    {
     "data": {
      "image/png": "[encoded data removed]",
      "text/plain": [
       "<Figure size 432x288 with 1 Axes>"
      ]
     },
     "metadata": {
      "needs_background": "light"
     },
     "output_type": "display_data"
    }
   ],
   "source": [
    "sns.boxplot(x = 'failures', y = 'score', data = students)"
   ]
  },
  {
   "cell_type": "markdown",
   "metadata": {},
   "source": [
    "Вполне ожидаемо, что студенты с небольшим количеством внеучебных неудач успевают лучше. Любопытно относительно высокая успеваемость студентов с 3 неудачами. Возможно они уже заказались, претерпев тяготы и невзгоды, и теперь справляются лучше."
   ]
  },
  {
   "cell_type": "code",
   "execution_count": 3500,
   "metadata": {},
   "outputs": [
    {
     "data": {
      "text/plain": [
       "<AxesSubplot:xlabel='schoolsup', ylabel='score'>"
      ]
     },
     "execution_count": 3500,
     "metadata": {},
     "output_type": "execute_result"
    },
    {
     "data": {
      "image/png": "[encoded data removed]",
      "text/plain": [
       "<Figure size 432x288 with 1 Axes>"
      ]
     },
     "metadata": {
      "needs_background": "light"
     },
     "output_type": "display_data"
    }
   ],
   "source": [
    "sns.boxplot(x = 'schoolsup', y = 'score', data = students)"
   ]
  },
  {
   "cell_type": "markdown",
   "metadata": {},
   "source": [
    "Чем больше дополнительная образовательная поддержка в школе, тем ниже успеваемость. Странно, поскольку выглядит как \"не в коня корм\"."
   ]
  },
  {
   "cell_type": "code",
   "execution_count": 3501,
   "metadata": {},
   "outputs": [
    {
     "data": {
      "text/plain": [
       "<AxesSubplot:xlabel='famsup', ylabel='score'>"
      ]
     },
     "execution_count": 3501,
     "metadata": {},
     "output_type": "execute_result"
    },
    {
     "data": {
      "image/png": "[encoded data removed]",
      "text/plain": [
       "<Figure size 432x288 with 1 Axes>"
      ]
     },
     "metadata": {
      "needs_background": "light"
     },
     "output_type": "display_data"
    }
   ],
   "source": [
    "sns.boxplot(x = 'famsup', y = 'score', data = students)"
   ]
  },
  {
   "cell_type": "markdown",
   "metadata": {},
   "source": [
    "Cемейная образовательная поддержка практически не оказывает влияния на средний уровень оценок."
   ]
  },
  {
   "cell_type": "code",
   "execution_count": 3502,
   "metadata": {},
   "outputs": [
    {
     "data": {
      "text/plain": [
       "<AxesSubplot:xlabel='paid', ylabel='score'>"
      ]
     },
     "execution_count": 3502,
     "metadata": {},
     "output_type": "execute_result"
    },
    {
     "data": {
      "image/png": "[encoded data removed]",
      "text/plain": [
       "<Figure size 432x288 with 1 Axes>"
      ]
     },
     "metadata": {
      "needs_background": "light"
     },
     "output_type": "display_data"
    }
   ],
   "source": [
    "sns.boxplot(x = 'paid', y = 'score', data = students)"
   ]
  },
  {
   "cell_type": "markdown",
   "metadata": {},
   "source": [
    "Дополнительные платные занятия по математике также практически не оказывают влияния на средний уровень оценок."
   ]
  },
  {
   "cell_type": "code",
   "execution_count": 3503,
   "metadata": {},
   "outputs": [
    {
     "data": {
      "text/plain": [
       "<AxesSubplot:xlabel='activities', ylabel='score'>"
      ]
     },
     "execution_count": 3503,
     "metadata": {},
     "output_type": "execute_result"
    },
    {
     "data": {
      "image/png": "[encoded data removed]",
      "text/plain": [
       "<Figure size 432x288 with 1 Axes>"
      ]
     },
     "metadata": {
      "needs_background": "light"
     },
     "output_type": "display_data"
    }
   ],
   "source": [
    "sns.boxplot(x = 'activities', y = 'score', data = students)"
   ]
  },
  {
   "cell_type": "markdown",
   "metadata": {},
   "source": [
    "Дополнительные внеучебные занятия слабо влияют на на средний уровень оценок."
   ]
  },
  {
   "cell_type": "code",
   "execution_count": 3504,
   "metadata": {},
   "outputs": [
    {
     "data": {
      "text/plain": [
       "<AxesSubplot:xlabel='nursery', ylabel='score'>"
      ]
     },
     "execution_count": 3504,
     "metadata": {},
     "output_type": "execute_result"
    },
    {
     "data": {
      "image/png": "[encoded data removed]",
      "text/plain": [
       "<Figure size 432x288 with 1 Axes>"
      ]
     },
     "metadata": {
      "needs_background": "light"
     },
     "output_type": "display_data"
    }
   ],
   "source": [
    "sns.boxplot(x = 'nursery', y = 'score', data = students)"
   ]
  },
  {
   "cell_type": "markdown",
   "metadata": {},
   "source": [
    "Факт посещения детского сада не играет роли."
   ]
  },
  {
   "cell_type": "code",
   "execution_count": 3505,
   "metadata": {},
   "outputs": [
    {
     "data": {
      "text/plain": [
       "<AxesSubplot:xlabel='higher', ylabel='score'>"
      ]
     },
     "execution_count": 3505,
     "metadata": {},
     "output_type": "execute_result"
    },
    {
     "data": {
      "image/png": "[encoded data removed]",
      "text/plain": [
       "<Figure size 432x288 with 1 Axes>"
      ]
     },
     "metadata": {
      "needs_background": "light"
     },
     "output_type": "display_data"
    }
   ],
   "source": [
    "sns.boxplot(x = 'higher', y = 'score', data = students)"
   ]
  },
  {
   "cell_type": "markdown",
   "metadata": {},
   "source": [
    "Оказывает небольшое влияние на средний уровень оценок."
   ]
  },
  {
   "cell_type": "code",
   "execution_count": 3506,
   "metadata": {},
   "outputs": [
    {
     "data": {
      "text/plain": [
       "<AxesSubplot:xlabel='internet', ylabel='score'>"
      ]
     },
     "execution_count": 3506,
     "metadata": {},
     "output_type": "execute_result"
    },
    {
     "data": {
      "image/png": "[encoded data removed]",
      "text/plain": [
       "<Figure size 432x288 with 1 Axes>"
      ]
     },
     "metadata": {
      "needs_background": "light"
     },
     "output_type": "display_data"
    }
   ],
   "source": [
    "sns.boxplot(x = 'internet', y = 'score', data = students)"
   ]
  },
  {
   "cell_type": "markdown",
   "metadata": {},
   "source": [
    "Наличие интернета практически не влияет на успеваемость."
   ]
  },
  {
   "cell_type": "code",
   "execution_count": 3507,
   "metadata": {},
   "outputs": [
    {
     "data": {
      "text/plain": [
       "<AxesSubplot:xlabel='romantic', ylabel='score'>"
      ]
     },
     "execution_count": 3507,
     "metadata": {},
     "output_type": "execute_result"
    },
    {
     "data": {
      "image/png": "[encoded data removed]",
      "text/plain": [
       "<Figure size 432x288 with 1 Axes>"
      ]
     },
     "metadata": {
      "needs_background": "light"
     },
     "output_type": "display_data"
    }
   ],
   "source": [
    "sns.boxplot(x = 'romantic', y = 'score', data = students)"
   ]
  },
  {
   "cell_type": "markdown",
   "metadata": {},
   "source": [
    "Романтические отношения слабо влюяют на средние оценки."
   ]
  },
  {
   "cell_type": "code",
   "execution_count": 3508,
   "metadata": {},
   "outputs": [
    {
     "data": {
      "text/plain": [
       "<AxesSubplot:xlabel='famrel', ylabel='score'>"
      ]
     },
     "execution_count": 3508,
     "metadata": {},
     "output_type": "execute_result"
    },
    {
     "data": {
      "image/png": "[encoded data removed]",
      "text/plain": [
       "<Figure size 432x288 with 1 Axes>"
      ]
     },
     "metadata": {
      "needs_background": "light"
     },
     "output_type": "display_data"
    }
   ],
   "source": [
    "sns.boxplot(x = 'famrel', y = 'score', data = students)"
   ]
  },
  {
   "cell_type": "markdown",
   "metadata": {},
   "source": [
    "Более высокими оценками выделяются ученики из семей либо с очень хорошими отношениями, либо с очень плохими."
   ]
  },
  {
   "cell_type": "code",
   "execution_count": 3509,
   "metadata": {},
   "outputs": [
    {
     "data": {
      "text/plain": [
       "<AxesSubplot:xlabel='freetime', ylabel='score'>"
      ]
     },
     "execution_count": 3509,
     "metadata": {},
     "output_type": "execute_result"
    },
    {
     "data": {
      "image/png": "[encoded data removed]",
      "text/plain": [
       "<Figure size 432x288 with 1 Axes>"
      ]
     },
     "metadata": {
      "needs_background": "light"
     },
     "output_type": "display_data"
    }
   ],
   "source": [
    "sns.boxplot(x = 'freetime', y = 'score', data = students)"
   ]
  },
  {
   "cell_type": "markdown",
   "metadata": {},
   "source": [
    "Студенты имеющие очень мало свободного времени после школы успевают заметно хуже остальных. Но таких немного, поэтому предлагаю исключить."
   ]
  },
  {
   "cell_type": "code",
   "execution_count": 3510,
   "metadata": {},
   "outputs": [
    {
     "data": {
      "text/plain": [
       "<AxesSubplot:xlabel='goout', ylabel='score'>"
      ]
     },
     "execution_count": 3510,
     "metadata": {},
     "output_type": "execute_result"
    },
    {
     "data": {
      "image/png": "[encoded data removed]",
      "text/plain": [
       "<Figure size 432x288 with 1 Axes>"
      ]
     },
     "metadata": {
      "needs_background": "light"
     },
     "output_type": "display_data"
    }
   ],
   "source": [
    "sns.boxplot(x = 'goout', y = 'score', data = students)"
   ]
  },
  {
   "cell_type": "markdown",
   "metadata": {},
   "source": [
    "Лучшую успеваеомсть показывают студенты, проводящие очень мало, мало и среднее количество времени с друзьями.\n",
    "\n",
    "Те же, кто проводят с друзьями много и очень много времени, учатся заметно хуже."
   ]
  },
  {
   "cell_type": "code",
   "execution_count": 3511,
   "metadata": {},
   "outputs": [
    {
     "data": {
      "text/plain": [
       "<AxesSubplot:xlabel='health', ylabel='score'>"
      ]
     },
     "execution_count": 3511,
     "metadata": {},
     "output_type": "execute_result"
    },
    {
     "data": {
      "image/png": "[encoded data removed]",
      "text/plain": [
       "<Figure size 432x288 with 1 Axes>"
      ]
     },
     "metadata": {
      "needs_background": "light"
     },
     "output_type": "display_data"
    }
   ],
   "source": [
    "sns.boxplot(x = 'health', y = 'score', data = students)"
   ]
  },
  {
   "cell_type": "markdown",
   "metadata": {},
   "source": [
    "Странно, но студенты с плохим и очень плохим здоровьем успевают лучше остальных. Возможно потому, что мало проводят времени с друзьями."
   ]
  },
  {
   "cell_type": "code",
   "execution_count": 3512,
   "metadata": {},
   "outputs": [
    {
     "data": {
      "text/plain": [
       "<AxesSubplot:xlabel='absences', ylabel='score'>"
      ]
     },
     "execution_count": 3512,
     "metadata": {},
     "output_type": "execute_result"
    },
    {
     "data": {
      "image/png": "[encoded data removed]",
      "text/plain": [
       "<Figure size 432x288 with 1 Axes>"
      ]
     },
     "metadata": {
      "needs_background": "light"
     },
     "output_type": "display_data"
    }
   ],
   "source": [
    "sns.boxplot(x = 'absences', y = 'score', data = students)"
   ]
  },
  {
   "cell_type": "markdown",
   "metadata": {},
   "source": [
    "Для студентов пропустивших 12 и менее занятий, не наблюдается существенной свзяи успеваемости от количества пропусков.\n",
    "\n",
    "Для пропустивших более 12 занятий, наблюдается снижение средней успеваемости. "
   ]
  },
  {
   "cell_type": "code",
   "execution_count": 3513,
   "metadata": {},
   "outputs": [
    {
     "data": {
      "text/plain": [
       "<AxesSubplot:xlabel='granular', ylabel='score'>"
      ]
     },
     "execution_count": 3513,
     "metadata": {},
     "output_type": "execute_result"
    },
    {
     "data": {
      "image/png": "[encoded data removed]",
      "text/plain": [
       "<Figure size 432x288 with 1 Axes>"
      ]
     },
     "metadata": {
      "needs_background": "light"
     },
     "output_type": "display_data"
    }
   ],
   "source": [
    "sns.boxplot(x = 'granular', y = 'score', data = students)"
   ]
  },
  {
   "cell_type": "markdown",
   "metadata": {},
   "source": [
    " Чем ниже недокументированный показатель granular, тем выше успеваемость, то есть имеется обратная зависимость.\n",
    " \n",
    " Выскажу предположение, что показатель оценивает регулярность занятий студента. Чем более регулярно студент занимается, тем меньше показатель granular, и тем выше средние оценки."
   ]
  },
  {
   "cell_type": "markdown",
   "metadata": {},
   "source": [
    "## Вывод относительно числовых столбцов для модели построения модели"
   ]
  },
  {
   "cell_type": "markdown",
   "metadata": {},
   "source": [
    "Предлагается оставить для построения подели следующие количественные переменные:\n",
    "- age - возраст студента;\n",
    "- medu/fedu - образование родителей;\n",
    "- studytime — время на учёбу помимо школы в неделю;\n",
    "- failures — количество внеучебных неудач;\n",
    "- granular;\n",
    "- health - текущее состояние здоровья;\n",
    "- goout - проведение времени с друзьями.\n",
    "\n",
    "Следующие количественные переменные предлагается удалить из рассмотрения:\n",
    "- traveltime (время в пути до школы) - поскольку на графике не просматривается зависимость;\n",
    "- famrel (семейные отношения) - на графике просматривается зависимость только в случае крайних и немногочисленных значений;\n",
    "- freetime (свободное время после школы) - отличия в успеваемости есть только в небольшой группе;\n",
    "- absences (количество пропущенных занятий) - слабая зависимость для большинства студентов.\n",
    "\n",
    "\n",
    "\n",
    "\n",
    "\n"
   ]
  },
  {
   "cell_type": "markdown",
   "metadata": {},
   "source": [
    "### Корреляционный анализ"
   ]
  },
  {
   "cell_type": "code",
   "execution_count": 3514,
   "metadata": {},
   "outputs": [
    {
     "data": {
      "text/html": [
       "<div>\n",
       "<style scoped>\n",
       "    .dataframe tbody tr th:only-of-type {\n",
       "        vertical-align: middle;\n",
       "    }\n",
       "\n",
       "    .dataframe tbody tr th {\n",
       "        vertical-align: top;\n",
       "    }\n",
       "\n",
       "    .dataframe thead th {\n",
       "        text-align: right;\n",
       "    }\n",
       "</style>\n",
       "<table border=\"1\" class=\"dataframe\">\n",
       "  <thead>\n",
       "    <tr style=\"text-align: right;\">\n",
       "      <th></th>\n",
       "      <th>age</th>\n",
       "      <th>medu</th>\n",
       "      <th>fedu</th>\n",
       "      <th>studytime</th>\n",
       "      <th>failures</th>\n",
       "      <th>granular</th>\n",
       "      <th>health</th>\n",
       "      <th>goout</th>\n",
       "      <th>score</th>\n",
       "    </tr>\n",
       "  </thead>\n",
       "  <tbody>\n",
       "    <tr>\n",
       "      <th>0</th>\n",
       "      <td>18</td>\n",
       "      <td>4</td>\n",
       "      <td>4</td>\n",
       "      <td>2</td>\n",
       "      <td>0</td>\n",
       "      <td>-6</td>\n",
       "      <td>3</td>\n",
       "      <td>4</td>\n",
       "      <td>30.0</td>\n",
       "    </tr>\n",
       "    <tr>\n",
       "      <th>1</th>\n",
       "      <td>17</td>\n",
       "      <td>1</td>\n",
       "      <td>1</td>\n",
       "      <td>2</td>\n",
       "      <td>0</td>\n",
       "      <td>-6</td>\n",
       "      <td>3</td>\n",
       "      <td>3</td>\n",
       "      <td>30.0</td>\n",
       "    </tr>\n",
       "    <tr>\n",
       "      <th>2</th>\n",
       "      <td>15</td>\n",
       "      <td>1</td>\n",
       "      <td>1</td>\n",
       "      <td>2</td>\n",
       "      <td>3</td>\n",
       "      <td>-6</td>\n",
       "      <td>3</td>\n",
       "      <td>2</td>\n",
       "      <td>50.0</td>\n",
       "    </tr>\n",
       "    <tr>\n",
       "      <th>3</th>\n",
       "      <td>15</td>\n",
       "      <td>4</td>\n",
       "      <td>2</td>\n",
       "      <td>3</td>\n",
       "      <td>0</td>\n",
       "      <td>-9</td>\n",
       "      <td>5</td>\n",
       "      <td>2</td>\n",
       "      <td>75.0</td>\n",
       "    </tr>\n",
       "    <tr>\n",
       "      <th>4</th>\n",
       "      <td>16</td>\n",
       "      <td>3</td>\n",
       "      <td>3</td>\n",
       "      <td>2</td>\n",
       "      <td>0</td>\n",
       "      <td>-6</td>\n",
       "      <td>5</td>\n",
       "      <td>2</td>\n",
       "      <td>50.0</td>\n",
       "    </tr>\n",
       "    <tr>\n",
       "      <th>...</th>\n",
       "      <td>...</td>\n",
       "      <td>...</td>\n",
       "      <td>...</td>\n",
       "      <td>...</td>\n",
       "      <td>...</td>\n",
       "      <td>...</td>\n",
       "      <td>...</td>\n",
       "      <td>...</td>\n",
       "      <td>...</td>\n",
       "    </tr>\n",
       "    <tr>\n",
       "      <th>386</th>\n",
       "      <td>18</td>\n",
       "      <td>4</td>\n",
       "      <td>4</td>\n",
       "      <td>1</td>\n",
       "      <td>0</td>\n",
       "      <td>-3</td>\n",
       "      <td>5</td>\n",
       "      <td>3</td>\n",
       "      <td>30.0</td>\n",
       "    </tr>\n",
       "    <tr>\n",
       "      <th>388</th>\n",
       "      <td>18</td>\n",
       "      <td>3</td>\n",
       "      <td>1</td>\n",
       "      <td>2</td>\n",
       "      <td>0</td>\n",
       "      <td>-6</td>\n",
       "      <td>1</td>\n",
       "      <td>4</td>\n",
       "      <td>40.0</td>\n",
       "    </tr>\n",
       "    <tr>\n",
       "      <th>391</th>\n",
       "      <td>17</td>\n",
       "      <td>3</td>\n",
       "      <td>1</td>\n",
       "      <td>1</td>\n",
       "      <td>0</td>\n",
       "      <td>-3</td>\n",
       "      <td>2</td>\n",
       "      <td>5</td>\n",
       "      <td>80.0</td>\n",
       "    </tr>\n",
       "    <tr>\n",
       "      <th>393</th>\n",
       "      <td>18</td>\n",
       "      <td>3</td>\n",
       "      <td>2</td>\n",
       "      <td>1</td>\n",
       "      <td>0</td>\n",
       "      <td>-3</td>\n",
       "      <td>5</td>\n",
       "      <td>1</td>\n",
       "      <td>50.0</td>\n",
       "    </tr>\n",
       "    <tr>\n",
       "      <th>394</th>\n",
       "      <td>19</td>\n",
       "      <td>1</td>\n",
       "      <td>1</td>\n",
       "      <td>1</td>\n",
       "      <td>0</td>\n",
       "      <td>-3</td>\n",
       "      <td>5</td>\n",
       "      <td>3</td>\n",
       "      <td>45.0</td>\n",
       "    </tr>\n",
       "  </tbody>\n",
       "</table>\n",
       "<p>347 rows × 9 columns</p>\n",
       "</div>"
      ],
      "text/plain": [
       "     age  medu  fedu  studytime  failures  granular  health  goout  score\n",
       "0     18     4     4          2         0        -6       3      4   30.0\n",
       "1     17     1     1          2         0        -6       3      3   30.0\n",
       "2     15     1     1          2         3        -6       3      2   50.0\n",
       "3     15     4     2          3         0        -9       5      2   75.0\n",
       "4     16     3     3          2         0        -6       5      2   50.0\n",
       "..   ...   ...   ...        ...       ...       ...     ...    ...    ...\n",
       "386   18     4     4          1         0        -3       5      3   30.0\n",
       "388   18     3     1          2         0        -6       1      4   40.0\n",
       "391   17     3     1          1         0        -3       2      5   80.0\n",
       "393   18     3     2          1         0        -3       5      1   50.0\n",
       "394   19     1     1          1         0        -3       5      3   45.0\n",
       "\n",
       "[347 rows x 9 columns]"
      ]
     },
     "execution_count": 3514,
     "metadata": {},
     "output_type": "execute_result"
    }
   ],
   "source": [
    "students_for_model = students.loc[:, ['age', 'medu', 'fedu', 'studytime', \n",
    "                                      'failures', 'granular', 'health', 'goout',\n",
    "                                      'score']]\n",
    "students_for_model"
   ]
  },
  {
   "cell_type": "code",
   "execution_count": 3515,
   "metadata": {},
   "outputs": [],
   "source": [
    "# sns.pairplot(students_for_model, kind = 'reg')"
   ]
  },
  {
   "cell_type": "code",
   "execution_count": 3516,
   "metadata": {},
   "outputs": [],
   "source": [
    "# students_for_model.corr()"
   ]
  },
  {
   "cell_type": "code",
   "execution_count": null,
   "metadata": {},
   "outputs": [],
   "source": []
  },
  {
   "cell_type": "code",
   "execution_count": null,
   "metadata": {},
   "outputs": [],
   "source": []
  },
  {
   "cell_type": "code",
   "execution_count": null,
   "metadata": {},
   "outputs": [],
   "source": []
  },
  {
   "cell_type": "code",
   "execution_count": null,
   "metadata": {},
   "outputs": [],
   "source": []
  },
  {
   "cell_type": "code",
   "execution_count": null,
   "metadata": {},
   "outputs": [],
   "source": []
  },
  {
   "cell_type": "code",
   "execution_count": null,
   "metadata": {},
   "outputs": [],
   "source": []
  },
  {
   "cell_type": "code",
   "execution_count": null,
   "metadata": {},
   "outputs": [],
   "source": []
  },
  {
   "cell_type": "code",
   "execution_count": null,
   "metadata": {},
   "outputs": [],
   "source": []
  },
  {
   "cell_type": "code",
   "execution_count": null,
   "metadata": {},
   "outputs": [],
   "source": []
  },
  {
   "cell_type": "code",
   "execution_count": null,
   "metadata": {},
   "outputs": [],
   "source": []
  },
  {
   "cell_type": "markdown",
   "metadata": {},
   "source": [
    "Проверим, есть ли статистическая разница в распределении оценок по номинативным признакам, с помощью теста Стьюдента. Проверим нулевую гипотезу о том, что распределения оценок студентов по различным параметрам неразличимы:"
   ]
  },
  {
   "cell_type": "code",
   "execution_count": 3517,
   "metadata": {},
   "outputs": [
    {
     "name": "stdout",
     "output_type": "stream",
     "text": [
      "('other', 'services')\n",
      "('other', 'teacher')\n",
      "('other', 'at_home')\n",
      "('other', 'health')\n",
      "('services', 'teacher')\n",
      "('services', 'at_home')\n",
      "('services', 'health')\n",
      "('teacher', 'at_home')\n",
      "('teacher', 'health')\n",
      "('at_home', 'health')\n",
      "('other', 'services')\n",
      "('other', 'teacher')\n",
      "('other', 'health')\n",
      "('other', 'at_home')\n",
      "('services', 'teacher')\n",
      "('services', 'health')\n",
      "('services', 'at_home')\n",
      "('teacher', 'health')\n",
      "('teacher', 'at_home')\n",
      "('health', 'at_home')\n",
      "('course', 'reputation')\n",
      "('course', 'home')\n",
      "('course', 'other')\n",
      "('reputation', 'home')\n",
      "('reputation', 'other')\n",
      "('home', 'other')\n",
      "('no', 'yes')\n"
     ]
    }
   ],
   "source": [
    "# list_of_columns = ['address', 'famsize', 'pstatus', 'mjob', 'pjob', \n",
    "#                    'reason', 'guardian', 'schoolsup', 'famsup', 'paid', \n",
    "#                    'activities', 'nursery', 'higher', 'internet', 'romantic']\n",
    "\n",
    "list_of_columns = ['mjob', 'fjob', 'reason', 'schoolsup']\n",
    "\n",
    "for col in list_of_columns:\n",
    "    get_stat_dif(col)"
   ]
  },
  {
   "cell_type": "code",
   "execution_count": null,
   "metadata": {},
   "outputs": [],
   "source": []
  }
 ],
 "metadata": {
  "kernelspec": {
   "display_name": "Python 3",
   "language": "python",
   "name": "python3"
  },
  "language_info": {
   "codemirror_mode": {
    "name": "ipython",
    "version": 3
   },
   "file_extension": ".py",
   "mimetype": "text/x-python",
   "name": "python",
   "nbconvert_exporter": "python",
   "pygments_lexer": "ipython3",
   "version": "3.8.5"
  }
 },
 "nbformat": 4,
 "nbformat_minor": 4
}
