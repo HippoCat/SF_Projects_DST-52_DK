{
 "cells": [
  {
   "cell_type": "markdown",
   "metadata": {},
   "source": [
    "# Проект \"Угадай число\""
   ]
  },
  {
   "cell_type": "markdown",
   "metadata": {},
   "source": [
    "Москва - Январь 2021"
   ]
  },
  {
   "cell_type": "markdown",
   "metadata": {},
   "source": [
    "## Оглавление\n",
    "\n",
    "#### 1. Техническое Задание\n",
    "\n",
    "#### 2. История Вопроса\n",
    "\n",
    "    2.1. Случайное угадывание\n",
    "    2.2. Случайное угадывание с использованием информации больше или меньше\n",
    "   \n",
    "#### 3. Решения\n",
    "\n",
    "    3.1. Случайный поиск в сужающемся диапазоне\n",
    "    3.2. Двоичный поиск\n",
    "\n",
    "#### 4. Выводы и Заключение"
   ]
  },
  {
   "cell_type": "markdown",
   "metadata": {},
   "source": [
    "### 1. Техническое Задание\n",
    "\n",
    "Заказчиком выступают авторы модуля \"Проект 0. GitHub. Самый быстрый старт\" курса по DataScience на учебной платформе [Skillfactory][1].\n",
    "\n",
    "[1]: http://skillfactory.ru \"Skillfactory\"\n",
    "\n",
    "Компьютер загадывает целое число от 1 до 100, и нам его нужно угадать. Под «угадать» подразумевается «написать программу, которая угадывает число».\n",
    "\n",
    "Игра выглядит следующим образом:\n",
    "\n",
    "   1. Компьютер загадывает целое число от 1 до 100;\n",
    "   2. Мы называем свой вариант;\n",
    "   3. Если мы угадали число - мы победили с первой попытки;\n",
    "   4. Если не угадали, то компьютер отвечает нам, что загадонное им число больше либо меньше названного нами;\n",
    "   5. Счётчик попыток увеличиается на 1, мы возвращаемся к п. 2 и вновь называем число;\n",
    "   6. Игра продолжается до тех пор, пока мы не угадаем число;\n",
    "   7. В результате мы имеем количество попыток, потребовавшихся нам для угадывания числа.\n",
    "\n",
    "Для количественной оценки эффективности метода, заказчик использует разработанную им фунцию **score_game**, которая получает на входе функцию, содержащую код программы для угадывания числа по какому-либо методу. Получив такой код в виде аргумента, функция **score_game** производит заданное количество игр-испытания - авторы модуля производят 1000 игр. После этого функция возвращает среднее число попыток потребовавшихся для угадывания числа. Таким образом эффективность алгоритма угадывания числа оценивается по среднему количеству попыток.\n",
    "\n",
    "Функция для оценки эффективности метода **score_game** представлениа ниже.\n",
    "\n",
    "**ВАЖНО**: код разработан авторами модуля, текст скопирован из модуля, правки **не вносились**."
   ]
  },
  {
   "cell_type": "code",
   "execution_count": 4,
   "metadata": {},
   "outputs": [],
   "source": [
    "import numpy as np\n",
    "\n",
    "def score_game(game_core):\n",
    "    '''Запускаем игру 1000 раз, чтобы узнать, как быстро игра угадывает число'''\n",
    "    count_ls = []\n",
    "    np.random.seed(1)  # фиксируем RANDOM SEED, чтобы ваш эксперимент был воспроизводим!\n",
    "    random_array = np.random.randint(1,101, size=(1000))\n",
    "    for number in random_array:\n",
    "        count_ls.append(game_core(number))\n",
    "    score = int(np.mean(count_ls))\n",
    "    print(f\"Ваш алгоритм угадывает число в среднем за {score} попыток\")\n",
    "    return(score)"
   ]
  },
  {
   "cell_type": "markdown",
   "metadata": {},
   "source": [
    "Техническое задание формулируется следующим образом: **Требуется написать программу, которая максимально быстро угадывает загадонное число. Необходимо проверить эффективность предложенной программы при помощи функции score_game**."
   ]
  },
  {
   "cell_type": "markdown",
   "metadata": {},
   "source": [
    "### 2. История Вопроса"
   ]
  },
  {
   "cell_type": "markdown",
   "metadata": {},
   "source": [
    "В качестве примера и первого, самого простого способа угадывания, авторы модуля используют метод \"*случайного угадывания, никак не используя информацию о больше или меньше*\" - код программы для угадывания по этому методу представлен в виде функции **game_core_v1**.\n",
    "\n",
    "**ВАЖНО:** код разработан авторами модуля, текст  скопирован из модуля, правки **не вносились**."
   ]
  },
  {
   "cell_type": "code",
   "execution_count": 12,
   "metadata": {},
   "outputs": [
    {
     "name": "stdout",
     "output_type": "stream",
     "text": [
      "Ваш алгоритм угадывает число в среднем за 101 попыток\n"
     ]
    },
    {
     "data": {
      "text/plain": [
       "101"
      ]
     },
     "execution_count": 12,
     "metadata": {},
     "output_type": "execute_result"
    }
   ],
   "source": [
    "import numpy as np\n",
    "\n",
    "def game_core_v1(number):\n",
    "    '''Просто угадываем на random, никак не используя информацию о больше или меньше.\n",
    "       Функция принимает загаданное число и возвращает число попыток'''\n",
    "    count = 0\n",
    "    while True:\n",
    "        count+=1\n",
    "        predict = np.random.randint(1,101) # предполагаемое число\n",
    "        if number == predict: \n",
    "            return count # выход из цикла, если угадали\n",
    "\n",
    "def score_game(game_core):\n",
    "    '''Запускаем игру 1000 раз, чтобы узнать, как быстро игра угадывает число'''\n",
    "    count_ls = []\n",
    "    np.random.seed(1)  # фиксируем RANDOM SEED, чтобы ваш эксперимент был воспроизводим!\n",
    "    random_array = np.random.randint(1,101, size=(1000))\n",
    "    for number in random_array:\n",
    "        count_ls.append(game_core(number))\n",
    "    score = int(np.mean(count_ls))\n",
    "    print(f\"Ваш алгоритм угадывает число в среднем за {score} попыток\")\n",
    "    return(score)\n",
    "\n",
    "score_game(game_core_v1)"
   ]
  },
  {
   "cell_type": "markdown",
   "metadata": {},
   "source": [
    "Запускаем проверку первого способа: score_game(game_core_v1).\n",
    "\n",
    "**Вывод такой**: \"Ваш алгоритм угадывает число в среднем за 101 попытку\"."
   ]
  },
  {
   "cell_type": "markdown",
   "metadata": {},
   "source": [
    "Далее авторы модуля пишут программу, которая учитывает информацию о том, что число больше или меньше нужного нам.\n",
    "\n",
    "Следующий вариант представлен в виде функции **game_core_v2**.\n",
    "\n",
    "**ВАЖНО:** код разработан авторами модуля, текст  скопирован из модуля, правки **не вносились**."
   ]
  },
  {
   "cell_type": "code",
   "execution_count": 13,
   "metadata": {},
   "outputs": [
    {
     "name": "stdout",
     "output_type": "stream",
     "text": [
      "Ваш алгоритм угадывает число в среднем за 33 попыток\n"
     ]
    },
    {
     "data": {
      "text/plain": [
       "33"
      ]
     },
     "execution_count": 13,
     "metadata": {},
     "output_type": "execute_result"
    }
   ],
   "source": [
    "import numpy as np\n",
    "\n",
    "def game_core_v2(number):\n",
    "    '''Сначала устанавливаем любое random число, а потом уменьшаем\n",
    "       или увеличиваем его в зависимости от того, больше оно или меньше нужного.\n",
    "       Функция принимает загаданное число и возвращает число попыток'''\n",
    "    count = 1\n",
    "    predict = np.random.randint(1,101)\n",
    "    while number != predict:\n",
    "        count+=1\n",
    "        if number > predict: \n",
    "            predict += 1\n",
    "        elif number < predict: \n",
    "            predict -= 1\n",
    "    return(count) # выход из цикла, если угадали\n",
    "\n",
    "def score_game(game_core):\n",
    "    '''Запускаем игру 1000 раз, чтобы узнать, как быстро игра угадывает число'''\n",
    "    count_ls = []\n",
    "    np.random.seed(1)  # фиксируем RANDOM SEED, чтобы ваш эксперимент был воспроизводим!\n",
    "    random_array = np.random.randint(1,101, size=(1000))\n",
    "    for number in random_array:\n",
    "        count_ls.append(game_core(number))\n",
    "    score = int(np.mean(count_ls))\n",
    "    print(f\"Ваш алгоритм угадывает число в среднем за {score} попыток\")\n",
    "    return(score)\n",
    "\n",
    "score_game(game_core_v2)"
   ]
  },
  {
   "cell_type": "markdown",
   "metadata": {},
   "source": [
    "Запускаем проверку второго способа: score_game(game_core_v2).\n",
    "\n",
    "**Вывод такой**: \"Ваш алгоритм угадывает число в среднем за 33 попыток\"."
   ]
  },
  {
   "cell_type": "markdown",
   "metadata": {},
   "source": [
    "Теперь, используя логику, представленную выше, а также полученные нами знания программирования, необходимо улучшить алгоритм авторов модуля."
   ]
  },
  {
   "cell_type": "markdown",
   "metadata": {},
   "source": [
    "### 3. Решения"
   ]
  },
  {
   "cell_type": "markdown",
   "metadata": {},
   "source": [
    "#### 3.1. Случайный поиск в сужающемся диапазоне"
   ]
  },
  {
   "cell_type": "markdown",
   "metadata": {},
   "source": [
    "Напишем функцию **game_core_random_search** для угадывания числа, работающую по следующему алгоритму:\n",
    "    \n",
    "   1. Определяем первое угадывание при помощи функции random.randint библиотеки numpy в диапазоне от 1 до 100\n",
    "   2. Если угадали, то мы победили с первой попытки\n",
    "   3. Если не угадали, то сужаем диапазон поиска следующим образом:\n",
    "      * Если загаданное число больше, то дальше ищем в диапазоне от предыдущей попытки + 1 и до 100\n",
    "      * Если загаданное число меньше, то дальше ищем в диапазоне от 1 до предыдущей попытки -1\n",
    "   4. Возвращаемся на этап 1 и продолжаем поиск в новом диапазоне"
   ]
  },
  {
   "cell_type": "code",
   "execution_count": 39,
   "metadata": {},
   "outputs": [
    {
     "name": "stdout",
     "output_type": "stream",
     "text": [
      "Ваш алгоритм угадывает число в среднем за 8.0 попыток\n"
     ]
    },
    {
     "data": {
      "text/plain": [
       "8.0"
      ]
     },
     "execution_count": 39,
     "metadata": {},
     "output_type": "execute_result"
    }
   ],
   "source": [
    "import numpy as np\n",
    "\n",
    "\n",
    "# Define function to guess the number in the specified range.\n",
    "\n",
    "def game_core_random_search(number, number_min, number_max):\n",
    "\n",
    "    # We define attempts counter and initialize random number generator  \n",
    "    attempts_counter = 1\n",
    "    np.random.seed()\n",
    "    \n",
    "    # left and right - borders of the range, both inclusive    \n",
    "    left = number_min\n",
    "    right = number_max\n",
    "    \n",
    "    # Our first random guess in the range between left and right   \n",
    "    guess = np.random.randint(left, right + 1)\n",
    "    \n",
    "    # Circle until we guess the number.  \n",
    "    # If we guess, we exit the circle and return the number of attempts.  \n",
    "    #\n",
    "    # If we don't guess, we narrow the range of our search as follows:\n",
    "    #\n",
    "    #  - if number is bigger than guess, the new left border is guess + 1.  \n",
    "    #  - if number is smaller than guess, the new right border is guess - 1.\n",
    "    #\n",
    "    # If left became equal to right we already guessed as well and can break.\n",
    "    \n",
    "    while number != guess:\n",
    "        \n",
    "        attempts_counter += 1\n",
    "        \n",
    "        if number > guess:\n",
    "            left = guess + 1\n",
    "        else:\n",
    "            right = guess - 1\n",
    "        \n",
    "        if left == right:\n",
    "            guess = left\n",
    "            break\n",
    "        else:\n",
    "            guess = np.random.randint(left, right + 1)\n",
    "        \n",
    "    return(attempts_counter)\n",
    "\n",
    "\n",
    "# Now we make some changes to the function score_game.\n",
    "# We changeed:\n",
    "#  - some names\n",
    "#  - layout\n",
    "#  - comments\n",
    "\n",
    "def score_game_ver_2(game_core, number_min, number_max):\n",
    "    \n",
    "    # Run game_core 1000 times to determine how fast it guesses the number.\n",
    "    \n",
    "    # Define list to store the results of games.\n",
    "    count_list = []\n",
    "    \n",
    "    # Initialize random numbers generator with seed = 1\n",
    "    # so that we can repeat the same process.\n",
    "    np.random.seed(1)\n",
    "    \n",
    "    # Define the array of size 1000 filled with random integers\n",
    "    # between number_min and number_max inclusive\n",
    "    random_array = np.random.randint(number_min, number_max+1, 1000)\n",
    "\n",
    "    # For each number in our random_array we run the game\n",
    "    # with the function game_core and fill the count_list with the \n",
    "    for number in random_array:\n",
    "        count_list.append(game_core(number, number_min, number_max))\n",
    "    \n",
    "    # Round average score to integer as I do not like int() in this case\n",
    "    score = round((np.mean(count_list)), 0)\n",
    "    print(f\"Ваш алгоритм угадывает число в среднем за {score} попыток\")\n",
    "    \n",
    "    return(score)\n",
    "\n",
    "\n",
    "score_game_ver_2(game_core_random_search, 1, 100)"
   ]
  },
  {
   "cell_type": "markdown",
   "metadata": {},
   "source": [
    "Применение нашего варианта угадывания посредством написанной нами функции **game_core_random_search** обеспечивает угадывание в среднем с 8 попыток.\n",
    "\n",
    "Таким образом мы уже существенно улучшили среднюю скорость угадывания числа с 33 попыток до 8."
   ]
  },
  {
   "cell_type": "markdown",
   "metadata": {},
   "source": [
    "#### 3.2. Двоичный поиск"
   ]
  },
  {
   "cell_type": "markdown",
   "metadata": {},
   "source": [
    "Попробуем теперь еще более улучшить наш алгоритм. Для этого предагается искать число методом [двоичного поиска][2], адаптированного для нашей игры. Двоичный (бинарный) поиск, также известен как метод деления пополам.\n",
    "\n",
    "[2]: https://ru.wikipedia.org/wiki/Двоичный_поиск \"двоичного поиска\"\n",
    "\n",
    "Суть его заключается в следующем:\n",
    "\n",
    "*Бинарный поиск работает на отсортированных массивах. Двоичный поиск начинается с сравнения элемента в середине массива с целевым значением. Если целевое значение совпадает с элементом, возвращается его позиция в массиве. Если целевое значение меньше элемента, поиск продолжается в нижней половине массива. Если целевое значение больше элемента, поиск продолжается в верхней половине массива. Таким образом, алгоритм устраняет половину, в которой целевое значение не может лежать в каждой итерации*."
   ]
  },
  {
   "cell_type": "markdown",
   "metadata": {},
   "source": [
    "Наша реализация бинарного поиска представлена ниже функцией **game_core_binary_search**."
   ]
  },
  {
   "cell_type": "code",
   "execution_count": 41,
   "metadata": {},
   "outputs": [
    {
     "name": "stdout",
     "output_type": "stream",
     "text": [
      "Ваш алгоритм угадывает число в среднем за 6.0 попыток\n"
     ]
    },
    {
     "data": {
      "text/plain": [
       "6.0"
      ]
     },
     "execution_count": 41,
     "metadata": {},
     "output_type": "execute_result"
    }
   ],
   "source": [
    "# Version 2.1 2601211226\n",
    "\n",
    "import numpy as np\n",
    "\n",
    "# Define function to guess the number in the specified range.\n",
    "\n",
    "def game_core_binary_search(number, number_min, number_max):\n",
    "    \n",
    "    # We define attempts counter \n",
    "    attempts_counter = 1\n",
    "   \n",
    "    # left and right - borders of the range, both inclusive    \n",
    "    left = number_min\n",
    "    right = number_max\n",
    "    \n",
    "    # Our first guess is in the middle of the range between left and right\n",
    "    guess = (left+right) // 2\n",
    "    \n",
    "    # Circle until we guess the number.  \n",
    "    # If we guess, we exit the circle and return the number of attempts.  \n",
    "    #\n",
    "    # If we don't guess, we narrow the range of our search as follows:\n",
    "    #\n",
    "    #  - if number is bigger than guess, the new left border is guess + 1.  \n",
    "    #  - if number is smaller than guess, the new right border is guess - 1.\n",
    "    \n",
    "    while number != guess:\n",
    "        \n",
    "        attempts_counter += 1\n",
    "        \n",
    "        if number > guess:\n",
    "            left = guess + 1\n",
    "        else:\n",
    "            right = guess - 1\n",
    "            \n",
    "        guess = (left+right) // 2\n",
    "        \n",
    "    return(attempts_counter)\n",
    "\n",
    "\n",
    "# Now we make some changes to the function score_game.\n",
    "# We changeed:\n",
    "#  - some names\n",
    "#  - layout\n",
    "#  - comments\n",
    "\n",
    "def score_game_ver_2(game_core, number_min, number_max):\n",
    "    \n",
    "    # Run game_core 1000 times to determine how fast it guesses the number.\n",
    "    \n",
    "    # Define list to store the results of games.\n",
    "    count_list = []\n",
    "    \n",
    "    # Initialize random numbers generator with seed = 1\n",
    "    # so that we can repeat the same process.\n",
    "    np.random.seed(1)\n",
    "    \n",
    "    # Define the array of size 1000 filled with random integers\n",
    "    # between number_min and number_max inclusive\n",
    "    random_array = np.random.randint(number_min, number_max+1, 1000)\n",
    "\n",
    "    # For each number in our random_array we run the game\n",
    "    # with the function game_core and fill the count_list with the \n",
    "    for number in random_array:\n",
    "        count_list.append(game_core(number, number_min, number_max))\n",
    "    \n",
    "    # Round average score to integer as I do not like int() in this case\n",
    "    score = round((np.mean(count_list)), 0)\n",
    "    print(f\"Ваш алгоритм угадывает число в среднем за {score} попыток\")\n",
    "    \n",
    "    return(score)\n",
    "\n",
    "\n",
    "score_game_ver_2(game_core_binary_search, 1, 100)"
   ]
  },
  {
   "cell_type": "markdown",
   "metadata": {},
   "source": [
    "Как мы видим, предложенный алгоритм двоичного посика обеспечивает угадывание в среднем за 6 попыток. Таким образом, функция **game_core_binary_search** угадывает число лучше, чем функция **game_core_random_search**, которая угадывает в среднем лишь с 8 попыток."
   ]
  },
  {
   "cell_type": "markdown",
   "metadata": {},
   "source": [
    "### 4. Выводы и Заключение"
   ]
  },
  {
   "cell_type": "markdown",
   "metadata": {},
   "source": [
    "Сравнение эффективности двух представленных выше алгоритмов угадывания в диапазоне от 1 до 100 представляется недостаточно информативным. Поэтому проверим быстроту угадывания для диапазона от 1 до 1,000,000.\n",
    "\n",
    "Это легко сделать просто изменив аргумент со 100 на 1,000,000 при вызове функции **score_game_ver_2** сначала для функции **game_core_random_search**, затем для функции **game_core_binary_search**."
   ]
  },
  {
   "cell_type": "markdown",
   "metadata": {},
   "source": [
    "Как мы можем убедиться, функция **game_core_random_search** угадывает число в диапазоне от 1 до 1,000,000 в среднем с 26 попыток, в то время как функция **game_core_binary_search** в среднем с 19 попыток."
   ]
  },
  {
   "cell_type": "markdown",
   "metadata": {},
   "source": [
    "Таким образом мы можем заключить, что алгоритм бинарного поиска, реализованный нами в функции **game_core_binary_search**, может быть рекомендован как оптимальный для поиска/угадывания чисел в массивах любого размера."
   ]
  },
  {
   "cell_type": "code",
   "execution_count": null,
   "metadata": {},
   "outputs": [],
   "source": []
  }
 ],
 "metadata": {
  "kernelspec": {
   "display_name": "Python 3",
   "language": "python",
   "name": "python3"
  },
  "language_info": {
   "codemirror_mode": {
    "name": "ipython",
    "version": 3
   },
   "file_extension": ".py",
   "mimetype": "text/x-python",
   "name": "python",
   "nbconvert_exporter": "python",
   "pygments_lexer": "ipython3",
   "version": "3.8.5"
  }
 },
 "nbformat": 4,
 "nbformat_minor": 4
}
