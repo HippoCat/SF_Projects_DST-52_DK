{
 "cells": [
  {
   "cell_type": "markdown",
   "metadata": {},
   "source": [
    "![](https://www.pata.org/wp-content/uploads/2014/09/TripAdvisor_Logo-300x119.png)\n",
    "# Predict TripAdvisor Rating\n",
    "## В этом соревновании нам предстоит предсказать рейтинг ресторана в TripAdvisor\n",
    "**По ходу задачи:**\n",
    "* Прокачаем работу с pandas\n",
    "* Научимся работать с Kaggle Notebooks\n",
    "* Поймем как делать предобработку различных данных\n",
    "* Научимся работать с пропущенными данными (Nan)\n",
    "* Познакомимся с различными видами кодирования признаков\n",
    "* Немного попробуем [Feature Engineering](https://ru.wikipedia.org/wiki/Конструирование_признаков) (генерировать новые признаки)\n",
    "* И совсем немного затронем ML\n",
    "* И многое другое...   \n",
    "\n",
    "\n",
    "\n",
    "### И самое важное, все это вы сможете сделать самостоятельно!\n",
    "\n",
    "*Этот Ноутбук являетсся Примером/Шаблоном к этому соревнованию (Baseline) и не служит готовым решением!*   \n",
    "Вы можете использовать его как основу для построения своего решения.\n",
    "\n",
    "> что такое baseline решение, зачем оно нужно и почему предоставлять baseline к соревнованию стало важным стандартом на kaggle и других площадках.   \n",
    "**baseline** создается больше как шаблон, где можно посмотреть как происходит обращение с входящими данными и что нужно получить на выходе. При этом МЛ начинка может быть достаточно простой, просто для примера. Это помогает быстрее приступить к самому МЛ, а не тратить ценное время на чисто инженерные задачи. \n",
    "Также baseline являеться хорошей опорной точкой по метрике. Если твое решение хуже baseline - ты явно делаешь что-то не то и стоит попробовать другой путь) \n",
    "\n",
    "В контексте нашего соревнования baseline идет с небольшими примерами того, что можно делать с данными, и с инструкцией, что делать дальше, чтобы улучшить результат.  Вообще готовым решением это сложно назвать, так как используются всего 2 самых простых признака (а остальные исключаются)."
   ]
  },
  {
   "cell_type": "markdown",
   "metadata": {},
   "source": [
    "# import"
   ]
  },
  {
   "cell_type": "code",
   "execution_count": 1,
   "metadata": {
    "_cell_guid": "b1076dfc-b9ad-4769-8c92-a6c4dae69d19",
    "_uuid": "8f2839f25d086af736a60e9eeb907d3b93b6e0e5",
    "execution": {
     "iopub.execute_input": "2021-05-26T13:56:54.187143Z",
     "iopub.status.busy": "2021-05-26T13:56:54.186800Z",
     "iopub.status.idle": "2021-05-26T13:56:54.206069Z",
     "shell.execute_reply": "2021-05-26T13:56:54.205092Z",
     "shell.execute_reply.started": "2021-05-26T13:56:54.187102Z"
    }
   },
   "outputs": [
    {
     "name": "stdout",
     "output_type": "stream",
     "text": [
      "/kaggle/input/sf-dst-restaurant-rating/sample_submission.csv\n",
      "/kaggle/input/sf-dst-restaurant-rating/main_task.csv\n",
      "/kaggle/input/sf-dst-restaurant-rating/kaggle_task.csv\n"
     ]
    }
   ],
   "source": [
    "# This Python 3 environment comes with many helpful analytics libraries installed\n",
    "# It is defined by the kaggle/python docker image: https://github.com/kaggle/docker-python\n",
    "# For example, here's several helpful packages to load in \n",
    "\n",
    "import numpy as np # linear algebra\n",
    "import pandas as pd # data processing, CSV file I/O (e.g. pd.read_csv)\n",
    "\n",
    "import matplotlib.pyplot as plt\n",
    "import seaborn as sns \n",
    "%matplotlib inline\n",
    "\n",
    "# Загружаем специальный удобный инструмент для разделения датасета:\n",
    "from sklearn.model_selection import train_test_split\n",
    "\n",
    "# Input data files are available in the \"../input/\" directory.\n",
    "# For example, running this (by clicking run or pressing Shift+Enter) will list all files under the input directory\n",
    "\n",
    "import os\n",
    "for dirname, _, filenames in os.walk('/kaggle/input'):\n",
    "    for filename in filenames:\n",
    "        print(os.path.join(dirname, filename))\n",
    "\n",
    "# Any results you write to the current directory are saved as output."
   ]
  },
  {
   "cell_type": "code",
   "execution_count": 2,
   "metadata": {
    "execution": {
     "iopub.execute_input": "2021-05-26T13:56:54.209363Z",
     "iopub.status.busy": "2021-05-26T13:56:54.208527Z",
     "iopub.status.idle": "2021-05-26T13:56:54.215344Z",
     "shell.execute_reply": "2021-05-26T13:56:54.213735Z",
     "shell.execute_reply.started": "2021-05-26T13:56:54.209302Z"
    }
   },
   "outputs": [],
   "source": [
    "# всегда фиксируйте RANDOM_SEED, чтобы ваши эксперименты были воспроизводимы!\n",
    "RANDOM_SEED = 42"
   ]
  },
  {
   "cell_type": "code",
   "execution_count": 3,
   "metadata": {
    "execution": {
     "iopub.execute_input": "2021-05-26T13:56:54.217317Z",
     "iopub.status.busy": "2021-05-26T13:56:54.216960Z",
     "iopub.status.idle": "2021-05-26T13:56:56.713896Z",
     "shell.execute_reply": "2021-05-26T13:56:56.712637Z",
     "shell.execute_reply.started": "2021-05-26T13:56:54.217262Z"
    }
   },
   "outputs": [],
   "source": [
    "# зафиксируем версию пакетов, чтобы эксперименты были воспроизводимы:\n",
    "!pip freeze > requirements.txt"
   ]
  },
  {
   "cell_type": "markdown",
   "metadata": {},
   "source": [
    "# DATA"
   ]
  },
  {
   "cell_type": "code",
   "execution_count": 4,
   "metadata": {
    "_cell_guid": "79c7e3d0-c299-4dcb-8224-4455121ee9b0",
    "_uuid": "d629ff2d2480ee46fbb7e2d37f6b5fab8052498a",
    "execution": {
     "iopub.execute_input": "2021-05-26T13:56:56.716303Z",
     "iopub.status.busy": "2021-05-26T13:56:56.715851Z",
     "iopub.status.idle": "2021-05-26T13:56:57.011176Z",
     "shell.execute_reply": "2021-05-26T13:56:57.009970Z",
     "shell.execute_reply.started": "2021-05-26T13:56:56.716221Z"
    }
   },
   "outputs": [],
   "source": [
    "DATA_DIR = '/kaggle/input/sf-dst-restaurant-rating/'\n",
    "df_train = pd.read_csv(DATA_DIR+'/main_task.csv')\n",
    "df_test = pd.read_csv(DATA_DIR+'kaggle_task.csv')\n",
    "sample_submission = pd.read_csv(DATA_DIR+'/sample_submission.csv')"
   ]
  },
  {
   "cell_type": "code",
   "execution_count": 5,
   "metadata": {
    "execution": {
     "iopub.execute_input": "2021-05-26T13:56:57.016009Z",
     "iopub.status.busy": "2021-05-26T13:56:57.015603Z",
     "iopub.status.idle": "2021-05-26T13:56:57.020772Z",
     "shell.execute_reply": "2021-05-26T13:56:57.019356Z",
     "shell.execute_reply.started": "2021-05-26T13:56:57.015945Z"
    }
   },
   "outputs": [],
   "source": [
    "# For local exercise\n",
    "# df_train = pd.read_csv('main_task.csv')\n",
    "# df_test = pd.read_csv('kaggle_task.csv')\n",
    "# sample_submission = pd.read_csv('sample_submission.csv')"
   ]
  },
  {
   "cell_type": "code",
   "execution_count": 6,
   "metadata": {
    "execution": {
     "iopub.execute_input": "2021-05-26T13:56:57.025988Z",
     "iopub.status.busy": "2021-05-26T13:56:57.025612Z",
     "iopub.status.idle": "2021-05-26T13:56:57.068793Z",
     "shell.execute_reply": "2021-05-26T13:56:57.067605Z",
     "shell.execute_reply.started": "2021-05-26T13:56:57.025934Z"
    }
   },
   "outputs": [
    {
     "name": "stdout",
     "output_type": "stream",
     "text": [
      "<class 'pandas.core.frame.DataFrame'>\n",
      "RangeIndex: 40000 entries, 0 to 39999\n",
      "Data columns (total 10 columns):\n",
      "Restaurant_id        40000 non-null object\n",
      "City                 40000 non-null object\n",
      "Cuisine Style        30717 non-null object\n",
      "Ranking              40000 non-null float64\n",
      "Rating               40000 non-null float64\n",
      "Price Range          26114 non-null object\n",
      "Number of Reviews    37457 non-null float64\n",
      "Reviews              40000 non-null object\n",
      "URL_TA               40000 non-null object\n",
      "ID_TA                40000 non-null object\n",
      "dtypes: float64(3), object(7)\n",
      "memory usage: 3.1+ MB\n"
     ]
    }
   ],
   "source": [
    "df_train.info()"
   ]
  },
  {
   "cell_type": "code",
   "execution_count": 7,
   "metadata": {
    "execution": {
     "iopub.execute_input": "2021-05-26T13:56:57.070842Z",
     "iopub.status.busy": "2021-05-26T13:56:57.070541Z",
     "iopub.status.idle": "2021-05-26T13:56:57.089938Z",
     "shell.execute_reply": "2021-05-26T13:56:57.089209Z",
     "shell.execute_reply.started": "2021-05-26T13:56:57.070788Z"
    }
   },
   "outputs": [
    {
     "data": {
      "text/html": [
       "<div>\n",
       "<style scoped>\n",
       "    .dataframe tbody tr th:only-of-type {\n",
       "        vertical-align: middle;\n",
       "    }\n",
       "\n",
       "    .dataframe tbody tr th {\n",
       "        vertical-align: top;\n",
       "    }\n",
       "\n",
       "    .dataframe thead th {\n",
       "        text-align: right;\n",
       "    }\n",
       "</style>\n",
       "<table border=\"1\" class=\"dataframe\">\n",
       "  <thead>\n",
       "    <tr style=\"text-align: right;\">\n",
       "      <th></th>\n",
       "      <th>Restaurant_id</th>\n",
       "      <th>City</th>\n",
       "      <th>Cuisine Style</th>\n",
       "      <th>Ranking</th>\n",
       "      <th>Rating</th>\n",
       "      <th>Price Range</th>\n",
       "      <th>Number of Reviews</th>\n",
       "      <th>Reviews</th>\n",
       "      <th>URL_TA</th>\n",
       "      <th>ID_TA</th>\n",
       "    </tr>\n",
       "  </thead>\n",
       "  <tbody>\n",
       "    <tr>\n",
       "      <th>0</th>\n",
       "      <td>id_5569</td>\n",
       "      <td>Paris</td>\n",
       "      <td>['European', 'French', 'International']</td>\n",
       "      <td>5570.0</td>\n",
       "      <td>3.5</td>\n",
       "      <td>$$ - $$$</td>\n",
       "      <td>194.0</td>\n",
       "      <td>[['Good food at your doorstep', 'A good hotel ...</td>\n",
       "      <td>/Restaurant_Review-g187147-d1912643-Reviews-R_...</td>\n",
       "      <td>d1912643</td>\n",
       "    </tr>\n",
       "    <tr>\n",
       "      <th>1</th>\n",
       "      <td>id_1535</td>\n",
       "      <td>Stockholm</td>\n",
       "      <td>NaN</td>\n",
       "      <td>1537.0</td>\n",
       "      <td>4.0</td>\n",
       "      <td>NaN</td>\n",
       "      <td>10.0</td>\n",
       "      <td>[['Unique cuisine', 'Delicious Nepalese food']...</td>\n",
       "      <td>/Restaurant_Review-g189852-d7992032-Reviews-Bu...</td>\n",
       "      <td>d7992032</td>\n",
       "    </tr>\n",
       "    <tr>\n",
       "      <th>2</th>\n",
       "      <td>id_352</td>\n",
       "      <td>London</td>\n",
       "      <td>['Japanese', 'Sushi', 'Asian', 'Grill', 'Veget...</td>\n",
       "      <td>353.0</td>\n",
       "      <td>4.5</td>\n",
       "      <td>$$$$</td>\n",
       "      <td>688.0</td>\n",
       "      <td>[['Catch up with friends', 'Not exceptional'],...</td>\n",
       "      <td>/Restaurant_Review-g186338-d8632781-Reviews-RO...</td>\n",
       "      <td>d8632781</td>\n",
       "    </tr>\n",
       "    <tr>\n",
       "      <th>3</th>\n",
       "      <td>id_3456</td>\n",
       "      <td>Berlin</td>\n",
       "      <td>NaN</td>\n",
       "      <td>3458.0</td>\n",
       "      <td>5.0</td>\n",
       "      <td>NaN</td>\n",
       "      <td>3.0</td>\n",
       "      <td>[[], []]</td>\n",
       "      <td>/Restaurant_Review-g187323-d1358776-Reviews-Es...</td>\n",
       "      <td>d1358776</td>\n",
       "    </tr>\n",
       "    <tr>\n",
       "      <th>4</th>\n",
       "      <td>id_615</td>\n",
       "      <td>Munich</td>\n",
       "      <td>['German', 'Central European', 'Vegetarian Fri...</td>\n",
       "      <td>621.0</td>\n",
       "      <td>4.0</td>\n",
       "      <td>$$ - $$$</td>\n",
       "      <td>84.0</td>\n",
       "      <td>[['Best place to try a Bavarian food', 'Nice b...</td>\n",
       "      <td>/Restaurant_Review-g187309-d6864963-Reviews-Au...</td>\n",
       "      <td>d6864963</td>\n",
       "    </tr>\n",
       "  </tbody>\n",
       "</table>\n",
       "</div>"
      ],
      "text/plain": [
       "  Restaurant_id       City                                      Cuisine Style  \\\n",
       "0       id_5569      Paris            ['European', 'French', 'International']   \n",
       "1       id_1535  Stockholm                                                NaN   \n",
       "2        id_352     London  ['Japanese', 'Sushi', 'Asian', 'Grill', 'Veget...   \n",
       "3       id_3456     Berlin                                                NaN   \n",
       "4        id_615     Munich  ['German', 'Central European', 'Vegetarian Fri...   \n",
       "\n",
       "   Ranking  Rating Price Range  Number of Reviews  \\\n",
       "0   5570.0     3.5    $$ - $$$              194.0   \n",
       "1   1537.0     4.0         NaN               10.0   \n",
       "2    353.0     4.5        $$$$              688.0   \n",
       "3   3458.0     5.0         NaN                3.0   \n",
       "4    621.0     4.0    $$ - $$$               84.0   \n",
       "\n",
       "                                             Reviews  \\\n",
       "0  [['Good food at your doorstep', 'A good hotel ...   \n",
       "1  [['Unique cuisine', 'Delicious Nepalese food']...   \n",
       "2  [['Catch up with friends', 'Not exceptional'],...   \n",
       "3                                           [[], []]   \n",
       "4  [['Best place to try a Bavarian food', 'Nice b...   \n",
       "\n",
       "                                              URL_TA     ID_TA  \n",
       "0  /Restaurant_Review-g187147-d1912643-Reviews-R_...  d1912643  \n",
       "1  /Restaurant_Review-g189852-d7992032-Reviews-Bu...  d7992032  \n",
       "2  /Restaurant_Review-g186338-d8632781-Reviews-RO...  d8632781  \n",
       "3  /Restaurant_Review-g187323-d1358776-Reviews-Es...  d1358776  \n",
       "4  /Restaurant_Review-g187309-d6864963-Reviews-Au...  d6864963  "
      ]
     },
     "execution_count": 7,
     "metadata": {},
     "output_type": "execute_result"
    }
   ],
   "source": [
    "df_train.head(5)"
   ]
  },
  {
   "cell_type": "code",
   "execution_count": 8,
   "metadata": {
    "execution": {
     "iopub.execute_input": "2021-05-26T13:56:57.091800Z",
     "iopub.status.busy": "2021-05-26T13:56:57.091521Z",
     "iopub.status.idle": "2021-05-26T13:56:57.110345Z",
     "shell.execute_reply": "2021-05-26T13:56:57.108937Z",
     "shell.execute_reply.started": "2021-05-26T13:56:57.091748Z"
    }
   },
   "outputs": [
    {
     "name": "stdout",
     "output_type": "stream",
     "text": [
      "<class 'pandas.core.frame.DataFrame'>\n",
      "RangeIndex: 10000 entries, 0 to 9999\n",
      "Data columns (total 9 columns):\n",
      "Restaurant_id        10000 non-null object\n",
      "City                 10000 non-null object\n",
      "Cuisine Style        7693 non-null object\n",
      "Ranking              10000 non-null float64\n",
      "Price Range          6525 non-null object\n",
      "Number of Reviews    9343 non-null float64\n",
      "Reviews              9998 non-null object\n",
      "URL_TA               10000 non-null object\n",
      "ID_TA                10000 non-null object\n",
      "dtypes: float64(2), object(7)\n",
      "memory usage: 703.2+ KB\n"
     ]
    }
   ],
   "source": [
    "df_test.info()"
   ]
  },
  {
   "cell_type": "code",
   "execution_count": 9,
   "metadata": {
    "execution": {
     "iopub.execute_input": "2021-05-26T13:56:57.112422Z",
     "iopub.status.busy": "2021-05-26T13:56:57.112080Z",
     "iopub.status.idle": "2021-05-26T13:56:57.132945Z",
     "shell.execute_reply": "2021-05-26T13:56:57.131753Z",
     "shell.execute_reply.started": "2021-05-26T13:56:57.112366Z"
    }
   },
   "outputs": [
    {
     "data": {
      "text/html": [
       "<div>\n",
       "<style scoped>\n",
       "    .dataframe tbody tr th:only-of-type {\n",
       "        vertical-align: middle;\n",
       "    }\n",
       "\n",
       "    .dataframe tbody tr th {\n",
       "        vertical-align: top;\n",
       "    }\n",
       "\n",
       "    .dataframe thead th {\n",
       "        text-align: right;\n",
       "    }\n",
       "</style>\n",
       "<table border=\"1\" class=\"dataframe\">\n",
       "  <thead>\n",
       "    <tr style=\"text-align: right;\">\n",
       "      <th></th>\n",
       "      <th>Restaurant_id</th>\n",
       "      <th>City</th>\n",
       "      <th>Cuisine Style</th>\n",
       "      <th>Ranking</th>\n",
       "      <th>Price Range</th>\n",
       "      <th>Number of Reviews</th>\n",
       "      <th>Reviews</th>\n",
       "      <th>URL_TA</th>\n",
       "      <th>ID_TA</th>\n",
       "    </tr>\n",
       "  </thead>\n",
       "  <tbody>\n",
       "    <tr>\n",
       "      <th>0</th>\n",
       "      <td>id_0</td>\n",
       "      <td>Paris</td>\n",
       "      <td>['Bar', 'Pub']</td>\n",
       "      <td>12963.0</td>\n",
       "      <td>$$ - $$$</td>\n",
       "      <td>4.0</td>\n",
       "      <td>[[], []]</td>\n",
       "      <td>/Restaurant_Review-g187147-d10746918-Reviews-L...</td>\n",
       "      <td>d10746918</td>\n",
       "    </tr>\n",
       "    <tr>\n",
       "      <th>1</th>\n",
       "      <td>id_1</td>\n",
       "      <td>Helsinki</td>\n",
       "      <td>['European', 'Scandinavian', 'Gluten Free Opti...</td>\n",
       "      <td>106.0</td>\n",
       "      <td>$$ - $$$</td>\n",
       "      <td>97.0</td>\n",
       "      <td>[['Very good reviews!', 'Fine dining in Hakani...</td>\n",
       "      <td>/Restaurant_Review-g189934-d6674944-Reviews-Ra...</td>\n",
       "      <td>d6674944</td>\n",
       "    </tr>\n",
       "    <tr>\n",
       "      <th>2</th>\n",
       "      <td>id_2</td>\n",
       "      <td>Edinburgh</td>\n",
       "      <td>['Vegetarian Friendly']</td>\n",
       "      <td>810.0</td>\n",
       "      <td>$$ - $$$</td>\n",
       "      <td>28.0</td>\n",
       "      <td>[['Better than the Links', 'Ivy Black'], ['12/...</td>\n",
       "      <td>/Restaurant_Review-g186525-d13129638-Reviews-B...</td>\n",
       "      <td>d13129638</td>\n",
       "    </tr>\n",
       "    <tr>\n",
       "      <th>3</th>\n",
       "      <td>id_3</td>\n",
       "      <td>London</td>\n",
       "      <td>['Italian', 'Mediterranean', 'European', 'Vege...</td>\n",
       "      <td>1669.0</td>\n",
       "      <td>$$$$</td>\n",
       "      <td>202.0</td>\n",
       "      <td>[['Most exquisite', 'Delicious and authentic']...</td>\n",
       "      <td>/Restaurant_Review-g186338-d680417-Reviews-Qui...</td>\n",
       "      <td>d680417</td>\n",
       "    </tr>\n",
       "    <tr>\n",
       "      <th>4</th>\n",
       "      <td>id_4</td>\n",
       "      <td>Bratislava</td>\n",
       "      <td>['Italian', 'Mediterranean', 'European', 'Seaf...</td>\n",
       "      <td>37.0</td>\n",
       "      <td>$$$$</td>\n",
       "      <td>162.0</td>\n",
       "      <td>[['Always the best in bratislava', 'Very good ...</td>\n",
       "      <td>/Restaurant_Review-g274924-d1112354-Reviews-Ma...</td>\n",
       "      <td>d1112354</td>\n",
       "    </tr>\n",
       "  </tbody>\n",
       "</table>\n",
       "</div>"
      ],
      "text/plain": [
       "  Restaurant_id        City  \\\n",
       "0          id_0       Paris   \n",
       "1          id_1    Helsinki   \n",
       "2          id_2   Edinburgh   \n",
       "3          id_3      London   \n",
       "4          id_4  Bratislava   \n",
       "\n",
       "                                       Cuisine Style  Ranking Price Range  \\\n",
       "0                                     ['Bar', 'Pub']  12963.0    $$ - $$$   \n",
       "1  ['European', 'Scandinavian', 'Gluten Free Opti...    106.0    $$ - $$$   \n",
       "2                            ['Vegetarian Friendly']    810.0    $$ - $$$   \n",
       "3  ['Italian', 'Mediterranean', 'European', 'Vege...   1669.0        $$$$   \n",
       "4  ['Italian', 'Mediterranean', 'European', 'Seaf...     37.0        $$$$   \n",
       "\n",
       "   Number of Reviews                                            Reviews  \\\n",
       "0                4.0                                           [[], []]   \n",
       "1               97.0  [['Very good reviews!', 'Fine dining in Hakani...   \n",
       "2               28.0  [['Better than the Links', 'Ivy Black'], ['12/...   \n",
       "3              202.0  [['Most exquisite', 'Delicious and authentic']...   \n",
       "4              162.0  [['Always the best in bratislava', 'Very good ...   \n",
       "\n",
       "                                              URL_TA      ID_TA  \n",
       "0  /Restaurant_Review-g187147-d10746918-Reviews-L...  d10746918  \n",
       "1  /Restaurant_Review-g189934-d6674944-Reviews-Ra...   d6674944  \n",
       "2  /Restaurant_Review-g186525-d13129638-Reviews-B...  d13129638  \n",
       "3  /Restaurant_Review-g186338-d680417-Reviews-Qui...    d680417  \n",
       "4  /Restaurant_Review-g274924-d1112354-Reviews-Ma...   d1112354  "
      ]
     },
     "execution_count": 9,
     "metadata": {},
     "output_type": "execute_result"
    }
   ],
   "source": [
    "df_test.head(5)"
   ]
  },
  {
   "cell_type": "code",
   "execution_count": 10,
   "metadata": {
    "execution": {
     "iopub.execute_input": "2021-05-26T13:56:57.135076Z",
     "iopub.status.busy": "2021-05-26T13:56:57.134731Z",
     "iopub.status.idle": "2021-05-26T13:56:57.153234Z",
     "shell.execute_reply": "2021-05-26T13:56:57.151911Z",
     "shell.execute_reply.started": "2021-05-26T13:56:57.135020Z"
    }
   },
   "outputs": [
    {
     "data": {
      "text/html": [
       "<div>\n",
       "<style scoped>\n",
       "    .dataframe tbody tr th:only-of-type {\n",
       "        vertical-align: middle;\n",
       "    }\n",
       "\n",
       "    .dataframe tbody tr th {\n",
       "        vertical-align: top;\n",
       "    }\n",
       "\n",
       "    .dataframe thead th {\n",
       "        text-align: right;\n",
       "    }\n",
       "</style>\n",
       "<table border=\"1\" class=\"dataframe\">\n",
       "  <thead>\n",
       "    <tr style=\"text-align: right;\">\n",
       "      <th></th>\n",
       "      <th>Restaurant_id</th>\n",
       "      <th>Rating</th>\n",
       "    </tr>\n",
       "  </thead>\n",
       "  <tbody>\n",
       "    <tr>\n",
       "      <th>0</th>\n",
       "      <td>id_0</td>\n",
       "      <td>2.0</td>\n",
       "    </tr>\n",
       "    <tr>\n",
       "      <th>1</th>\n",
       "      <td>id_1</td>\n",
       "      <td>2.5</td>\n",
       "    </tr>\n",
       "    <tr>\n",
       "      <th>2</th>\n",
       "      <td>id_2</td>\n",
       "      <td>4.0</td>\n",
       "    </tr>\n",
       "    <tr>\n",
       "      <th>3</th>\n",
       "      <td>id_3</td>\n",
       "      <td>1.0</td>\n",
       "    </tr>\n",
       "    <tr>\n",
       "      <th>4</th>\n",
       "      <td>id_4</td>\n",
       "      <td>4.0</td>\n",
       "    </tr>\n",
       "  </tbody>\n",
       "</table>\n",
       "</div>"
      ],
      "text/plain": [
       "  Restaurant_id  Rating\n",
       "0          id_0     2.0\n",
       "1          id_1     2.5\n",
       "2          id_2     4.0\n",
       "3          id_3     1.0\n",
       "4          id_4     4.0"
      ]
     },
     "execution_count": 10,
     "metadata": {},
     "output_type": "execute_result"
    }
   ],
   "source": [
    "sample_submission.head(5)"
   ]
  },
  {
   "cell_type": "code",
   "execution_count": 11,
   "metadata": {
    "execution": {
     "iopub.execute_input": "2021-05-26T13:56:57.155413Z",
     "iopub.status.busy": "2021-05-26T13:56:57.155025Z",
     "iopub.status.idle": "2021-05-26T13:56:57.171128Z",
     "shell.execute_reply": "2021-05-26T13:56:57.169617Z",
     "shell.execute_reply.started": "2021-05-26T13:56:57.155366Z"
    }
   },
   "outputs": [
    {
     "name": "stdout",
     "output_type": "stream",
     "text": [
      "<class 'pandas.core.frame.DataFrame'>\n",
      "RangeIndex: 10000 entries, 0 to 9999\n",
      "Data columns (total 2 columns):\n",
      "Restaurant_id    10000 non-null object\n",
      "Rating           10000 non-null float64\n",
      "dtypes: float64(1), object(1)\n",
      "memory usage: 156.4+ KB\n"
     ]
    }
   ],
   "source": [
    "sample_submission.info()"
   ]
  },
  {
   "cell_type": "code",
   "execution_count": 12,
   "metadata": {
    "execution": {
     "iopub.execute_input": "2021-05-26T13:56:57.172930Z",
     "iopub.status.busy": "2021-05-26T13:56:57.172577Z",
     "iopub.status.idle": "2021-05-26T13:56:57.240296Z",
     "shell.execute_reply": "2021-05-26T13:56:57.239109Z",
     "shell.execute_reply.started": "2021-05-26T13:56:57.172856Z"
    }
   },
   "outputs": [],
   "source": [
    "# ВАЖНО! для корректной обработки признаков объединяем трейн и тест в один датасет\n",
    "df_train['sample'] = 1 # помечаем где у нас трейн\n",
    "df_test['sample'] = 0 # помечаем где у нас тест\n",
    "df_test['Rating'] = 0 # в тесте у нас нет значения Rating, мы его должны предсказать, по этому пока просто заполняем нулями\n",
    "\n",
    "data = df_test.append(df_train, sort=False).reset_index(drop=True) # объединяем"
   ]
  },
  {
   "cell_type": "code",
   "execution_count": 13,
   "metadata": {
    "execution": {
     "iopub.execute_input": "2021-05-26T13:56:57.242366Z",
     "iopub.status.busy": "2021-05-26T13:56:57.242030Z",
     "iopub.status.idle": "2021-05-26T13:56:57.286856Z",
     "shell.execute_reply": "2021-05-26T13:56:57.285624Z",
     "shell.execute_reply.started": "2021-05-26T13:56:57.242311Z"
    }
   },
   "outputs": [
    {
     "name": "stdout",
     "output_type": "stream",
     "text": [
      "<class 'pandas.core.frame.DataFrame'>\n",
      "RangeIndex: 50000 entries, 0 to 49999\n",
      "Data columns (total 11 columns):\n",
      "Restaurant_id        50000 non-null object\n",
      "City                 50000 non-null object\n",
      "Cuisine Style        38410 non-null object\n",
      "Ranking              50000 non-null float64\n",
      "Price Range          32639 non-null object\n",
      "Number of Reviews    46800 non-null float64\n",
      "Reviews              49998 non-null object\n",
      "URL_TA               50000 non-null object\n",
      "ID_TA                50000 non-null object\n",
      "sample               50000 non-null int64\n",
      "Rating               50000 non-null float64\n",
      "dtypes: float64(3), int64(1), object(7)\n",
      "memory usage: 4.2+ MB\n"
     ]
    }
   ],
   "source": [
    "data.info()"
   ]
  },
  {
   "cell_type": "markdown",
   "metadata": {},
   "source": [
    "Подробнее по признакам:\n",
    "* City: Город \n",
    "* Cuisine Style: Кухня\n",
    "* Ranking: Ранг ресторана относительно других ресторанов в этом городе\n",
    "* Price Range: Цены в ресторане в 3 категориях\n",
    "* Number of Reviews: Количество отзывов\n",
    "* Reviews: 2 последних отзыва и даты этих отзывов\n",
    "* URL_TA: страница ресторана на 'www.tripadvisor.com' \n",
    "* ID_TA: ID ресторана в TripAdvisor\n",
    "* Rating: Рейтинг ресторана"
   ]
  },
  {
   "cell_type": "code",
   "execution_count": 14,
   "metadata": {
    "execution": {
     "iopub.execute_input": "2021-05-26T13:56:57.288886Z",
     "iopub.status.busy": "2021-05-26T13:56:57.288572Z",
     "iopub.status.idle": "2021-05-26T13:56:57.311572Z",
     "shell.execute_reply": "2021-05-26T13:56:57.310602Z",
     "shell.execute_reply.started": "2021-05-26T13:56:57.288831Z"
    }
   },
   "outputs": [
    {
     "data": {
      "text/html": [
       "<div>\n",
       "<style scoped>\n",
       "    .dataframe tbody tr th:only-of-type {\n",
       "        vertical-align: middle;\n",
       "    }\n",
       "\n",
       "    .dataframe tbody tr th {\n",
       "        vertical-align: top;\n",
       "    }\n",
       "\n",
       "    .dataframe thead th {\n",
       "        text-align: right;\n",
       "    }\n",
       "</style>\n",
       "<table border=\"1\" class=\"dataframe\">\n",
       "  <thead>\n",
       "    <tr style=\"text-align: right;\">\n",
       "      <th></th>\n",
       "      <th>Restaurant_id</th>\n",
       "      <th>City</th>\n",
       "      <th>Cuisine Style</th>\n",
       "      <th>Ranking</th>\n",
       "      <th>Price Range</th>\n",
       "      <th>Number of Reviews</th>\n",
       "      <th>Reviews</th>\n",
       "      <th>URL_TA</th>\n",
       "      <th>ID_TA</th>\n",
       "      <th>sample</th>\n",
       "      <th>Rating</th>\n",
       "    </tr>\n",
       "  </thead>\n",
       "  <tbody>\n",
       "    <tr>\n",
       "      <th>6776</th>\n",
       "      <td>id_6776</td>\n",
       "      <td>Brussels</td>\n",
       "      <td>['Belgian', 'European']</td>\n",
       "      <td>2308.0</td>\n",
       "      <td>$$ - $$$</td>\n",
       "      <td>54.0</td>\n",
       "      <td>[['Nice ambience but my hamburger is dry', 'Of...</td>\n",
       "      <td>/Restaurant_Review-g950784-d4358429-Reviews-Le...</td>\n",
       "      <td>d4358429</td>\n",
       "      <td>0</td>\n",
       "      <td>0.0</td>\n",
       "    </tr>\n",
       "    <tr>\n",
       "      <th>49592</th>\n",
       "      <td>id_475</td>\n",
       "      <td>Berlin</td>\n",
       "      <td>['Wine Bar', 'Central European', 'European', '...</td>\n",
       "      <td>476.0</td>\n",
       "      <td>$$ - $$$</td>\n",
       "      <td>82.0</td>\n",
       "      <td>[['Christmas Shopping', 'looking for a new win...</td>\n",
       "      <td>/Restaurant_Review-g187323-d8462892-Reviews-La...</td>\n",
       "      <td>d8462892</td>\n",
       "      <td>1</td>\n",
       "      <td>4.5</td>\n",
       "    </tr>\n",
       "    <tr>\n",
       "      <th>8908</th>\n",
       "      <td>id_8908</td>\n",
       "      <td>Rome</td>\n",
       "      <td>['Japanese', 'Sushi']</td>\n",
       "      <td>3989.0</td>\n",
       "      <td>$</td>\n",
       "      <td>167.0</td>\n",
       "      <td>[['japanise sushi Rome', 'Average place to eat...</td>\n",
       "      <td>/Restaurant_Review-g187791-d2157409-Reviews-Ha...</td>\n",
       "      <td>d2157409</td>\n",
       "      <td>0</td>\n",
       "      <td>0.0</td>\n",
       "    </tr>\n",
       "    <tr>\n",
       "      <th>36622</th>\n",
       "      <td>id_5030</td>\n",
       "      <td>Berlin</td>\n",
       "      <td>NaN</td>\n",
       "      <td>5032.0</td>\n",
       "      <td>NaN</td>\n",
       "      <td>2.0</td>\n",
       "      <td>[[], []]</td>\n",
       "      <td>/Restaurant_Review-g187323-d12632884-Reviews-S...</td>\n",
       "      <td>d12632884</td>\n",
       "      <td>1</td>\n",
       "      <td>4.0</td>\n",
       "    </tr>\n",
       "    <tr>\n",
       "      <th>35866</th>\n",
       "      <td>id_1688</td>\n",
       "      <td>Amsterdam</td>\n",
       "      <td>['Italian', 'Mediterranean', 'Pizza']</td>\n",
       "      <td>1693.0</td>\n",
       "      <td>$$ - $$$</td>\n",
       "      <td>22.0</td>\n",
       "      <td>[['Small Italia in Amsterdam', 'Dinner'], ['02...</td>\n",
       "      <td>/Restaurant_Review-g188590-d4353700-Reviews-Tr...</td>\n",
       "      <td>d4353700</td>\n",
       "      <td>1</td>\n",
       "      <td>4.5</td>\n",
       "    </tr>\n",
       "  </tbody>\n",
       "</table>\n",
       "</div>"
      ],
      "text/plain": [
       "      Restaurant_id       City  \\\n",
       "6776        id_6776   Brussels   \n",
       "49592        id_475     Berlin   \n",
       "8908        id_8908       Rome   \n",
       "36622       id_5030     Berlin   \n",
       "35866       id_1688  Amsterdam   \n",
       "\n",
       "                                           Cuisine Style  Ranking Price Range  \\\n",
       "6776                             ['Belgian', 'European']   2308.0    $$ - $$$   \n",
       "49592  ['Wine Bar', 'Central European', 'European', '...    476.0    $$ - $$$   \n",
       "8908                               ['Japanese', 'Sushi']   3989.0           $   \n",
       "36622                                                NaN   5032.0         NaN   \n",
       "35866              ['Italian', 'Mediterranean', 'Pizza']   1693.0    $$ - $$$   \n",
       "\n",
       "       Number of Reviews                                            Reviews  \\\n",
       "6776                54.0  [['Nice ambience but my hamburger is dry', 'Of...   \n",
       "49592               82.0  [['Christmas Shopping', 'looking for a new win...   \n",
       "8908               167.0  [['japanise sushi Rome', 'Average place to eat...   \n",
       "36622                2.0                                           [[], []]   \n",
       "35866               22.0  [['Small Italia in Amsterdam', 'Dinner'], ['02...   \n",
       "\n",
       "                                                  URL_TA      ID_TA  sample  \\\n",
       "6776   /Restaurant_Review-g950784-d4358429-Reviews-Le...   d4358429       0   \n",
       "49592  /Restaurant_Review-g187323-d8462892-Reviews-La...   d8462892       1   \n",
       "8908   /Restaurant_Review-g187791-d2157409-Reviews-Ha...   d2157409       0   \n",
       "36622  /Restaurant_Review-g187323-d12632884-Reviews-S...  d12632884       1   \n",
       "35866  /Restaurant_Review-g188590-d4353700-Reviews-Tr...   d4353700       1   \n",
       "\n",
       "       Rating  \n",
       "6776      0.0  \n",
       "49592     4.5  \n",
       "8908      0.0  \n",
       "36622     4.0  \n",
       "35866     4.5  "
      ]
     },
     "execution_count": 14,
     "metadata": {},
     "output_type": "execute_result"
    }
   ],
   "source": [
    "data.sample(5)"
   ]
  },
  {
   "cell_type": "code",
   "execution_count": 15,
   "metadata": {
    "execution": {
     "iopub.execute_input": "2021-05-26T13:56:57.313832Z",
     "iopub.status.busy": "2021-05-26T13:56:57.313489Z",
     "iopub.status.idle": "2021-05-26T13:56:57.325601Z",
     "shell.execute_reply": "2021-05-26T13:56:57.324431Z",
     "shell.execute_reply.started": "2021-05-26T13:56:57.313770Z"
    }
   },
   "outputs": [
    {
     "data": {
      "text/plain": [
       "\"[['Very good reviews!', 'Fine dining in Hakaniemi'], ['12/05/2017', '10/29/2017']]\""
      ]
     },
     "execution_count": 15,
     "metadata": {},
     "output_type": "execute_result"
    }
   ],
   "source": [
    "data.Reviews[1]"
   ]
  },
  {
   "cell_type": "markdown",
   "metadata": {},
   "source": [
    "Как видим, большинство признаков у нас требует очистки и предварительной обработки."
   ]
  },
  {
   "cell_type": "markdown",
   "metadata": {},
   "source": [
    "# Cleaning and Prepping Data\n",
    "Обычно данные содержат в себе кучу мусора, который необходимо почистить, для того чтобы привести их в приемлемый формат. Чистка данных — это необходимый этап решения почти любой реальной задачи.   \n",
    "![](https://analyticsindiamag.com/wp-content/uploads/2018/01/data-cleaning.png)"
   ]
  },
  {
   "cell_type": "markdown",
   "metadata": {},
   "source": [
    "## 1. Обработка NAN \n",
    "У наличия пропусков могут быть разные причины, но пропуски нужно либо заполнить, либо исключить из набора полностью. Но с пропусками нужно быть внимательным, **даже отсутствие информации может быть важным признаком!**   \n",
    "По этому перед обработкой NAN лучше вынести информацию о наличии пропуска как отдельный признак "
   ]
  },
  {
   "cell_type": "code",
   "execution_count": 16,
   "metadata": {
    "execution": {
     "iopub.execute_input": "2021-05-26T13:56:57.328054Z",
     "iopub.status.busy": "2021-05-26T13:56:57.327684Z",
     "iopub.status.idle": "2021-05-26T13:56:57.495956Z",
     "shell.execute_reply": "2021-05-26T13:56:57.495033Z",
     "shell.execute_reply.started": "2021-05-26T13:56:57.327981Z"
    }
   },
   "outputs": [],
   "source": [
    "---------1---------2---------3---------4---------5---------6---------7---------8\n",
    "\n",
    "# Количество отзывов\n",
    "# isNAN = 1 in case 'Number of Reviews' is NaN\n",
    "data['isNAN'] = pd.isna(data['Number of Reviews']).astype('uint8')\n",
    "\n",
    "# заполняем пропуски средним по городу\n",
    "# mean contains average 'Number of Reviews' per restaurant in a city\n",
    "# median contains median 'Number of Reviews' per restaurant in a city\n",
    "mean = data.groupby('City')['Number of Reviews'].mean().round()\n",
    "median = data.groupby('City')['Number of Reviews'].median().round()\n",
    "\n",
    "# Create 'Number_of_Reviews'\n",
    "# With mean 'Number of Reviews' in case 'Number of Reviews' == NaN\n",
    "data['Number_of_Reviews'] = data[data['isNAN'] > 0].City.apply(\n",
    "    lambda x: median.loc[x]) # Try median instead of mean\n",
    "#     lambda x: mean.loc[x])\n",
    "\n",
    "data['Number of Reviews'].fillna(0, inplace=True)\n",
    "data['Number_of_Reviews'].fillna(0, inplace=True)\n",
    "data['Number of Reviews'] = data['Number of Reviews'] + data['Number_of_Reviews']\n",
    "data.drop(['Number_of_Reviews'], axis = 1, inplace = True)"
   ]
  },
  {
   "cell_type": "markdown",
   "metadata": {},
   "source": [
    "__Conclusion:__ Filling missed 'Number of Reviews' with __median__ gives better MAE than filling with mean"
   ]
  },
  {
   "cell_type": "code",
   "execution_count": 17,
   "metadata": {
    "execution": {
     "iopub.execute_input": "2021-05-26T13:56:57.497908Z",
     "iopub.status.busy": "2021-05-26T13:56:57.497577Z",
     "iopub.status.idle": "2021-05-26T13:56:57.545847Z",
     "shell.execute_reply": "2021-05-26T13:56:57.544035Z",
     "shell.execute_reply.started": "2021-05-26T13:56:57.497851Z"
    }
   },
   "outputs": [
    {
     "name": "stdout",
     "output_type": "stream",
     "text": [
      "<class 'pandas.core.frame.DataFrame'>\n",
      "RangeIndex: 50000 entries, 0 to 49999\n",
      "Data columns (total 12 columns):\n",
      "Restaurant_id        50000 non-null object\n",
      "City                 50000 non-null object\n",
      "Cuisine Style        38410 non-null object\n",
      "Ranking              50000 non-null float64\n",
      "Price Range          32639 non-null object\n",
      "Number of Reviews    50000 non-null float64\n",
      "Reviews              49998 non-null object\n",
      "URL_TA               50000 non-null object\n",
      "ID_TA                50000 non-null object\n",
      "sample               50000 non-null int64\n",
      "Rating               50000 non-null float64\n",
      "isNAN                50000 non-null uint8\n",
      "dtypes: float64(3), int64(1), object(7), uint8(1)\n",
      "memory usage: 4.2+ MB\n"
     ]
    }
   ],
   "source": [
    "data.info()"
   ]
  },
  {
   "cell_type": "markdown",
   "metadata": {},
   "source": [
    "### 2. Обработка признаков\n",
    "Для начала посмотрим какие признаки у нас могут быть категориальными."
   ]
  },
  {
   "cell_type": "code",
   "execution_count": 18,
   "metadata": {
    "execution": {
     "iopub.execute_input": "2021-05-26T13:56:57.550693Z",
     "iopub.status.busy": "2021-05-26T13:56:57.550383Z",
     "iopub.status.idle": "2021-05-26T13:56:57.670926Z",
     "shell.execute_reply": "2021-05-26T13:56:57.670272Z",
     "shell.execute_reply.started": "2021-05-26T13:56:57.550654Z"
    }
   },
   "outputs": [
    {
     "data": {
      "text/plain": [
       "Restaurant_id        13094\n",
       "City                    31\n",
       "Cuisine Style        10732\n",
       "Ranking              12975\n",
       "Price Range              4\n",
       "Number of Reviews     1573\n",
       "Reviews              41858\n",
       "URL_TA               49963\n",
       "ID_TA                49963\n",
       "sample                   2\n",
       "Rating                  10\n",
       "isNAN                    2\n",
       "dtype: int64"
      ]
     },
     "execution_count": 18,
     "metadata": {},
     "output_type": "execute_result"
    }
   ],
   "source": [
    "data.nunique(dropna=False)"
   ]
  },
  {
   "cell_type": "markdown",
   "metadata": {},
   "source": [
    "Для кодирования категориальных признаков есть множество подходов:\n",
    "* Label Encoding\n",
    "* One-Hot Encoding\n",
    "* Target Encoding\n",
    "* Hashing\n",
    "\n",
    "Выбор кодирования зависит от признака и выбраной модели.\n",
    "Не будем сейчас сильно погружаться в эту тематику, давайте посмотрим лучше пример с One-Hot Encoding:\n",
    "![](https://i.imgur.com/mtimFxh.png)"
   ]
  },
  {
   "cell_type": "markdown",
   "metadata": {},
   "source": [
    " ### 2.1. \"Price Range\""
   ]
  },
  {
   "cell_type": "code",
   "execution_count": 19,
   "metadata": {
    "execution": {
     "iopub.execute_input": "2021-05-26T13:56:57.672880Z",
     "iopub.status.busy": "2021-05-26T13:56:57.672346Z",
     "iopub.status.idle": "2021-05-26T13:56:57.700595Z",
     "shell.execute_reply": "2021-05-26T13:56:57.699067Z",
     "shell.execute_reply.started": "2021-05-26T13:56:57.672822Z"
    }
   },
   "outputs": [
    {
     "name": "stdout",
     "output_type": "stream",
     "text": [
      "[0.24, 0.71, 0.05]\n"
     ]
    }
   ],
   "source": [
    "# Fill missed values with ''\n",
    "data['Price Range'].fillna('', inplace=True)\n",
    "\n",
    "# Calculate frequency of different price categories\n",
    "price_series = data['Price Range'].value_counts()\n",
    "price_count_1 = price_series['$']\n",
    "price_count_2 = price_series['$$ - $$$']\n",
    "price_count_3 = price_series['$$$$']\n",
    "total_count =  price_count_1 + price_count_2 + price_count_3\n",
    "\n",
    "# Calculate probabilities of different price categories\n",
    "price_probabilities = [round(price_count_1/total_count, 2), \n",
    "                       round(price_count_2/total_count, 2),\n",
    "                       round(price_count_3/total_count, 2)]\n",
    "\n",
    "print(price_probabilities)"
   ]
  },
  {
   "cell_type": "code",
   "execution_count": 20,
   "metadata": {
    "execution": {
     "iopub.execute_input": "2021-05-26T13:56:57.702997Z",
     "iopub.status.busy": "2021-05-26T13:56:57.702607Z",
     "iopub.status.idle": "2021-05-26T13:56:57.730107Z",
     "shell.execute_reply": "2021-05-26T13:56:57.729102Z",
     "shell.execute_reply.started": "2021-05-26T13:56:57.702924Z"
    }
   },
   "outputs": [
    {
     "data": {
      "text/plain": [
       "$$ - $$$    23041\n",
       "            17361\n",
       "$            7816\n",
       "$$$$         1782\n",
       "Name: Price Range, dtype: int64"
      ]
     },
     "execution_count": 20,
     "metadata": {},
     "output_type": "execute_result"
    }
   ],
   "source": [
    "data['Price Range'].value_counts()"
   ]
  },
  {
   "cell_type": "code",
   "execution_count": 21,
   "metadata": {
    "execution": {
     "iopub.execute_input": "2021-05-26T13:56:57.732648Z",
     "iopub.status.busy": "2021-05-26T13:56:57.732135Z",
     "iopub.status.idle": "2021-05-26T13:56:58.407899Z",
     "shell.execute_reply": "2021-05-26T13:56:58.406774Z",
     "shell.execute_reply.started": "2021-05-26T13:56:57.732581Z"
    }
   },
   "outputs": [
    {
     "data": {
      "text/plain": [
       "2    35305\n",
       "1    12018\n",
       "3     2677\n",
       "Name: Price Range, dtype: int64"
      ]
     },
     "execution_count": 21,
     "metadata": {},
     "output_type": "execute_result"
    }
   ],
   "source": [
    "# Fill missed data randomly, but keeping the price distribution - np.random.choice\n",
    "def random_price(s):\n",
    "    if s == '':\n",
    "        return np.random.choice([1,2,3], p=price_probabilities)\n",
    "    elif s == '$':\n",
    "        return 1\n",
    "    elif s == '$$ - $$$':\n",
    "        return 2\n",
    "    elif s == '$$$$':\n",
    "        return 3\n",
    "    else:\n",
    "        return -1\n",
    "\n",
    "data['Price Range'] = data['Price Range'].apply(random_price)\n",
    "data['Price Range'].value_counts()"
   ]
  },
  {
   "cell_type": "code",
   "execution_count": 22,
   "metadata": {
    "execution": {
     "iopub.execute_input": "2021-05-26T13:56:58.409681Z",
     "iopub.status.busy": "2021-05-26T13:56:58.409412Z",
     "iopub.status.idle": "2021-05-26T13:56:58.413323Z",
     "shell.execute_reply": "2021-05-26T13:56:58.412226Z",
     "shell.execute_reply.started": "2021-05-26T13:56:58.409635Z"
    }
   },
   "outputs": [],
   "source": [
    "# The proportion is approx. the same as before\n",
    "# Anyway this is better than filling with median, which is always 2"
   ]
  },
  {
   "cell_type": "markdown",
   "metadata": {},
   "source": [
    "Ideally we shopuld have gone to the TripAdvisor web-site using the URL_TA field from dataset and parse the price_range from there.\n",
    "But due to time limitation I did not do this... "
   ]
  },
  {
   "cell_type": "code",
   "execution_count": 23,
   "metadata": {
    "execution": {
     "iopub.execute_input": "2021-05-26T13:56:58.415141Z",
     "iopub.status.busy": "2021-05-26T13:56:58.414888Z",
     "iopub.status.idle": "2021-05-26T13:56:58.465847Z",
     "shell.execute_reply": "2021-05-26T13:56:58.464591Z",
     "shell.execute_reply.started": "2021-05-26T13:56:58.415094Z"
    }
   },
   "outputs": [
    {
     "name": "stdout",
     "output_type": "stream",
     "text": [
      "<class 'pandas.core.frame.DataFrame'>\n",
      "RangeIndex: 50000 entries, 0 to 49999\n",
      "Data columns (total 12 columns):\n",
      "Restaurant_id        50000 non-null object\n",
      "City                 50000 non-null object\n",
      "Cuisine Style        38410 non-null object\n",
      "Ranking              50000 non-null float64\n",
      "Price Range          50000 non-null int64\n",
      "Number of Reviews    50000 non-null float64\n",
      "Reviews              49998 non-null object\n",
      "URL_TA               50000 non-null object\n",
      "ID_TA                50000 non-null object\n",
      "sample               50000 non-null int64\n",
      "Rating               50000 non-null float64\n",
      "isNAN                50000 non-null uint8\n",
      "dtypes: float64(3), int64(2), object(6), uint8(1)\n",
      "memory usage: 4.2+ MB\n"
     ]
    }
   ],
   "source": [
    "data.info()"
   ]
  },
  {
   "cell_type": "markdown",
   "metadata": {},
   "source": [
    "### 2.2. \"Cuisine Style\""
   ]
  },
  {
   "cell_type": "code",
   "execution_count": 24,
   "metadata": {
    "execution": {
     "iopub.execute_input": "2021-05-26T13:56:58.467885Z",
     "iopub.status.busy": "2021-05-26T13:56:58.467506Z",
     "iopub.status.idle": "2021-05-26T13:56:58.478748Z",
     "shell.execute_reply": "2021-05-26T13:56:58.477324Z",
     "shell.execute_reply.started": "2021-05-26T13:56:58.467812Z"
    }
   },
   "outputs": [
    {
     "name": "stdout",
     "output_type": "stream",
     "text": [
      "['Bar', 'Pub']\n",
      "['European', 'Scandinavian', 'Gluten Free Options', 'Vegetarian Friendly', 'Vegan Options']\n",
      "['Vegetarian Friendly']\n",
      "['Italian', 'Mediterranean', 'European', 'Vegetarian Friendly', 'Gluten Free Options']\n",
      "['Italian', 'Mediterranean', 'European', 'Seafood', 'Vegetarian Friendly', 'Gluten Free Options']\n",
      "['French', 'Cafe', 'Fast Food']\n",
      "['European', 'Portuguese']\n",
      "nan\n",
      "['European', 'Scandinavian']\n",
      "['Italian']\n"
     ]
    }
   ],
   "source": [
    "# Cuisine Style: Кухня\n",
    "print(data.loc[0, 'Cuisine Style'])\n",
    "print(data.loc[1, 'Cuisine Style'])\n",
    "print(data.loc[2, 'Cuisine Style'])\n",
    "print(data.loc[3, 'Cuisine Style'])\n",
    "print(data.loc[4, 'Cuisine Style'])\n",
    "print(data.loc[5, 'Cuisine Style'])\n",
    "print(data.loc[6, 'Cuisine Style'])\n",
    "print(data.loc[7, 'Cuisine Style'])\n",
    "print(data.loc[8, 'Cuisine Style'])\n",
    "print(data.loc[9, 'Cuisine Style'])\n"
   ]
  },
  {
   "cell_type": "code",
   "execution_count": 25,
   "metadata": {
    "execution": {
     "iopub.execute_input": "2021-05-26T13:56:58.481387Z",
     "iopub.status.busy": "2021-05-26T13:56:58.480935Z",
     "iopub.status.idle": "2021-05-26T13:56:58.634631Z",
     "shell.execute_reply": "2021-05-26T13:56:58.633697Z",
     "shell.execute_reply.started": "2021-05-26T13:56:58.481267Z"
    }
   },
   "outputs": [],
   "source": [
    "# Convert 'Cuisine Style' column to list\n",
    "# If NaN than empty list\n",
    "def cuisines_list(value):\n",
    "    if pd.isnull(value):\n",
    "        return []\n",
    "    else:\n",
    "        result = value.replace('[', '')\n",
    "        result = result.replace(']', '')\n",
    "        result = result.replace(', ', ',')\n",
    "        return result.split(\",\")\n",
    "\n",
    "data['Cuisine Style'] = data['Cuisine Style'].apply(cuisines_list)\n",
    "\n",
    "# Count 'Number of Cuisines'\n",
    "data['Number of Cuisines'] = data['Cuisine Style'].apply(len)"
   ]
  },
  {
   "cell_type": "code",
   "execution_count": 26,
   "metadata": {
    "execution": {
     "iopub.execute_input": "2021-05-26T13:56:58.636573Z",
     "iopub.status.busy": "2021-05-26T13:56:58.636283Z",
     "iopub.status.idle": "2021-05-26T13:57:00.218011Z",
     "shell.execute_reply": "2021-05-26T13:57:00.216555Z",
     "shell.execute_reply.started": "2021-05-26T13:56:58.636521Z"
    }
   },
   "outputs": [],
   "source": [
    "# Count mean and median number of cuisines in cities\n",
    "\n",
    "tmp_df = data[data['Number of Cuisines'] > 0]\n",
    "tmp_df # part of data where 'Number of Cuisines'] > 0, e.g. not NaN\n",
    "\n",
    "# mean contains average 'Number of Cuisines' per restaurant in a city\n",
    "# median contains median 'Number of Cuisines' per restaurant in a city\n",
    "mean = tmp_df.groupby('City')['Number of Cuisines'].mean().round()\n",
    "median = tmp_df.groupby('City')['Number of Cuisines'].median().round()\n",
    "\n",
    "# At a glance there is not much differences beteewn median and mean number of cuisines in cities\n",
    "# I noticed differences for Rome, Munich and Madrid only\n",
    "\n",
    "# Let's use mean to fill misses in 'Number of Cuisines'\n",
    "# data['Number of Cuisines'] = data.apply(\n",
    "#     lambda row: mean.loc[row.City] if row['Number of Cuisines'] == 0 else row['Number of Cuisines'], axis = 1)\n",
    "\n",
    "# Let's use 1 to fill misses in 'Number of Cuisines'\n",
    "data['Number of Cuisines'] = data.apply(\n",
    "    lambda row: 1 if row['Number of Cuisines'] == 0 else row['Number of Cuisines'], axis = 1)\n",
    "\n",
    "# Test that no 'Number of Cuisines' == 0 anymore\n",
    "# data[data['Number of Cuisines'] == 0]"
   ]
  },
  {
   "cell_type": "code",
   "execution_count": null,
   "metadata": {},
   "outputs": [],
   "source": []
  },
  {
   "cell_type": "code",
   "execution_count": 27,
   "metadata": {
    "execution": {
     "iopub.execute_input": "2021-05-26T13:57:00.219469Z",
     "iopub.status.busy": "2021-05-26T13:57:00.219221Z",
     "iopub.status.idle": "2021-05-26T13:57:00.231889Z",
     "shell.execute_reply": "2021-05-26T13:57:00.230691Z",
     "shell.execute_reply.started": "2021-05-26T13:57:00.219432Z"
    }
   },
   "outputs": [
    {
     "data": {
      "text/plain": [
       "0                                        ['Bar', 'Pub']\n",
       "1     ['European', 'Scandinavian', 'Gluten Free Opti...\n",
       "2                               ['Vegetarian Friendly']\n",
       "3     ['Italian', 'Mediterranean', 'European', 'Vege...\n",
       "4     ['Italian', 'Mediterranean', 'European', 'Seaf...\n",
       "5                       ['French', 'Cafe', 'Fast Food']\n",
       "6                            ['European', 'Portuguese']\n",
       "7                                                    []\n",
       "8                          ['European', 'Scandinavian']\n",
       "9                                           ['Italian']\n",
       "10                                                   []\n",
       "11                                          ['Italian']\n",
       "12                                            ['Greek']\n",
       "13                                                   []\n",
       "14    ['European', 'Czech', 'Eastern European', 'Cen...\n",
       "15                                           ['French']\n",
       "16    ['Pizza', 'Vegetarian Friendly', 'Vegan Options']\n",
       "17    ['Bar', 'British', 'Pub', 'Vegetarian Friendly...\n",
       "18                                                   []\n",
       "19    ['Italian', 'Pizza', 'European', 'Gluten Free ...\n",
       "20                                                   []\n",
       "21    ['Bar', 'Pizza', 'British', 'Vegetarian Friend...\n",
       "22    ['Mediterranean', 'Spanish', 'Vegetarian Frien...\n",
       "23                ['Italian', 'Mediterranean', 'Pizza']\n",
       "24                   ['Spanish', 'Vegetarian Friendly']\n",
       "Name: Cuisine Style, dtype: object"
      ]
     },
     "execution_count": 27,
     "metadata": {},
     "output_type": "execute_result"
    }
   ],
   "source": [
    "data['Cuisine Style'].head(25)"
   ]
  },
  {
   "cell_type": "code",
   "execution_count": 28,
   "metadata": {
    "execution": {
     "iopub.execute_input": "2021-05-26T13:57:00.234055Z",
     "iopub.status.busy": "2021-05-26T13:57:00.233663Z",
     "iopub.status.idle": "2021-05-26T13:57:00.277910Z",
     "shell.execute_reply": "2021-05-26T13:57:00.276960Z",
     "shell.execute_reply.started": "2021-05-26T13:57:00.233981Z"
    }
   },
   "outputs": [
    {
     "name": "stdout",
     "output_type": "stream",
     "text": [
      "<class 'pandas.core.frame.DataFrame'>\n",
      "RangeIndex: 50000 entries, 0 to 49999\n",
      "Data columns (total 13 columns):\n",
      "Restaurant_id         50000 non-null object\n",
      "City                  50000 non-null object\n",
      "Cuisine Style         50000 non-null object\n",
      "Ranking               50000 non-null float64\n",
      "Price Range           50000 non-null int64\n",
      "Number of Reviews     50000 non-null float64\n",
      "Reviews               49998 non-null object\n",
      "URL_TA                50000 non-null object\n",
      "ID_TA                 50000 non-null object\n",
      "sample                50000 non-null int64\n",
      "Rating                50000 non-null float64\n",
      "isNAN                 50000 non-null uint8\n",
      "Number of Cuisines    50000 non-null int64\n",
      "dtypes: float64(3), int64(3), object(6), uint8(1)\n",
      "memory usage: 4.6+ MB\n"
     ]
    }
   ],
   "source": [
    "data.info()"
   ]
  },
  {
   "cell_type": "markdown",
   "metadata": {},
   "source": [
    "## 2.3. \"City\""
   ]
  },
  {
   "cell_type": "code",
   "execution_count": 29,
   "metadata": {
    "execution": {
     "iopub.execute_input": "2021-05-26T13:57:00.284880Z",
     "iopub.status.busy": "2021-05-26T13:57:00.284571Z",
     "iopub.status.idle": "2021-05-26T13:57:00.389884Z",
     "shell.execute_reply": "2021-05-26T13:57:00.388696Z",
     "shell.execute_reply.started": "2021-05-26T13:57:00.284821Z"
    }
   },
   "outputs": [],
   "source": [
    "# Cities population from En.Wikipedia.Org in thousands\n",
    "city_population_dict = {\n",
    "    'London': 8962,\n",
    "    'Paris': 2176,\n",
    "    'Madrid': 3223,\n",
    "    'Barcelona': 1620,\n",
    "    'Berlin': 3769,\n",
    "    'Milan': 1400,\n",
    "    'Rome': 2860,\n",
    "    'Prague': 1335,\n",
    "    'Lisbon': 508,\n",
    "    'Vienna': 1911,\n",
    "    'Amsterdam': 873,\n",
    "    'Brussels': 1209,\n",
    "    'Hamburg': 1845,\n",
    "    'Munich': 1484,\n",
    "    'Lyon': 519,\n",
    "    'Stockholm': 976,\n",
    "    'Budapest': 1752,\n",
    "    'Warsaw': 1794,\n",
    "    'Dublin': 555,\n",
    "    'Copenhagen': 794,\n",
    "    'Athens': 664,\n",
    "    'Edinburgh': 488,\n",
    "    'Zurich': 415,\n",
    "    'Oporto': 216,\n",
    "    'Geneva': 202,\n",
    "    'Krakow': 779,\n",
    "    'Oslo': 697,\n",
    "    'Helsinki': 656,\n",
    "    'Bratislava': 441,\n",
    "    'Luxembourg': 634,\n",
    "    'Ljubljana': 296 \n",
    "}\n",
    "\n",
    "data['City Population'] = data['City'].replace(to_replace=city_population_dict)"
   ]
  },
  {
   "cell_type": "code",
   "execution_count": 30,
   "metadata": {
    "execution": {
     "iopub.execute_input": "2021-05-26T13:57:00.392407Z",
     "iopub.status.busy": "2021-05-26T13:57:00.392100Z",
     "iopub.status.idle": "2021-05-26T13:57:02.132711Z",
     "shell.execute_reply": "2021-05-26T13:57:02.131593Z",
     "shell.execute_reply.started": "2021-05-26T13:57:00.392350Z"
    }
   },
   "outputs": [
    {
     "data": {
      "text/html": [
       "<div>\n",
       "<style scoped>\n",
       "    .dataframe tbody tr th:only-of-type {\n",
       "        vertical-align: middle;\n",
       "    }\n",
       "\n",
       "    .dataframe tbody tr th {\n",
       "        vertical-align: top;\n",
       "    }\n",
       "\n",
       "    .dataframe thead th {\n",
       "        text-align: right;\n",
       "    }\n",
       "</style>\n",
       "<table border=\"1\" class=\"dataframe\">\n",
       "  <thead>\n",
       "    <tr style=\"text-align: right;\">\n",
       "      <th></th>\n",
       "      <th>Restaurant_id</th>\n",
       "      <th>City</th>\n",
       "      <th>Cuisine Style</th>\n",
       "      <th>Ranking</th>\n",
       "      <th>Price Range</th>\n",
       "      <th>Number of Reviews</th>\n",
       "      <th>Reviews</th>\n",
       "      <th>URL_TA</th>\n",
       "      <th>ID_TA</th>\n",
       "      <th>sample</th>\n",
       "      <th>Rating</th>\n",
       "      <th>isNAN</th>\n",
       "      <th>Number of Cuisines</th>\n",
       "      <th>City Population</th>\n",
       "      <th>Normal Ranking</th>\n",
       "    </tr>\n",
       "  </thead>\n",
       "  <tbody>\n",
       "    <tr>\n",
       "      <th>0</th>\n",
       "      <td>id_0</td>\n",
       "      <td>Paris</td>\n",
       "      <td>['Bar', 'Pub']</td>\n",
       "      <td>12963.0</td>\n",
       "      <td>2</td>\n",
       "      <td>4.0</td>\n",
       "      <td>[[], []]</td>\n",
       "      <td>/Restaurant_Review-g187147-d10746918-Reviews-L...</td>\n",
       "      <td>d10746918</td>\n",
       "      <td>0</td>\n",
       "      <td>0.0</td>\n",
       "      <td>0</td>\n",
       "      <td>2</td>\n",
       "      <td>2176</td>\n",
       "      <td>0.836971</td>\n",
       "    </tr>\n",
       "    <tr>\n",
       "      <th>1</th>\n",
       "      <td>id_1</td>\n",
       "      <td>Helsinki</td>\n",
       "      <td>['European', 'Scandinavian', 'Gluten Free Opti...</td>\n",
       "      <td>106.0</td>\n",
       "      <td>2</td>\n",
       "      <td>97.0</td>\n",
       "      <td>[['Very good reviews!', 'Fine dining in Hakani...</td>\n",
       "      <td>/Restaurant_Review-g189934-d6674944-Reviews-Ra...</td>\n",
       "      <td>d6674944</td>\n",
       "      <td>0</td>\n",
       "      <td>0.0</td>\n",
       "      <td>0</td>\n",
       "      <td>5</td>\n",
       "      <td>656</td>\n",
       "      <td>0.077884</td>\n",
       "    </tr>\n",
       "    <tr>\n",
       "      <th>2</th>\n",
       "      <td>id_2</td>\n",
       "      <td>Edinburgh</td>\n",
       "      <td>['Vegetarian Friendly']</td>\n",
       "      <td>810.0</td>\n",
       "      <td>2</td>\n",
       "      <td>28.0</td>\n",
       "      <td>[['Better than the Links', 'Ivy Black'], ['12/...</td>\n",
       "      <td>/Restaurant_Review-g186525-d13129638-Reviews-B...</td>\n",
       "      <td>d13129638</td>\n",
       "      <td>0</td>\n",
       "      <td>0.0</td>\n",
       "      <td>0</td>\n",
       "      <td>1</td>\n",
       "      <td>488</td>\n",
       "      <td>0.462329</td>\n",
       "    </tr>\n",
       "    <tr>\n",
       "      <th>3</th>\n",
       "      <td>id_3</td>\n",
       "      <td>London</td>\n",
       "      <td>['Italian', 'Mediterranean', 'European', 'Vege...</td>\n",
       "      <td>1669.0</td>\n",
       "      <td>3</td>\n",
       "      <td>202.0</td>\n",
       "      <td>[['Most exquisite', 'Delicious and authentic']...</td>\n",
       "      <td>/Restaurant_Review-g186338-d680417-Reviews-Qui...</td>\n",
       "      <td>d680417</td>\n",
       "      <td>0</td>\n",
       "      <td>0.0</td>\n",
       "      <td>0</td>\n",
       "      <td>5</td>\n",
       "      <td>8962</td>\n",
       "      <td>0.097894</td>\n",
       "    </tr>\n",
       "    <tr>\n",
       "      <th>4</th>\n",
       "      <td>id_4</td>\n",
       "      <td>Bratislava</td>\n",
       "      <td>['Italian', 'Mediterranean', 'European', 'Seaf...</td>\n",
       "      <td>37.0</td>\n",
       "      <td>3</td>\n",
       "      <td>162.0</td>\n",
       "      <td>[['Always the best in bratislava', 'Very good ...</td>\n",
       "      <td>/Restaurant_Review-g274924-d1112354-Reviews-Ma...</td>\n",
       "      <td>d1112354</td>\n",
       "      <td>0</td>\n",
       "      <td>0.0</td>\n",
       "      <td>0</td>\n",
       "      <td>6</td>\n",
       "      <td>441</td>\n",
       "      <td>0.035543</td>\n",
       "    </tr>\n",
       "    <tr>\n",
       "      <th>...</th>\n",
       "      <td>...</td>\n",
       "      <td>...</td>\n",
       "      <td>...</td>\n",
       "      <td>...</td>\n",
       "      <td>...</td>\n",
       "      <td>...</td>\n",
       "      <td>...</td>\n",
       "      <td>...</td>\n",
       "      <td>...</td>\n",
       "      <td>...</td>\n",
       "      <td>...</td>\n",
       "      <td>...</td>\n",
       "      <td>...</td>\n",
       "      <td>...</td>\n",
       "      <td>...</td>\n",
       "    </tr>\n",
       "    <tr>\n",
       "      <th>49995</th>\n",
       "      <td>id_499</td>\n",
       "      <td>Milan</td>\n",
       "      <td>['Italian', 'Vegetarian Friendly', 'Vegan Opti...</td>\n",
       "      <td>500.0</td>\n",
       "      <td>2</td>\n",
       "      <td>79.0</td>\n",
       "      <td>[['The real Italian experience!', 'Wonderful f...</td>\n",
       "      <td>/Restaurant_Review-g187849-d2104414-Reviews-Ro...</td>\n",
       "      <td>d2104414</td>\n",
       "      <td>1</td>\n",
       "      <td>4.5</td>\n",
       "      <td>0</td>\n",
       "      <td>4</td>\n",
       "      <td>1400</td>\n",
       "      <td>0.074772</td>\n",
       "    </tr>\n",
       "    <tr>\n",
       "      <th>49996</th>\n",
       "      <td>id_6340</td>\n",
       "      <td>Paris</td>\n",
       "      <td>['French', 'American', 'Bar', 'European', 'Veg...</td>\n",
       "      <td>6341.0</td>\n",
       "      <td>2</td>\n",
       "      <td>542.0</td>\n",
       "      <td>[['Parisian atmosphere', 'Bit pricey but inter...</td>\n",
       "      <td>/Restaurant_Review-g187147-d1800036-Reviews-La...</td>\n",
       "      <td>d1800036</td>\n",
       "      <td>1</td>\n",
       "      <td>3.5</td>\n",
       "      <td>0</td>\n",
       "      <td>5</td>\n",
       "      <td>2176</td>\n",
       "      <td>0.409414</td>\n",
       "    </tr>\n",
       "    <tr>\n",
       "      <th>49997</th>\n",
       "      <td>id_1649</td>\n",
       "      <td>Stockholm</td>\n",
       "      <td>['Japanese', 'Sushi']</td>\n",
       "      <td>1652.0</td>\n",
       "      <td>2</td>\n",
       "      <td>4.0</td>\n",
       "      <td>[['Good by swedish standards', 'A hidden jewel...</td>\n",
       "      <td>/Restaurant_Review-g189852-d947615-Reviews-Sus...</td>\n",
       "      <td>d947615</td>\n",
       "      <td>1</td>\n",
       "      <td>4.5</td>\n",
       "      <td>0</td>\n",
       "      <td>2</td>\n",
       "      <td>976</td>\n",
       "      <td>0.601164</td>\n",
       "    </tr>\n",
       "    <tr>\n",
       "      <th>49998</th>\n",
       "      <td>id_640</td>\n",
       "      <td>Warsaw</td>\n",
       "      <td>['Polish', 'European', 'Eastern European', 'Ce...</td>\n",
       "      <td>641.0</td>\n",
       "      <td>2</td>\n",
       "      <td>70.0</td>\n",
       "      <td>[['Underground restaurant', 'Oldest Restaurant...</td>\n",
       "      <td>/Restaurant_Review-g274856-d1100838-Reviews-Ho...</td>\n",
       "      <td>d1100838</td>\n",
       "      <td>1</td>\n",
       "      <td>4.0</td>\n",
       "      <td>0</td>\n",
       "      <td>5</td>\n",
       "      <td>1794</td>\n",
       "      <td>0.232583</td>\n",
       "    </tr>\n",
       "    <tr>\n",
       "      <th>49999</th>\n",
       "      <td>id_4824</td>\n",
       "      <td>Milan</td>\n",
       "      <td>['Spanish']</td>\n",
       "      <td>4827.0</td>\n",
       "      <td>2</td>\n",
       "      <td>260.0</td>\n",
       "      <td>[['Average', 'Nice an informal'], ['01/31/2016...</td>\n",
       "      <td>/Restaurant_Review-g187849-d1109020-Reviews-Ta...</td>\n",
       "      <td>d1109020</td>\n",
       "      <td>1</td>\n",
       "      <td>3.0</td>\n",
       "      <td>0</td>\n",
       "      <td>1</td>\n",
       "      <td>1400</td>\n",
       "      <td>0.721848</td>\n",
       "    </tr>\n",
       "  </tbody>\n",
       "</table>\n",
       "<p>50000 rows × 15 columns</p>\n",
       "</div>"
      ],
      "text/plain": [
       "      Restaurant_id        City  \\\n",
       "0              id_0       Paris   \n",
       "1              id_1    Helsinki   \n",
       "2              id_2   Edinburgh   \n",
       "3              id_3      London   \n",
       "4              id_4  Bratislava   \n",
       "...             ...         ...   \n",
       "49995        id_499       Milan   \n",
       "49996       id_6340       Paris   \n",
       "49997       id_1649   Stockholm   \n",
       "49998        id_640      Warsaw   \n",
       "49999       id_4824       Milan   \n",
       "\n",
       "                                           Cuisine Style  Ranking  \\\n",
       "0                                         ['Bar', 'Pub']  12963.0   \n",
       "1      ['European', 'Scandinavian', 'Gluten Free Opti...    106.0   \n",
       "2                                ['Vegetarian Friendly']    810.0   \n",
       "3      ['Italian', 'Mediterranean', 'European', 'Vege...   1669.0   \n",
       "4      ['Italian', 'Mediterranean', 'European', 'Seaf...     37.0   \n",
       "...                                                  ...      ...   \n",
       "49995  ['Italian', 'Vegetarian Friendly', 'Vegan Opti...    500.0   \n",
       "49996  ['French', 'American', 'Bar', 'European', 'Veg...   6341.0   \n",
       "49997                              ['Japanese', 'Sushi']   1652.0   \n",
       "49998  ['Polish', 'European', 'Eastern European', 'Ce...    641.0   \n",
       "49999                                        ['Spanish']   4827.0   \n",
       "\n",
       "       Price Range  Number of Reviews  \\\n",
       "0                2                4.0   \n",
       "1                2               97.0   \n",
       "2                2               28.0   \n",
       "3                3              202.0   \n",
       "4                3              162.0   \n",
       "...            ...                ...   \n",
       "49995            2               79.0   \n",
       "49996            2              542.0   \n",
       "49997            2                4.0   \n",
       "49998            2               70.0   \n",
       "49999            2              260.0   \n",
       "\n",
       "                                                 Reviews  \\\n",
       "0                                               [[], []]   \n",
       "1      [['Very good reviews!', 'Fine dining in Hakani...   \n",
       "2      [['Better than the Links', 'Ivy Black'], ['12/...   \n",
       "3      [['Most exquisite', 'Delicious and authentic']...   \n",
       "4      [['Always the best in bratislava', 'Very good ...   \n",
       "...                                                  ...   \n",
       "49995  [['The real Italian experience!', 'Wonderful f...   \n",
       "49996  [['Parisian atmosphere', 'Bit pricey but inter...   \n",
       "49997  [['Good by swedish standards', 'A hidden jewel...   \n",
       "49998  [['Underground restaurant', 'Oldest Restaurant...   \n",
       "49999  [['Average', 'Nice an informal'], ['01/31/2016...   \n",
       "\n",
       "                                                  URL_TA      ID_TA  sample  \\\n",
       "0      /Restaurant_Review-g187147-d10746918-Reviews-L...  d10746918       0   \n",
       "1      /Restaurant_Review-g189934-d6674944-Reviews-Ra...   d6674944       0   \n",
       "2      /Restaurant_Review-g186525-d13129638-Reviews-B...  d13129638       0   \n",
       "3      /Restaurant_Review-g186338-d680417-Reviews-Qui...    d680417       0   \n",
       "4      /Restaurant_Review-g274924-d1112354-Reviews-Ma...   d1112354       0   \n",
       "...                                                  ...        ...     ...   \n",
       "49995  /Restaurant_Review-g187849-d2104414-Reviews-Ro...   d2104414       1   \n",
       "49996  /Restaurant_Review-g187147-d1800036-Reviews-La...   d1800036       1   \n",
       "49997  /Restaurant_Review-g189852-d947615-Reviews-Sus...    d947615       1   \n",
       "49998  /Restaurant_Review-g274856-d1100838-Reviews-Ho...   d1100838       1   \n",
       "49999  /Restaurant_Review-g187849-d1109020-Reviews-Ta...   d1109020       1   \n",
       "\n",
       "       Rating  isNAN  Number of Cuisines  City Population  Normal Ranking  \n",
       "0         0.0      0                   2             2176        0.836971  \n",
       "1         0.0      0                   5              656        0.077884  \n",
       "2         0.0      0                   1              488        0.462329  \n",
       "3         0.0      0                   5             8962        0.097894  \n",
       "4         0.0      0                   6              441        0.035543  \n",
       "...       ...    ...                 ...              ...             ...  \n",
       "49995     4.5      0                   4             1400        0.074772  \n",
       "49996     3.5      0                   5             2176        0.409414  \n",
       "49997     4.5      0                   2              976        0.601164  \n",
       "49998     4.0      0                   5             1794        0.232583  \n",
       "49999     3.0      0                   1             1400        0.721848  \n",
       "\n",
       "[50000 rows x 15 columns]"
      ]
     },
     "execution_count": 30,
     "metadata": {},
     "output_type": "execute_result"
    }
   ],
   "source": [
    "# Number of restaurants from TripAdvisor on 25.05.2021\n",
    "# Used the second number from \"#30 из 17 049 ресторанов в Лондон\"\n",
    "number_of_restaurants_dict = {\n",
    "    'London': 17049,\n",
    "    'Paris': 15488,\n",
    "    'Madrid': 10231,\n",
    "    'Barcelona': 8668,\n",
    "    'Berlin': 5582,\n",
    "    'Milan': 6687,\n",
    "    'Rome': 10253,\n",
    "    'Prague': 4634,\n",
    "    'Lisbon': 4507,\n",
    "    'Vienna': 3748,\n",
    "    'Amsterdam': 3649,\n",
    "    'Brussels': 2363,\n",
    "    'Hamburg': 2880,\n",
    "    'Munich': 2850,\n",
    "    'Lyon': 2537,\n",
    "    'Stockholm': 2748,\n",
    "    'Budapest': 2756,\n",
    "    'Warsaw': 2756, # That's correct - just coincidentally with Budapest \n",
    "    'Dublin': 2092,\n",
    "    'Copenhagen': 1968,\n",
    "    'Athens': 2311,\n",
    "    'Edinburgh': 1752,\n",
    "    'Zurich': 1666,\n",
    "    'Oporto': 1827, # aka Porto\n",
    "    'Geneva': 1329,\n",
    "    'Krakow': 1501,\n",
    "    'Oslo': 1171,\n",
    "    'Helsinki': 1361,\n",
    "    'Bratislava': 1041,\n",
    "    'Luxembourg': 657,\n",
    "    'Ljubljana': 539 \n",
    "}\n",
    "\n",
    "# Normalize - 'Normal Ranking' = 'Ranking' / 'Number of restaurants in a city'\n",
    "data['Normal Ranking'] = data.apply(lambda row: row['Ranking'] / number_of_restaurants_dict[row['City']], axis = 1)\n",
    "\n",
    "data"
   ]
  },
  {
   "cell_type": "code",
   "execution_count": 31,
   "metadata": {
    "execution": {
     "iopub.execute_input": "2021-05-26T13:57:02.134618Z",
     "iopub.status.busy": "2021-05-26T13:57:02.134353Z",
     "iopub.status.idle": "2021-05-26T13:57:03.861854Z",
     "shell.execute_reply": "2021-05-26T13:57:03.860547Z",
     "shell.execute_reply.started": "2021-05-26T13:57:02.134570Z"
    }
   },
   "outputs": [],
   "source": [
    "# 210525-1955\n",
    "# For each restaurant add 'amount or restaurants' / 'city population'\n",
    "\n",
    "data['Restaurants per 000 People'] = data.apply(lambda row: number_of_restaurants_dict[row['City']] / \n",
    "                                           city_population_dict[row['City']], axis = 1)"
   ]
  },
  {
   "cell_type": "code",
   "execution_count": 32,
   "metadata": {
    "execution": {
     "iopub.execute_input": "2021-05-26T13:57:03.864267Z",
     "iopub.status.busy": "2021-05-26T13:57:03.863692Z",
     "iopub.status.idle": "2021-05-26T13:57:03.876688Z",
     "shell.execute_reply": "2021-05-26T13:57:03.875377Z",
     "shell.execute_reply.started": "2021-05-26T13:57:03.864165Z"
    }
   },
   "outputs": [
    {
     "data": {
      "text/plain": [
       "(103.0, 15841899.0, 202320.98578)"
      ]
     },
     "execution_count": 32,
     "metadata": {},
     "output_type": "execute_result"
    }
   ],
   "source": [
    "# Ranking by 'Number of Reviews'\n",
    "data['Ranking by Number of Reviews'] = data['Ranking'] * data['Number of Reviews']\n",
    "\n",
    "data['Ranking by Number of Reviews'].min(), data['Ranking by Number of Reviews'].max(), data['Ranking by Number of Reviews'].mean()"
   ]
  },
  {
   "cell_type": "code",
   "execution_count": 33,
   "metadata": {
    "execution": {
     "iopub.execute_input": "2021-05-26T13:57:03.878497Z",
     "iopub.status.busy": "2021-05-26T13:57:03.878230Z",
     "iopub.status.idle": "2021-05-26T13:57:03.885861Z",
     "shell.execute_reply": "2021-05-26T13:57:03.884839Z",
     "shell.execute_reply.started": "2021-05-26T13:57:03.878451Z"
    }
   },
   "outputs": [],
   "source": [
    "# Tried normalize 'Ranking by Number of Reviews' by dividing by 15,000,000\n",
    "# but got worse MAE "
   ]
  },
  {
   "cell_type": "code",
   "execution_count": 34,
   "metadata": {
    "execution": {
     "iopub.execute_input": "2021-05-26T13:57:03.887664Z",
     "iopub.status.busy": "2021-05-26T13:57:03.887439Z",
     "iopub.status.idle": "2021-05-26T13:57:03.897939Z",
     "shell.execute_reply": "2021-05-26T13:57:03.896732Z",
     "shell.execute_reply.started": "2021-05-26T13:57:03.887630Z"
    }
   },
   "outputs": [],
   "source": [
    "# 'Reviews per Population' - doesn't improve MAE\n",
    "\n",
    "# data['Reviews per Population'] = data['Number of Reviews'] / data['City Population']\n",
    "# data['Reviews per Population'].min(), data['Reviews per Population'].max(), data['Reviews per Population'].mean()"
   ]
  },
  {
   "cell_type": "code",
   "execution_count": 35,
   "metadata": {
    "execution": {
     "iopub.execute_input": "2021-05-26T13:57:03.899684Z",
     "iopub.status.busy": "2021-05-26T13:57:03.899366Z",
     "iopub.status.idle": "2021-05-26T13:57:03.947875Z",
     "shell.execute_reply": "2021-05-26T13:57:03.946544Z",
     "shell.execute_reply.started": "2021-05-26T13:57:03.899634Z"
    }
   },
   "outputs": [
    {
     "name": "stdout",
     "output_type": "stream",
     "text": [
      "<class 'pandas.core.frame.DataFrame'>\n",
      "RangeIndex: 50000 entries, 0 to 49999\n",
      "Data columns (total 17 columns):\n",
      "Restaurant_id                   50000 non-null object\n",
      "City                            50000 non-null object\n",
      "Cuisine Style                   50000 non-null object\n",
      "Ranking                         50000 non-null float64\n",
      "Price Range                     50000 non-null int64\n",
      "Number of Reviews               50000 non-null float64\n",
      "Reviews                         49998 non-null object\n",
      "URL_TA                          50000 non-null object\n",
      "ID_TA                           50000 non-null object\n",
      "sample                          50000 non-null int64\n",
      "Rating                          50000 non-null float64\n",
      "isNAN                           50000 non-null uint8\n",
      "Number of Cuisines              50000 non-null int64\n",
      "City Population                 50000 non-null int64\n",
      "Normal Ranking                  50000 non-null float64\n",
      "Restaurants per 000 People      50000 non-null float64\n",
      "Ranking by Number of Reviews    50000 non-null float64\n",
      "dtypes: float64(6), int64(4), object(6), uint8(1)\n",
      "memory usage: 6.2+ MB\n"
     ]
    }
   ],
   "source": [
    "data.info()"
   ]
  },
  {
   "cell_type": "code",
   "execution_count": null,
   "metadata": {},
   "outputs": [],
   "source": []
  },
  {
   "cell_type": "code",
   "execution_count": null,
   "metadata": {},
   "outputs": [],
   "source": []
  },
  {
   "cell_type": "code",
   "execution_count": 36,
   "metadata": {
    "execution": {
     "iopub.execute_input": "2021-05-26T13:57:03.951788Z",
     "iopub.status.busy": "2021-05-26T13:57:03.951420Z",
     "iopub.status.idle": "2021-05-26T13:57:03.985429Z",
     "shell.execute_reply": "2021-05-26T13:57:03.984373Z",
     "shell.execute_reply.started": "2021-05-26T13:57:03.951729Z"
    }
   },
   "outputs": [],
   "source": [
    "# для One-Hot Encoding в pandas есть готовая функция - get_dummies. Особенно радует параметр dummy_na\n",
    "data = pd.get_dummies(data, columns=[ 'City',], dummy_na=True)"
   ]
  },
  {
   "cell_type": "code",
   "execution_count": 37,
   "metadata": {
    "execution": {
     "iopub.execute_input": "2021-05-26T13:57:03.987695Z",
     "iopub.status.busy": "2021-05-26T13:57:03.987312Z",
     "iopub.status.idle": "2021-05-26T13:57:04.024834Z",
     "shell.execute_reply": "2021-05-26T13:57:04.023509Z",
     "shell.execute_reply.started": "2021-05-26T13:57:03.987629Z"
    }
   },
   "outputs": [
    {
     "data": {
      "text/html": [
       "<div>\n",
       "<style scoped>\n",
       "    .dataframe tbody tr th:only-of-type {\n",
       "        vertical-align: middle;\n",
       "    }\n",
       "\n",
       "    .dataframe tbody tr th {\n",
       "        vertical-align: top;\n",
       "    }\n",
       "\n",
       "    .dataframe thead th {\n",
       "        text-align: right;\n",
       "    }\n",
       "</style>\n",
       "<table border=\"1\" class=\"dataframe\">\n",
       "  <thead>\n",
       "    <tr style=\"text-align: right;\">\n",
       "      <th></th>\n",
       "      <th>Restaurant_id</th>\n",
       "      <th>Cuisine Style</th>\n",
       "      <th>Ranking</th>\n",
       "      <th>Price Range</th>\n",
       "      <th>Number of Reviews</th>\n",
       "      <th>Reviews</th>\n",
       "      <th>URL_TA</th>\n",
       "      <th>ID_TA</th>\n",
       "      <th>sample</th>\n",
       "      <th>Rating</th>\n",
       "      <th>...</th>\n",
       "      <th>City_Oporto</th>\n",
       "      <th>City_Oslo</th>\n",
       "      <th>City_Paris</th>\n",
       "      <th>City_Prague</th>\n",
       "      <th>City_Rome</th>\n",
       "      <th>City_Stockholm</th>\n",
       "      <th>City_Vienna</th>\n",
       "      <th>City_Warsaw</th>\n",
       "      <th>City_Zurich</th>\n",
       "      <th>City_nan</th>\n",
       "    </tr>\n",
       "  </thead>\n",
       "  <tbody>\n",
       "    <tr>\n",
       "      <th>0</th>\n",
       "      <td>id_0</td>\n",
       "      <td>['Bar', 'Pub']</td>\n",
       "      <td>12963.0</td>\n",
       "      <td>2</td>\n",
       "      <td>4.0</td>\n",
       "      <td>[[], []]</td>\n",
       "      <td>/Restaurant_Review-g187147-d10746918-Reviews-L...</td>\n",
       "      <td>d10746918</td>\n",
       "      <td>0</td>\n",
       "      <td>0.0</td>\n",
       "      <td>...</td>\n",
       "      <td>0</td>\n",
       "      <td>0</td>\n",
       "      <td>1</td>\n",
       "      <td>0</td>\n",
       "      <td>0</td>\n",
       "      <td>0</td>\n",
       "      <td>0</td>\n",
       "      <td>0</td>\n",
       "      <td>0</td>\n",
       "      <td>0</td>\n",
       "    </tr>\n",
       "    <tr>\n",
       "      <th>1</th>\n",
       "      <td>id_1</td>\n",
       "      <td>['European', 'Scandinavian', 'Gluten Free Opti...</td>\n",
       "      <td>106.0</td>\n",
       "      <td>2</td>\n",
       "      <td>97.0</td>\n",
       "      <td>[['Very good reviews!', 'Fine dining in Hakani...</td>\n",
       "      <td>/Restaurant_Review-g189934-d6674944-Reviews-Ra...</td>\n",
       "      <td>d6674944</td>\n",
       "      <td>0</td>\n",
       "      <td>0.0</td>\n",
       "      <td>...</td>\n",
       "      <td>0</td>\n",
       "      <td>0</td>\n",
       "      <td>0</td>\n",
       "      <td>0</td>\n",
       "      <td>0</td>\n",
       "      <td>0</td>\n",
       "      <td>0</td>\n",
       "      <td>0</td>\n",
       "      <td>0</td>\n",
       "      <td>0</td>\n",
       "    </tr>\n",
       "    <tr>\n",
       "      <th>2</th>\n",
       "      <td>id_2</td>\n",
       "      <td>['Vegetarian Friendly']</td>\n",
       "      <td>810.0</td>\n",
       "      <td>2</td>\n",
       "      <td>28.0</td>\n",
       "      <td>[['Better than the Links', 'Ivy Black'], ['12/...</td>\n",
       "      <td>/Restaurant_Review-g186525-d13129638-Reviews-B...</td>\n",
       "      <td>d13129638</td>\n",
       "      <td>0</td>\n",
       "      <td>0.0</td>\n",
       "      <td>...</td>\n",
       "      <td>0</td>\n",
       "      <td>0</td>\n",
       "      <td>0</td>\n",
       "      <td>0</td>\n",
       "      <td>0</td>\n",
       "      <td>0</td>\n",
       "      <td>0</td>\n",
       "      <td>0</td>\n",
       "      <td>0</td>\n",
       "      <td>0</td>\n",
       "    </tr>\n",
       "    <tr>\n",
       "      <th>3</th>\n",
       "      <td>id_3</td>\n",
       "      <td>['Italian', 'Mediterranean', 'European', 'Vege...</td>\n",
       "      <td>1669.0</td>\n",
       "      <td>3</td>\n",
       "      <td>202.0</td>\n",
       "      <td>[['Most exquisite', 'Delicious and authentic']...</td>\n",
       "      <td>/Restaurant_Review-g186338-d680417-Reviews-Qui...</td>\n",
       "      <td>d680417</td>\n",
       "      <td>0</td>\n",
       "      <td>0.0</td>\n",
       "      <td>...</td>\n",
       "      <td>0</td>\n",
       "      <td>0</td>\n",
       "      <td>0</td>\n",
       "      <td>0</td>\n",
       "      <td>0</td>\n",
       "      <td>0</td>\n",
       "      <td>0</td>\n",
       "      <td>0</td>\n",
       "      <td>0</td>\n",
       "      <td>0</td>\n",
       "    </tr>\n",
       "    <tr>\n",
       "      <th>4</th>\n",
       "      <td>id_4</td>\n",
       "      <td>['Italian', 'Mediterranean', 'European', 'Seaf...</td>\n",
       "      <td>37.0</td>\n",
       "      <td>3</td>\n",
       "      <td>162.0</td>\n",
       "      <td>[['Always the best in bratislava', 'Very good ...</td>\n",
       "      <td>/Restaurant_Review-g274924-d1112354-Reviews-Ma...</td>\n",
       "      <td>d1112354</td>\n",
       "      <td>0</td>\n",
       "      <td>0.0</td>\n",
       "      <td>...</td>\n",
       "      <td>0</td>\n",
       "      <td>0</td>\n",
       "      <td>0</td>\n",
       "      <td>0</td>\n",
       "      <td>0</td>\n",
       "      <td>0</td>\n",
       "      <td>0</td>\n",
       "      <td>0</td>\n",
       "      <td>0</td>\n",
       "      <td>0</td>\n",
       "    </tr>\n",
       "  </tbody>\n",
       "</table>\n",
       "<p>5 rows × 48 columns</p>\n",
       "</div>"
      ],
      "text/plain": [
       "  Restaurant_id                                      Cuisine Style  Ranking  \\\n",
       "0          id_0                                     ['Bar', 'Pub']  12963.0   \n",
       "1          id_1  ['European', 'Scandinavian', 'Gluten Free Opti...    106.0   \n",
       "2          id_2                            ['Vegetarian Friendly']    810.0   \n",
       "3          id_3  ['Italian', 'Mediterranean', 'European', 'Vege...   1669.0   \n",
       "4          id_4  ['Italian', 'Mediterranean', 'European', 'Seaf...     37.0   \n",
       "\n",
       "   Price Range  Number of Reviews  \\\n",
       "0            2                4.0   \n",
       "1            2               97.0   \n",
       "2            2               28.0   \n",
       "3            3              202.0   \n",
       "4            3              162.0   \n",
       "\n",
       "                                             Reviews  \\\n",
       "0                                           [[], []]   \n",
       "1  [['Very good reviews!', 'Fine dining in Hakani...   \n",
       "2  [['Better than the Links', 'Ivy Black'], ['12/...   \n",
       "3  [['Most exquisite', 'Delicious and authentic']...   \n",
       "4  [['Always the best in bratislava', 'Very good ...   \n",
       "\n",
       "                                              URL_TA      ID_TA  sample  \\\n",
       "0  /Restaurant_Review-g187147-d10746918-Reviews-L...  d10746918       0   \n",
       "1  /Restaurant_Review-g189934-d6674944-Reviews-Ra...   d6674944       0   \n",
       "2  /Restaurant_Review-g186525-d13129638-Reviews-B...  d13129638       0   \n",
       "3  /Restaurant_Review-g186338-d680417-Reviews-Qui...    d680417       0   \n",
       "4  /Restaurant_Review-g274924-d1112354-Reviews-Ma...   d1112354       0   \n",
       "\n",
       "   Rating  ...  City_Oporto  City_Oslo  City_Paris  City_Prague  City_Rome  \\\n",
       "0     0.0  ...            0          0           1            0          0   \n",
       "1     0.0  ...            0          0           0            0          0   \n",
       "2     0.0  ...            0          0           0            0          0   \n",
       "3     0.0  ...            0          0           0            0          0   \n",
       "4     0.0  ...            0          0           0            0          0   \n",
       "\n",
       "   City_Stockholm  City_Vienna  City_Warsaw  City_Zurich  City_nan  \n",
       "0               0            0            0            0         0  \n",
       "1               0            0            0            0         0  \n",
       "2               0            0            0            0         0  \n",
       "3               0            0            0            0         0  \n",
       "4               0            0            0            0         0  \n",
       "\n",
       "[5 rows x 48 columns]"
      ]
     },
     "execution_count": 37,
     "metadata": {},
     "output_type": "execute_result"
    }
   ],
   "source": [
    "data.head(5)"
   ]
  },
  {
   "cell_type": "markdown",
   "metadata": {},
   "source": [
    "> Для некоторых алгоритмов МЛ даже для не категориальных признаков можно применить One-Hot Encoding, и это может улучшить качество модели. Пробуйте разные подходы к кодированию признака - никто не знает заранее, что может взлететь."
   ]
  },
  {
   "cell_type": "markdown",
   "metadata": {},
   "source": [
    "# EDA \n",
    "[Exploratory Data Analysis](https://ru.wikipedia.org/wiki/Разведочный_анализ_данных) - Анализ данных\n",
    "На этом этапе мы строим графики, ищем закономерности, аномалии, выбросы или связи между признаками.\n",
    "В общем цель этого этапа понять, что эти данные могут нам дать и как признаки могут быть взаимосвязаны между собой.\n",
    "Понимание изначальных признаков позволит сгенерировать новые, более сильные и, тем самым, сделать нашу модель лучше.\n",
    "![](https://miro.medium.com/max/2598/1*RXdMb7Uk6mGqWqPguHULaQ.png)"
   ]
  },
  {
   "cell_type": "markdown",
   "metadata": {},
   "source": [
    "### Посмотрим распределение признака"
   ]
  },
  {
   "cell_type": "code",
   "execution_count": 38,
   "metadata": {
    "execution": {
     "iopub.execute_input": "2021-05-26T13:57:04.026712Z",
     "iopub.status.busy": "2021-05-26T13:57:04.026430Z",
     "iopub.status.idle": "2021-05-26T13:57:04.537131Z",
     "shell.execute_reply": "2021-05-26T13:57:04.535937Z",
     "shell.execute_reply.started": "2021-05-26T13:57:04.026662Z"
    }
   },
   "outputs": [
    {
     "data": {
      "text/plain": [
       "<matplotlib.axes._subplots.AxesSubplot at 0x7ff72a363cf8>"
      ]
     },
     "execution_count": 38,
     "metadata": {},
     "output_type": "execute_result"
    },
    {
     "data": {
      "image/png": "[encoded data removed]",
      "text/plain": [
       "<Figure size 864x576 with 1 Axes>"
      ]
     },
     "metadata": {
      "needs_background": "light"
     },
     "output_type": "display_data"
    }
   ],
   "source": [
    "plt.rcParams['figure.figsize'] = (12,8)\n",
    "df_train['Ranking'].hist(bins=100)"
   ]
  },
  {
   "cell_type": "markdown",
   "metadata": {},
   "source": [
    "У нас много ресторанов, которые не дотягивают и до 2500 места в своем городе, а что там по городам?"
   ]
  },
  {
   "cell_type": "code",
   "execution_count": 39,
   "metadata": {
    "execution": {
     "iopub.execute_input": "2021-05-26T13:57:04.539528Z",
     "iopub.status.busy": "2021-05-26T13:57:04.538889Z",
     "iopub.status.idle": "2021-05-26T13:57:04.939583Z",
     "shell.execute_reply": "2021-05-26T13:57:04.938497Z",
     "shell.execute_reply.started": "2021-05-26T13:57:04.539460Z"
    }
   },
   "outputs": [
    {
     "data": {
      "text/plain": [
       "<matplotlib.axes._subplots.AxesSubplot at 0x7ff723580a20>"
      ]
     },
     "execution_count": 39,
     "metadata": {},
     "output_type": "execute_result"
    },
    {
     "data": {
      "image/png": "[encoded data removed]",
      "text/plain": [
       "<Figure size 864x576 with 1 Axes>"
      ]
     },
     "metadata": {
      "needs_background": "light"
     },
     "output_type": "display_data"
    }
   ],
   "source": [
    "df_train['City'].value_counts(ascending=True).plot(kind='barh')"
   ]
  },
  {
   "cell_type": "markdown",
   "metadata": {},
   "source": [
    "А кто-то говорил, что французы любят поесть=) Посмотрим, как изменится распределение в большом городе:"
   ]
  },
  {
   "cell_type": "code",
   "execution_count": 40,
   "metadata": {
    "execution": {
     "iopub.execute_input": "2021-05-26T13:57:04.942383Z",
     "iopub.status.busy": "2021-05-26T13:57:04.941561Z",
     "iopub.status.idle": "2021-05-26T13:57:05.419436Z",
     "shell.execute_reply": "2021-05-26T13:57:05.418321Z",
     "shell.execute_reply.started": "2021-05-26T13:57:04.942313Z"
    }
   },
   "outputs": [
    {
     "data": {
      "text/plain": [
       "<matplotlib.axes._subplots.AxesSubplot at 0x7ff722cf3cc0>"
      ]
     },
     "execution_count": 40,
     "metadata": {},
     "output_type": "execute_result"
    },
    {
     "data": {
      "image/png": "[encoded data removed]",
      "text/plain": [
       "<Figure size 864x576 with 1 Axes>"
      ]
     },
     "metadata": {
      "needs_background": "light"
     },
     "output_type": "display_data"
    }
   ],
   "source": [
    "df_train['Ranking'][df_train['City'] =='London'].hist(bins=100)"
   ]
  },
  {
   "cell_type": "code",
   "execution_count": 41,
   "metadata": {
    "execution": {
     "iopub.execute_input": "2021-05-26T13:57:05.421895Z",
     "iopub.status.busy": "2021-05-26T13:57:05.421339Z",
     "iopub.status.idle": "2021-05-26T13:57:08.048470Z",
     "shell.execute_reply": "2021-05-26T13:57:08.047068Z",
     "shell.execute_reply.started": "2021-05-26T13:57:05.421689Z"
    }
   },
   "outputs": [
    {
     "data": {
      "image/png": "[encoded data removed]",
      "text/plain": [
       "<Figure size 864x576 with 1 Axes>"
      ]
     },
     "metadata": {
      "needs_background": "light"
     },
     "output_type": "display_data"
    }
   ],
   "source": [
    "# посмотрим на топ 10 городов\n",
    "for x in (df_train['City'].value_counts())[0:10].index:\n",
    "    df_train['Ranking'][df_train['City'] == x].hist(bins=100)\n",
    "plt.show()"
   ]
  },
  {
   "cell_type": "markdown",
   "metadata": {},
   "source": [
    "Получается, что Ranking имеет нормальное распределение, просто в больших городах больше ресторанов, из-за мы этого имеем смещение.\n",
    "\n",
    ">Подумайте как из этого можно сделать признак для вашей модели. Я покажу вам пример, как визуализация помогает находить взаимосвязи. А далее действуйте без подсказок =) \n"
   ]
  },
  {
   "cell_type": "code",
   "execution_count": 42,
   "metadata": {
    "execution": {
     "iopub.execute_input": "2021-05-26T13:57:08.050573Z",
     "iopub.status.busy": "2021-05-26T13:57:08.050185Z",
     "iopub.status.idle": "2021-05-26T13:57:08.087049Z",
     "shell.execute_reply": "2021-05-26T13:57:08.085836Z",
     "shell.execute_reply.started": "2021-05-26T13:57:08.050500Z"
    }
   },
   "outputs": [
    {
     "data": {
      "text/html": [
       "<div>\n",
       "<style scoped>\n",
       "    .dataframe tbody tr th:only-of-type {\n",
       "        vertical-align: middle;\n",
       "    }\n",
       "\n",
       "    .dataframe tbody tr th {\n",
       "        vertical-align: top;\n",
       "    }\n",
       "\n",
       "    .dataframe thead th {\n",
       "        text-align: right;\n",
       "    }\n",
       "</style>\n",
       "<table border=\"1\" class=\"dataframe\">\n",
       "  <thead>\n",
       "    <tr style=\"text-align: right;\">\n",
       "      <th></th>\n",
       "      <th>Restaurant_id</th>\n",
       "      <th>Cuisine Style</th>\n",
       "      <th>Ranking</th>\n",
       "      <th>Price Range</th>\n",
       "      <th>Number of Reviews</th>\n",
       "      <th>Reviews</th>\n",
       "      <th>URL_TA</th>\n",
       "      <th>ID_TA</th>\n",
       "      <th>sample</th>\n",
       "      <th>Rating</th>\n",
       "      <th>...</th>\n",
       "      <th>City_Oporto</th>\n",
       "      <th>City_Oslo</th>\n",
       "      <th>City_Paris</th>\n",
       "      <th>City_Prague</th>\n",
       "      <th>City_Rome</th>\n",
       "      <th>City_Stockholm</th>\n",
       "      <th>City_Vienna</th>\n",
       "      <th>City_Warsaw</th>\n",
       "      <th>City_Zurich</th>\n",
       "      <th>City_nan</th>\n",
       "    </tr>\n",
       "  </thead>\n",
       "  <tbody>\n",
       "    <tr>\n",
       "      <th>0</th>\n",
       "      <td>id_0</td>\n",
       "      <td>['Bar', 'Pub']</td>\n",
       "      <td>12963.0</td>\n",
       "      <td>2</td>\n",
       "      <td>4.0</td>\n",
       "      <td>[[], []]</td>\n",
       "      <td>/Restaurant_Review-g187147-d10746918-Reviews-L...</td>\n",
       "      <td>d10746918</td>\n",
       "      <td>0</td>\n",
       "      <td>0.0</td>\n",
       "      <td>...</td>\n",
       "      <td>0</td>\n",
       "      <td>0</td>\n",
       "      <td>1</td>\n",
       "      <td>0</td>\n",
       "      <td>0</td>\n",
       "      <td>0</td>\n",
       "      <td>0</td>\n",
       "      <td>0</td>\n",
       "      <td>0</td>\n",
       "      <td>0</td>\n",
       "    </tr>\n",
       "    <tr>\n",
       "      <th>1</th>\n",
       "      <td>id_1</td>\n",
       "      <td>['European', 'Scandinavian', 'Gluten Free Opti...</td>\n",
       "      <td>106.0</td>\n",
       "      <td>2</td>\n",
       "      <td>97.0</td>\n",
       "      <td>[['Very good reviews!', 'Fine dining in Hakani...</td>\n",
       "      <td>/Restaurant_Review-g189934-d6674944-Reviews-Ra...</td>\n",
       "      <td>d6674944</td>\n",
       "      <td>0</td>\n",
       "      <td>0.0</td>\n",
       "      <td>...</td>\n",
       "      <td>0</td>\n",
       "      <td>0</td>\n",
       "      <td>0</td>\n",
       "      <td>0</td>\n",
       "      <td>0</td>\n",
       "      <td>0</td>\n",
       "      <td>0</td>\n",
       "      <td>0</td>\n",
       "      <td>0</td>\n",
       "      <td>0</td>\n",
       "    </tr>\n",
       "    <tr>\n",
       "      <th>2</th>\n",
       "      <td>id_2</td>\n",
       "      <td>['Vegetarian Friendly']</td>\n",
       "      <td>810.0</td>\n",
       "      <td>2</td>\n",
       "      <td>28.0</td>\n",
       "      <td>[['Better than the Links', 'Ivy Black'], ['12/...</td>\n",
       "      <td>/Restaurant_Review-g186525-d13129638-Reviews-B...</td>\n",
       "      <td>d13129638</td>\n",
       "      <td>0</td>\n",
       "      <td>0.0</td>\n",
       "      <td>...</td>\n",
       "      <td>0</td>\n",
       "      <td>0</td>\n",
       "      <td>0</td>\n",
       "      <td>0</td>\n",
       "      <td>0</td>\n",
       "      <td>0</td>\n",
       "      <td>0</td>\n",
       "      <td>0</td>\n",
       "      <td>0</td>\n",
       "      <td>0</td>\n",
       "    </tr>\n",
       "    <tr>\n",
       "      <th>3</th>\n",
       "      <td>id_3</td>\n",
       "      <td>['Italian', 'Mediterranean', 'European', 'Vege...</td>\n",
       "      <td>1669.0</td>\n",
       "      <td>3</td>\n",
       "      <td>202.0</td>\n",
       "      <td>[['Most exquisite', 'Delicious and authentic']...</td>\n",
       "      <td>/Restaurant_Review-g186338-d680417-Reviews-Qui...</td>\n",
       "      <td>d680417</td>\n",
       "      <td>0</td>\n",
       "      <td>0.0</td>\n",
       "      <td>...</td>\n",
       "      <td>0</td>\n",
       "      <td>0</td>\n",
       "      <td>0</td>\n",
       "      <td>0</td>\n",
       "      <td>0</td>\n",
       "      <td>0</td>\n",
       "      <td>0</td>\n",
       "      <td>0</td>\n",
       "      <td>0</td>\n",
       "      <td>0</td>\n",
       "    </tr>\n",
       "    <tr>\n",
       "      <th>4</th>\n",
       "      <td>id_4</td>\n",
       "      <td>['Italian', 'Mediterranean', 'European', 'Seaf...</td>\n",
       "      <td>37.0</td>\n",
       "      <td>3</td>\n",
       "      <td>162.0</td>\n",
       "      <td>[['Always the best in bratislava', 'Very good ...</td>\n",
       "      <td>/Restaurant_Review-g274924-d1112354-Reviews-Ma...</td>\n",
       "      <td>d1112354</td>\n",
       "      <td>0</td>\n",
       "      <td>0.0</td>\n",
       "      <td>...</td>\n",
       "      <td>0</td>\n",
       "      <td>0</td>\n",
       "      <td>0</td>\n",
       "      <td>0</td>\n",
       "      <td>0</td>\n",
       "      <td>0</td>\n",
       "      <td>0</td>\n",
       "      <td>0</td>\n",
       "      <td>0</td>\n",
       "      <td>0</td>\n",
       "    </tr>\n",
       "  </tbody>\n",
       "</table>\n",
       "<p>5 rows × 48 columns</p>\n",
       "</div>"
      ],
      "text/plain": [
       "  Restaurant_id                                      Cuisine Style  Ranking  \\\n",
       "0          id_0                                     ['Bar', 'Pub']  12963.0   \n",
       "1          id_1  ['European', 'Scandinavian', 'Gluten Free Opti...    106.0   \n",
       "2          id_2                            ['Vegetarian Friendly']    810.0   \n",
       "3          id_3  ['Italian', 'Mediterranean', 'European', 'Vege...   1669.0   \n",
       "4          id_4  ['Italian', 'Mediterranean', 'European', 'Seaf...     37.0   \n",
       "\n",
       "   Price Range  Number of Reviews  \\\n",
       "0            2                4.0   \n",
       "1            2               97.0   \n",
       "2            2               28.0   \n",
       "3            3              202.0   \n",
       "4            3              162.0   \n",
       "\n",
       "                                             Reviews  \\\n",
       "0                                           [[], []]   \n",
       "1  [['Very good reviews!', 'Fine dining in Hakani...   \n",
       "2  [['Better than the Links', 'Ivy Black'], ['12/...   \n",
       "3  [['Most exquisite', 'Delicious and authentic']...   \n",
       "4  [['Always the best in bratislava', 'Very good ...   \n",
       "\n",
       "                                              URL_TA      ID_TA  sample  \\\n",
       "0  /Restaurant_Review-g187147-d10746918-Reviews-L...  d10746918       0   \n",
       "1  /Restaurant_Review-g189934-d6674944-Reviews-Ra...   d6674944       0   \n",
       "2  /Restaurant_Review-g186525-d13129638-Reviews-B...  d13129638       0   \n",
       "3  /Restaurant_Review-g186338-d680417-Reviews-Qui...    d680417       0   \n",
       "4  /Restaurant_Review-g274924-d1112354-Reviews-Ma...   d1112354       0   \n",
       "\n",
       "   Rating  ...  City_Oporto  City_Oslo  City_Paris  City_Prague  City_Rome  \\\n",
       "0     0.0  ...            0          0           1            0          0   \n",
       "1     0.0  ...            0          0           0            0          0   \n",
       "2     0.0  ...            0          0           0            0          0   \n",
       "3     0.0  ...            0          0           0            0          0   \n",
       "4     0.0  ...            0          0           0            0          0   \n",
       "\n",
       "   City_Stockholm  City_Vienna  City_Warsaw  City_Zurich  City_nan  \n",
       "0               0            0            0            0         0  \n",
       "1               0            0            0            0         0  \n",
       "2               0            0            0            0         0  \n",
       "3               0            0            0            0         0  \n",
       "4               0            0            0            0         0  \n",
       "\n",
       "[5 rows x 48 columns]"
      ]
     },
     "execution_count": 42,
     "metadata": {},
     "output_type": "execute_result"
    }
   ],
   "source": [
    "data.head()"
   ]
  },
  {
   "cell_type": "markdown",
   "metadata": {},
   "source": [
    "### Посмотрим распределение целевой переменной"
   ]
  },
  {
   "cell_type": "code",
   "execution_count": 43,
   "metadata": {
    "execution": {
     "iopub.execute_input": "2021-05-26T13:57:08.089193Z",
     "iopub.status.busy": "2021-05-26T13:57:08.088679Z",
     "iopub.status.idle": "2021-05-26T13:57:08.308830Z",
     "shell.execute_reply": "2021-05-26T13:57:08.306232Z",
     "shell.execute_reply.started": "2021-05-26T13:57:08.088962Z"
    }
   },
   "outputs": [
    {
     "data": {
      "text/plain": [
       "<matplotlib.axes._subplots.AxesSubplot at 0x7ff7211a4080>"
      ]
     },
     "execution_count": 43,
     "metadata": {},
     "output_type": "execute_result"
    },
    {
     "data": {
      "image/png": "[encoded data removed]",
      "text/plain": [
       "<Figure size 864x576 with 1 Axes>"
      ]
     },
     "metadata": {
      "needs_background": "light"
     },
     "output_type": "display_data"
    }
   ],
   "source": [
    "df_train['Rating'].value_counts(ascending=True).plot(kind='barh')"
   ]
  },
  {
   "cell_type": "markdown",
   "metadata": {},
   "source": [
    "### Посмотрим распределение целевой переменной относительно признака"
   ]
  },
  {
   "cell_type": "code",
   "execution_count": 44,
   "metadata": {
    "execution": {
     "iopub.execute_input": "2021-05-26T13:57:08.310944Z",
     "iopub.status.busy": "2021-05-26T13:57:08.310574Z",
     "iopub.status.idle": "2021-05-26T13:57:08.748284Z",
     "shell.execute_reply": "2021-05-26T13:57:08.747088Z",
     "shell.execute_reply.started": "2021-05-26T13:57:08.310885Z"
    }
   },
   "outputs": [
    {
     "data": {
      "text/plain": [
       "<matplotlib.axes._subplots.AxesSubplot at 0x7ff72103a438>"
      ]
     },
     "execution_count": 44,
     "metadata": {},
     "output_type": "execute_result"
    },
    {
     "data": {
      "image/png": "[encoded data removed]",
      "text/plain": [
       "<Figure size 864x576 with 1 Axes>"
      ]
     },
     "metadata": {
      "needs_background": "light"
     },
     "output_type": "display_data"
    }
   ],
   "source": [
    "df_train['Ranking'][df_train['Rating'] == 5].hist(bins=100)"
   ]
  },
  {
   "cell_type": "code",
   "execution_count": 45,
   "metadata": {
    "execution": {
     "iopub.execute_input": "2021-05-26T13:57:08.750481Z",
     "iopub.status.busy": "2021-05-26T13:57:08.749943Z",
     "iopub.status.idle": "2021-05-26T13:57:09.179785Z",
     "shell.execute_reply": "2021-05-26T13:57:09.178565Z",
     "shell.execute_reply.started": "2021-05-26T13:57:08.750251Z"
    }
   },
   "outputs": [
    {
     "data": {
      "text/plain": [
       "<matplotlib.axes._subplots.AxesSubplot at 0x7ff7218eff98>"
      ]
     },
     "execution_count": 45,
     "metadata": {},
     "output_type": "execute_result"
    },
    {
     "data": {
      "image/png": "[encoded data removed]",
      "text/plain": [
       "<Figure size 864x576 with 1 Axes>"
      ]
     },
     "metadata": {
      "needs_background": "light"
     },
     "output_type": "display_data"
    }
   ],
   "source": [
    "df_train['Ranking'][df_train['Rating'] < 4].hist(bins=100)"
   ]
  },
  {
   "cell_type": "markdown",
   "metadata": {},
   "source": [
    "### И один из моих любимых - [корреляция признаков](https://ru.wikipedia.org/wiki/Корреляция)\n",
    "На этом графике уже сейчас вы сможете заметить, как признаки связаны между собой и с целевой переменной."
   ]
  },
  {
   "cell_type": "code",
   "execution_count": 46,
   "metadata": {
    "execution": {
     "iopub.execute_input": "2021-05-26T13:57:09.181848Z",
     "iopub.status.busy": "2021-05-26T13:57:09.181466Z",
     "iopub.status.idle": "2021-05-26T13:57:10.460985Z",
     "shell.execute_reply": "2021-05-26T13:57:10.459793Z",
     "shell.execute_reply.started": "2021-05-26T13:57:09.181782Z"
    }
   },
   "outputs": [
    {
     "data": {
      "text/plain": [
       "<matplotlib.axes._subplots.AxesSubplot at 0x7ff72191d048>"
      ]
     },
     "execution_count": 46,
     "metadata": {},
     "output_type": "execute_result"
    },
    {
     "data": {
      "image/png": "[encoded data removed]",
      "text/plain": [
       "<Figure size 1080x720 with 2 Axes>"
      ]
     },
     "metadata": {
      "needs_background": "light"
     },
     "output_type": "display_data"
    }
   ],
   "source": [
    "plt.rcParams['figure.figsize'] = (15,10)\n",
    "sns.heatmap(data.drop(['sample'], axis=1).corr(),)"
   ]
  },
  {
   "cell_type": "markdown",
   "metadata": {},
   "source": [
    "Вообще благодаря визуализации в этом датасете можно узнать много интересных фактов, например:\n",
    "* где больше Пицерий в Мадриде или Лондоне?\n",
    "* в каком городе кухня ресторанов более разнообразна?\n",
    "\n",
    "придумайте свои вопрос и найдите на него ответ в данных)"
   ]
  },
  {
   "cell_type": "markdown",
   "metadata": {},
   "source": [
    "# Data Preprocessing"
   ]
  },
  {
   "cell_type": "code",
   "execution_count": 47,
   "metadata": {
    "execution": {
     "iopub.execute_input": "2021-05-26T13:57:10.463982Z",
     "iopub.status.busy": "2021-05-26T13:57:10.463690Z",
     "iopub.status.idle": "2021-05-26T13:57:10.512315Z",
     "shell.execute_reply": "2021-05-26T13:57:10.511456Z",
     "shell.execute_reply.started": "2021-05-26T13:57:10.463929Z"
    }
   },
   "outputs": [],
   "source": [
    "df_preproc = data.copy()\n",
    "df_preproc = df_preproc.drop(['Restaurant_id', 'Cuisine Style', 'Reviews', 'URL_TA', 'ID_TA', 'isNAN', 'Ranking'], axis=1)\n",
    "# df_preproc = df_preproc.drop(['City'], axis=1)\n",
    "\n",
    "# Теперь выделим тестовую часть\n",
    "train_data = df_preproc.query('sample == 1').drop(['sample'], axis=1)\n",
    "test_data = df_preproc.query('sample == 0').drop(['sample'], axis=1)\n",
    "\n",
    "y = train_data.Rating.values            # наш таргет\n",
    "X = train_data.drop(['Rating'], axis=1)"
   ]
  },
  {
   "cell_type": "markdown",
   "metadata": {},
   "source": [
    "**Перед тем как отправлять наши данные на обучение, разделим данные на еще один тест и трейн, для валидации. \n",
    "Это поможет нам проверить, как хорошо наша модель работает, до отправки submissiona на kaggle.**"
   ]
  },
  {
   "cell_type": "code",
   "execution_count": 48,
   "metadata": {
    "execution": {
     "iopub.execute_input": "2021-05-26T13:57:27.222661Z",
     "iopub.status.busy": "2021-05-26T13:57:27.222227Z",
     "iopub.status.idle": "2021-05-26T13:57:27.246335Z",
     "shell.execute_reply": "2021-05-26T13:57:27.245210Z",
     "shell.execute_reply.started": "2021-05-26T13:57:27.222591Z"
    }
   },
   "outputs": [
    {
     "name": "stdout",
     "output_type": "stream",
     "text": [
      "<class 'pandas.core.frame.DataFrame'>\n",
      "RangeIndex: 50000 entries, 0 to 49999\n",
      "Data columns (total 41 columns):\n",
      "Price Range                     50000 non-null int64\n",
      "Number of Reviews               50000 non-null float64\n",
      "sample                          50000 non-null int64\n",
      "Rating                          50000 non-null float64\n",
      "Number of Cuisines              50000 non-null int64\n",
      "City Population                 50000 non-null int64\n",
      "Normal Ranking                  50000 non-null float64\n",
      "Restaurants per 000 People      50000 non-null float64\n",
      "Ranking by Number of Reviews    50000 non-null float64\n",
      "City_Amsterdam                  50000 non-null uint8\n",
      "City_Athens                     50000 non-null uint8\n",
      "City_Barcelona                  50000 non-null uint8\n",
      "City_Berlin                     50000 non-null uint8\n",
      "City_Bratislava                 50000 non-null uint8\n",
      "City_Brussels                   50000 non-null uint8\n",
      "City_Budapest                   50000 non-null uint8\n",
      "City_Copenhagen                 50000 non-null uint8\n",
      "City_Dublin                     50000 non-null uint8\n",
      "City_Edinburgh                  50000 non-null uint8\n",
      "City_Geneva                     50000 non-null uint8\n",
      "City_Hamburg                    50000 non-null uint8\n",
      "City_Helsinki                   50000 non-null uint8\n",
      "City_Krakow                     50000 non-null uint8\n",
      "City_Lisbon                     50000 non-null uint8\n",
      "City_Ljubljana                  50000 non-null uint8\n",
      "City_London                     50000 non-null uint8\n",
      "City_Luxembourg                 50000 non-null uint8\n",
      "City_Lyon                       50000 non-null uint8\n",
      "City_Madrid                     50000 non-null uint8\n",
      "City_Milan                      50000 non-null uint8\n",
      "City_Munich                     50000 non-null uint8\n",
      "City_Oporto                     50000 non-null uint8\n",
      "City_Oslo                       50000 non-null uint8\n",
      "City_Paris                      50000 non-null uint8\n",
      "City_Prague                     50000 non-null uint8\n",
      "City_Rome                       50000 non-null uint8\n",
      "City_Stockholm                  50000 non-null uint8\n",
      "City_Vienna                     50000 non-null uint8\n",
      "City_Warsaw                     50000 non-null uint8\n",
      "City_Zurich                     50000 non-null uint8\n",
      "City_nan                        50000 non-null uint8\n",
      "dtypes: float64(5), int64(4), uint8(32)\n",
      "memory usage: 5.0 MB\n"
     ]
    }
   ],
   "source": [
    "df_preproc.info()"
   ]
  },
  {
   "cell_type": "code",
   "execution_count": 49,
   "metadata": {
    "execution": {
     "iopub.execute_input": "2021-05-26T13:57:30.906038Z",
     "iopub.status.busy": "2021-05-26T13:57:30.905684Z",
     "iopub.status.idle": "2021-05-26T13:57:30.925426Z",
     "shell.execute_reply": "2021-05-26T13:57:30.923770Z",
     "shell.execute_reply.started": "2021-05-26T13:57:30.905977Z"
    }
   },
   "outputs": [],
   "source": [
    "# Воспользуемся специальной функцие train_test_split для разбивки тестовых данных\n",
    "# выделим 20% данных на валидацию (параметр test_size)\n",
    "X_train, X_test, y_train, y_test = train_test_split(X, y, test_size=0.2, random_state=RANDOM_SEED)"
   ]
  },
  {
   "cell_type": "code",
   "execution_count": 50,
   "metadata": {
    "execution": {
     "iopub.execute_input": "2021-05-26T13:57:31.529296Z",
     "iopub.status.busy": "2021-05-26T13:57:31.528842Z",
     "iopub.status.idle": "2021-05-26T13:57:31.537003Z",
     "shell.execute_reply": "2021-05-26T13:57:31.535732Z",
     "shell.execute_reply.started": "2021-05-26T13:57:31.529227Z"
    }
   },
   "outputs": [
    {
     "data": {
      "text/plain": [
       "((10000, 40), (40000, 40), (40000, 39), (32000, 39), (8000, 39))"
      ]
     },
     "execution_count": 50,
     "metadata": {},
     "output_type": "execute_result"
    }
   ],
   "source": [
    "# проверяем\n",
    "test_data.shape, train_data.shape, X.shape, X_train.shape, X_test.shape"
   ]
  },
  {
   "cell_type": "markdown",
   "metadata": {},
   "source": [
    "# Model \n",
    "Сам ML"
   ]
  },
  {
   "cell_type": "code",
   "execution_count": 51,
   "metadata": {
    "execution": {
     "iopub.execute_input": "2021-05-26T13:57:33.745799Z",
     "iopub.status.busy": "2021-05-26T13:57:33.745417Z",
     "iopub.status.idle": "2021-05-26T13:57:33.751614Z",
     "shell.execute_reply": "2021-05-26T13:57:33.750227Z",
     "shell.execute_reply.started": "2021-05-26T13:57:33.745738Z"
    }
   },
   "outputs": [],
   "source": [
    "# Импортируем необходимые библиотеки:\n",
    "from sklearn.ensemble import RandomForestRegressor # инструмент для создания и обучения модели\n",
    "from sklearn import metrics # инструменты для оценки точности модели"
   ]
  },
  {
   "cell_type": "code",
   "execution_count": 52,
   "metadata": {
    "execution": {
     "iopub.execute_input": "2021-05-26T13:57:34.507120Z",
     "iopub.status.busy": "2021-05-26T13:57:34.506572Z",
     "iopub.status.idle": "2021-05-26T13:57:34.514321Z",
     "shell.execute_reply": "2021-05-26T13:57:34.512364Z",
     "shell.execute_reply.started": "2021-05-26T13:57:34.507069Z"
    }
   },
   "outputs": [],
   "source": [
    "# Создаём модель (НАСТРОЙКИ НЕ ТРОГАЕМ)\n",
    "model = RandomForestRegressor(n_estimators=100, verbose=1, n_jobs=-1, random_state=RANDOM_SEED)"
   ]
  },
  {
   "cell_type": "code",
   "execution_count": 53,
   "metadata": {
    "execution": {
     "iopub.execute_input": "2021-05-26T13:57:35.180118Z",
     "iopub.status.busy": "2021-05-26T13:57:35.179793Z",
     "iopub.status.idle": "2021-05-26T13:57:41.876505Z",
     "shell.execute_reply": "2021-05-26T13:57:41.875569Z",
     "shell.execute_reply.started": "2021-05-26T13:57:35.180065Z"
    }
   },
   "outputs": [
    {
     "name": "stderr",
     "output_type": "stream",
     "text": [
      "[Parallel(n_jobs=-1)]: Using backend ThreadingBackend with 4 concurrent workers.\n",
      "[Parallel(n_jobs=-1)]: Done  42 tasks      | elapsed:    2.7s\n",
      "[Parallel(n_jobs=-1)]: Done 100 out of 100 | elapsed:    6.0s finished\n",
      "[Parallel(n_jobs=4)]: Using backend ThreadingBackend with 4 concurrent workers.\n",
      "[Parallel(n_jobs=4)]: Done  42 tasks      | elapsed:    0.0s\n",
      "[Parallel(n_jobs=4)]: Done 100 out of 100 | elapsed:    0.1s finished\n"
     ]
    }
   ],
   "source": [
    "# Обучаем модель на тестовом наборе данных\n",
    "model.fit(X_train, y_train)\n",
    "\n",
    "# Используем обученную модель для предсказания рейтинга ресторанов в тестовой выборке.\n",
    "# Предсказанные значения записываем в переменную y_pred\n",
    "y_pred = model.predict(X_test)"
   ]
  },
  {
   "cell_type": "code",
   "execution_count": 54,
   "metadata": {
    "execution": {
     "iopub.execute_input": "2021-05-26T13:57:41.878747Z",
     "iopub.status.busy": "2021-05-26T13:57:41.878459Z",
     "iopub.status.idle": "2021-05-26T13:57:41.906572Z",
     "shell.execute_reply": "2021-05-26T13:57:41.905471Z",
     "shell.execute_reply.started": "2021-05-26T13:57:41.878693Z"
    }
   },
   "outputs": [
    {
     "data": {
      "text/plain": [
       "array([4.5, 5. , 4.5, ..., 4.5, 4. , 4. ])"
      ]
     },
     "execution_count": 54,
     "metadata": {},
     "output_type": "execute_result"
    }
   ],
   "source": [
    "def half_round(n):\n",
    "    if n < 0.25:\n",
    "        return 0\n",
    "    elif n < 0.75:\n",
    "        return 0.5\n",
    "    elif n < 1.25:\n",
    "        return 1.0\n",
    "    elif n < 1.75:\n",
    "        return 1.5\n",
    "    elif n < 2.25:\n",
    "        return 2.0\n",
    "    elif n < 2.75:\n",
    "        return 2.5\n",
    "    elif n < 3.25:\n",
    "        return 3.0\n",
    "    elif n < 3.75:\n",
    "        return 3.5\n",
    "    elif n < 4.25:\n",
    "        return 4.0\n",
    "    elif n < 4.75:\n",
    "        return 4.5\n",
    "    else:\n",
    "        return 5\n",
    "    \n",
    "for i in range(len(y_pred)):\n",
    "    y_pred[i] = half_round(y_pred[i])\n",
    "\n",
    "y_pred"
   ]
  },
  {
   "cell_type": "code",
   "execution_count": 55,
   "metadata": {
    "execution": {
     "iopub.execute_input": "2021-05-26T13:57:41.908223Z",
     "iopub.status.busy": "2021-05-26T13:57:41.907918Z",
     "iopub.status.idle": "2021-05-26T13:57:41.920541Z",
     "shell.execute_reply": "2021-05-26T13:57:41.919391Z",
     "shell.execute_reply.started": "2021-05-26T13:57:41.908171Z"
    }
   },
   "outputs": [
    {
     "name": "stdout",
     "output_type": "stream",
     "text": [
      "MAE: 0.180875\n"
     ]
    }
   ],
   "source": [
    "# Сравниваем предсказанные значения (y_pred) с реальными (y_test), и смотрим насколько они в среднем отличаются\n",
    "# Метрика называется Mean Absolute Error (MAE) и показывает среднее отклонение предсказанных значений от фактических.\n",
    "print('MAE:', metrics.mean_absolute_error(y_test, y_pred))"
   ]
  },
  {
   "cell_type": "markdown",
   "metadata": {},
   "source": [
    "- 25.05. 19:00 MAE: 0.213073\n",
    "- 25.05. 19:50 MAE: 0.213991 - нормализовал Ranking, стало чуть хуже\n",
    "- 25.05. 19:50 MAE: 0.213283 - вернул как было, т.е. без нормализации Ranking\n",
    "- 25.05. 20:30 MAE: 0.212594 - добавил столбец 'Restaurants_per_Thousand'\n",
    "- 25.05. 20:45 MAE: 0.213574 - вернул нормализацию Ranking\n",
    "- 25.05. 20:45 MAE: 0.213273 - вернул нормализацию Ranking + удалил изначальный \"ненормальный\" столбец 'Ranking'\n",
    "- 26.05. 01:10 MAE: 0.214641 - сделал заполнение Price Range пропорционально вероятностям, но MAE ухудшился :-(\n",
    "- 26.05. 01:30 MAE: 0.213427 - вроде ничего не менял, а MAE слегка улучшился...\n",
    "- 26.05. 01:35 MAE: 0.187563 - всего-то навсего (полу)округлил y_pred с точностью до 0.5... Ничего себе?...\n",
    "- 26.05. 13:45 MAE: 0.187188 - ничего не менял... Почему-то ошибка немного уменьшилась\n",
    "- 26.05. 13:45 MAE: 0.183875 - заполнил пропуски в 'Number of Reviews' не на mean, как в Baseline, а на median\n",
    "- 26.05. 15:50 MAE: 0.186063 - заполнил пропуски в 'Number of Cuisines' на mean по городу\n",
    "- 26.05. 15:55 MAE: 0.183625 - заполнил пропуски в 'Number of Cuisines' на 1 - MAE лучше, чем при замене на mean\n",
    "- 26.05. 16:40 MAE: 0.181313 - добавил 'Ranking by Number of Reviews' - БЕЗ нормализации, нормализация ухудшает MAE\n",
    "- 26.05. 16:50 MAE: 0.183313 - 'Reviews per Population' - БЕЗ нормализации\n",
    "- 26.05. 17:00 MAE: 0.181750 - убрал 'Reviews per Population'"
   ]
  },
  {
   "cell_type": "markdown",
   "metadata": {},
   "source": [
    "Почему-то когда выполняешь ноутбук на Kaggle, получается MAE: 0.213073125\n",
    "\n",
    "А если делаешь submit, то в LeaderBoard показывается MAE: 0.21787, то есть на 2% хуже.\n",
    "\n",
    "Объяснили - валидацию делаешь на одном датасете, а при submission на другом"
   ]
  },
  {
   "cell_type": "code",
   "execution_count": 56,
   "metadata": {
    "execution": {
     "iopub.execute_input": "2021-05-26T14:00:15.765450Z",
     "iopub.status.busy": "2021-05-26T14:00:15.765022Z",
     "iopub.status.idle": "2021-05-26T14:00:16.156284Z",
     "shell.execute_reply": "2021-05-26T14:00:16.155444Z",
     "shell.execute_reply.started": "2021-05-26T14:00:15.765388Z"
    }
   },
   "outputs": [
    {
     "data": {
      "text/plain": [
       "<matplotlib.axes._subplots.AxesSubplot at 0x7ff7212146d8>"
      ]
     },
     "execution_count": 56,
     "metadata": {},
     "output_type": "execute_result"
    },
    {
     "data": {
      "image/png": "[encoded data removed]",
      "text/plain": [
       "<Figure size 720x720 with 1 Axes>"
      ]
     },
     "metadata": {
      "needs_background": "light"
     },
     "output_type": "display_data"
    }
   ],
   "source": [
    "# в RandomForestRegressor есть возможность вывести самые важные признаки для модели\n",
    "plt.rcParams['figure.figsize'] = (10,10)\n",
    "feat_importances = pd.Series(model.feature_importances_, index=X.columns)\n",
    "feat_importances.nlargest(15).plot(kind='barh')"
   ]
  },
  {
   "cell_type": "markdown",
   "metadata": {},
   "source": [
    "# Submission\n",
    "Если все устраевает - готовим Submission на кагл"
   ]
  },
  {
   "cell_type": "code",
   "execution_count": 57,
   "metadata": {
    "execution": {
     "iopub.execute_input": "2021-05-26T14:00:33.750778Z",
     "iopub.status.busy": "2021-05-26T14:00:33.750426Z",
     "iopub.status.idle": "2021-05-26T14:00:33.783076Z",
     "shell.execute_reply": "2021-05-26T14:00:33.782269Z",
     "shell.execute_reply.started": "2021-05-26T14:00:33.750716Z"
    }
   },
   "outputs": [
    {
     "data": {
      "text/html": [
       "<div>\n",
       "<style scoped>\n",
       "    .dataframe tbody tr th:only-of-type {\n",
       "        vertical-align: middle;\n",
       "    }\n",
       "\n",
       "    .dataframe tbody tr th {\n",
       "        vertical-align: top;\n",
       "    }\n",
       "\n",
       "    .dataframe thead th {\n",
       "        text-align: right;\n",
       "    }\n",
       "</style>\n",
       "<table border=\"1\" class=\"dataframe\">\n",
       "  <thead>\n",
       "    <tr style=\"text-align: right;\">\n",
       "      <th></th>\n",
       "      <th>Price Range</th>\n",
       "      <th>Number of Reviews</th>\n",
       "      <th>Rating</th>\n",
       "      <th>Number of Cuisines</th>\n",
       "      <th>City Population</th>\n",
       "      <th>Normal Ranking</th>\n",
       "      <th>Restaurants per 000 People</th>\n",
       "      <th>Ranking by Number of Reviews</th>\n",
       "      <th>City_Amsterdam</th>\n",
       "      <th>City_Athens</th>\n",
       "      <th>...</th>\n",
       "      <th>City_Oporto</th>\n",
       "      <th>City_Oslo</th>\n",
       "      <th>City_Paris</th>\n",
       "      <th>City_Prague</th>\n",
       "      <th>City_Rome</th>\n",
       "      <th>City_Stockholm</th>\n",
       "      <th>City_Vienna</th>\n",
       "      <th>City_Warsaw</th>\n",
       "      <th>City_Zurich</th>\n",
       "      <th>City_nan</th>\n",
       "    </tr>\n",
       "  </thead>\n",
       "  <tbody>\n",
       "    <tr>\n",
       "      <th>8084</th>\n",
       "      <td>1</td>\n",
       "      <td>17.0</td>\n",
       "      <td>0.0</td>\n",
       "      <td>3</td>\n",
       "      <td>1794</td>\n",
       "      <td>0.761974</td>\n",
       "      <td>1.536232</td>\n",
       "      <td>35700.0</td>\n",
       "      <td>0</td>\n",
       "      <td>0</td>\n",
       "      <td>...</td>\n",
       "      <td>0</td>\n",
       "      <td>0</td>\n",
       "      <td>0</td>\n",
       "      <td>0</td>\n",
       "      <td>0</td>\n",
       "      <td>0</td>\n",
       "      <td>0</td>\n",
       "      <td>1</td>\n",
       "      <td>0</td>\n",
       "      <td>0</td>\n",
       "    </tr>\n",
       "    <tr>\n",
       "      <th>3432</th>\n",
       "      <td>3</td>\n",
       "      <td>10.0</td>\n",
       "      <td>0.0</td>\n",
       "      <td>1</td>\n",
       "      <td>2860</td>\n",
       "      <td>0.450502</td>\n",
       "      <td>3.584965</td>\n",
       "      <td>46190.0</td>\n",
       "      <td>0</td>\n",
       "      <td>0</td>\n",
       "      <td>...</td>\n",
       "      <td>0</td>\n",
       "      <td>0</td>\n",
       "      <td>0</td>\n",
       "      <td>0</td>\n",
       "      <td>1</td>\n",
       "      <td>0</td>\n",
       "      <td>0</td>\n",
       "      <td>0</td>\n",
       "      <td>0</td>\n",
       "      <td>0</td>\n",
       "    </tr>\n",
       "    <tr>\n",
       "      <th>7876</th>\n",
       "      <td>2</td>\n",
       "      <td>72.0</td>\n",
       "      <td>0.0</td>\n",
       "      <td>2</td>\n",
       "      <td>8962</td>\n",
       "      <td>0.765851</td>\n",
       "      <td>1.902366</td>\n",
       "      <td>940104.0</td>\n",
       "      <td>0</td>\n",
       "      <td>0</td>\n",
       "      <td>...</td>\n",
       "      <td>0</td>\n",
       "      <td>0</td>\n",
       "      <td>0</td>\n",
       "      <td>0</td>\n",
       "      <td>0</td>\n",
       "      <td>0</td>\n",
       "      <td>0</td>\n",
       "      <td>0</td>\n",
       "      <td>0</td>\n",
       "      <td>0</td>\n",
       "    </tr>\n",
       "    <tr>\n",
       "      <th>2646</th>\n",
       "      <td>3</td>\n",
       "      <td>3.0</td>\n",
       "      <td>0.0</td>\n",
       "      <td>1</td>\n",
       "      <td>519</td>\n",
       "      <td>0.520694</td>\n",
       "      <td>4.888247</td>\n",
       "      <td>3963.0</td>\n",
       "      <td>0</td>\n",
       "      <td>0</td>\n",
       "      <td>...</td>\n",
       "      <td>0</td>\n",
       "      <td>0</td>\n",
       "      <td>0</td>\n",
       "      <td>0</td>\n",
       "      <td>0</td>\n",
       "      <td>0</td>\n",
       "      <td>0</td>\n",
       "      <td>0</td>\n",
       "      <td>0</td>\n",
       "      <td>0</td>\n",
       "    </tr>\n",
       "    <tr>\n",
       "      <th>5459</th>\n",
       "      <td>2</td>\n",
       "      <td>2.0</td>\n",
       "      <td>0.0</td>\n",
       "      <td>3</td>\n",
       "      <td>1335</td>\n",
       "      <td>0.781183</td>\n",
       "      <td>3.471161</td>\n",
       "      <td>7240.0</td>\n",
       "      <td>0</td>\n",
       "      <td>0</td>\n",
       "      <td>...</td>\n",
       "      <td>0</td>\n",
       "      <td>0</td>\n",
       "      <td>0</td>\n",
       "      <td>1</td>\n",
       "      <td>0</td>\n",
       "      <td>0</td>\n",
       "      <td>0</td>\n",
       "      <td>0</td>\n",
       "      <td>0</td>\n",
       "      <td>0</td>\n",
       "    </tr>\n",
       "    <tr>\n",
       "      <th>7126</th>\n",
       "      <td>2</td>\n",
       "      <td>14.0</td>\n",
       "      <td>0.0</td>\n",
       "      <td>1</td>\n",
       "      <td>1620</td>\n",
       "      <td>0.610983</td>\n",
       "      <td>5.350617</td>\n",
       "      <td>74144.0</td>\n",
       "      <td>0</td>\n",
       "      <td>0</td>\n",
       "      <td>...</td>\n",
       "      <td>0</td>\n",
       "      <td>0</td>\n",
       "      <td>0</td>\n",
       "      <td>0</td>\n",
       "      <td>0</td>\n",
       "      <td>0</td>\n",
       "      <td>0</td>\n",
       "      <td>0</td>\n",
       "      <td>0</td>\n",
       "      <td>0</td>\n",
       "    </tr>\n",
       "    <tr>\n",
       "      <th>573</th>\n",
       "      <td>2</td>\n",
       "      <td>46.0</td>\n",
       "      <td>0.0</td>\n",
       "      <td>1</td>\n",
       "      <td>1209</td>\n",
       "      <td>0.481591</td>\n",
       "      <td>1.954508</td>\n",
       "      <td>52348.0</td>\n",
       "      <td>0</td>\n",
       "      <td>0</td>\n",
       "      <td>...</td>\n",
       "      <td>0</td>\n",
       "      <td>0</td>\n",
       "      <td>0</td>\n",
       "      <td>0</td>\n",
       "      <td>0</td>\n",
       "      <td>0</td>\n",
       "      <td>0</td>\n",
       "      <td>0</td>\n",
       "      <td>0</td>\n",
       "      <td>0</td>\n",
       "    </tr>\n",
       "    <tr>\n",
       "      <th>4387</th>\n",
       "      <td>2</td>\n",
       "      <td>636.0</td>\n",
       "      <td>0.0</td>\n",
       "      <td>7</td>\n",
       "      <td>1335</td>\n",
       "      <td>0.058912</td>\n",
       "      <td>3.471161</td>\n",
       "      <td>173628.0</td>\n",
       "      <td>0</td>\n",
       "      <td>0</td>\n",
       "      <td>...</td>\n",
       "      <td>0</td>\n",
       "      <td>0</td>\n",
       "      <td>0</td>\n",
       "      <td>1</td>\n",
       "      <td>0</td>\n",
       "      <td>0</td>\n",
       "      <td>0</td>\n",
       "      <td>0</td>\n",
       "      <td>0</td>\n",
       "      <td>0</td>\n",
       "    </tr>\n",
       "    <tr>\n",
       "      <th>2234</th>\n",
       "      <td>3</td>\n",
       "      <td>778.0</td>\n",
       "      <td>0.0</td>\n",
       "      <td>5</td>\n",
       "      <td>8962</td>\n",
       "      <td>0.028447</td>\n",
       "      <td>1.902366</td>\n",
       "      <td>377330.0</td>\n",
       "      <td>0</td>\n",
       "      <td>0</td>\n",
       "      <td>...</td>\n",
       "      <td>0</td>\n",
       "      <td>0</td>\n",
       "      <td>0</td>\n",
       "      <td>0</td>\n",
       "      <td>0</td>\n",
       "      <td>0</td>\n",
       "      <td>0</td>\n",
       "      <td>0</td>\n",
       "      <td>0</td>\n",
       "      <td>0</td>\n",
       "    </tr>\n",
       "    <tr>\n",
       "      <th>1987</th>\n",
       "      <td>2</td>\n",
       "      <td>142.0</td>\n",
       "      <td>0.0</td>\n",
       "      <td>5</td>\n",
       "      <td>3223</td>\n",
       "      <td>0.172515</td>\n",
       "      <td>3.174372</td>\n",
       "      <td>250630.0</td>\n",
       "      <td>0</td>\n",
       "      <td>0</td>\n",
       "      <td>...</td>\n",
       "      <td>0</td>\n",
       "      <td>0</td>\n",
       "      <td>0</td>\n",
       "      <td>0</td>\n",
       "      <td>0</td>\n",
       "      <td>0</td>\n",
       "      <td>0</td>\n",
       "      <td>0</td>\n",
       "      <td>0</td>\n",
       "      <td>0</td>\n",
       "    </tr>\n",
       "  </tbody>\n",
       "</table>\n",
       "<p>10 rows × 40 columns</p>\n",
       "</div>"
      ],
      "text/plain": [
       "      Price Range  Number of Reviews  Rating  Number of Cuisines  \\\n",
       "8084            1               17.0     0.0                   3   \n",
       "3432            3               10.0     0.0                   1   \n",
       "7876            2               72.0     0.0                   2   \n",
       "2646            3                3.0     0.0                   1   \n",
       "5459            2                2.0     0.0                   3   \n",
       "7126            2               14.0     0.0                   1   \n",
       "573             2               46.0     0.0                   1   \n",
       "4387            2              636.0     0.0                   7   \n",
       "2234            3              778.0     0.0                   5   \n",
       "1987            2              142.0     0.0                   5   \n",
       "\n",
       "      City Population  Normal Ranking  Restaurants per 000 People  \\\n",
       "8084             1794        0.761974                    1.536232   \n",
       "3432             2860        0.450502                    3.584965   \n",
       "7876             8962        0.765851                    1.902366   \n",
       "2646              519        0.520694                    4.888247   \n",
       "5459             1335        0.781183                    3.471161   \n",
       "7126             1620        0.610983                    5.350617   \n",
       "573              1209        0.481591                    1.954508   \n",
       "4387             1335        0.058912                    3.471161   \n",
       "2234             8962        0.028447                    1.902366   \n",
       "1987             3223        0.172515                    3.174372   \n",
       "\n",
       "      Ranking by Number of Reviews  City_Amsterdam  City_Athens  ...  \\\n",
       "8084                       35700.0               0            0  ...   \n",
       "3432                       46190.0               0            0  ...   \n",
       "7876                      940104.0               0            0  ...   \n",
       "2646                        3963.0               0            0  ...   \n",
       "5459                        7240.0               0            0  ...   \n",
       "7126                       74144.0               0            0  ...   \n",
       "573                        52348.0               0            0  ...   \n",
       "4387                      173628.0               0            0  ...   \n",
       "2234                      377330.0               0            0  ...   \n",
       "1987                      250630.0               0            0  ...   \n",
       "\n",
       "      City_Oporto  City_Oslo  City_Paris  City_Prague  City_Rome  \\\n",
       "8084            0          0           0            0          0   \n",
       "3432            0          0           0            0          1   \n",
       "7876            0          0           0            0          0   \n",
       "2646            0          0           0            0          0   \n",
       "5459            0          0           0            1          0   \n",
       "7126            0          0           0            0          0   \n",
       "573             0          0           0            0          0   \n",
       "4387            0          0           0            1          0   \n",
       "2234            0          0           0            0          0   \n",
       "1987            0          0           0            0          0   \n",
       "\n",
       "      City_Stockholm  City_Vienna  City_Warsaw  City_Zurich  City_nan  \n",
       "8084               0            0            1            0         0  \n",
       "3432               0            0            0            0         0  \n",
       "7876               0            0            0            0         0  \n",
       "2646               0            0            0            0         0  \n",
       "5459               0            0            0            0         0  \n",
       "7126               0            0            0            0         0  \n",
       "573                0            0            0            0         0  \n",
       "4387               0            0            0            0         0  \n",
       "2234               0            0            0            0         0  \n",
       "1987               0            0            0            0         0  \n",
       "\n",
       "[10 rows x 40 columns]"
      ]
     },
     "execution_count": 57,
     "metadata": {},
     "output_type": "execute_result"
    }
   ],
   "source": [
    "test_data.sample(10)"
   ]
  },
  {
   "cell_type": "code",
   "execution_count": 58,
   "metadata": {
    "execution": {
     "iopub.execute_input": "2021-05-26T14:00:37.904982Z",
     "iopub.status.busy": "2021-05-26T14:00:37.904548Z",
     "iopub.status.idle": "2021-05-26T14:00:37.912706Z",
     "shell.execute_reply": "2021-05-26T14:00:37.911971Z",
     "shell.execute_reply.started": "2021-05-26T14:00:37.904920Z"
    }
   },
   "outputs": [],
   "source": [
    "test_data = test_data.drop(['Rating'], axis=1)"
   ]
  },
  {
   "cell_type": "code",
   "execution_count": 59,
   "metadata": {
    "execution": {
     "iopub.execute_input": "2021-05-26T14:00:39.252861Z",
     "iopub.status.busy": "2021-05-26T14:00:39.252442Z",
     "iopub.status.idle": "2021-05-26T14:00:39.272789Z",
     "shell.execute_reply": "2021-05-26T14:00:39.271284Z",
     "shell.execute_reply.started": "2021-05-26T14:00:39.252801Z"
    }
   },
   "outputs": [
    {
     "data": {
      "text/html": [
       "<div>\n",
       "<style scoped>\n",
       "    .dataframe tbody tr th:only-of-type {\n",
       "        vertical-align: middle;\n",
       "    }\n",
       "\n",
       "    .dataframe tbody tr th {\n",
       "        vertical-align: top;\n",
       "    }\n",
       "\n",
       "    .dataframe thead th {\n",
       "        text-align: right;\n",
       "    }\n",
       "</style>\n",
       "<table border=\"1\" class=\"dataframe\">\n",
       "  <thead>\n",
       "    <tr style=\"text-align: right;\">\n",
       "      <th></th>\n",
       "      <th>Restaurant_id</th>\n",
       "      <th>Rating</th>\n",
       "    </tr>\n",
       "  </thead>\n",
       "  <tbody>\n",
       "    <tr>\n",
       "      <th>0</th>\n",
       "      <td>id_0</td>\n",
       "      <td>2.0</td>\n",
       "    </tr>\n",
       "    <tr>\n",
       "      <th>1</th>\n",
       "      <td>id_1</td>\n",
       "      <td>2.5</td>\n",
       "    </tr>\n",
       "    <tr>\n",
       "      <th>2</th>\n",
       "      <td>id_2</td>\n",
       "      <td>4.0</td>\n",
       "    </tr>\n",
       "    <tr>\n",
       "      <th>3</th>\n",
       "      <td>id_3</td>\n",
       "      <td>1.0</td>\n",
       "    </tr>\n",
       "    <tr>\n",
       "      <th>4</th>\n",
       "      <td>id_4</td>\n",
       "      <td>4.0</td>\n",
       "    </tr>\n",
       "    <tr>\n",
       "      <th>...</th>\n",
       "      <td>...</td>\n",
       "      <td>...</td>\n",
       "    </tr>\n",
       "    <tr>\n",
       "      <th>9995</th>\n",
       "      <td>id_9995</td>\n",
       "      <td>3.0</td>\n",
       "    </tr>\n",
       "    <tr>\n",
       "      <th>9996</th>\n",
       "      <td>id_9996</td>\n",
       "      <td>1.5</td>\n",
       "    </tr>\n",
       "    <tr>\n",
       "      <th>9997</th>\n",
       "      <td>id_9997</td>\n",
       "      <td>4.5</td>\n",
       "    </tr>\n",
       "    <tr>\n",
       "      <th>9998</th>\n",
       "      <td>id_9998</td>\n",
       "      <td>1.0</td>\n",
       "    </tr>\n",
       "    <tr>\n",
       "      <th>9999</th>\n",
       "      <td>id_9999</td>\n",
       "      <td>2.5</td>\n",
       "    </tr>\n",
       "  </tbody>\n",
       "</table>\n",
       "<p>10000 rows × 2 columns</p>\n",
       "</div>"
      ],
      "text/plain": [
       "     Restaurant_id  Rating\n",
       "0             id_0     2.0\n",
       "1             id_1     2.5\n",
       "2             id_2     4.0\n",
       "3             id_3     1.0\n",
       "4             id_4     4.0\n",
       "...            ...     ...\n",
       "9995       id_9995     3.0\n",
       "9996       id_9996     1.5\n",
       "9997       id_9997     4.5\n",
       "9998       id_9998     1.0\n",
       "9999       id_9999     2.5\n",
       "\n",
       "[10000 rows x 2 columns]"
      ]
     },
     "execution_count": 59,
     "metadata": {},
     "output_type": "execute_result"
    }
   ],
   "source": [
    "sample_submission"
   ]
  },
  {
   "cell_type": "code",
   "execution_count": 60,
   "metadata": {
    "execution": {
     "iopub.execute_input": "2021-05-26T14:00:41.021672Z",
     "iopub.status.busy": "2021-05-26T14:00:41.021330Z",
     "iopub.status.idle": "2021-05-26T14:00:41.235462Z",
     "shell.execute_reply": "2021-05-26T14:00:41.234450Z",
     "shell.execute_reply.started": "2021-05-26T14:00:41.021596Z"
    }
   },
   "outputs": [
    {
     "name": "stderr",
     "output_type": "stream",
     "text": [
      "[Parallel(n_jobs=4)]: Using backend ThreadingBackend with 4 concurrent workers.\n",
      "[Parallel(n_jobs=4)]: Done  42 tasks      | elapsed:    0.0s\n",
      "[Parallel(n_jobs=4)]: Done 100 out of 100 | elapsed:    0.1s finished\n"
     ]
    }
   ],
   "source": [
    "predict_submission = model.predict(test_data)"
   ]
  },
  {
   "cell_type": "code",
   "execution_count": 61,
   "metadata": {
    "execution": {
     "iopub.execute_input": "2021-05-26T14:00:43.047055Z",
     "iopub.status.busy": "2021-05-26T14:00:43.046686Z",
     "iopub.status.idle": "2021-05-26T14:00:43.055397Z",
     "shell.execute_reply": "2021-05-26T14:00:43.054249Z",
     "shell.execute_reply.started": "2021-05-26T14:00:43.046998Z"
    }
   },
   "outputs": [
    {
     "data": {
      "text/plain": [
       "array([3.08 , 4.16 , 4.545, ..., 3.05 , 4.44 , 4.36 ])"
      ]
     },
     "execution_count": 61,
     "metadata": {},
     "output_type": "execute_result"
    }
   ],
   "source": [
    "predict_submission"
   ]
  },
  {
   "cell_type": "code",
   "execution_count": null,
   "metadata": {},
   "outputs": [],
   "source": []
  },
  {
   "cell_type": "code",
   "execution_count": 62,
   "metadata": {
    "execution": {
     "iopub.execute_input": "2021-05-26T14:00:47.717238Z",
     "iopub.status.busy": "2021-05-26T14:00:47.716816Z",
     "iopub.status.idle": "2021-05-26T14:00:47.777194Z",
     "shell.execute_reply": "2021-05-26T14:00:47.776196Z",
     "shell.execute_reply.started": "2021-05-26T14:00:47.717131Z"
    }
   },
   "outputs": [
    {
     "data": {
      "text/html": [
       "<div>\n",
       "<style scoped>\n",
       "    .dataframe tbody tr th:only-of-type {\n",
       "        vertical-align: middle;\n",
       "    }\n",
       "\n",
       "    .dataframe tbody tr th {\n",
       "        vertical-align: top;\n",
       "    }\n",
       "\n",
       "    .dataframe thead th {\n",
       "        text-align: right;\n",
       "    }\n",
       "</style>\n",
       "<table border=\"1\" class=\"dataframe\">\n",
       "  <thead>\n",
       "    <tr style=\"text-align: right;\">\n",
       "      <th></th>\n",
       "      <th>Restaurant_id</th>\n",
       "      <th>Rating</th>\n",
       "    </tr>\n",
       "  </thead>\n",
       "  <tbody>\n",
       "    <tr>\n",
       "      <th>0</th>\n",
       "      <td>id_0</td>\n",
       "      <td>3.0</td>\n",
       "    </tr>\n",
       "    <tr>\n",
       "      <th>1</th>\n",
       "      <td>id_1</td>\n",
       "      <td>4.0</td>\n",
       "    </tr>\n",
       "    <tr>\n",
       "      <th>2</th>\n",
       "      <td>id_2</td>\n",
       "      <td>4.5</td>\n",
       "    </tr>\n",
       "    <tr>\n",
       "      <th>3</th>\n",
       "      <td>id_3</td>\n",
       "      <td>4.5</td>\n",
       "    </tr>\n",
       "    <tr>\n",
       "      <th>4</th>\n",
       "      <td>id_4</td>\n",
       "      <td>4.5</td>\n",
       "    </tr>\n",
       "    <tr>\n",
       "      <th>5</th>\n",
       "      <td>id_5</td>\n",
       "      <td>4.5</td>\n",
       "    </tr>\n",
       "    <tr>\n",
       "      <th>6</th>\n",
       "      <td>id_6</td>\n",
       "      <td>2.0</td>\n",
       "    </tr>\n",
       "    <tr>\n",
       "      <th>7</th>\n",
       "      <td>id_7</td>\n",
       "      <td>3.0</td>\n",
       "    </tr>\n",
       "    <tr>\n",
       "      <th>8</th>\n",
       "      <td>id_8</td>\n",
       "      <td>4.0</td>\n",
       "    </tr>\n",
       "    <tr>\n",
       "      <th>9</th>\n",
       "      <td>id_9</td>\n",
       "      <td>5.0</td>\n",
       "    </tr>\n",
       "  </tbody>\n",
       "</table>\n",
       "</div>"
      ],
      "text/plain": [
       "  Restaurant_id  Rating\n",
       "0          id_0     3.0\n",
       "1          id_1     4.0\n",
       "2          id_2     4.5\n",
       "3          id_3     4.5\n",
       "4          id_4     4.5\n",
       "5          id_5     4.5\n",
       "6          id_6     2.0\n",
       "7          id_7     3.0\n",
       "8          id_8     4.0\n",
       "9          id_9     5.0"
      ]
     },
     "execution_count": 62,
     "metadata": {},
     "output_type": "execute_result"
    }
   ],
   "source": [
    "sample_submission['Rating'] = predict_submission\n",
    "\n",
    "# Halfround result\n",
    "sample_submission['Rating'] = sample_submission['Rating'].apply(half_round)\n",
    "\n",
    "sample_submission.to_csv('submission.csv', index=False)\n",
    "sample_submission.head(10)"
   ]
  },
  {
   "cell_type": "code",
   "execution_count": null,
   "metadata": {},
   "outputs": [],
   "source": []
  },
  {
   "cell_type": "code",
   "execution_count": null,
   "metadata": {},
   "outputs": [],
   "source": []
  },
  {
   "cell_type": "code",
   "execution_count": null,
   "metadata": {},
   "outputs": [],
   "source": []
  },
  {
   "cell_type": "code",
   "execution_count": null,
   "metadata": {},
   "outputs": [],
   "source": []
  },
  {
   "cell_type": "markdown",
   "metadata": {},
   "source": [
    "# What's next?\n",
    "Или что делать, чтоб улучшить результат:\n",
    "* Обработать оставшиеся признаки в понятный для машины формат\n",
    "* Посмотреть, что еще можно извлечь из признаков\n",
    "* Сгенерировать новые признаки\n",
    "* Подгрузить дополнительные данные, например: по населению или благосостоянию городов\n",
    "* Подобрать состав признаков\n",
    "\n",
    "В общем, процесс творческий и весьма увлекательный! Удачи в соревновании!\n"
   ]
  },
  {
   "cell_type": "code",
   "execution_count": null,
   "metadata": {},
   "outputs": [],
   "source": []
  }
 ],
 "metadata": {
  "kernelspec": {
   "display_name": "Python 3",
   "language": "python",
   "name": "python3"
  },
  "language_info": {
   "codemirror_mode": {
    "name": "ipython",
    "version": 3
   },
   "file_extension": ".py",
   "mimetype": "text/x-python",
   "name": "python",
   "nbconvert_exporter": "python",
   "pygments_lexer": "ipython3",
   "version": "3.8.5"
  }
 },
 "nbformat": 4,
 "nbformat_minor": 4
}
