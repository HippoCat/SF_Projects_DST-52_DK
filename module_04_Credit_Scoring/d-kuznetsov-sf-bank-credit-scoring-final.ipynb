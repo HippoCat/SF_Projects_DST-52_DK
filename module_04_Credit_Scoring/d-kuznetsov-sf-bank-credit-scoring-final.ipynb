{
 "cells": [
  {
   "cell_type": "markdown",
   "metadata": {},
   "source": [
    "# SF_Projects_DST-52_DK/module_04_Credit_Scoring\n",
    "\n",
    "## \"Проект 4. Компьютер говорит «Нет»\"\n",
    "\n",
    "Задача написать скоринговую модель предсказания дефолта клиентов банка.\n",
    "\n",
    "С этой моделью принять участие в хакатоне на Kaggle.\n",
    "\n",
    "__Дмитрий Кузнецов, поток DST-52 (SkillFactory)__\n",
    "\n",
    "8-14 Июля 2021"
   ]
  },
  {
   "cell_type": "code",
   "execution_count": 115,
   "metadata": {
    "execution": {
     "iopub.execute_input": "2021-07-08T19:57:53.926717Z",
     "iopub.status.busy": "2021-07-08T19:57:53.926042Z",
     "iopub.status.idle": "2021-07-08T19:57:56.478822Z",
     "shell.execute_reply": "2021-07-08T19:57:56.478251Z"
    },
    "papermill": {
     "duration": 2.633003,
     "end_time": "2021-07-08T19:57:56.478968",
     "exception": false,
     "start_time": "2021-07-08T19:57:53.845965",
     "status": "completed"
    },
    "tags": []
   },
   "outputs": [],
   "source": [
    "from pandas import Series\n",
    "import pandas as pd\n",
    "from datetime import date\n",
    "from datetime import datetime, timedelta\n",
    "import numpy as np\n",
    "import matplotlib.pyplot as plt\n",
    "import seaborn as sns \n",
    "%matplotlib inline\n",
    "\n",
    "import warnings\n",
    "warnings.filterwarnings('ignore')\n",
    "\n",
    "from sklearn.feature_selection import f_classif, mutual_info_classif\n",
    "from sklearn.preprocessing import LabelEncoder, OrdinalEncoder, OneHotEncoder, StandardScaler\n",
    "from sklearn.metrics import plot_confusion_matrix\n",
    "from sklearn.preprocessing import PolynomialFeatures\n",
    "from sklearn.model_selection import train_test_split,GridSearchCV\n",
    "from sklearn.metrics import auc, roc_auc_score, roc_curve\n",
    "from sklearn.linear_model import LogisticRegression\n",
    "from sklearn.linear_model import LinearRegression\n",
    "from sklearn.metrics import accuracy_score, precision_score, recall_score, f1_score, mean_squared_error\n",
    "from sklearn.model_selection import cross_validate\n",
    "from sklearn.metrics import confusion_matrix, ConfusionMatrixDisplay\n",
    "from scipy.stats import randint\n",
    "from sklearn.tree import DecisionTreeClassifier\n",
    "from sklearn.model_selection import RandomizedSearchCV\n",
    "from sklearn.decomposition import PCA\n",
    "\n",
    "from math import log as log\n",
    "from math import log1p as log1p\n",
    "\n",
    "import os\n",
    "for dirname, _, filenames in os.walk('/kaggle/input'):\n",
    "    for filename in filenames:\n",
    "        print(os.path.join(dirname, filename))\n",
    "        \n",
    "from collections import Counter\n",
    "from sklearn.datasets import make_classification\n",
    "from imblearn.over_sampling import SMOTE"
   ]
  },
  {
   "cell_type": "markdown",
   "metadata": {
    "papermill": {
     "duration": 0.069998,
     "end_time": "2021-07-08T19:57:56.619300",
     "exception": false,
     "start_time": "2021-07-08T19:57:56.549302",
     "status": "completed"
    },
    "tags": []
   },
   "source": [
    "# 1. Смотрим на признаки"
   ]
  },
  {
   "cell_type": "code",
   "execution_count": 114,
   "metadata": {
    "execution": {
     "iopub.execute_input": "2021-07-08T19:57:56.910615Z",
     "iopub.status.busy": "2021-07-08T19:57:56.910015Z",
     "iopub.status.idle": "2021-07-08T19:57:57.285576Z",
     "shell.execute_reply": "2021-07-08T19:57:57.285009Z"
    },
    "papermill": {
     "duration": 0.448092,
     "end_time": "2021-07-08T19:57:57.285743",
     "exception": false,
     "start_time": "2021-07-08T19:57:56.837651",
     "status": "completed"
    },
    "tags": []
   },
   "outputs": [
    {
     "name": "stdout",
     "output_type": "stream",
     "text": [
      "<class 'pandas.core.frame.DataFrame'>\n",
      "RangeIndex: 73799 entries, 0 to 73798\n",
      "Data columns (total 19 columns):\n",
      " #   Column            Non-Null Count  Dtype  \n",
      "---  ------            --------------  -----  \n",
      " 0   client_id         73799 non-null  int64  \n",
      " 1   app_date          73799 non-null  object \n",
      " 2   education         73492 non-null  object \n",
      " 3   sex               73799 non-null  object \n",
      " 4   age               73799 non-null  int64  \n",
      " 5   car               73799 non-null  object \n",
      " 6   car_type          73799 non-null  object \n",
      " 7   decline_app_cnt   73799 non-null  int64  \n",
      " 8   good_work         73799 non-null  int64  \n",
      " 9   score_bki         73799 non-null  float64\n",
      " 10  bki_request_cnt   73799 non-null  int64  \n",
      " 11  region_rating     73799 non-null  int64  \n",
      " 12  home_address      73799 non-null  int64  \n",
      " 13  work_address      73799 non-null  int64  \n",
      " 14  income            73799 non-null  int64  \n",
      " 15  sna               73799 non-null  int64  \n",
      " 16  first_time        73799 non-null  int64  \n",
      " 17  foreign_passport  73799 non-null  object \n",
      " 18  default           73799 non-null  int64  \n",
      "dtypes: float64(1), int64(12), object(6)\n",
      "memory usage: 10.7+ MB\n"
     ]
    }
   ],
   "source": [
    "# path = '/kaggle/input/sf-dst-scoring/'\n",
    "path = './sf-dst-scoring/'\n",
    "\n",
    "train = pd.read_csv(path +'train.csv')\n",
    "test = pd.read_csv(path +'test.csv')\n",
    "sample_sub = pd.read_csv(path +'sample_submission.csv')\n",
    "\n",
    "train.info()"
   ]
  },
  {
   "cell_type": "code",
   "execution_count": 9,
   "metadata": {},
   "outputs": [
    {
     "name": "stdout",
     "output_type": "stream",
     "text": [
      "<class 'pandas.core.frame.DataFrame'>\n",
      "RangeIndex: 36349 entries, 0 to 36348\n",
      "Data columns (total 18 columns):\n",
      " #   Column            Non-Null Count  Dtype  \n",
      "---  ------            --------------  -----  \n",
      " 0   client_id         36349 non-null  int64  \n",
      " 1   app_date          36349 non-null  object \n",
      " 2   education         36178 non-null  object \n",
      " 3   sex               36349 non-null  object \n",
      " 4   age               36349 non-null  int64  \n",
      " 5   car               36349 non-null  object \n",
      " 6   car_type          36349 non-null  object \n",
      " 7   decline_app_cnt   36349 non-null  int64  \n",
      " 8   good_work         36349 non-null  int64  \n",
      " 9   score_bki         36349 non-null  float64\n",
      " 10  bki_request_cnt   36349 non-null  int64  \n",
      " 11  region_rating     36349 non-null  int64  \n",
      " 12  home_address      36349 non-null  int64  \n",
      " 13  work_address      36349 non-null  int64  \n",
      " 14  income            36349 non-null  int64  \n",
      " 15  sna               36349 non-null  int64  \n",
      " 16  first_time        36349 non-null  int64  \n",
      " 17  foreign_passport  36349 non-null  object \n",
      "dtypes: float64(1), int64(11), object(6)\n",
      "memory usage: 5.0+ MB\n"
     ]
    }
   ],
   "source": [
    "test.info()"
   ]
  },
  {
   "cell_type": "markdown",
   "metadata": {},
   "source": [
    "### Описание данных:\n",
    "\n",
    "- client_id - идентификатор клиента\n",
    "- education - уровень образования\n",
    "- sex - пол заемщика\n",
    "- age - возраст заемщика\n",
    "- car - флаг наличия автомобиля\n",
    "- car_type - флаг автомобиля иномарки\n",
    "- decline_app_cnt - количество отказанных прошлых заявок\n",
    "- good_work - флаг наличия “хорошей” работы\n",
    "- bki_request_cnt - количество запросов в БКИ\n",
    "- home_address - категоризатор домашнего адреса\n",
    "- work_address - категоризатор рабочего адреса\n",
    "- income - доход заемщика\n",
    "- foreign_passport - наличие загранпаспорта\n",
    "- sna - связь заемщика с клиентами банка\n",
    "- first_time - давность наличия информации о заемщике\n",
    "- score_bki - скоринговый балл по данным из БКИ\n",
    "- region_rating - рейтинг региона\n",
    "- app_date - дата подачи заявки\n",
    "- default - флаг дефолта по кредиту"
   ]
  },
  {
   "cell_type": "code",
   "execution_count": 10,
   "metadata": {},
   "outputs": [],
   "source": [
    "# В конечном счете не стал объединять test и train.\n",
    "\n",
    "# Объединяем тренировочные и тестовые данные в один датасет\n",
    "# train['train'] = 1 # помечаем тренировочные\n",
    "# test['train'] = 0 # помечаем тестовые\n",
    "# train = pd.concat([train, test], ignore_index=True)\n",
    "# train.info()"
   ]
  },
  {
   "cell_type": "code",
   "execution_count": 11,
   "metadata": {},
   "outputs": [],
   "source": [
    "def describe_column(df, c, ncb='num'):\n",
    "    if ncb == 'num':\n",
    "        describe_num_column(df, c)\n",
    "        return\n",
    "    elif ncb == 'cat':\n",
    "        describe_cat_column(df, c)\n",
    "        return\n",
    "    elif ncb == 'bin':\n",
    "        print('bin')     \n",
    "        return  \n",
    "    else:\n",
    "        print('Function describe_column: Unknown TYPE ERROR -', ncb)\n",
    "        return\n",
    "\n",
    "    \n",
    "def describe_num_column(df, c):\n",
    "    n = np.shape(df)[0] # всего строк в df\n",
    "    different_value_n = len(df[c].value_counts()) # Кол-во различающихся значений\n",
    "        \n",
    "    minimum = df[c].min()\n",
    "    maximum = df[c].max()\n",
    "    mean = df[c].mean()\n",
    "    median = df[c].median()\n",
    "    std = df[c].std()\n",
    "        \n",
    "    Q1 = df[c].quantile(0.25)\n",
    "    Q3 = df[c].quantile(0.75)\n",
    "    IQR = Q3 - Q1\n",
    "    outliers_l = Q1 - 1.5 * IQR\n",
    "    outliers_r = Q3 + 1.5 * IQR\n",
    "\n",
    "    mean_default_0 = df[c][df.default == 0].mean()\n",
    "    mean_default_1 = df[c][df.default == 1].mean()\n",
    "    median_default_0 = df[c][df.default == 0].median()\n",
    "    median_default_1 = df[c][df.default == 1].median()\n",
    "        \n",
    "    print(f\"Колонка '{c}'\")\n",
    "    print(f\"==========\", len(c)*\"=\", sep='')\n",
    "    print(f\"   Всего значений {n}, из них различных {different_value_n}\\n\")\n",
    "    print(f\"   Минимум = {minimum}, Максимум = {maximum}\")\n",
    "    print(f\"   Среднее = {round(mean, 1)}\\n   Медиана = {round(median, 1)}\")\n",
    "    print(f\"   Стандартное отклонение = {round(std, 1)}\\n\")\n",
    "    print(f\"   Анализ выбросов:\\n    Q1 = {round(Q1, 1)}, Q3 = {round(Q3, 1)}, IQR = {round(IQR, 1)}\")\n",
    "    print(f\"    Границы выбросов: левая {round(outliers_l, 1)}, правая {round(outliers_r, 1)}\")\n",
    "    \n",
    "    if outliers_l <= minimum and outliers_r >= maximum:\n",
    "        print(\"    Выбросов нет :-)\\n\")\n",
    "    else:\n",
    "        df_tmp = df[(df[c] < outliers_l) | (df[c] > outliers_r)]\n",
    "        outliers_number = np.shape(df_tmp)[0]\n",
    "        print(f\"    Количество выбросов: {outliers_number} из {n} ({round(outliers_number/n*100, 1)}%)\\n\")\n",
    "        \n",
    "    print(f\"   Связь между параметрами '{c}' и 'default':\")\n",
    "    print(f\"    Среднее для дефолтных (стрёмных) клиентов {round(mean_default_1, 1)}\")\n",
    "    print(f\"    Среднее для НЕдефолтных (годных) клиентов {round(mean_default_0, 1)}\")\n",
    "    print(f\"    Медиана для дефолтных (стрёмных) клиентов {round(median_default_1, 1)}\")\n",
    "    print(f\"    Медиана для НЕдефолтных (годных) клиентов {round(median_default_0, 1)}\")\n",
    "    \n",
    "    return\n",
    "        \n",
    "def describe_cat_column(df, c):\n",
    "    # Извлекаем список категорий\n",
    "    category_list = list(df[c].value_counts().index)\n",
    "    category_list.sort() # в принципе можно и не сортировать\n",
    "\n",
    "    for category in category_list:\n",
    "        # Берем заданную категорию из датасета\n",
    "        filtered = train[df[c] == category]\n",
    "    \n",
    "        # Считаем общее кол-во клиентов в заданной категории\n",
    "        n = filtered.client_id.count()\n",
    "    \n",
    "        # Считаем кол-во дефолтных и недефолтных клиентов в заданной категории\n",
    "        clients_n_def0 = filtered[filtered.default == 0].client_id.count()\n",
    "        clients_n_def1 = filtered[filtered.default == 1].client_id.count()\n",
    "\n",
    "        # Красиво печатаем наши результаты наших изысканий\n",
    "        print(f\"Всего {n} клиентов в категории \\'{category}\\' - \", end = '')\n",
    "        print(f\"{round(n/len(df)*100, 1)}% от общего числа клиентов\")\n",
    "        print(f\"Из них: \", end = \"\")\n",
    "        print(f\"{clients_n_def1} ({round(clients_n_def1/n*100, 1)}%) дефолтных и \", end = '')\n",
    "        print(f\"{clients_n_def0} ({round(clients_n_def0/n*100, 1)}%) недефолтных\\n\")\n",
    "    \n",
    "    sns.displot(df[c], kind= \"hist\", color='tab:pink') # kind = {\"hist\", \"kde\", \"ecdf\"}\n",
    "    train.pivot_table(values=['default'],\n",
    "                      index=c,\n",
    "                      aggfunc='mean').plot(kind='bar', \n",
    "                                           title='Proportion of default clients vs. ' + c)\n",
    "    return\n",
    "\n",
    "\n",
    "def strange_tail(df, c, events_limit=10):\n",
    "    # events_limit - количество событий, больше которого становится \"всё страньше и страньше\"\n",
    "\n",
    "    # фильтруем людей с кол-вом событий больше нашего лимита \n",
    "    filtered = df[(df[c] > events_limit)]\n",
    "    stgange_number = len(filtered) #  кол-во таких \"странных\" людей\n",
    "\n",
    "    print(f\"Клиентов с более, чем {events_limit} событиями:\")\n",
    "    print(f\"   {stgange_number} из {len(train)} ({round(stgange_number/len(train)*100, 2)}%)\")\n",
    "\n",
    "    # Сколько из этих \"странных\" дефолтных и недефолтных\n",
    "    def_0 = filtered[filtered.default == 0].client_id.count()\n",
    "    def_1 = filtered[filtered.default == 1].client_id.count()\n",
    "    \n",
    "    print(f\"Из этих {stgange_number}:\")\n",
    "    print(f\"   дефолтных {def_1} ({round(def_1/stgange_number*100, 1)}%)\")\n",
    "    print(f\"   недефолтных {def_0} ({round(def_0/stgange_number*100, 1)}%)\\n\")"
   ]
  },
  {
   "cell_type": "code",
   "execution_count": null,
   "metadata": {},
   "outputs": [],
   "source": []
  },
  {
   "cell_type": "markdown",
   "metadata": {},
   "source": [
    "## 1.1. 'age' - возраст, числовой"
   ]
  },
  {
   "cell_type": "code",
   "execution_count": 12,
   "metadata": {},
   "outputs": [
    {
     "name": "stdout",
     "output_type": "stream",
     "text": [
      "Колонка 'age'\n",
      "=============\n",
      "   Всего значений 73799, из них различных 52\n",
      "\n",
      "   Минимум = 21, Максимум = 72\n",
      "   Среднее = 39.3\n",
      "   Медиана = 37.0\n",
      "   Стандартное отклонение = 11.5\n",
      "\n",
      "   Анализ выбросов:\n",
      "    Q1 = 30.0, Q3 = 48.0, IQR = 18.0\n",
      "    Границы выбросов: левая 3.0, правая 75.0\n",
      "    Выбросов нет :-)\n",
      "\n",
      "   Связь между параметрами 'age' и 'default':\n",
      "    Среднее для дефолтных (стрёмных) клиентов 38.5\n",
      "    Среднее для НЕдефолтных (годных) клиентов 39.4\n",
      "    Медиана для дефолтных (стрёмных) клиентов 36.0\n",
      "    Медиана для НЕдефолтных (годных) клиентов 38.0\n"
     ]
    }
   ],
   "source": [
    "describe_column(train, 'age')"
   ]
  },
  {
   "cell_type": "code",
   "execution_count": 13,
   "metadata": {},
   "outputs": [
    {
     "data": {
      "text/plain": [
       "<seaborn.axisgrid.FacetGrid at 0x7f923209afd0>"
      ]
     },
     "execution_count": 13,
     "metadata": {},
     "output_type": "execute_result"
    },
    {
     "data": {
      "image/png": "[encoded data removed]",
      "text/plain": [
       "<Figure size 360x360 with 1 Axes>"
      ]
     },
     "metadata": {
      "needs_background": "light"
     },
     "output_type": "display_data"
    }
   ],
   "source": [
    "sns.displot(train.age, kind= \"kde\", color='tab:pink') # kind = {\"hist\", \"kde\", \"ecdf\"}"
   ]
  },
  {
   "cell_type": "markdown",
   "metadata": {},
   "source": [
    "###  Краткие выводы о колонке 'age'\n",
    "\n",
    "- Пропусков и выбросов нет\n",
    "- Распределение с тяжелым правым хвостом - молодые более склонны брать кредиты\n",
    "- Возраст дефолтных клиентов в среднем ниже: 38.5 против 39.4 у недефолтных\n",
    "- Медиана возраста у дефолтных ниже: 36 против 38\n",
    "\n",
    "### Что можно сделать с колонкой 'age'?\n",
    "\n",
    "- Пока ничего не буду делать\n",
    "- Потом можно попробовать логарифмировать, хотя распределение логарифма не сказать, что сильно отличается"
   ]
  },
  {
   "cell_type": "markdown",
   "metadata": {},
   "source": [
    "## 1.2. Колонка 'decline_app_cnt' - количество отказанных прошлых заявок - числовой признак"
   ]
  },
  {
   "cell_type": "code",
   "execution_count": 14,
   "metadata": {},
   "outputs": [
    {
     "name": "stdout",
     "output_type": "stream",
     "text": [
      "Колонка 'decline_app_cnt'\n",
      "=========================\n",
      "   Всего значений 73799, из них различных 21\n",
      "\n",
      "   Минимум = 0, Максимум = 33\n",
      "   Среднее = 0.3\n",
      "   Медиана = 0.0\n",
      "   Стандартное отклонение = 0.8\n",
      "\n",
      "   Анализ выбросов:\n",
      "    Q1 = 0.0, Q3 = 0.0, IQR = 0.0\n",
      "    Границы выбросов: левая 0.0, правая 0.0\n",
      "    Количество выбросов: 12585 из 73799 (17.1%)\n",
      "\n",
      "   Связь между параметрами 'decline_app_cnt' и 'default':\n",
      "    Среднее для дефолтных (стрёмных) клиентов 0.5\n",
      "    Среднее для НЕдефолтных (годных) клиентов 0.2\n",
      "    Медиана для дефолтных (стрёмных) клиентов 0.0\n",
      "    Медиана для НЕдефолтных (годных) клиентов 0.0\n"
     ]
    }
   ],
   "source": [
    "describe_column(train, 'decline_app_cnt')"
   ]
  },
  {
   "cell_type": "code",
   "execution_count": 15,
   "metadata": {},
   "outputs": [
    {
     "data": {
      "text/plain": [
       "0     61214\n",
       "1      8397\n",
       "2      2468\n",
       "3       903\n",
       "4       414\n",
       "5       165\n",
       "6       113\n",
       "7        48\n",
       "9        24\n",
       "8        19\n",
       "10       11\n",
       "11        9\n",
       "13        3\n",
       "12        2\n",
       "14        2\n",
       "16        2\n",
       "24        1\n",
       "15        1\n",
       "19        1\n",
       "22        1\n",
       "33        1\n",
       "Name: decline_app_cnt, dtype: int64"
      ]
     },
     "execution_count": 15,
     "metadata": {},
     "output_type": "execute_result"
    }
   ],
   "source": [
    "train.decline_app_cnt.value_counts()"
   ]
  },
  {
   "cell_type": "code",
   "execution_count": 16,
   "metadata": {},
   "outputs": [
    {
     "name": "stdout",
     "output_type": "stream",
     "text": [
      "Клиентов с более, чем 10 событиями:\n",
      "   23 из 73799 (0.03%)\n",
      "Из этих 23:\n",
      "   дефолтных 7 (30.4%)\n",
      "   недефолтных 16 (69.6%)\n",
      "\n"
     ]
    }
   ],
   "source": [
    "strange_tail(train, 'decline_app_cnt')"
   ]
  },
  {
   "cell_type": "markdown",
   "metadata": {},
   "source": [
    "### Наблюдения о колонке 'decline_app_cnt'\n",
    "\n",
    "- Первое впечатление от признака 'decline_app_cnt' - непонятно, что это за люди такие, которые получают много отказов, но при этом продолжают снова и снова обращаться в банк за кредитом. Особенно из этой группы странных людей удивляют __недефолтные__, то есть те, кому вроде как можно бы и дать кредит.\n",
    "\n",
    "- Как мы видим, у 33 человек кол-во отказов более 10, из них недефолтных аж целых 16. Вот уж дейстивтельно странные люди...\n",
    "\n",
    "- Еще наблюдение - в данном случае медиана и границы выбросов совпадают, то есть всё, что не равно 0 является выбросами.\n",
    "\n",
    "- Это всё лирика, сделать признак категориальным по принципу \"раз, два, три, много\"."
   ]
  },
  {
   "cell_type": "code",
   "execution_count": 17,
   "metadata": {},
   "outputs": [],
   "source": [
    "# избавляемся от клиентов с большим кол-вом отказов\n",
    "# train = train[(train.decline_app_cnt <= 10)]\n",
    "\n",
    "# describe_column(train, 'decline_app_cnt')"
   ]
  },
  {
   "cell_type": "markdown",
   "metadata": {},
   "source": [
    "Картина не сильно изменилась. Попробуем прологарифмировать."
   ]
  },
  {
   "cell_type": "code",
   "execution_count": 18,
   "metadata": {},
   "outputs": [],
   "source": [
    "# train['decline_app_cnt'] = train['decline_app_cnt'].apply(log1p)\n",
    "\n",
    "# describe_column(train, 'decline_app_cnt')"
   ]
  },
  {
   "cell_type": "markdown",
   "metadata": {},
   "source": [
    "Те же лыжи, только в профиль."
   ]
  },
  {
   "cell_type": "markdown",
   "metadata": {},
   "source": [
    "### Что можно ещё сделать с колонкой 'decline_app_cnt'\n",
    "\n",
    "- Пока больше ничего не буду делать\n",
    "- На будущее, если время будет: сделать признак категориальным по принципу \"раз, два, три, много\"."
   ]
  },
  {
   "cell_type": "markdown",
   "metadata": {},
   "source": [
    "## 1.3. 'score_bki' - скоринговый балл по данным из БКИ, числовой"
   ]
  },
  {
   "cell_type": "code",
   "execution_count": 19,
   "metadata": {},
   "outputs": [
    {
     "name": "stdout",
     "output_type": "stream",
     "text": [
      "Колонка 'score_bki'\n",
      "===================\n",
      "   Всего значений 73799, из них различных 69096\n",
      "\n",
      "   Минимум = -3.62458632, Максимум = 0.19977285\n",
      "   Среднее = -1.9\n",
      "   Медиана = -1.9\n",
      "   Стандартное отклонение = 0.5\n",
      "\n",
      "   Анализ выбросов:\n",
      "    Q1 = -2.3, Q3 = -1.6, IQR = 0.7\n",
      "    Границы выбросов: левая -3.3, правая -0.5\n",
      "    Количество выбросов: 351 из 73799 (0.5%)\n",
      "\n",
      "   Связь между параметрами 'score_bki' и 'default':\n",
      "    Среднее для дефолтных (стрёмных) клиентов -1.7\n",
      "    Среднее для НЕдефолтных (годных) клиентов -1.9\n",
      "    Медиана для дефолтных (стрёмных) клиентов -1.7\n",
      "    Медиана для НЕдефолтных (годных) клиентов -2.0\n"
     ]
    }
   ],
   "source": [
    "describe_column(train, 'score_bki')"
   ]
  },
  {
   "cell_type": "code",
   "execution_count": 20,
   "metadata": {},
   "outputs": [
    {
     "data": {
      "text/plain": [
       "<seaborn.axisgrid.FacetGrid at 0x7f9241fab5e0>"
      ]
     },
     "execution_count": 20,
     "metadata": {},
     "output_type": "execute_result"
    },
    {
     "data": {
      "image/png": "[encoded data removed]",
      "text/plain": [
       "<Figure size 360x360 with 1 Axes>"
      ]
     },
     "metadata": {
      "needs_background": "light"
     },
     "output_type": "display_data"
    },
    {
     "data": {
      "image/png": "[encoded data removed]",
      "text/plain": [
       "<Figure size 360x360 with 1 Axes>"
      ]
     },
     "metadata": {
      "needs_background": "light"
     },
     "output_type": "display_data"
    },
    {
     "data": {
      "image/png": "[encoded data removed]",
      "text/plain": [
       "<Figure size 360x360 with 1 Axes>"
      ]
     },
     "metadata": {
      "needs_background": "light"
     },
     "output_type": "display_data"
    }
   ],
   "source": [
    "sns.displot(train.score_bki, kind= \"kde\", color='tab:pink') # kind = {\"hist\", \"kde\", \"ecdf\"}\n",
    "sns.displot(train[train.default == 1].score_bki, kind= \"kde\", color='tab:pink') # kind = {\"hist\", \"kde\", \"ecdf\"}\n",
    "sns.displot(train[train.default == 0].score_bki, kind= \"kde\", color='tab:pink') # kind = {\"hist\", \"kde\", \"ecdf\"}"
   ]
  },
  {
   "cell_type": "code",
   "execution_count": 21,
   "metadata": {},
   "outputs": [
    {
     "data": {
      "image/png": "[encoded data removed]",
      "text/plain": [
       "<Figure size 576x288 with 1 Axes>"
      ]
     },
     "metadata": {
      "needs_background": "light"
     },
     "output_type": "display_data"
    }
   ],
   "source": [
    "fig, axes = plt.subplots(figsize = (8, 4))\n",
    "\n",
    "sns.boxplot(x='default', y='score_bki', data=train, orient=\"v\")\n",
    "\n",
    "plt.show()\n",
    "\n",
    "#         sns.boxplot(x='default', y=c, data=df, ax=axes)\n",
    "#         axes.set_title('\\'' + c + '\\'' + ' Boxplot')\n",
    "#         plt.show()"
   ]
  },
  {
   "cell_type": "markdown",
   "metadata": {},
   "source": [
    "###  Краткие выводы о колонке 'score_bki'\n",
    "\n",
    "- Пропусков нет \n",
    "- Выбросов не более 0.5%\n",
    "- Распределение визуально нормальное\n",
    "- У дефолтных клиентов средний скоринговый балл ниже: -1.7 против -1,9 у недефолтных\n",
    "\n",
    "### Что можно сделать с колонкой 'score_bki'?\n",
    "\n",
    "- Пока ничего не буду делать\n",
    "- Потом можно будет попробовать удалить 0.5% выбросов"
   ]
  },
  {
   "cell_type": "code",
   "execution_count": null,
   "metadata": {},
   "outputs": [],
   "source": []
  },
  {
   "cell_type": "markdown",
   "metadata": {},
   "source": [
    "## 1.4. 'income' - доход заемщика, числовой"
   ]
  },
  {
   "cell_type": "code",
   "execution_count": 22,
   "metadata": {},
   "outputs": [
    {
     "name": "stdout",
     "output_type": "stream",
     "text": [
      "Колонка 'income'\n",
      "================\n",
      "   Всего значений 73799, из них различных 966\n",
      "\n",
      "   Минимум = 1000, Максимум = 1000000\n",
      "   Среднее = 41099.8\n",
      "   Медиана = 30000.0\n",
      "   Стандартное отклонение = 46166.3\n",
      "\n",
      "   Анализ выбросов:\n",
      "    Q1 = 20000.0, Q3 = 48000.0, IQR = 28000.0\n",
      "    Границы выбросов: левая -22000.0, правая 90000.0\n",
      "    Количество выбросов: 4695 из 73799 (6.4%)\n",
      "\n",
      "   Связь между параметрами 'income' и 'default':\n",
      "    Среднее для дефолтных (стрёмных) клиентов 36288.1\n",
      "    Среднее для НЕдефолтных (годных) клиентов 41799.7\n",
      "    Медиана для дефолтных (стрёмных) клиентов 28000.0\n",
      "    Медиана для НЕдефолтных (годных) клиентов 30000.0\n"
     ]
    }
   ],
   "source": [
    "describe_column(train, 'income')"
   ]
  },
  {
   "cell_type": "code",
   "execution_count": 23,
   "metadata": {},
   "outputs": [
    {
     "data": {
      "text/plain": [
       "<seaborn.axisgrid.FacetGrid at 0x7f9232a2f5e0>"
      ]
     },
     "execution_count": 23,
     "metadata": {},
     "output_type": "execute_result"
    },
    {
     "data": {
      "image/png": "[encoded data removed]",
      "text/plain": [
       "<Figure size 360x360 with 1 Axes>"
      ]
     },
     "metadata": {
      "needs_background": "light"
     },
     "output_type": "display_data"
    }
   ],
   "source": [
    "sns.displot(train.income, kind= \"kde\", color='tab:pink') # kind = {\"hist\", \"kde\", \"ecdf\"}"
   ]
  },
  {
   "cell_type": "code",
   "execution_count": 24,
   "metadata": {},
   "outputs": [
    {
     "data": {
      "image/png": "[encoded data removed]",
      "text/plain": [
       "<Figure size 576x288 with 1 Axes>"
      ]
     },
     "metadata": {
      "needs_background": "light"
     },
     "output_type": "display_data"
    }
   ],
   "source": [
    "fig, axes = plt.subplots(figsize = (8, 4))\n",
    "sns.boxplot(x='default', y='income', data=train, orient=\"v\")\n",
    "plt.show()"
   ]
  },
  {
   "cell_type": "markdown",
   "metadata": {},
   "source": [
    "###  Краткие выводы о колонке 'income'\n",
    "\n",
    "- Пропусков нет \n",
    "- Выбросов 6.4%\n",
    "- Распределение визуально далеко от нормального\n",
    "- Boxplot малоинформативен из-за сильного разброса\n",
    "- У дефолтных клиентов средний доход ниже: 36292 против клиентов 41795 у недефолтных\n",
    "\n",
    "### Давайте-ка прологарифмируем 'income' для уменьшения разброса "
   ]
  },
  {
   "cell_type": "code",
   "execution_count": 25,
   "metadata": {},
   "outputs": [],
   "source": [
    "# train['income'] = train['income'].apply(log1p)\n",
    "\n",
    "# describe_column(train, 'income')"
   ]
  },
  {
   "cell_type": "code",
   "execution_count": 26,
   "metadata": {},
   "outputs": [
    {
     "data": {
      "text/plain": [
       "<seaborn.axisgrid.FacetGrid at 0x7f92200a0fd0>"
      ]
     },
     "execution_count": 26,
     "metadata": {},
     "output_type": "execute_result"
    },
    {
     "data": {
      "image/png": "[encoded data removed]",
      "text/plain": [
       "<Figure size 360x360 with 1 Axes>"
      ]
     },
     "metadata": {
      "needs_background": "light"
     },
     "output_type": "display_data"
    }
   ],
   "source": [
    "sns.displot(train.income, kind= \"kde\", color='tab:pink') # kind = {\"hist\", \"kde\", \"ecdf\"}"
   ]
  },
  {
   "cell_type": "markdown",
   "metadata": {},
   "source": [
    "### Что с колонкой 'income' после логарифмирования?\n",
    "\n",
    "- Кол-во выбросов уменьшилось с 6.4% до 2.4%\n",
    "- Распределение визуально стало похожим на нормальное\n",
    "- На этом пока что остановимся, хотя можно подумать, не удалить ли оставшиеся 2.4% выбросов?..."
   ]
  },
  {
   "cell_type": "markdown",
   "metadata": {},
   "source": [
    "## 1.5. 'bki_request_cnt' - количество запросов в БКИ, числовой"
   ]
  },
  {
   "cell_type": "code",
   "execution_count": 27,
   "metadata": {},
   "outputs": [
    {
     "name": "stdout",
     "output_type": "stream",
     "text": [
      "Колонка 'bki_request_cnt'\n",
      "=========================\n",
      "   Всего значений 73799, из них различных 38\n",
      "\n",
      "   Минимум = 0, Максимум = 53\n",
      "   Среднее = 2.0\n",
      "   Медиана = 1.0\n",
      "   Стандартное отклонение = 2.3\n",
      "\n",
      "   Анализ выбросов:\n",
      "    Q1 = 0.0, Q3 = 3.0, IQR = 3.0\n",
      "    Границы выбросов: левая -4.5, правая 7.5\n",
      "    Количество выбросов: 1755 из 73799 (2.4%)\n",
      "\n",
      "   Связь между параметрами 'bki_request_cnt' и 'default':\n",
      "    Среднее для дефолтных (стрёмных) клиентов 2.5\n",
      "    Среднее для НЕдефолтных (годных) клиентов 1.9\n",
      "    Медиана для дефолтных (стрёмных) клиентов 2.0\n",
      "    Медиана для НЕдефолтных (годных) клиентов 1.0\n"
     ]
    }
   ],
   "source": [
    "describe_column(train, 'bki_request_cnt')"
   ]
  },
  {
   "cell_type": "code",
   "execution_count": 28,
   "metadata": {},
   "outputs": [
    {
     "data": {
      "text/plain": [
       "0     19381\n",
       "1     18276\n",
       "2     13749\n",
       "3      9187\n",
       "4      5627\n",
       "5      3268\n",
       "6      1704\n",
       "7       852\n",
       "8       508\n",
       "9       299\n",
       "10      225\n",
       "11      188\n",
       "12      144\n",
       "13       94\n",
       "14       86\n",
       "15       54\n",
       "16       35\n",
       "18       22\n",
       "17       19\n",
       "19       18\n",
       "21       12\n",
       "24       11\n",
       "20        9\n",
       "23        7\n",
       "28        4\n",
       "22        4\n",
       "32        2\n",
       "27        2\n",
       "26        2\n",
       "25        2\n",
       "46        1\n",
       "29        1\n",
       "33        1\n",
       "34        1\n",
       "36        1\n",
       "41        1\n",
       "45        1\n",
       "53        1\n",
       "Name: bki_request_cnt, dtype: int64"
      ]
     },
     "execution_count": 28,
     "metadata": {},
     "output_type": "execute_result"
    }
   ],
   "source": [
    "train.bki_request_cnt.value_counts()"
   ]
  },
  {
   "cell_type": "code",
   "execution_count": 29,
   "metadata": {},
   "outputs": [
    {
     "name": "stdout",
     "output_type": "stream",
     "text": [
      "Клиентов с более, чем 10 событиями:\n",
      "   723 из 73799 (0.98%)\n",
      "Из этих 723:\n",
      "   дефолтных 188 (26.0%)\n",
      "   недефолтных 535 (74.0%)\n",
      "\n",
      "Клиентов с более, чем 15 событиями:\n",
      "   157 из 73799 (0.21%)\n",
      "Из этих 157:\n",
      "   дефолтных 48 (30.6%)\n",
      "   недефолтных 109 (69.4%)\n",
      "\n",
      "Клиентов с более, чем 25 событиями:\n",
      "   18 из 73799 (0.02%)\n",
      "Из этих 18:\n",
      "   дефолтных 8 (44.4%)\n",
      "   недефолтных 10 (55.6%)\n",
      "\n"
     ]
    }
   ],
   "source": [
    "strange_tail(train, 'bki_request_cnt', 10)\n",
    "strange_tail(train, 'bki_request_cnt', 15)\n",
    "strange_tail(train, 'bki_request_cnt', 25)"
   ]
  },
  {
   "cell_type": "markdown",
   "metadata": {},
   "source": [
    "### Наблюдения о колонке 'bki_request_cnt'\n",
    "\n",
    "- Ситуация аналогична ситуации с признаком 'decline_app_cnt' - непонятно, что это за люди, по которы делается такое большое количество запросов в БКИ? Причем среди таких людей примерно 25-30% дефолтных.\n",
    "- Среднее для дефолтных (стрёмных) клиентов 2.5, для НЕдефолтных (годных) клиентов 1.9\n",
    "- Я не вполне понимаю физический смысл такого количества запросов.\n",
    "- В общем очень хочется удалить всех, для кого количество запросов больше какого-то порогового занчения.\n",
    "- Если будет время, можно поиграться с логарифмированием и удалением выбросов."
   ]
  },
  {
   "cell_type": "code",
   "execution_count": 30,
   "metadata": {},
   "outputs": [
    {
     "data": {
      "text/plain": [
       "<seaborn.axisgrid.FacetGrid at 0x7f921833cfa0>"
      ]
     },
     "execution_count": 30,
     "metadata": {},
     "output_type": "execute_result"
    },
    {
     "data": {
      "image/png": "[encoded data removed]",
      "text/plain": [
       "<Figure size 360x360 with 1 Axes>"
      ]
     },
     "metadata": {
      "needs_background": "light"
     },
     "output_type": "display_data"
    }
   ],
   "source": [
    "sns.displot(train.bki_request_cnt, kind= \"kde\", color='tab:pink') # kind = {\"hist\", \"kde\", \"ecdf\"}"
   ]
  },
  {
   "cell_type": "code",
   "execution_count": 31,
   "metadata": {},
   "outputs": [],
   "source": [
    "# log_column(train, 'bki_request_cnt')\n",
    "# sns.displot(train.bki_request_cnt, kind= \"hist\", color='tab:pink') # kind = {\"hist\", \"kde\", \"ecdf\"}"
   ]
  },
  {
   "cell_type": "code",
   "execution_count": 32,
   "metadata": {},
   "outputs": [],
   "source": [
    "# fig, axes = plt.subplots(figsize = (8, 4))\n",
    "# sns.boxplot(x='default', y='bki_request_cnt', data=train, orient=\"v\")\n",
    "# plt.show()"
   ]
  },
  {
   "cell_type": "code",
   "execution_count": null,
   "metadata": {},
   "outputs": [],
   "source": []
  },
  {
   "cell_type": "markdown",
   "metadata": {},
   "source": [
    "## 1.6. 'region_rating' - количество запросов в БКИ, выглядит как числовой, но по факту ординальный"
   ]
  },
  {
   "cell_type": "code",
   "execution_count": 33,
   "metadata": {
    "scrolled": true
   },
   "outputs": [
    {
     "name": "stdout",
     "output_type": "stream",
     "text": [
      "Всего 206 клиентов в категории '20' - 0.3% от общего числа клиентов\n",
      "Из них: 44 (21.4%) дефолтных и 162 (78.6%) недефолтных\n",
      "\n",
      "Всего 300 клиентов в категории '30' - 0.4% от общего числа клиентов\n",
      "Из них: 57 (19.0%) дефолтных и 243 (81.0%) недефолтных\n",
      "\n",
      "Всего 12027 клиентов в категории '40' - 16.3% от общего числа клиентов\n",
      "Из них: 2041 (17.0%) дефолтных и 9986 (83.0%) недефолтных\n",
      "\n",
      "Всего 27523 клиентов в категории '50' - 37.3% от общего числа клиентов\n",
      "Из них: 3747 (13.6%) дефолтных и 23776 (86.4%) недефолтных\n",
      "\n",
      "Всего 16075 клиентов в категории '60' - 21.8% от общего числа клиентов\n",
      "Из них: 2071 (12.9%) дефолтных и 14004 (87.1%) недефолтных\n",
      "\n",
      "Всего 6199 клиентов в категории '70' - 8.4% от общего числа клиентов\n",
      "Из них: 573 (9.2%) дефолтных и 5626 (90.8%) недефолтных\n",
      "\n",
      "Всего 11469 клиентов в категории '80' - 15.5% от общего числа клиентов\n",
      "Из них: 839 (7.3%) дефолтных и 10630 (92.7%) недефолтных\n",
      "\n"
     ]
    },
    {
     "data": {
      "image/png": "[encoded data removed]",
      "text/plain": [
       "<Figure size 360x360 with 1 Axes>"
      ]
     },
     "metadata": {
      "needs_background": "light"
     },
     "output_type": "display_data"
    },
    {
     "data": {
      "image/png": "[encoded data removed]",
      "text/plain": [
       "<Figure size 432x288 with 1 Axes>"
      ]
     },
     "metadata": {
      "needs_background": "light"
     },
     "output_type": "display_data"
    }
   ],
   "source": [
    "describe_column(train, 'region_rating', 'cat')"
   ]
  },
  {
   "cell_type": "markdown",
   "metadata": {},
   "source": [
    "### Наблюдения о колонке 'region_rating'\n",
    "\n",
    "- по факту это ординальный признак - значений всего 7 - от 20 до 80\n",
    "- регионов с рейтингом 20 и 30 очень немного - 505 или 0.7% от всего количества\n",
    "- Средний 'region_rating' для дефолтных клиентов 53.7, для годных клиентов 57.2\n",
    "- Примерный физический смысл 'region_rating' - чем ниже рейтинг региона, тем больше дефолтных клиентов\n",
    "\n",
    "### На будущее:\n",
    "- Попробовать удалить клиентов из регионов с рейтингом 20 и 30, и посмотреть, как это скажется на показателях модели.\n",
    "- Посмотрел на графики - нет, удалять клиентов не надо. Надо просто не давать им кредитов вовсе :-)\n",
    "- Также попробовать перекодировать - что это за числа [20, 30, ..., 80]. А почему не [1,2,3,4,5,6,7]? Вообще, модель как на такую перекодировку среагирует?"
   ]
  },
  {
   "cell_type": "code",
   "execution_count": null,
   "metadata": {},
   "outputs": [],
   "source": []
  },
  {
   "cell_type": "markdown",
   "metadata": {},
   "source": [
    "## 1.7. 'education' - уровень образования, категориальный-ординальный"
   ]
  },
  {
   "cell_type": "markdown",
   "metadata": {},
   "source": [
    "Не понятно, конечно, об образовании в какой стране идет речь, но покопавшись в инете расшифровал примерно так\n",
    "\n",
    "- SCH (school) школьное образование\n",
    "- UGR (undergraduate) базовое высшее с получением степени бакалавра\n",
    "- GRD (graduate) базовое высшее с получением степени магистра\n",
    "- PGR (postgraduate) профессиональная специализация\n",
    "- ACD (academic degree)\n",
    "\n",
    "_Взято у Sergey Meshcheryakov meshcheryakovsvru@yandex.ru_"
   ]
  },
  {
   "cell_type": "code",
   "execution_count": 34,
   "metadata": {},
   "outputs": [
    {
     "data": {
      "text/plain": [
       "307"
      ]
     },
     "execution_count": 34,
     "metadata": {},
     "output_type": "execute_result"
    }
   ],
   "source": [
    "train.education.isna().sum() # проверка наличия пропусков"
   ]
  },
  {
   "cell_type": "code",
   "execution_count": 35,
   "metadata": {},
   "outputs": [
    {
     "data": {
      "text/plain": [
       "0"
      ]
     },
     "execution_count": 35,
     "metadata": {},
     "output_type": "execute_result"
    }
   ],
   "source": [
    "# Избавимся от пропусков - заменим модой для простоты\n",
    "\n",
    "train.education = train.education.fillna(train.education.mode()[0])\n",
    "\n",
    "train.education.isna().sum() # проверка наличия пропусков"
   ]
  },
  {
   "cell_type": "markdown",
   "metadata": {},
   "source": [
    "### Интересная статья про кодирование - *Ordinal and One-Hot* :\n",
    "\n",
    "https://machinelearningmastery.com/one-hot-encoding-for-categorical-data/"
   ]
  },
  {
   "cell_type": "code",
   "execution_count": 36,
   "metadata": {},
   "outputs": [],
   "source": [
    "# Перекодировка вручную\n",
    "ed_dict = {'SCH': 0, 'UGR': 1, 'GRD': 2, 'PGR': 3, 'ACD': 4}\n",
    "train.education = train.education.replace(ed_dict)\n",
    "\n",
    "# label_encoder = LabelEncoder()\n",
    "\n",
    "# train.education = label_encoder.fit_transform(train.education)\n",
    "# print(dict(enumerate(label_encoder.classes_)))\n",
    "\n",
    "# # ===> {0: 'ACD', 1: 'GRD', 2: 'PGR', 3: 'SCH', 4: 'UGR'}\n",
    "\n",
    "# asarray(train.education).reshape(len(train), 1)\n",
    "# ordinal_encoder = OrdinalEncoder()\n",
    "# train.education = ordinal_encoder.fit_transform(asarray(train.education).reshape(len(train), 1))\n",
    "# train.education.value_counts()\n",
    "# ordinal_encoder.categories_"
   ]
  },
  {
   "cell_type": "code",
   "execution_count": 37,
   "metadata": {},
   "outputs": [
    {
     "name": "stdout",
     "output_type": "stream",
     "text": [
      "Всего 39167 клиентов в категории '0' - 53.1% от общего числа клиентов\n",
      "Из них: 5887 (15.0%) дефолтных и 33280 (85.0%) недефолтных\n",
      "\n",
      "Всего 9816 клиентов в категории '1' - 13.3% от общего числа клиентов\n",
      "Из них: 1291 (13.2%) дефолтных и 8525 (86.8%) недефолтных\n",
      "\n",
      "Всего 23365 клиентов в категории '2' - 31.7% от общего числа клиентов\n",
      "Из них: 2105 (9.0%) дефолтных и 21260 (91.0%) недефолтных\n",
      "\n",
      "Всего 1257 клиентов в категории '3' - 1.7% от общего числа клиентов\n",
      "Из них: 81 (6.4%) дефолтных и 1176 (93.6%) недефолтных\n",
      "\n",
      "Всего 194 клиентов в категории '4' - 0.3% от общего числа клиентов\n",
      "Из них: 8 (4.1%) дефолтных и 186 (95.9%) недефолтных\n",
      "\n"
     ]
    },
    {
     "data": {
      "image/png": "[encoded data removed]",
      "text/plain": [
       "<Figure size 360x360 with 1 Axes>"
      ]
     },
     "metadata": {
      "needs_background": "light"
     },
     "output_type": "display_data"
    },
    {
     "data": {
      "image/png": "[encoded data removed]",
      "text/plain": [
       "<Figure size 432x288 with 1 Axes>"
      ]
     },
     "metadata": {
      "needs_background": "light"
     },
     "output_type": "display_data"
    }
   ],
   "source": [
    "describe_column(train, 'education', 'cat')"
   ]
  },
  {
   "cell_type": "markdown",
   "metadata": {},
   "source": [
    "### Любопытства ради глянем на зависимость уровня дохода от образования\n",
    "### *Это надо показывать детям :-)*"
   ]
  },
  {
   "cell_type": "code",
   "execution_count": 38,
   "metadata": {},
   "outputs": [
    {
     "data": {
      "text/plain": [
       "<AxesSubplot:xlabel='education', ylabel='income'>"
      ]
     },
     "execution_count": 38,
     "metadata": {},
     "output_type": "execute_result"
    },
    {
     "data": {
      "image/png": "[encoded data removed]",
      "text/plain": [
       "<Figure size 864x432 with 1 Axes>"
      ]
     },
     "metadata": {
      "needs_background": "light"
     },
     "output_type": "display_data"
    }
   ],
   "source": [
    "plt.figure(figsize=(12, 6))\n",
    "sns.boxplot(x=\"education\", y=\"income\", data=train, showfliers=False)"
   ]
  },
  {
   "cell_type": "markdown",
   "metadata": {},
   "source": [
    "### Наблюдения о колонке 'education':\n",
    "\n",
    "- ординальный признак - значений всего 5 и они упорядочены\n",
    "- образованных клиентов уровня postgraduate и academic degree мало, суммарно около 2%\n",
    "- больше всего среди обратившихся за кредитом наименее образованных - 53%\n",
    "- интересно, почему бакалавры реже ходят за кредитами, чем магистры? Возможно заняты учёбой :-)\n",
    "- налицо обратная зависимость между уровнем образования и вероятностью дефолта\n",
    "- количество дефолтных падает с 15% среди наименее образованных до 4% среди \"академиков\""
   ]
  },
  {
   "cell_type": "code",
   "execution_count": null,
   "metadata": {},
   "outputs": [],
   "source": []
  },
  {
   "cell_type": "markdown",
   "metadata": {},
   "source": [
    "## 1.8. 'sex' - пол, бинарный"
   ]
  },
  {
   "cell_type": "code",
   "execution_count": 39,
   "metadata": {},
   "outputs": [
    {
     "name": "stdout",
     "output_type": "stream",
     "text": [
      "Всего 41562 клиентов в категории 'F' - 56.3% от общего числа клиентов\n",
      "Из них: 5039 (12.1%) дефолтных и 36523 (87.9%) недефолтных\n",
      "\n",
      "Всего 32237 клиентов в категории 'M' - 43.7% от общего числа клиентов\n",
      "Из них: 4333 (13.4%) дефолтных и 27904 (86.6%) недефолтных\n",
      "\n"
     ]
    },
    {
     "data": {
      "image/png": "[encoded data removed]",
      "text/plain": [
       "<Figure size 360x360 with 1 Axes>"
      ]
     },
     "metadata": {
      "needs_background": "light"
     },
     "output_type": "display_data"
    },
    {
     "data": {
      "image/png": "[encoded data removed]",
      "text/plain": [
       "<Figure size 432x288 with 1 Axes>"
      ]
     },
     "metadata": {
      "needs_background": "light"
     },
     "output_type": "display_data"
    }
   ],
   "source": [
    "describe_column(train, 'sex', 'cat')"
   ]
  },
  {
   "cell_type": "code",
   "execution_count": 40,
   "metadata": {},
   "outputs": [
    {
     "data": {
      "text/plain": [
       "<AxesSubplot:xlabel='sex', ylabel='income'>"
      ]
     },
     "execution_count": 40,
     "metadata": {},
     "output_type": "execute_result"
    },
    {
     "data": {
      "image/png": "[encoded data removed]",
      "text/plain": [
       "<Figure size 864x432 with 1 Axes>"
      ]
     },
     "metadata": {
      "needs_background": "light"
     },
     "output_type": "display_data"
    }
   ],
   "source": [
    "plt.figure(figsize=(12, 6))\n",
    "sns.boxplot(x=\"sex\", y=\"income\", data=train, showfliers=False)"
   ]
  },
  {
   "cell_type": "code",
   "execution_count": 41,
   "metadata": {},
   "outputs": [
    {
     "data": {
      "text/plain": [
       "<AxesSubplot:xlabel='sex', ylabel='score_bki'>"
      ]
     },
     "execution_count": 41,
     "metadata": {},
     "output_type": "execute_result"
    },
    {
     "data": {
      "image/png": "[encoded data removed]",
      "text/plain": [
       "<Figure size 864x432 with 1 Axes>"
      ]
     },
     "metadata": {
      "needs_background": "light"
     },
     "output_type": "display_data"
    }
   ],
   "source": [
    "plt.figure(figsize=(12, 6))\n",
    "sns.boxplot(x=\"sex\", y=\"score_bki\", data=train, showfliers=False)"
   ]
  },
  {
   "cell_type": "code",
   "execution_count": 42,
   "metadata": {},
   "outputs": [],
   "source": [
    "# sex_dict = {'F': 0, 'M': 1}\n",
    "# train.sex = train.sex.replace(sex_dict)"
   ]
  },
  {
   "cell_type": "markdown",
   "metadata": {},
   "source": [
    "### Наблюдения о колонке 'sex'\n",
    "\n",
    "- бинарный признак - М и Ж\n",
    "- женщины в среднем чуть чаще обращаются за кредитами - 56% против 44%\n",
    "- уровень дефолтности различается незначительно - 12 и 13 %"
   ]
  },
  {
   "cell_type": "markdown",
   "metadata": {},
   "source": [
    "## 1.9. 'car' - флаг наличия автомобиля , бинарный"
   ]
  },
  {
   "cell_type": "code",
   "execution_count": 43,
   "metadata": {},
   "outputs": [
    {
     "name": "stdout",
     "output_type": "stream",
     "text": [
      "Всего 49832 клиентов в категории 'N' - 67.5% от общего числа клиентов\n",
      "Из них: 6825 (13.7%) дефолтных и 43007 (86.3%) недефолтных\n",
      "\n",
      "Всего 23967 клиентов в категории 'Y' - 32.5% от общего числа клиентов\n",
      "Из них: 2547 (10.6%) дефолтных и 21420 (89.4%) недефолтных\n",
      "\n"
     ]
    },
    {
     "data": {
      "image/png": "[encoded data removed]",
      "text/plain": [
       "<Figure size 360x360 with 1 Axes>"
      ]
     },
     "metadata": {
      "needs_background": "light"
     },
     "output_type": "display_data"
    },
    {
     "data": {
      "image/png": "[encoded data removed]",
      "text/plain": [
       "<Figure size 432x288 with 1 Axes>"
      ]
     },
     "metadata": {
      "needs_background": "light"
     },
     "output_type": "display_data"
    }
   ],
   "source": [
    "describe_column(train, 'car', 'cat')"
   ]
  },
  {
   "cell_type": "markdown",
   "metadata": {},
   "source": [
    "### Наблюдения о колонке 'car'\n",
    "\n",
    "- бинарный признак - есть авто или нет\n",
    "- безлошадных 67.5% - видимо берут кредит на покупку авто :-)\n",
    "- уровень дефолтности для клиентов без авто 13.7%, у клиентов с авто 10.6%"
   ]
  },
  {
   "cell_type": "code",
   "execution_count": 44,
   "metadata": {},
   "outputs": [],
   "source": [
    "# # Перекодируем в 0 и 1\n",
    "# car_dict = {'N': 0, 'Y': 1}\n",
    "# train.car = train.car.replace(car_dict)"
   ]
  },
  {
   "cell_type": "code",
   "execution_count": null,
   "metadata": {},
   "outputs": [],
   "source": []
  },
  {
   "cell_type": "markdown",
   "metadata": {},
   "source": [
    "## 1.10. 'car_type' - флаг автомобиля иномарки, бинарный"
   ]
  },
  {
   "cell_type": "code",
   "execution_count": 45,
   "metadata": {},
   "outputs": [
    {
     "name": "stdout",
     "output_type": "stream",
     "text": [
      "Всего 59791 клиентов в категории 'N' - 81.0% от общего числа клиентов\n",
      "Из них: 8147 (13.6%) дефолтных и 51644 (86.4%) недефолтных\n",
      "\n",
      "Всего 14008 клиентов в категории 'Y' - 19.0% от общего числа клиентов\n",
      "Из них: 1225 (8.7%) дефолтных и 12783 (91.3%) недефолтных\n",
      "\n"
     ]
    },
    {
     "data": {
      "image/png": "[encoded data removed]",
      "text/plain": [
       "<Figure size 360x360 with 1 Axes>"
      ]
     },
     "metadata": {
      "needs_background": "light"
     },
     "output_type": "display_data"
    },
    {
     "data": {
      "image/png": "[encoded data removed]",
      "text/plain": [
       "<Figure size 432x288 with 1 Axes>"
      ]
     },
     "metadata": {
      "needs_background": "light"
     },
     "output_type": "display_data"
    }
   ],
   "source": [
    "describe_column(train, 'car_type', 'cat')"
   ]
  },
  {
   "cell_type": "code",
   "execution_count": 46,
   "metadata": {},
   "outputs": [],
   "source": [
    "# car_type_dict = {'N': 0, 'Y': 1}\n",
    "# train.car_type = train.car_type.replace(car_type_dict)"
   ]
  },
  {
   "cell_type": "markdown",
   "metadata": {},
   "source": [
    "### Наблюдения о колонке 'car_type'\n",
    "\n",
    "- бинарный признак - иномарка или нет\n",
    "- на иномарках всего 19% клиентов\n",
    "- уровень дефолтности у \"иномарочников\" ниже - 8.7%, против 13.6% у адептов отечественного автопрома"
   ]
  },
  {
   "cell_type": "markdown",
   "metadata": {},
   "source": [
    "## 1.11. 'good_work' - флаг наличия “хорошей” работы, бинарный"
   ]
  },
  {
   "cell_type": "code",
   "execution_count": 47,
   "metadata": {},
   "outputs": [
    {
     "name": "stdout",
     "output_type": "stream",
     "text": [
      "Всего 61630 клиентов в категории '0' - 83.5% от общего числа клиентов\n",
      "Из них: 8222 (13.3%) дефолтных и 53408 (86.7%) недефолтных\n",
      "\n",
      "Всего 12169 клиентов в категории '1' - 16.5% от общего числа клиентов\n",
      "Из них: 1150 (9.5%) дефолтных и 11019 (90.5%) недефолтных\n",
      "\n"
     ]
    },
    {
     "data": {
      "image/png": "[encoded data removed]",
      "text/plain": [
       "<Figure size 360x360 with 1 Axes>"
      ]
     },
     "metadata": {
      "needs_background": "light"
     },
     "output_type": "display_data"
    },
    {
     "data": {
      "image/png": "[encoded data removed]",
      "text/plain": [
       "<Figure size 432x288 with 1 Axes>"
      ]
     },
     "metadata": {
      "needs_background": "light"
     },
     "output_type": "display_data"
    }
   ],
   "source": [
    "describe_column(train, 'good_work', 'cat')"
   ]
  },
  {
   "cell_type": "markdown",
   "metadata": {},
   "source": [
    "### Наблюдения о колонке 'good_work':\n",
    "\n",
    "- бинарный признак - работа либо хорошая, либо плохая\n",
    "- с хорошей работой всего 16% - ну ещё бы...\n",
    "- уровень дефолтности у обладателей \"хорошей работы\" ниже - 9.5%, против 13.3% у остальных"
   ]
  },
  {
   "cell_type": "code",
   "execution_count": null,
   "metadata": {},
   "outputs": [],
   "source": []
  },
  {
   "cell_type": "markdown",
   "metadata": {},
   "source": [
    "## 1.12. 'home_address' - категоризатор домашнего адреса, категориальный"
   ]
  },
  {
   "cell_type": "code",
   "execution_count": 48,
   "metadata": {},
   "outputs": [
    {
     "name": "stdout",
     "output_type": "stream",
     "text": [
      "Всего 32585 клиентов в категории '1' - 44.2% от общего числа клиентов\n",
      "Из них: 3027 (9.3%) дефолтных и 29558 (90.7%) недефолтных\n",
      "\n",
      "Всего 39956 клиентов в категории '2' - 54.1% от общего числа клиентов\n",
      "Из них: 6199 (15.5%) дефолтных и 33757 (84.5%) недефолтных\n",
      "\n",
      "Всего 1258 клиентов в категории '3' - 1.7% от общего числа клиентов\n",
      "Из них: 146 (11.6%) дефолтных и 1112 (88.4%) недефолтных\n",
      "\n"
     ]
    },
    {
     "data": {
      "image/png": "[encoded data removed]",
      "text/plain": [
       "<Figure size 360x360 with 1 Axes>"
      ]
     },
     "metadata": {
      "needs_background": "light"
     },
     "output_type": "display_data"
    },
    {
     "data": {
      "image/png": "[encoded data removed]",
      "text/plain": [
       "<Figure size 432x288 with 1 Axes>"
      ]
     },
     "metadata": {
      "needs_background": "light"
     },
     "output_type": "display_data"
    }
   ],
   "source": [
    "describe_column(train, 'home_address', 'cat')"
   ]
  },
  {
   "cell_type": "markdown",
   "metadata": {},
   "source": [
    "### Наблюдения о колонке 'home_address':\n",
    "\n",
    "- категориальный признак с тремя вариантами [1, 2, 3] и непонятным физическим смыслом\n",
    "- Клиентов в категории '1' - 44.2%, '2' - 54.1% и '3' - 1.7% от общего числа клиентов\n",
    "- Дефолтных соответсвтенно 9.3%, 15.5% и 11.6%"
   ]
  },
  {
   "cell_type": "code",
   "execution_count": null,
   "metadata": {},
   "outputs": [],
   "source": []
  },
  {
   "cell_type": "markdown",
   "metadata": {},
   "source": [
    "## 1.13. 'work_address' - категоризатор рабочего адреса, категориальный"
   ]
  },
  {
   "cell_type": "code",
   "execution_count": 49,
   "metadata": {},
   "outputs": [
    {
     "name": "stdout",
     "output_type": "stream",
     "text": [
      "Всего 8334 клиентов в категории '1' - 11.3% от общего числа клиентов\n",
      "Из них: 618 (7.4%) дефолтных и 7716 (92.6%) недефолтных\n",
      "\n",
      "Всего 20506 клиентов в категории '2' - 27.8% от общего числа клиентов\n",
      "Из них: 2102 (10.3%) дефолтных и 18404 (89.7%) недефолтных\n",
      "\n",
      "Всего 44959 клиентов в категории '3' - 60.9% от общего числа клиентов\n",
      "Из них: 6652 (14.8%) дефолтных и 38307 (85.2%) недефолтных\n",
      "\n"
     ]
    },
    {
     "data": {
      "image/png": "[encoded data removed]",
      "text/plain": [
       "<Figure size 360x360 with 1 Axes>"
      ]
     },
     "metadata": {
      "needs_background": "light"
     },
     "output_type": "display_data"
    },
    {
     "data": {
      "image/png": "[encoded data removed]",
      "text/plain": [
       "<Figure size 432x288 with 1 Axes>"
      ]
     },
     "metadata": {
      "needs_background": "light"
     },
     "output_type": "display_data"
    }
   ],
   "source": [
    "describe_column(train, 'work_address', 'cat')"
   ]
  },
  {
   "cell_type": "markdown",
   "metadata": {},
   "source": [
    "### Наблюдения о колонке 'work_address':\n",
    "\n",
    "- категориальный признак с тремя вариантами [1, 2, 3] и непонятным физическим смыслом\n",
    "- Клиентов в категории '1' - 11.3%, '2' - 27.8% и '3' - 60.9% от общего числа клиентов\n",
    "- Дефолтных соответсвтенно 7.4%, 10.3% и 14.8% - то есть налицо положительная связь между 'work_address' и дефолтностью"
   ]
  },
  {
   "cell_type": "code",
   "execution_count": null,
   "metadata": {},
   "outputs": [],
   "source": []
  },
  {
   "cell_type": "markdown",
   "metadata": {},
   "source": [
    "## 1.14. 'sna' - связь заемщика с клиентами банка, категориальный"
   ]
  },
  {
   "cell_type": "code",
   "execution_count": 50,
   "metadata": {},
   "outputs": [
    {
     "name": "stdout",
     "output_type": "stream",
     "text": [
      "Всего 47301 клиентов в категории '1' - 64.1% от общего числа клиентов\n",
      "Из них: 4645 (9.8%) дефолтных и 42656 (90.2%) недефолтных\n",
      "\n",
      "Всего 10626 клиентов в категории '2' - 14.4% от общего числа клиентов\n",
      "Из них: 1592 (15.0%) дефолтных и 9034 (85.0%) недефолтных\n",
      "\n",
      "Всего 4123 клиентов в категории '3' - 5.6% от общего числа клиентов\n",
      "Из них: 650 (15.8%) дефолтных и 3473 (84.2%) недефолтных\n",
      "\n",
      "Всего 11749 клиентов в категории '4' - 15.9% от общего числа клиентов\n",
      "Из них: 2485 (21.2%) дефолтных и 9264 (78.8%) недефолтных\n",
      "\n"
     ]
    },
    {
     "data": {
      "image/png": "[encoded data removed]",
      "text/plain": [
       "<Figure size 360x360 with 1 Axes>"
      ]
     },
     "metadata": {
      "needs_background": "light"
     },
     "output_type": "display_data"
    },
    {
     "data": {
      "image/png": "[encoded data removed]",
      "text/plain": [
       "<Figure size 432x288 with 1 Axes>"
      ]
     },
     "metadata": {
      "needs_background": "light"
     },
     "output_type": "display_data"
    }
   ],
   "source": [
    "describe_column(train, 'sna', 'cat')"
   ]
  },
  {
   "cell_type": "markdown",
   "metadata": {},
   "source": [
    "### Наблюдения о колонке 'sna':\n",
    "\n",
    "- Категориальный признак с четырьмя вариантами [1, 2, 3, 4] и непонятным физическим смыслом;\n",
    "- Больше клиентов в категории '1' - 64.1%;\n",
    "- Пропорция дефолтных тем выше, чем выше категория 'sna' от 9.8% для категории '1' до 21.2% для категории '4'."
   ]
  },
  {
   "cell_type": "code",
   "execution_count": null,
   "metadata": {},
   "outputs": [],
   "source": []
  },
  {
   "cell_type": "markdown",
   "metadata": {},
   "source": [
    "## 1.15. 'first_time' - давность наличия информации о заемщике, категориальный"
   ]
  },
  {
   "cell_type": "code",
   "execution_count": 51,
   "metadata": {},
   "outputs": [
    {
     "name": "stdout",
     "output_type": "stream",
     "text": [
      "Всего 12239 клиентов в категории '1' - 16.6% от общего числа клиентов\n",
      "Из них: 2278 (18.6%) дефолтных и 9961 (81.4%) недефолтных\n",
      "\n",
      "Всего 11568 клиентов в категории '2' - 15.7% от общего числа клиентов\n",
      "Из них: 1798 (15.5%) дефолтных и 9770 (84.5%) недефолтных\n",
      "\n",
      "Всего 31255 клиентов в категории '3' - 42.4% от общего числа клиентов\n",
      "Из них: 3759 (12.0%) дефолтных и 27496 (88.0%) недефолтных\n",
      "\n",
      "Всего 18737 клиентов в категории '4' - 25.4% от общего числа клиентов\n",
      "Из них: 1537 (8.2%) дефолтных и 17200 (91.8%) недефолтных\n",
      "\n"
     ]
    },
    {
     "data": {
      "image/png": "[encoded data removed]",
      "text/plain": [
       "<Figure size 360x360 with 1 Axes>"
      ]
     },
     "metadata": {
      "needs_background": "light"
     },
     "output_type": "display_data"
    },
    {
     "data": {
      "image/png": "[encoded data removed]",
      "text/plain": [
       "<Figure size 432x288 with 1 Axes>"
      ]
     },
     "metadata": {
      "needs_background": "light"
     },
     "output_type": "display_data"
    }
   ],
   "source": [
    "describe_column(train, 'first_time', 'cat')"
   ]
  },
  {
   "cell_type": "markdown",
   "metadata": {},
   "source": [
    "### Наблюдения о колонке 'first_time':\n",
    "\n",
    "- Категориальный признак с четырьмя вариантами [1, 2, 3, 4], предположительно чем больше показатель, тем дольше у банка имеется в наличии информация о заемщике;\n",
    "- Больше клиентов в категории '3' - 42.4%;\n",
    "- Пропорция дефолтных тем ниже, чем выше категория 'first_time' от 18.6% для категории '1' до 8.2% для категории '4'."
   ]
  },
  {
   "cell_type": "code",
   "execution_count": null,
   "metadata": {},
   "outputs": [],
   "source": []
  },
  {
   "cell_type": "markdown",
   "metadata": {},
   "source": [
    "## 1.16. 'foreign_passport' - наличие загранпаспорта, бинарный"
   ]
  },
  {
   "cell_type": "code",
   "execution_count": 52,
   "metadata": {},
   "outputs": [
    {
     "name": "stdout",
     "output_type": "stream",
     "text": [
      "Всего 62733 клиентов в категории 'N' - 85.0% от общего числа клиентов\n",
      "Из них: 8552 (13.6%) дефолтных и 54181 (86.4%) недефолтных\n",
      "\n",
      "Всего 11066 клиентов в категории 'Y' - 15.0% от общего числа клиентов\n",
      "Из них: 820 (7.4%) дефолтных и 10246 (92.6%) недефолтных\n",
      "\n"
     ]
    },
    {
     "data": {
      "image/png": "[encoded data removed]",
      "text/plain": [
       "<Figure size 360x360 with 1 Axes>"
      ]
     },
     "metadata": {
      "needs_background": "light"
     },
     "output_type": "display_data"
    },
    {
     "data": {
      "image/png": "[encoded data removed]",
      "text/plain": [
       "<Figure size 432x288 with 1 Axes>"
      ]
     },
     "metadata": {
      "needs_background": "light"
     },
     "output_type": "display_data"
    }
   ],
   "source": [
    "describe_column(train, 'foreign_passport', 'cat')"
   ]
  },
  {
   "cell_type": "code",
   "execution_count": 53,
   "metadata": {},
   "outputs": [],
   "source": [
    "train.foreign_passport = train.foreign_passport.replace({'N': 0, 'Y': 1})"
   ]
  },
  {
   "cell_type": "markdown",
   "metadata": {},
   "source": [
    "### Наблюдения о колонке 'foreign_passport':\n",
    "\n",
    "- бинарный признак - есть паспорт или нет\n",
    "- безпаспортных 85.0%\n",
    "- уровень дефолтности для клиентов без паспорта существенно выше - 13.6%, у клиентов с паспортом лишь 7.4%"
   ]
  },
  {
   "cell_type": "markdown",
   "metadata": {},
   "source": [
    "## 1.17. 'app_date - дата подачи заявки"
   ]
  },
  {
   "cell_type": "code",
   "execution_count": 54,
   "metadata": {},
   "outputs": [],
   "source": [
    "# # переводим дату в datetime\n",
    "# train.app_date = pd.to_datetime(train.app_date)\n",
    "\n",
    "# train\n",
    "# # Выводим период наблюдений:\n",
    "# display(train.app_date.max())\n",
    "# display(train.app_date.min())"
   ]
  },
  {
   "cell_type": "code",
   "execution_count": 55,
   "metadata": {},
   "outputs": [],
   "source": [
    "# # Можно не обращать внимания на год, он везде будет 2014-й\n",
    "# train['app_day'] = train.app_date.dt.day\n",
    "# train['app_month'] = train.app_date.dt.month\n",
    "# train[\"app_weekday\"] = train.app_date.dt.weekday\n",
    "\n",
    "# # Количество дней, прошедших с начала наблюдений:\n",
    "# train['days'] = (train.app_date - train.app_date.min()).dt.days"
   ]
  },
  {
   "cell_type": "code",
   "execution_count": 56,
   "metadata": {},
   "outputs": [],
   "source": [
    "# describe_column(train, 'app_day', 'cat')"
   ]
  },
  {
   "cell_type": "code",
   "execution_count": 57,
   "metadata": {},
   "outputs": [],
   "source": [
    "# describe_column(train, 'app_month', 'cat')"
   ]
  },
  {
   "cell_type": "code",
   "execution_count": 58,
   "metadata": {},
   "outputs": [],
   "source": [
    "# describe_column(train, 'app_weekday', 'cat')"
   ]
  },
  {
   "cell_type": "code",
   "execution_count": 59,
   "metadata": {},
   "outputs": [],
   "source": [
    "# plt.figure(figsize=(10,5))\n",
    "# sns.heatmap(train.iloc[:,19:].corr(), annot=True)"
   ]
  },
  {
   "cell_type": "code",
   "execution_count": 60,
   "metadata": {},
   "outputs": [
    {
     "data": {
      "text/html": [
       "<div>\n",
       "<style scoped>\n",
       "    .dataframe tbody tr th:only-of-type {\n",
       "        vertical-align: middle;\n",
       "    }\n",
       "\n",
       "    .dataframe tbody tr th {\n",
       "        vertical-align: top;\n",
       "    }\n",
       "\n",
       "    .dataframe thead th {\n",
       "        text-align: right;\n",
       "    }\n",
       "</style>\n",
       "<table border=\"1\" class=\"dataframe\">\n",
       "  <thead>\n",
       "    <tr style=\"text-align: right;\">\n",
       "      <th></th>\n",
       "      <th>client_id</th>\n",
       "      <th>app_date</th>\n",
       "      <th>education</th>\n",
       "      <th>sex</th>\n",
       "      <th>age</th>\n",
       "      <th>car</th>\n",
       "      <th>car_type</th>\n",
       "      <th>decline_app_cnt</th>\n",
       "      <th>good_work</th>\n",
       "      <th>score_bki</th>\n",
       "      <th>bki_request_cnt</th>\n",
       "      <th>region_rating</th>\n",
       "      <th>home_address</th>\n",
       "      <th>work_address</th>\n",
       "      <th>income</th>\n",
       "      <th>sna</th>\n",
       "      <th>first_time</th>\n",
       "      <th>foreign_passport</th>\n",
       "      <th>default</th>\n",
       "    </tr>\n",
       "  </thead>\n",
       "  <tbody>\n",
       "    <tr>\n",
       "      <th>0</th>\n",
       "      <td>25905</td>\n",
       "      <td>01FEB2014</td>\n",
       "      <td>0</td>\n",
       "      <td>M</td>\n",
       "      <td>62</td>\n",
       "      <td>Y</td>\n",
       "      <td>Y</td>\n",
       "      <td>0</td>\n",
       "      <td>0</td>\n",
       "      <td>-2.008753</td>\n",
       "      <td>1</td>\n",
       "      <td>50</td>\n",
       "      <td>1</td>\n",
       "      <td>2</td>\n",
       "      <td>18000</td>\n",
       "      <td>4</td>\n",
       "      <td>1</td>\n",
       "      <td>0</td>\n",
       "      <td>0</td>\n",
       "    </tr>\n",
       "    <tr>\n",
       "      <th>1</th>\n",
       "      <td>63161</td>\n",
       "      <td>12MAR2014</td>\n",
       "      <td>0</td>\n",
       "      <td>F</td>\n",
       "      <td>59</td>\n",
       "      <td>N</td>\n",
       "      <td>N</td>\n",
       "      <td>0</td>\n",
       "      <td>0</td>\n",
       "      <td>-1.532276</td>\n",
       "      <td>3</td>\n",
       "      <td>50</td>\n",
       "      <td>2</td>\n",
       "      <td>3</td>\n",
       "      <td>19000</td>\n",
       "      <td>4</td>\n",
       "      <td>1</td>\n",
       "      <td>0</td>\n",
       "      <td>0</td>\n",
       "    </tr>\n",
       "    <tr>\n",
       "      <th>2</th>\n",
       "      <td>25887</td>\n",
       "      <td>01FEB2014</td>\n",
       "      <td>0</td>\n",
       "      <td>M</td>\n",
       "      <td>25</td>\n",
       "      <td>Y</td>\n",
       "      <td>N</td>\n",
       "      <td>2</td>\n",
       "      <td>0</td>\n",
       "      <td>-1.408142</td>\n",
       "      <td>1</td>\n",
       "      <td>80</td>\n",
       "      <td>1</td>\n",
       "      <td>2</td>\n",
       "      <td>30000</td>\n",
       "      <td>1</td>\n",
       "      <td>4</td>\n",
       "      <td>1</td>\n",
       "      <td>0</td>\n",
       "    </tr>\n",
       "    <tr>\n",
       "      <th>3</th>\n",
       "      <td>16222</td>\n",
       "      <td>23JAN2014</td>\n",
       "      <td>0</td>\n",
       "      <td>F</td>\n",
       "      <td>53</td>\n",
       "      <td>N</td>\n",
       "      <td>N</td>\n",
       "      <td>0</td>\n",
       "      <td>0</td>\n",
       "      <td>-2.057471</td>\n",
       "      <td>2</td>\n",
       "      <td>50</td>\n",
       "      <td>2</td>\n",
       "      <td>3</td>\n",
       "      <td>10000</td>\n",
       "      <td>1</td>\n",
       "      <td>3</td>\n",
       "      <td>0</td>\n",
       "      <td>0</td>\n",
       "    </tr>\n",
       "    <tr>\n",
       "      <th>4</th>\n",
       "      <td>101655</td>\n",
       "      <td>18APR2014</td>\n",
       "      <td>2</td>\n",
       "      <td>M</td>\n",
       "      <td>48</td>\n",
       "      <td>N</td>\n",
       "      <td>N</td>\n",
       "      <td>0</td>\n",
       "      <td>1</td>\n",
       "      <td>-1.244723</td>\n",
       "      <td>1</td>\n",
       "      <td>60</td>\n",
       "      <td>2</td>\n",
       "      <td>3</td>\n",
       "      <td>30000</td>\n",
       "      <td>1</td>\n",
       "      <td>4</td>\n",
       "      <td>1</td>\n",
       "      <td>0</td>\n",
       "    </tr>\n",
       "  </tbody>\n",
       "</table>\n",
       "</div>"
      ],
      "text/plain": [
       "   client_id   app_date  education sex  age car car_type  decline_app_cnt  \\\n",
       "0      25905  01FEB2014          0   M   62   Y        Y                0   \n",
       "1      63161  12MAR2014          0   F   59   N        N                0   \n",
       "2      25887  01FEB2014          0   M   25   Y        N                2   \n",
       "3      16222  23JAN2014          0   F   53   N        N                0   \n",
       "4     101655  18APR2014          2   M   48   N        N                0   \n",
       "\n",
       "   good_work  score_bki  bki_request_cnt  region_rating  home_address  \\\n",
       "0          0  -2.008753                1             50             1   \n",
       "1          0  -1.532276                3             50             2   \n",
       "2          0  -1.408142                1             80             1   \n",
       "3          0  -2.057471                2             50             2   \n",
       "4          1  -1.244723                1             60             2   \n",
       "\n",
       "   work_address  income  sna  first_time  foreign_passport  default  \n",
       "0             2   18000    4           1                 0        0  \n",
       "1             3   19000    4           1                 0        0  \n",
       "2             2   30000    1           4                 1        0  \n",
       "3             3   10000    1           3                 0        0  \n",
       "4             3   30000    1           4                 1        0  "
      ]
     },
     "execution_count": 60,
     "metadata": {},
     "output_type": "execute_result"
    }
   ],
   "source": [
    "train.head()"
   ]
  },
  {
   "cell_type": "code",
   "execution_count": 61,
   "metadata": {},
   "outputs": [
    {
     "data": {
      "text/html": [
       "<div>\n",
       "<style scoped>\n",
       "    .dataframe tbody tr th:only-of-type {\n",
       "        vertical-align: middle;\n",
       "    }\n",
       "\n",
       "    .dataframe tbody tr th {\n",
       "        vertical-align: top;\n",
       "    }\n",
       "\n",
       "    .dataframe thead th {\n",
       "        text-align: right;\n",
       "    }\n",
       "</style>\n",
       "<table border=\"1\" class=\"dataframe\">\n",
       "  <thead>\n",
       "    <tr style=\"text-align: right;\">\n",
       "      <th></th>\n",
       "      <th>client_id</th>\n",
       "      <th>education</th>\n",
       "      <th>sex</th>\n",
       "      <th>age</th>\n",
       "      <th>car</th>\n",
       "      <th>car_type</th>\n",
       "      <th>decline_app_cnt</th>\n",
       "      <th>good_work</th>\n",
       "      <th>score_bki</th>\n",
       "      <th>bki_request_cnt</th>\n",
       "      <th>region_rating</th>\n",
       "      <th>home_address</th>\n",
       "      <th>work_address</th>\n",
       "      <th>income</th>\n",
       "      <th>sna</th>\n",
       "      <th>first_time</th>\n",
       "      <th>foreign_passport</th>\n",
       "      <th>default</th>\n",
       "    </tr>\n",
       "  </thead>\n",
       "  <tbody>\n",
       "    <tr>\n",
       "      <th>0</th>\n",
       "      <td>25905</td>\n",
       "      <td>0</td>\n",
       "      <td>M</td>\n",
       "      <td>62</td>\n",
       "      <td>Y</td>\n",
       "      <td>Y</td>\n",
       "      <td>0</td>\n",
       "      <td>0</td>\n",
       "      <td>-2.008753</td>\n",
       "      <td>1</td>\n",
       "      <td>50</td>\n",
       "      <td>1</td>\n",
       "      <td>2</td>\n",
       "      <td>18000</td>\n",
       "      <td>4</td>\n",
       "      <td>1</td>\n",
       "      <td>0</td>\n",
       "      <td>0</td>\n",
       "    </tr>\n",
       "    <tr>\n",
       "      <th>1</th>\n",
       "      <td>63161</td>\n",
       "      <td>0</td>\n",
       "      <td>F</td>\n",
       "      <td>59</td>\n",
       "      <td>N</td>\n",
       "      <td>N</td>\n",
       "      <td>0</td>\n",
       "      <td>0</td>\n",
       "      <td>-1.532276</td>\n",
       "      <td>3</td>\n",
       "      <td>50</td>\n",
       "      <td>2</td>\n",
       "      <td>3</td>\n",
       "      <td>19000</td>\n",
       "      <td>4</td>\n",
       "      <td>1</td>\n",
       "      <td>0</td>\n",
       "      <td>0</td>\n",
       "    </tr>\n",
       "    <tr>\n",
       "      <th>2</th>\n",
       "      <td>25887</td>\n",
       "      <td>0</td>\n",
       "      <td>M</td>\n",
       "      <td>25</td>\n",
       "      <td>Y</td>\n",
       "      <td>N</td>\n",
       "      <td>2</td>\n",
       "      <td>0</td>\n",
       "      <td>-1.408142</td>\n",
       "      <td>1</td>\n",
       "      <td>80</td>\n",
       "      <td>1</td>\n",
       "      <td>2</td>\n",
       "      <td>30000</td>\n",
       "      <td>1</td>\n",
       "      <td>4</td>\n",
       "      <td>1</td>\n",
       "      <td>0</td>\n",
       "    </tr>\n",
       "    <tr>\n",
       "      <th>3</th>\n",
       "      <td>16222</td>\n",
       "      <td>0</td>\n",
       "      <td>F</td>\n",
       "      <td>53</td>\n",
       "      <td>N</td>\n",
       "      <td>N</td>\n",
       "      <td>0</td>\n",
       "      <td>0</td>\n",
       "      <td>-2.057471</td>\n",
       "      <td>2</td>\n",
       "      <td>50</td>\n",
       "      <td>2</td>\n",
       "      <td>3</td>\n",
       "      <td>10000</td>\n",
       "      <td>1</td>\n",
       "      <td>3</td>\n",
       "      <td>0</td>\n",
       "      <td>0</td>\n",
       "    </tr>\n",
       "    <tr>\n",
       "      <th>4</th>\n",
       "      <td>101655</td>\n",
       "      <td>2</td>\n",
       "      <td>M</td>\n",
       "      <td>48</td>\n",
       "      <td>N</td>\n",
       "      <td>N</td>\n",
       "      <td>0</td>\n",
       "      <td>1</td>\n",
       "      <td>-1.244723</td>\n",
       "      <td>1</td>\n",
       "      <td>60</td>\n",
       "      <td>2</td>\n",
       "      <td>3</td>\n",
       "      <td>30000</td>\n",
       "      <td>1</td>\n",
       "      <td>4</td>\n",
       "      <td>1</td>\n",
       "      <td>0</td>\n",
       "    </tr>\n",
       "  </tbody>\n",
       "</table>\n",
       "</div>"
      ],
      "text/plain": [
       "   client_id  education sex  age car car_type  decline_app_cnt  good_work  \\\n",
       "0      25905          0   M   62   Y        Y                0          0   \n",
       "1      63161          0   F   59   N        N                0          0   \n",
       "2      25887          0   M   25   Y        N                2          0   \n",
       "3      16222          0   F   53   N        N                0          0   \n",
       "4     101655          2   M   48   N        N                0          1   \n",
       "\n",
       "   score_bki  bki_request_cnt  region_rating  home_address  work_address  \\\n",
       "0  -2.008753                1             50             1             2   \n",
       "1  -1.532276                3             50             2             3   \n",
       "2  -1.408142                1             80             1             2   \n",
       "3  -2.057471                2             50             2             3   \n",
       "4  -1.244723                1             60             2             3   \n",
       "\n",
       "   income  sna  first_time  foreign_passport  default  \n",
       "0   18000    4           1                 0        0  \n",
       "1   19000    4           1                 0        0  \n",
       "2   30000    1           4                 1        0  \n",
       "3   10000    1           3                 0        0  \n",
       "4   30000    1           4                 1        0  "
      ]
     },
     "execution_count": 61,
     "metadata": {},
     "output_type": "execute_result"
    }
   ],
   "source": [
    "train.drop([\"app_date\"], axis=1, inplace=True)\n",
    "\n",
    "train.head()"
   ]
  },
  {
   "cell_type": "markdown",
   "metadata": {},
   "source": [
    "### Наблюдения о колонке 'app_date':\n",
    "\n",
    "- для наивной модели пока просто удалим, а дальше поглядим."
   ]
  },
  {
   "cell_type": "code",
   "execution_count": null,
   "metadata": {},
   "outputs": [],
   "source": []
  },
  {
   "cell_type": "markdown",
   "metadata": {},
   "source": [
    "# 2. Строим модели"
   ]
  },
  {
   "cell_type": "markdown",
   "metadata": {},
   "source": [
    "## 2.1. Наивная модель\n",
    "\n",
    "Итак, напишем функцию предобработки данных для наивной модели, предобработка минимальная:\n",
    " - удалить пропуски в колонке 'education'\n",
    " - перекодировать колонку 'education' вручную\n",
    " - перекодируем все бинарные колонки\n",
    " - и всё - это самое днище предобработки для наивной модели"
   ]
  },
  {
   "cell_type": "code",
   "execution_count": 62,
   "metadata": {},
   "outputs": [],
   "source": [
    "def preprocessing_model_1(df):\n",
    "    # удаляем колонку 'app_date'\n",
    "    df.drop('app_date', axis=1, inplace=True)\n",
    "    \n",
    "    # удаляем пропуски в колонке 'education'\n",
    "    df.education = df.education.fillna(df.education.mode()[0])\n",
    "    # перекодируем 'education' вручную - ординальный признак\n",
    "    df.education = df.education.replace({'SCH': 0, # school - школьное образование\n",
    "                                         'UGR': 1, # undergraduate - бакалавр\n",
    "                                         'GRD': 2, # graduate - магистр\n",
    "                                         'PGR': 3, # postgraduate - профессиональная специализация\n",
    "                                         'ACD': 4  # academic degree\n",
    "                                        })\n",
    "    # категориальные признаки \n",
    "    cats = ['education', 'region_rating', 'home_address', \n",
    "            'work_address', 'sna', 'first_time']\n",
    "  \n",
    "    # бинарные переменные\n",
    "    bins = ['sex', 'car', 'car_type', 'good_work', 'foreign_passport']\n",
    "        \n",
    "    # все бинарные колонки перекодируем\n",
    "    le = LabelEncoder()\n",
    "    for column in bins:\n",
    "        le.fit(df[column])\n",
    "        df[column] = le.transform(df[column])\n",
    "    \n",
    "    # числовые переменные\n",
    "    nums = ['age', 'decline_app_cnt', 'score_bki', 'income', 'bki_request_cnt']\n",
    "    \n",
    "    return"
   ]
  },
  {
   "cell_type": "code",
   "execution_count": 63,
   "metadata": {},
   "outputs": [],
   "source": [
    "train = pd.read_csv(path +'/train.csv')\n",
    "\n",
    "preprocessing_model_1(train)\n",
    "\n",
    "X = train.drop('default', axis = 1) # удаляем целевую переменную 'default'\n",
    "y = train.drop(train.iloc[:, :-1], axis = 1) # выделяем целевую переменную\n",
    "\n",
    "X_train, X_test, y_train, y_test = train_test_split(X, y, test_size = 0.2, shuffle=False)"
   ]
  },
  {
   "cell_type": "code",
   "execution_count": 64,
   "metadata": {},
   "outputs": [
    {
     "data": {
      "image/png": "[encoded data removed]",
      "text/plain": [
       "<Figure size 432x288 with 1 Axes>"
      ]
     },
     "metadata": {
      "needs_background": "light"
     },
     "output_type": "display_data"
    }
   ],
   "source": [
    "model = LogisticRegression()\n",
    "model.fit(X_train, y_train)\n",
    "y_pred = model.predict(X_test)\n",
    "\n",
    "probs = model.predict_proba(X_test)\n",
    "probs = probs[:,1]\n",
    "\n",
    "fpr, tpr, threshold = roc_curve(y_test, probs)\n",
    "roc_auc = roc_auc_score(y_test, probs)\n",
    "\n",
    "plt.figure()\n",
    "plt.plot([0, 1], label='Baseline', linestyle='--')\n",
    "plt.plot(fpr, tpr, label = 'Regression')\n",
    "plt.title('Logistic Regression ROC AUC = %0.3f' % roc_auc)\n",
    "plt.ylabel('True Positive Rate')\n",
    "plt.xlabel('False Positive Rate')\n",
    "plt.legend(loc = 'lower right')\n",
    "plt.show()"
   ]
  },
  {
   "cell_type": "code",
   "execution_count": 65,
   "metadata": {},
   "outputs": [
    {
     "name": "stdout",
     "output_type": "stream",
     "text": [
      "accuracy_score: 0.8722\n",
      "f1_score: 0.0\n",
      "recall_score: 0.0\n",
      "MSE: 0.1278\n"
     ]
    },
    {
     "data": {
      "text/plain": [
       "array([[12873,     0],\n",
       "       [ 1887,     0]])"
      ]
     },
     "execution_count": 65,
     "metadata": {},
     "output_type": "execute_result"
    }
   ],
   "source": [
    "# Оценка качества:\n",
    "print('accuracy_score: {}'.format(np.round(accuracy_score(y_test, y_pred), 4)))\n",
    "print('f1_score: {}'.format(np.round(f1_score(y_test, y_pred), 4)))\n",
    "print('recall_score: {}'.format(np.round(recall_score(y_test, y_pred), 4)))\n",
    "print('MSE: {}'.format(np.round(mean_squared_error(y_test, y_pred), 4)))\n",
    "\n",
    "# Построим матрицу ошибок\n",
    "confusion_matrix(y_test, y_pred)"
   ]
  },
  {
   "cell_type": "code",
   "execution_count": 66,
   "metadata": {},
   "outputs": [
    {
     "data": {
      "text/plain": [
       "<AxesSubplot:>"
      ]
     },
     "execution_count": 66,
     "metadata": {},
     "output_type": "execute_result"
    },
    {
     "data": {
      "image/png": "[encoded data removed]",
      "text/plain": [
       "<Figure size 432x288 with 2 Axes>"
      ]
     },
     "metadata": {
      "needs_background": "light"
     },
     "output_type": "display_data"
    }
   ],
   "source": [
    "# Визуализация confusion matrix:\n",
    "sns.set_context(context='paper', font_scale=2, rc=None)\n",
    "group_names = ['True Neg', 'False Pos', 'False Neg', 'True Pos']\n",
    "group_counts = ['{0:0.0f}'.format(value) for value in\n",
    "                confusion_matrix(y_test, y_pred).flatten()]\n",
    "labels = [f'{v1}\\n{v2}' for v1, v2 in\n",
    "          zip(group_names, group_counts)]\n",
    "labels = np.asarray(labels).reshape(2, 2)\n",
    "sns.heatmap(confusion_matrix(y_test, y_pred), annot=labels, fmt='', cmap='Blues')"
   ]
  },
  {
   "cell_type": "markdown",
   "metadata": {},
   "source": [
    "### Выводы относительно наивной модели:\n",
    "- Предсказывает плохо;\n",
    "- ROC AUC = 0.588, то есть чуть лучше, чем бросать монетку;\n",
    "- Confusion matrix:\n",
    " - _TN - спрогнозировали, что дефолта нет и его правда нет - 12873;_\n",
    " - _FN - спрогнозировали, что дефолта нет, а он есть - 1887;_\n",
    " - _TP - спрогнозировали, что дефолт есть, и он правда есть - 0;_\n",
    " - _FP - спрогнозировали, что дефолт есть, а его нет - 0;_\n",
    "- То есть модель добрейшей души - про всех говорит, что дефолта не будет;\n",
    "- Зато есть куда расти."
   ]
  },
  {
   "cell_type": "markdown",
   "metadata": {},
   "source": [
    "### Теперь сделаем submission с полученной моделью"
   ]
  },
  {
   "cell_type": "code",
   "execution_count": 67,
   "metadata": {},
   "outputs": [],
   "source": [
    "# Обучаем модель на всём сете train\n",
    "model = LogisticRegression()\n",
    "model.fit(X, y)\n",
    "\n",
    "test = pd.read_csv(path +'/test.csv')\n",
    "\n",
    "preprocessing_model_1(test)\n",
    "\n",
    "y_submission = model.predict_proba(test)\n",
    "y_submission = y_submission[:,1]\n",
    "\n",
    "test['default'] = y_submission\n",
    "\n",
    "test['default'] = y_submission\n",
    "\n",
    "submission = test[['client_id','default']]\n",
    "\n",
    "submission.to_csv(path + '/submission_r01_naive.csv', index=False)"
   ]
  },
  {
   "cell_type": "code",
   "execution_count": null,
   "metadata": {},
   "outputs": [],
   "source": []
  },
  {
   "cell_type": "markdown",
   "metadata": {},
   "source": [
    "## 2.2. Модель №2 - с улучшенной предобработкой\n",
    "\n",
    "### План такой:\n",
    "- Не удаляем дату, а вытаскиваем из нее число, месяц и год в отдельные колонки;\n",
    "- Перекодируем все категориальные признаки;\n",
    "- Числовые признаки логарифмируем (кроме 'score_bki', который < 0);\n",
    "- Смотрим на результат и думаем дальше."
   ]
  },
  {
   "cell_type": "code",
   "execution_count": 68,
   "metadata": {},
   "outputs": [],
   "source": [
    "def preprocessing_model_2(df):\n",
    "    # переводим дату в datetime\n",
    "    df.app_date = pd.to_datetime(df.app_date)\n",
    "    \n",
    "    # На этапе EDA видели, что год везде 2014, поэтому год исключаем\n",
    "    df['app_day'] = df.app_date.dt.day\n",
    "    df['app_month'] = df.app_date.dt.month\n",
    "    df['app_weekday'] = df.app_date.dt.weekday\n",
    "\n",
    "    df.drop('app_date', axis=1, inplace=True)\n",
    "    \n",
    "    # удаляем пропуски в колонке 'education'\n",
    "    df.education = df.education.fillna(df.education.mode()[0])\n",
    "    # перекодируем 'education' вручную - ординальный признак\n",
    "    df.education = df.education.replace({'SCH': 0, # school - школьное образование\n",
    "                                         'UGR': 1, # undergraduate - бакалавр\n",
    "                                         'GRD': 2, # graduate - магистр\n",
    "                                         'PGR': 3, # postgraduate - профессиональная специализация\n",
    "                                         'ACD': 4  # academic degree\n",
    "                                        })\n",
    "    \n",
    "    # перекодируем 'region_rating' вручную - ординальный признак\n",
    "    df.region_rating = df.region_rating.replace({20: 0, 30: 1, 40: 2, 50: 3, \n",
    "                                                 60: 4, 70: 5, 80: 6\n",
    "                                                })\n",
    "    \n",
    "    cats = ['home_address', 'work_address', 'sna', 'first_time'] # категориальные переменные\n",
    "    # Получаем массив в котором кол-во колонок равно сумме различных категорий по каждому признаку\n",
    "    # Единичка стоит в колонках, соответствующих каждому признаку\n",
    "    X_cat = OneHotEncoder(sparse = False).fit_transform(df[cats].values)\n",
    "        \n",
    "  \n",
    "    bins = ['sex', 'car', 'car_type', 'good_work', 'foreign_passport'] # бинарные переменные\n",
    "        \n",
    "    # все бинарные колонки перекодируем прямо в датайрейме df\n",
    "    le = LabelEncoder()\n",
    "    for column in bins:\n",
    "        le.fit(df[column])\n",
    "        df[column] = le.transform(df[column])\n",
    "    \n",
    "    # числовые переменные - добавили производные даты\n",
    "    # также добавили перекодированные ординальные переменные:\n",
    "    # 'education' и 'region_rating'\n",
    "    nums = ['age', 'decline_app_cnt', 'score_bki', 'income', 'bki_request_cnt', \n",
    "            'app_day', 'app_month', 'app_weekday', 'education', 'region_rating']\n",
    "    \n",
    "    # логарифмирование кроме колонки 'score_bki', значения в которой < 0\n",
    "    for column in nums:\n",
    "        if column != 'score_bki': \n",
    "            df[column] = df[column].apply(np.log1p)\n",
    "    X_num = df[nums].values\n",
    "    \n",
    "    # cтандартизация числовых переменных - пробовал её вместо\n",
    "    # логарифмирования, но модель лучше не становится\n",
    "    # X_num = StandardScaler().fit_transform(train[nums].values)\n",
    "    \n",
    "    return df[bins].values, X_cat, X_num"
   ]
  },
  {
   "cell_type": "code",
   "execution_count": 69,
   "metadata": {},
   "outputs": [],
   "source": [
    "train = pd.read_csv(path +'/train.csv')\n",
    "\n",
    "X_bins, X_cats, X_nums = preprocessing_model_2(train)\n",
    "\n",
    "X = np.hstack([X_bins, X_cats, X_nums])\n",
    "y = train['default'].values\n",
    "\n",
    "X_train, X_test, y_train, y_test = train_test_split(X, y, test_size = 0.2, shuffle=False)"
   ]
  },
  {
   "cell_type": "code",
   "execution_count": 70,
   "metadata": {},
   "outputs": [
    {
     "data": {
      "image/png": "[encoded data removed]",
      "text/plain": [
       "<Figure size 432x288 with 1 Axes>"
      ]
     },
     "metadata": {
      "needs_background": "light"
     },
     "output_type": "display_data"
    }
   ],
   "source": [
    "model = LogisticRegression()\n",
    "model.fit(X_train, y_train)\n",
    "y_pred = model.predict(X_test)\n",
    "\n",
    "probs = model.predict_proba(X_test)\n",
    "probs = probs[:,1]\n",
    "\n",
    "fpr, tpr, threshold = roc_curve(y_test, probs)\n",
    "roc_auc = roc_auc_score(y_test, probs)\n",
    "\n",
    "plt.figure()\n",
    "plt.plot([0, 1], label='Baseline', linestyle='--')\n",
    "plt.plot(fpr, tpr, label = 'Regression')\n",
    "plt.title('Logistic Regression ROC AUC = %0.3f' % roc_auc)\n",
    "plt.ylabel('True Positive Rate')\n",
    "plt.xlabel('False Positive Rate')\n",
    "plt.legend(loc = 'lower right')\n",
    "plt.show()"
   ]
  },
  {
   "cell_type": "code",
   "execution_count": 71,
   "metadata": {
    "scrolled": true
   },
   "outputs": [
    {
     "name": "stdout",
     "output_type": "stream",
     "text": [
      "accuracy_score: 0.8724\n",
      "f1_score: 0.0646\n",
      "recall_score: 0.0344\n",
      "MSE: 0.1276\n",
      "Расшифровка Матрицы Ошибок:\n",
      "TP, истинно положительные (дефолт классифицирован как дефолт): 65\n",
      "TN, истинно отрицательные (не-дефолт классифицирован как не-дефолт): 12812\n",
      "FN, ложно отрицательные (дефолт классифицирован как не-дефолт): 1822 - Bad, model, bad!!!\n",
      "FN, ложно положительные (не-дефолт классифицирован как дефолт): 61\n"
     ]
    }
   ],
   "source": [
    "# Оценка качества:\n",
    "print('accuracy_score: {}'.format(np.round(accuracy_score(y_test, y_pred), 4)))\n",
    "print('f1_score: {}'.format(np.round(f1_score(y_test, y_pred), 4)))\n",
    "print('recall_score: {}'.format(np.round(recall_score(y_test, y_pred), 4)))\n",
    "print('MSE: {}'.format(np.round(mean_squared_error(y_test, y_pred), 4)))\n",
    "\n",
    "# Построим матрицу ошибок\n",
    "cm = confusion_matrix(y_test, y_pred)\n",
    "print(f\"Расшифровка Матрицы Ошибок:\")\n",
    "print(f\"TP, истинно положительные (дефолт классифицирован как дефолт): {cm[1,1]}\")\n",
    "print(f\"TN, истинно отрицательные (не-дефолт классифицирован как не-дефолт): {cm[0,0]}\")\n",
    "print(f\"FN, ложно отрицательные (дефолт классифицирован как не-дефолт): {cm[1,0]} - Bad, model, bad!!!\")\n",
    "print(f\"FN, ложно положительные (не-дефолт классифицирован как дефолт): {cm[0,1]}\")"
   ]
  },
  {
   "cell_type": "code",
   "execution_count": 72,
   "metadata": {},
   "outputs": [
    {
     "data": {
      "text/plain": [
       "<AxesSubplot:>"
      ]
     },
     "execution_count": 72,
     "metadata": {},
     "output_type": "execute_result"
    },
    {
     "data": {
      "image/png": "[encoded data removed]",
      "text/plain": [
       "<Figure size 432x288 with 2 Axes>"
      ]
     },
     "metadata": {
      "needs_background": "light"
     },
     "output_type": "display_data"
    }
   ],
   "source": [
    "# Визуализация confusion matrix:\n",
    "sns.set_context(context='paper', font_scale=2, rc=None)\n",
    "group_names = ['True Neg', 'False Pos', 'False Neg', 'True Pos']\n",
    "group_counts = ['{0:0.0f}'.format(value) for value in\n",
    "                confusion_matrix(y_test, y_pred).flatten()]\n",
    "labels = [f'{v1}\\n{v2}' for v1, v2 in\n",
    "          zip(group_names, group_counts)]\n",
    "labels = np.asarray(labels).reshape(2, 2)\n",
    "sns.heatmap(confusion_matrix(y_test, y_pred), annot=labels, fmt='', cmap='Blues')"
   ]
  },
  {
   "cell_type": "markdown",
   "metadata": {},
   "source": [
    "### Выводы относительно модели №2  - с улучшенной предобработкой:\n",
    "- Предсказывает заметно лучше наивной модели - ROC AUC = 0.719;\n",
    "- Confusion matrix:\n",
    " - _TN - спрогнозировали, что дефолта нет и его правда нет - 12812;_\n",
    " - _FN - спрогнозировали, что дефолта нет, а он есть - 1822;_\n",
    " - _TP - спрогнозировали, что дефолт есть, и он правда есть - 65;_\n",
    " - _FP - спрогнозировали, что дефолт есть, а его нет - 61;_\n",
    "- Думаем дальше."
   ]
  },
  {
   "cell_type": "markdown",
   "metadata": {},
   "source": [
    "### Теперь сделаем submission с полученной моделью №2"
   ]
  },
  {
   "cell_type": "code",
   "execution_count": 73,
   "metadata": {},
   "outputs": [],
   "source": [
    "# Обучаем модель на всём сете train\n",
    "model = LogisticRegression()\n",
    "model.fit(X, y)\n",
    "\n",
    "test = pd.read_csv(path +'/test.csv')\n",
    "\n",
    "test_bins, test_cats, test_nums = preprocessing_model_2(test)\n",
    "\n",
    "test_submission = np.hstack([test_bins, test_cats, test_nums])\n",
    "y_submission = model.predict_proba(test_submission)\n",
    "\n",
    "y_submission = y_submission[:,1]\n",
    "\n",
    "test['default'] = y_submission\n",
    "\n",
    "submission = test[['client_id','default']]\n",
    "\n",
    "submission.to_csv(path + '/submission_r02.csv', index=False)"
   ]
  },
  {
   "cell_type": "code",
   "execution_count": null,
   "metadata": {},
   "outputs": [],
   "source": []
  },
  {
   "cell_type": "markdown",
   "metadata": {},
   "source": [
    "## 2.3. Модель №3 с улучшенной предобработкой и подбором признаков\n",
    "\n",
    "### План такой:\n",
    "- Предобработку оставляем, как в предыдущем варианте;\n",
    "- Cмотрим на корреляцию между числовыми признаками и удаляем наиболее взаимосвязанные. Оцениваем следующим образом:\n",
    " - _от 0 до 0,3 очень слабая_\n",
    " - _от 0,3 до 0,5 слабая_\n",
    " - _от 0, 5 до 0,7 средняя_\n",
    " - _от 0,7 до 0,9 высокая_\n",
    " - _от 0,9 до 1\tочень высокая_\n",
    "- Смотрим на значимость столбцов, оставляем наиболее значимые столбцы, остальные удаляем;\n",
    "- Смотрим на результат и думаем дальше."
   ]
  },
  {
   "cell_type": "markdown",
   "metadata": {},
   "source": [
    "### Смотрим на корреляцию числовых признаков:\n",
    "\n",
    "- Пробовали удалить 'education' и 'region_rating', т.к. они хоть и слабо, но коррелируют с 'income'\n",
    "- Пробовали удалить 'decline_app_cnt' и 'bki_request_cnt', т.к. они хоть и слабо, но коррелируют с 'score_bki'\n",
    "- ROC AUC падает с 0.719 до 0.697, поэтому \"вертаем всё взад\"\n",
    "    "
   ]
  },
  {
   "cell_type": "markdown",
   "metadata": {},
   "source": [
    "### Смотрим на значимость числовых переменных:\n",
    "\n",
    "- из 10 числовых переменных оставим 5 наиболее значимых:\n",
    " - _['decline_app_cnt', 'score_bki', 'bki_request_cnt', 'education', 'region_rating']_\n",
    "- ROC AUC падает с 0.719 до 0.717, поэтому всё отменяем"
   ]
  },
  {
   "cell_type": "markdown",
   "metadata": {},
   "source": [
    "### Признаки 'education' и 'region_rating' тупо отправили в список категориальных\n",
    "### ROC AUC подрос на 0.01 и поднялись на 40 позиций в Kaggle (!)"
   ]
  },
  {
   "cell_type": "markdown",
   "metadata": {},
   "source": [
    "### Смотрим на корреляцию бинарных признаков:\n",
    "\n",
    "- Сильно коррелируют 'car' и 'car_type';\n",
    "- Попробуем сделать 'car' категориальным: NN - нет авто, YN - российский автопром, YY - иномарка\n",
    "- ROC AUC не изменилось с 0.721\n",
    "    "
   ]
  },
  {
   "cell_type": "code",
   "execution_count": 74,
   "metadata": {},
   "outputs": [],
   "source": [
    "def preprocessing_model_3(df):\n",
    "    # переводим дату в datetime\n",
    "    df.app_date = pd.to_datetime(df.app_date)\n",
    "    \n",
    "    # На этапе EDA видели, что год везде 2014, поэтому год исключаем\n",
    "    df['app_day'] = df.app_date.dt.day\n",
    "    df['app_month'] = df.app_date.dt.month\n",
    "    df['app_weekday'] = df.app_date.dt.weekday\n",
    "\n",
    "    df.drop('app_date', axis=1, inplace=True)\n",
    "    \n",
    "    # удаляем пропуски в колонке 'education'\n",
    "    df.education = df.education.fillna(df.education.mode()[0])\n",
    "    \n",
    "    # делаем 'car' категориальным: NN - нет авто, YN - российский автопром, YY - иномарка\n",
    "    df.car = df.car + df.car_type\n",
    "    \n",
    "    # категориальные переменные\n",
    "    cats = ['home_address', 'work_address', 'sna', 'first_time', \n",
    "            'education', 'region_rating', 'car']\n",
    "    X_cat = OneHotEncoder(sparse = False).fit_transform(df[cats].values)\n",
    "        \n",
    "    # бинарные переменные\n",
    "    bins = ['sex', 'good_work', 'foreign_passport']\n",
    "\n",
    "    # все бинарные колонки перекодируем прямо в датайрейме df\n",
    "    le = LabelEncoder()\n",
    "    for column in bins:\n",
    "        le.fit(df[column])\n",
    "        df[column] = le.transform(df[column])\n",
    "        \n",
    "    # Построим матрицу корреляций для бинарных признаков:\n",
    "#     plt.figure(figsize=(10,5))\n",
    "#     sns.heatmap(df[bins + ['default']].corr(), annot=True)\n",
    "    \n",
    "    # числовые переменные - добавили производные даты\n",
    "    # также добавили перекодированные ординальные переменные:\n",
    "    # 'education' и 'region_rating'\n",
    "    \n",
    "    nums = ['age', 'decline_app_cnt', 'score_bki', 'income', 'bki_request_cnt', \n",
    "            'app_day', 'app_month', 'app_weekday']\n",
    "    \n",
    "#     # смотрим на корреляцию числовых признаков    \n",
    "#     sns.heatmap(df[nums].corr().abs(), vmin=0, vmax=1)\n",
    "        \n",
    "#     # смотрим на значимость числовых переменных\n",
    "#     imp_num = pd.Series(f_classif(df[nums], df['default'])[0], index = nums)\n",
    "#     imp_num.sort_values(inplace = True)\n",
    "#     imp_num.plot(kind = 'barh')\n",
    "#     # из 10 числовых переменных оставим 5 более значимых:\n",
    "#     nums = ['decline_app_cnt', 'score_bki', 'bki_request_cnt', \n",
    "#             'education', 'region_rating']\n",
    "\n",
    "    # логарифмирование кроме колонки 'score_bki', значения в которой < 0\n",
    "    for column in nums:\n",
    "        if column != 'score_bki': \n",
    "            df[column] = df[column].apply(np.log1p)\n",
    "    X_num = df[nums].values\n",
    "    \n",
    "    # cтандартизация числовых переменных - пробовал её вместо\n",
    "    # логарифмирования, но модель лучше не становится\n",
    "    # X_num = StandardScaler().fit_transform(train[nums].values)\n",
    "    \n",
    "    return df[bins].values, X_cat, X_num"
   ]
  },
  {
   "cell_type": "code",
   "execution_count": 75,
   "metadata": {},
   "outputs": [],
   "source": [
    "train = pd.read_csv(path +'/train.csv')\n",
    "\n",
    "X_bins, X_cats, X_nums = preprocessing_model_3(train)\n",
    "\n",
    "X = np.hstack([X_bins, X_cats, X_nums])\n",
    "y = train['default'].values\n",
    "\n",
    "X_train, X_test, y_train, y_test = train_test_split(X, y, test_size = 0.2, shuffle=False)"
   ]
  },
  {
   "cell_type": "code",
   "execution_count": 76,
   "metadata": {},
   "outputs": [
    {
     "name": "stdout",
     "output_type": "stream",
     "text": [
      "0.72114\n"
     ]
    },
    {
     "data": {
      "image/png": "[encoded data removed]",
      "text/plain": [
       "<Figure size 432x288 with 1 Axes>"
      ]
     },
     "metadata": {
      "needs_background": "light"
     },
     "output_type": "display_data"
    }
   ],
   "source": [
    "model = LogisticRegression()\n",
    "model.fit(X_train, y_train)\n",
    "y_pred = model.predict(X_test)\n",
    "\n",
    "probs = model.predict_proba(X_test)\n",
    "probs = probs[:,1]\n",
    "\n",
    "fpr, tpr, threshold = roc_curve(y_test, probs)\n",
    "roc_auc = roc_auc_score(y_test, probs)\n",
    "\n",
    "print(round(roc_auc, 5))\n",
    "\n",
    "plt.figure()\n",
    "plt.plot([0, 1], label='Baseline', linestyle='--')\n",
    "plt.plot(fpr, tpr, label = 'Regression')\n",
    "plt.title('Logistic Regression ROC AUC = %0.3f' % roc_auc)\n",
    "plt.ylabel('True Positive Rate')\n",
    "plt.xlabel('False Positive Rate')\n",
    "plt.legend(loc = 'lower right')\n",
    "plt.show()"
   ]
  },
  {
   "cell_type": "code",
   "execution_count": 77,
   "metadata": {
    "scrolled": true
   },
   "outputs": [
    {
     "name": "stdout",
     "output_type": "stream",
     "text": [
      "accuracy_score: 0.8727\n",
      "f1_score: 0.0628\n",
      "recall_score: 0.0334\n",
      "MSE: 0.1273\n",
      "Расшифровка Матрицы Ошибок:\n",
      "TP, истинно положительные (дефолт классифицирован как дефолт): 63\n",
      "TN, истинно отрицательные (не-дефолт классифицирован как не-дефолт): 12818\n",
      "FN, ложно отрицательные (дефолт классифицирован как не-дефолт): 1824 - Bad, model, bad!!!\n",
      "FN, ложно положительные (не-дефолт классифицирован как дефолт): 55\n"
     ]
    }
   ],
   "source": [
    "# Оценка качества:\n",
    "print('accuracy_score: {}'.format(np.round(accuracy_score(y_test, y_pred), 4)))\n",
    "print('f1_score: {}'.format(np.round(f1_score(y_test, y_pred), 4)))\n",
    "print('recall_score: {}'.format(np.round(recall_score(y_test, y_pred), 4)))\n",
    "print('MSE: {}'.format(np.round(mean_squared_error(y_test, y_pred), 4)))\n",
    "\n",
    "# Построим матрицу ошибок\n",
    "cm = confusion_matrix(y_test, y_pred)\n",
    "print(f\"Расшифровка Матрицы Ошибок:\")\n",
    "print(f\"TP, истинно положительные (дефолт классифицирован как дефолт): {cm[1,1]}\")\n",
    "print(f\"TN, истинно отрицательные (не-дефолт классифицирован как не-дефолт): {cm[0,0]}\")\n",
    "print(f\"FN, ложно отрицательные (дефолт классифицирован как не-дефолт): {cm[1,0]} - Bad, model, bad!!!\")\n",
    "print(f\"FN, ложно положительные (не-дефолт классифицирован как дефолт): {cm[0,1]}\")"
   ]
  },
  {
   "cell_type": "code",
   "execution_count": 78,
   "metadata": {},
   "outputs": [
    {
     "data": {
      "text/plain": [
       "<AxesSubplot:>"
      ]
     },
     "execution_count": 78,
     "metadata": {},
     "output_type": "execute_result"
    },
    {
     "data": {
      "image/png": "[encoded data removed]",
      "text/plain": [
       "<Figure size 432x288 with 2 Axes>"
      ]
     },
     "metadata": {
      "needs_background": "light"
     },
     "output_type": "display_data"
    }
   ],
   "source": [
    "# Визуализация confusion matrix:\n",
    "sns.set_context(context='paper', font_scale=2, rc=None)\n",
    "group_names = ['True Neg', 'False Pos', 'False Neg', 'True Pos']\n",
    "group_counts = ['{0:0.0f}'.format(value) for value in\n",
    "                confusion_matrix(y_test, y_pred).flatten()]\n",
    "labels = [f'{v1}\\n{v2}' for v1, v2 in\n",
    "          zip(group_names, group_counts)]\n",
    "labels = np.asarray(labels).reshape(2, 2)\n",
    "sns.heatmap(confusion_matrix(y_test, y_pred), annot=labels, fmt='', cmap='Blues')"
   ]
  },
  {
   "cell_type": "markdown",
   "metadata": {},
   "source": [
    "### Выводы относительно модели №3 - с улучшенной предобработкой и подбором признаков:\n",
    "- Предсказывает чуть лучше модели №2 - ROC AUC = 0.72114;\n",
    "- Confusion matrix практически не изменилась:\n",
    " - _TN - спрогнозировали, что дефолта нет и его правда нет - 12818;_\n",
    " - _FN - спрогнозировали, что дефолта нет, а он есть - 1824;_\n",
    " - _TP - спрогнозировали, что дефолт есть, и он правда есть - 63;_\n",
    " - _FP - спрогнозировали, что дефолт есть, а его нет - 55;_\n",
    "- Думаем дальше."
   ]
  },
  {
   "cell_type": "markdown",
   "metadata": {},
   "source": [
    "### Теперь сделаем submission с полученной моделью №3"
   ]
  },
  {
   "cell_type": "code",
   "execution_count": 79,
   "metadata": {},
   "outputs": [],
   "source": [
    "# Обучаем модель на всём сете train\n",
    "# train = pd.read_csv(path +'/train.csv')\n",
    "\n",
    "# X_bins, X_cats, X_nums = preprocessing_model_3(train)\n",
    "\n",
    "# X = np.hstack([X_bins, X_cats, X_nums])\n",
    "# y = train['default'].values\n",
    "\n",
    "model = LogisticRegression()\n",
    "model.fit(X, y)\n",
    "\n",
    "test = pd.read_csv(path +'/test.csv')\n",
    "\n",
    "test_bins, test_cats, test_nums = preprocessing_model_3(test)\n",
    "\n",
    "test_submission = np.hstack([test_bins, test_cats, test_nums])\n",
    "y_submission = model.predict_proba(test_submission)\n",
    "\n",
    "y_submission = y_submission[:,1]\n",
    "\n",
    "test['default'] = y_submission\n",
    "\n",
    "submission = test[['client_id','default']]\n",
    "\n",
    "submission.to_csv(path + '/submission_r03.csv', index=False)"
   ]
  },
  {
   "cell_type": "code",
   "execution_count": null,
   "metadata": {},
   "outputs": [],
   "source": []
  },
  {
   "cell_type": "code",
   "execution_count": null,
   "metadata": {},
   "outputs": [],
   "source": []
  },
  {
   "cell_type": "code",
   "execution_count": null,
   "metadata": {},
   "outputs": [],
   "source": []
  },
  {
   "cell_type": "markdown",
   "metadata": {},
   "source": [
    "## 2.4. Модель №4 с дальнейшими улучшениями предобработки и подбором признаков\n",
    "\n",
    "### План такой:\n",
    "- Предобработку оставляем, как в предыдущем варианте;\n",
    "- Категоризируем возраст;\n",
    "- Создаем и пробуем полиномиальные признаки из выбранных числовых;\n",
    "- Категоризируем 'decline_app_cnt' и 'bki_request_cnt';\n",
    "- Из двух столбцов ['work_address', 'home_address'] делаем один путем усечения ненужной информации методом главных компонент - Principal component analysis (PCA);\n",
    "- пробуем стандартизацию числовых переменных;\n",
    "- Смотрим на результат и думаем дальше."
   ]
  },
  {
   "cell_type": "code",
   "execution_count": 80,
   "metadata": {},
   "outputs": [],
   "source": [
    "# Категоризация возраста согласно древним китайцам\n",
    "\n",
    "def age_to_cat(age):\n",
    "    if age < 25:\n",
    "        return 'Молодость'\n",
    "    if age < 30:\n",
    "        return 'Пора вступления в брак'\n",
    "    if age < 40:\n",
    "        return 'Возраст выполнения общественных '\n",
    "    if age < 50:\n",
    "        return 'Познание собственных заблуждений'\n",
    "    if age < 60:\n",
    "        return 'Последний период творческой жизни'\n",
    "    if age < 70:\n",
    "        return 'Желанный возраст'\n",
    "    else:\n",
    "        return 'Старость'\n",
    "\n",
    "def preprocessing_model_4(df):\n",
    "    # переводим дату в datetime\n",
    "    df.app_date = pd.to_datetime(df.app_date)\n",
    "    \n",
    "    # на этапе EDA видели, что год везде 2014, поэтому год не рассматриваем\n",
    "    df['app_day'] = df.app_date.dt.day\n",
    "    df['app_month'] = df.app_date.dt.month\n",
    "    df['app_weekday'] = df.app_date.dt.weekday\n",
    "    \n",
    "    # количество дней, прошедших с начала наблюдений\n",
    "    df['days'] = (df.app_date - df.app_date.min()).dt.days\n",
    "    \n",
    "    # выяснили раньше - app_month сильно коррелирует с days, поэтому исключаем\n",
    "    # уберем столбец app_date, он нам больше не нужен\n",
    "    df.drop('app_month', axis=1, inplace=True)\n",
    "    df.drop('app_date', axis=1, inplace=True)\n",
    "    \n",
    "    # заменяем пропуски в колонке 'education' на моду\n",
    "    df.education = df.education.fillna(df.education.mode()[0])\n",
    "    \n",
    "    # делаем 'car' категориальным: NN - нет авто, YN - российский автопром, YY - иномарка\n",
    "    df.car = df.car + df.car_type\n",
    "    \n",
    "    # для уменьшения количества выбросов переведем в категориальный признак\n",
    "    # 'decline_app_cnt' и 'bki_request_cnt' по принципу \"ноль-один-два-три-много\"\n",
    "    df.decline_app_cnt = df.decline_app_cnt.apply(lambda x: (x if x < 10 else 10))\n",
    "    df.bki_request_cnt = df.bki_request_cnt.apply(lambda x: (x if x < 10 else 10))\n",
    "    \n",
    "    # категоризируем возраст\n",
    "    df.age = df.age.apply(age_to_cat)\n",
    "    \n",
    "    # Выберем из датасета нужные колонки:\n",
    "    data = df[['work_address', 'home_address']].values\n",
    "\n",
    "    # Создадим Scaler instance:\n",
    "    scaler = StandardScaler()\n",
    "    scaled_data = scaler.fit_transform(data)\n",
    "\n",
    "    # Из двух столбцов сделаем один путем усечения ненужной информации.\n",
    "    pca = PCA(n_components=1)\n",
    "    pca.fit(scaled_data)\n",
    "    pca_data = pca.transform(scaled_data)\n",
    "    df['address'] = pca_data\n",
    "    \n",
    "    # категориальные переменные кодируем при помощи OneHotEncoder()\n",
    "    cats = ['address', 'sna', 'first_time', 'education', \n",
    "            'region_rating', 'car', 'decline_app_cnt', 'bki_request_cnt', 'age']\n",
    "    X_cat = OneHotEncoder(sparse = False).fit_transform(df[cats].values)\n",
    "        \n",
    "    # бинарные переменные\n",
    "    bins = ['sex', 'good_work', 'foreign_passport']\n",
    "\n",
    "    # все бинарные колонки перекодируем прямо в датайрейме df\n",
    "    le = LabelEncoder()\n",
    "    for column in bins:\n",
    "        le.fit(df[column])\n",
    "        df[column] = le.transform(df[column])\n",
    "    \n",
    "    nums = ['score_bki', 'income', 'app_weekday', 'days']\n",
    "   \n",
    "    # логарифмирование выбранные колонки и помним, что 'score_bki' < 0\n",
    "    for column in nums:\n",
    "        if column in ['income']: \n",
    "            df[column] = df[column].apply(np.log1p)\n",
    "    \n",
    "    # cтандартизация числовых переменных - пробовал её вместо\n",
    "    # логарифмирования, но модель лучше не становится\n",
    "    X_num = StandardScaler().fit_transform(df[nums].values)\n",
    "    \n",
    "    # добавим новые полиномиальные признаки из математических\n",
    "    # комбинаций числовых признаков ['score_bki', 'income', 'days']\n",
    "    pf_columns = ['score_bki', 'income', 'days']\n",
    "    pf = PolynomialFeatures(2, include_bias=False)\n",
    "    poly_data = pf.fit_transform(df[pf_columns])[:, len(pf_columns):]\n",
    "    poly_cols = pf.get_feature_names()[len(pf_columns):]\n",
    "    poly_df = pd.DataFrame(poly_data, columns=poly_cols)\n",
    "    df = df.join(poly_df, how='left')\n",
    "#     X_num = np.hstack([X_num, poly_df.values])\n",
    "    \n",
    "    return df[bins].values, X_cat, X_num"
   ]
  },
  {
   "cell_type": "code",
   "execution_count": 81,
   "metadata": {},
   "outputs": [],
   "source": [
    "# обрабатываем и разбиваем\n",
    "\n",
    "train = pd.read_csv(path +'/train.csv')\n",
    "\n",
    "X_bins, X_cats, X_nums = preprocessing_model_4(train)\n",
    "\n",
    "X = np.hstack([X_bins, X_cats, X_nums])\n",
    "y = train['default'].values\n",
    "\n",
    "X_train, X_test, y_train, y_test = train_test_split(X, y, test_size = 0.2, shuffle=False)"
   ]
  },
  {
   "cell_type": "code",
   "execution_count": 82,
   "metadata": {},
   "outputs": [
    {
     "name": "stdout",
     "output_type": "stream",
     "text": [
      "ROC AUC: 0.721885\n",
      "\n"
     ]
    },
    {
     "data": {
      "image/png": "[encoded data removed]",
      "text/plain": [
       "<Figure size 432x288 with 1 Axes>"
      ]
     },
     "metadata": {
      "needs_background": "light"
     },
     "output_type": "display_data"
    }
   ],
   "source": [
    "model = LogisticRegression()\n",
    "model.fit(X_train, y_train)\n",
    "y_pred = model.predict(X_test)\n",
    "\n",
    "probs = model.predict_proba(X_test)\n",
    "probs = probs[:,1]\n",
    "\n",
    "fpr, tpr, threshold = roc_curve(y_test, probs)\n",
    "roc_auc = roc_auc_score(y_test, probs)\n",
    "\n",
    "print(f\"ROC AUC: {round(roc_auc, 6)}\\n\")\n",
    "\n",
    "plt.figure()\n",
    "plt.plot([0, 1], label='Baseline', linestyle='--')\n",
    "plt.plot(fpr, tpr, label = 'Regression')\n",
    "plt.title('Logistic Regression ROC AUC = %0.3f' % roc_auc)\n",
    "plt.ylabel('True Positive Rate')\n",
    "plt.xlabel('False Positive Rate')\n",
    "plt.legend(loc = 'lower right')\n",
    "plt.show()"
   ]
  },
  {
   "cell_type": "code",
   "execution_count": 83,
   "metadata": {},
   "outputs": [
    {
     "name": "stdout",
     "output_type": "stream",
     "text": [
      "accuracy_score: 0.8721\n",
      "f1_score: 0.0522\n",
      "recall_score: 0.0276\n",
      "MSE: 0.1279\n",
      "\n",
      "[[12820    53]\n",
      " [ 1835    52]]\n",
      "Расшифровка Матрицы Ошибок:\n",
      "TP, истинно положительные (дефолт классифицирован как дефолт): 52\n",
      "TN, истинно отрицательные (не-дефолт классифицирован как не-дефолт): 12820\n",
      "FN, ложно отрицательные (дефолт классифицирован как не-дефолт): 1835 - Bad, model, bad!!!\n",
      "FP, ложно положительные (не-дефолт классифицирован как дефолт): 53\n"
     ]
    }
   ],
   "source": [
    "# Оценка качества:\n",
    "print('accuracy_score: {}'.format(np.round(accuracy_score(y_test, y_pred), 4)))\n",
    "print('f1_score: {}'.format(np.round(f1_score(y_test, y_pred), 4)))\n",
    "print('recall_score: {}'.format(np.round(recall_score(y_test, y_pred), 4)))\n",
    "print('MSE: {}\\n'.format(np.round(mean_squared_error(y_test, y_pred), 4)))\n",
    "\n",
    "cm = confusion_matrix(y_test, y_pred)\n",
    "print(cm)\n",
    "print(f\"Расшифровка Матрицы Ошибок:\")\n",
    "print(f\"TP, истинно положительные (дефолт классифицирован как дефолт): {cm[1,1]}\")\n",
    "print(f\"TN, истинно отрицательные (не-дефолт классифицирован как не-дефолт): {cm[0,0]}\")\n",
    "print(f\"FN, ложно отрицательные (дефолт классифицирован как не-дефолт): {cm[1,0]} - Bad, model, bad!!!\")\n",
    "print(f\"FP, ложно положительные (не-дефолт классифицирован как дефолт): {cm[0,1]}\")"
   ]
  },
  {
   "cell_type": "code",
   "execution_count": 84,
   "metadata": {},
   "outputs": [
    {
     "data": {
      "text/plain": [
       "<AxesSubplot:>"
      ]
     },
     "execution_count": 84,
     "metadata": {},
     "output_type": "execute_result"
    },
    {
     "data": {
      "image/png": "[encoded data removed]",
      "text/plain": [
       "<Figure size 432x288 with 2 Axes>"
      ]
     },
     "metadata": {
      "needs_background": "light"
     },
     "output_type": "display_data"
    }
   ],
   "source": [
    "# Визуализация confusion matrix:\n",
    "sns.set_context(context='paper', font_scale=2, rc=None)\n",
    "group_names = ['True Neg', 'False Pos', 'False Neg', 'True Pos']\n",
    "group_counts = ['{0:0.0f}'.format(value) for value in\n",
    "                confusion_matrix(y_test, y_pred).flatten()]\n",
    "labels = [f'{v1}\\n{v2}' for v1, v2 in\n",
    "          zip(group_names, group_counts)]\n",
    "labels = np.asarray(labels).reshape(2, 2)\n",
    "sns.heatmap(confusion_matrix(y_test, y_pred), annot=labels, fmt='', cmap='Blues')"
   ]
  },
  {
   "cell_type": "markdown",
   "metadata": {},
   "source": [
    "### Выводы относительно модели №4 :\n",
    "- Предсказывает аналогично модели №3 - ROC AUC = 0.721885;\n",
    "- Confusion matrix меняется слабо:\n",
    " - _TN - спрогнозировали, что дефолта нет и его правда нет - 12820;_\n",
    " - _FN - спрогнозировали, что дефолта нет, а он есть - 1835;_\n",
    " - _TP - спрогнозировали, что дефолт есть, и он правда есть - 52;_\n",
    " - _FP - спрогнозировали, что дефолт есть, а его нет - 53;_\n",
    "- Думаем дальше."
   ]
  },
  {
   "cell_type": "markdown",
   "metadata": {},
   "source": [
    "### Теперь сделаем submission с полученной моделью №4"
   ]
  },
  {
   "cell_type": "code",
   "execution_count": 85,
   "metadata": {},
   "outputs": [],
   "source": [
    "# Обучаем модель на всём сете train\n",
    "# train = pd.read_csv(path +'/train.csv')\n",
    "\n",
    "# X_bins, X_cats, X_nums = preprocessing_model_4(train)\n",
    "\n",
    "# X = np.hstack([X_bins, X_cats, X_nums])\n",
    "# y = train['default'].values\n",
    "\n",
    "model = LogisticRegression()\n",
    "model.fit(X, y)\n",
    "\n",
    "test = pd.read_csv(path +'/test.csv')\n",
    "\n",
    "# Применяем все наши манипуляции к test\n",
    "test_bins, test_cats, test_nums = preprocessing_model_4(test)\n",
    "\n",
    "test_submission = np.hstack([test_bins, test_cats, test_nums])\n",
    "y_submission = model.predict_proba(test_submission)\n",
    "\n",
    "y_submission = y_submission[:,1]\n",
    "\n",
    "test['default'] = y_submission\n",
    "\n",
    "submission = test[['client_id','default']]\n",
    "\n",
    "submission.to_csv(path + '/submission_r04.csv', index=False)"
   ]
  },
  {
   "cell_type": "code",
   "execution_count": null,
   "metadata": {},
   "outputs": [],
   "source": []
  },
  {
   "cell_type": "markdown",
   "metadata": {},
   "source": [
    "## 2.5. Игры разума с параметрами"
   ]
  },
  {
   "cell_type": "markdown",
   "metadata": {},
   "source": [
    "### Берём вариант подготовки данных №4 и перебираем возможные (не все) гиперпараметры модели LogisticRegression() \n",
    "\n",
    "#### На практике убеждаемся, что не все параметры совсестимы друг с другом :-)"
   ]
  },
  {
   "cell_type": "markdown",
   "metadata": {},
   "source": [
    "### На Slack видел следующий вариант побора гиперпараметров, но решил сделать руками:"
   ]
  },
  {
   "cell_type": "code",
   "execution_count": 86,
   "metadata": {},
   "outputs": [],
   "source": [
    "# model = LogisticRegression(random_state=42)\n",
    "\n",
    "# param_grid = [\n",
    "#     {'penalty': ['l1'], \n",
    "#      'solver': ['liblinear', 'lbfgs'], \n",
    "#      'class_weight':['none', 'balanced'], \n",
    "#      'multi_class': ['auto','ovr'], \n",
    "#     {'penalty': ['l2'], \n",
    "#      'solver': ['newton-cg', 'lbfgs', 'liblinear', 'sag', 'saga'], \n",
    "#      'class_weight':['none', 'balanced'], \n",
    "#      'multi_class': ['auto','ovr'], \n",
    "#     {'penalty': ['none'], \n",
    "#      'solver': ['newton-cg', 'lbfgs', 'sag', 'saga'], \n",
    "#      'class_weight':['none', 'balanced'], \n",
    "#      'multi_class': ['auto','ovr'], \n",
    "# ]\n",
    "# gridsearch = GridSearchCV(model, param_grid, scoring='f1', n_jobs=-1)\n",
    "# gridsearch.fit(X_train, y_train)\n",
    "# model = gridsearch.best_estimator_\n",
    "# ## печатаем параметры\n",
    "# best_parameters = model.get_params()"
   ]
  },
  {
   "cell_type": "code",
   "execution_count": 87,
   "metadata": {},
   "outputs": [],
   "source": [
    "# обрабатываем и разбиваем\n",
    "\n",
    "train = pd.read_csv(path +'/train.csv')\n",
    "\n",
    "X_bins, X_cats, X_nums = preprocessing_model_4(train)\n",
    "\n",
    "X = np.hstack([X_bins, X_cats, X_nums])\n",
    "y = train['default'].values\n",
    "\n",
    "X_train, X_test, y_train, y_test = train_test_split(X, y, test_size = 0.2, shuffle=False)"
   ]
  },
  {
   "cell_type": "markdown",
   "metadata": {},
   "source": [
    "### Перебор параметров руками, заодно выясняем, что не все параметры совместимы между собой"
   ]
  },
  {
   "cell_type": "code",
   "execution_count": 88,
   "metadata": {
    "scrolled": true
   },
   "outputs": [
    {
     "name": "stdout",
     "output_type": "stream",
     "text": [
      "1 из 24 (4.17%) - ['l1', 1, 'lbfgs', '100'] - solver 'lbfgs', penalty=l1 => пропускаем\n",
      "\n",
      "2 из 24 (8.33%) - ['l1', 1, 'lbfgs', '500'] - solver 'lbfgs', penalty=l1 => пропускаем\n",
      "\n",
      "3 из 24 (12.5%) - ['l1', 1, 'lbfgs', '1000'] - solver 'lbfgs', penalty=l1 => пропускаем\n",
      "\n",
      "4 из 24 (16.67%) - ['l1', 1, 'liblinear', '100'] - ROC AUC = 0.722029\n",
      "\n",
      "5 из 24 (20.83%) - ['l1', 1, 'liblinear', '500'] - ROC AUC = 0.722029\n",
      "\n",
      "6 из 24 (25.0%) - ['l1', 1, 'liblinear', '1000'] - ROC AUC = 0.722032\n",
      "\n",
      "7 из 24 (29.17%) - ['l1', 5, 'lbfgs', '100'] - solver 'lbfgs', penalty=l1 => пропускаем\n",
      "\n",
      "8 из 24 (33.33%) - ['l1', 5, 'lbfgs', '500'] - solver 'lbfgs', penalty=l1 => пропускаем\n",
      "\n",
      "9 из 24 (37.5%) - ['l1', 5, 'lbfgs', '1000'] - solver 'lbfgs', penalty=l1 => пропускаем\n",
      "\n",
      "10 из 24 (41.67%) - ['l1', 5, 'liblinear', '100'] - ROC AUC = 0.721972\n",
      "\n",
      "11 из 24 (45.83%) - ['l1', 5, 'liblinear', '500'] - ROC AUC = 0.721979\n",
      "\n",
      "12 из 24 (50.0%) - ['l1', 5, 'liblinear', '1000'] - ROC AUC = 0.721975\n",
      "\n",
      "13 из 24 (54.17%) - ['l2', 1, 'lbfgs', '100'] - ROC AUC = 0.721885\n",
      "\n",
      "14 из 24 (58.33%) - ['l2', 1, 'lbfgs', '500'] - ROC AUC = 0.721939\n",
      "\n",
      "15 из 24 (62.5%) - ['l2', 1, 'lbfgs', '1000'] - ROC AUC = 0.721939\n",
      "\n",
      "16 из 24 (66.67%) - ['l2', 1, 'liblinear', '100'] - ROC AUC = 0.721941\n",
      "\n",
      "17 из 24 (70.83%) - ['l2', 1, 'liblinear', '500'] - ROC AUC = 0.721941\n",
      "\n",
      "18 из 24 (75.0%) - ['l2', 1, 'liblinear', '1000'] - ROC AUC = 0.721941\n",
      "\n",
      "19 из 24 (79.17%) - ['l2', 5, 'lbfgs', '100'] - ROC AUC = 0.721808\n",
      "\n",
      "20 из 24 (83.33%) - ['l2', 5, 'lbfgs', '500'] - ROC AUC = 0.721948\n",
      "\n",
      "21 из 24 (87.5%) - ['l2', 5, 'lbfgs', '1000'] - ROC AUC = 0.721948\n",
      "\n",
      "22 из 24 (91.67%) - ['l2', 5, 'liblinear', '100'] - ROC AUC = 0.721945\n",
      "\n",
      "23 из 24 (95.83%) - ['l2', 5, 'liblinear', '500'] - ROC AUC = 0.721945\n",
      "\n",
      "24 из 24 (100.0%) - ['l2', 5, 'liblinear', '1000'] - ROC AUC = 0.721945\n",
      "\n",
      "roc_auc_max = 0.722032 при ['l1', 1, 'liblinear', 1000],\n",
      "roc_auc_min = 0.721808\n"
     ]
    }
   ],
   "source": [
    "# С таким набором комп считал 40 минут:\n",
    "# penalty_list = ['l1', 'l2', 'none']\n",
    "# C_list = [1, 2, 5, 7, 10, 50, 100]\n",
    "# solver_list = ['newton-cg', 'lbfgs', 'liblinear', 'sag', 'saga']\n",
    "# max_iter_list = [100, 250, 500, 1000]\n",
    "\n",
    "# https://scikit-learn.org/stable/modules/generated/sklearn.linear_model.LogisticRegression.html\n",
    "\n",
    "# Used to specify the norm used in the penalization.\n",
    "penalty_list = ['l1', 'l2']\n",
    "\n",
    "# Inverse of regularization strength; must be a positive float.\n",
    "# Like in support vector machines, smaller values specify stronger regularization.\n",
    "C_list = [1, 5]\n",
    "\n",
    "# Algorithm to use in the optimization problem.\n",
    "solver_list = ['lbfgs', 'liblinear']\n",
    "\n",
    "# Maximum number of iterations taken for the solvers to converge.\n",
    "max_iter_list = [100, 500, 1000]\n",
    "\n",
    "count = 1\n",
    "total_counts = len(penalty_list) * len(C_list) * len(solver_list) * len(max_iter_list)\n",
    "\n",
    "roc_auc_max = 0\n",
    "roc_auc_min = 1\n",
    "\n",
    "best_parameters = []\n",
    "\n",
    "for p in penalty_list:\n",
    "    for c in C_list:\n",
    "        for s in solver_list:\n",
    "            for m in max_iter_list:\n",
    "                print(f\"{count} из {total_counts} \", end = \"\")\n",
    "                print(f\"({round(count/total_counts*100, 2)}%) \", end = \"\")\n",
    "                print(f\"- [\\'{p}\\', \", end = \"\")\n",
    "                print(f\"{c}, \" , end = \"\")\n",
    "                print(f\"\\'{s}\\', \", end = \"\")\n",
    "                print(f\"\\'{m}\\']\", end = \"\")\n",
    "                count += 1\n",
    "                \n",
    "                # 'newton-cg', 'lbfgs', 'sag', 'saga' handle L2 or no penalty\n",
    "                if s in ['newton-cg', 'lbfgs', 'sag', 'saga']:\n",
    "                    if p == 'l1':\n",
    "                        print(f\" - solver \\'{s}\\', penalty={p} => пропускаем\\n\")\n",
    "                        continue\n",
    "                \n",
    "                # penalty='none' is not supported for the liblinear solver\n",
    "                if s == 'liblinear' and p == 'none':\n",
    "                    print(f\" - solver \\'{s}\\', penalty={p} => пропускаем\\n\")\n",
    "                    continue\n",
    "                \n",
    "                \n",
    "                # пробовал моделировать с class_weight='balanced', модель ухудшается\n",
    "                model = LogisticRegression(penalty = p, C = c, solver = s, max_iter = m)\n",
    "                                \n",
    "                model.fit(X_train, y_train)\n",
    "                y_pred = model.predict(X_test)\n",
    "\n",
    "                probs = model.predict_proba(X_test)\n",
    "                probs = probs[:,1]\n",
    "\n",
    "                fpr, tpr, threshold = roc_curve(y_test, probs)\n",
    "                roc_auc = roc_auc_score(y_test, probs)\n",
    "\n",
    "                if roc_auc_max < roc_auc:\n",
    "                    roc_auc_max = roc_auc\n",
    "                    best_parameters.clear()\n",
    "                    best_parameters.append(p)\n",
    "                    best_parameters.append(c)\n",
    "                    best_parameters.append(s)\n",
    "                    best_parameters.append(m)                 \n",
    "                \n",
    "                if roc_auc_min > roc_auc:\n",
    "                    roc_auc_min = roc_auc\n",
    "                \n",
    "                print(f\" - ROC AUC = {round(roc_auc, 6)}\\n\")\n",
    "\n",
    "print(f\"roc_auc_max = {round(roc_auc_max, 6)} при {best_parameters},\")\n",
    "print(f\"roc_auc_min = {round(roc_auc_min, 6)}\")"
   ]
  },
  {
   "cell_type": "markdown",
   "metadata": {},
   "source": [
    "### Различные реузльтаты в зависимости от списков параметров"
   ]
  },
  {
   "cell_type": "code",
   "execution_count": 89,
   "metadata": {},
   "outputs": [],
   "source": [
    "# roc_auc_max = 0.721184 при ['l1', 1, 'liblinear', 100]\n",
    "# roc_auc_min = 0.721129\n",
    "\n",
    "# roc_auc_max = 0.721281 при ['l2', 5, 'lbfgs', 100],\n",
    "# roc_auc_min = 0.721109\n",
    "\n",
    "# roc_auc_max = 0.722032 при ['l1', 1, 'liblinear', 100],\n",
    "# roc_auc_min = 0.721808\n",
    "\n",
    "# roc_auc_max = 0.72203 при ['l1', 1, 'liblinear', 1000],\n",
    "# roc_auc_min = 0.721808\n",
    "\n",
    "# roc_auc_max = 0.721973 при ['l1', 5, 'liblinear', 500],\n",
    "# roc_auc_min = 0.721938\n",
    "\n",
    "# roc_auc_max = 0.722034 при ['l1', 1, 'liblinear', 100],\n",
    "# roc_auc_min = 0.721808"
   ]
  },
  {
   "cell_type": "code",
   "execution_count": null,
   "metadata": {},
   "outputs": [],
   "source": []
  },
  {
   "cell_type": "markdown",
   "metadata": {},
   "source": [
    "## Применяем модель с подобранными параметрами\n",
    "\n",
    "penalty = 'l1', C = 1, solver = 'liblinear', max_iter = 100"
   ]
  },
  {
   "cell_type": "code",
   "execution_count": 90,
   "metadata": {},
   "outputs": [],
   "source": [
    "# обрабатываем и разбиваем\n",
    "\n",
    "train = pd.read_csv(path +'/train.csv')\n",
    "\n",
    "X_bins, X_cats, X_nums = preprocessing_model_4(train)\n",
    "\n",
    "X = np.hstack([X_bins, X_cats, X_nums])\n",
    "y = train['default'].values\n",
    "\n",
    "X_train, X_test, y_train, y_test = train_test_split(X, y, test_size = 0.2, shuffle=False)"
   ]
  },
  {
   "cell_type": "code",
   "execution_count": 91,
   "metadata": {},
   "outputs": [
    {
     "name": "stdout",
     "output_type": "stream",
     "text": [
      "ROC AUC: 0.724174\n",
      "\n"
     ]
    },
    {
     "data": {
      "image/png": "[encoded data removed]",
      "text/plain": [
       "<Figure size 432x288 with 1 Axes>"
      ]
     },
     "metadata": {
      "needs_background": "light"
     },
     "output_type": "display_data"
    },
    {
     "name": "stdout",
     "output_type": "stream",
     "text": [
      "accuracy_score: 0.8722\n",
      "f1_score: 0.0513\n",
      "recall_score: 0.027\n",
      "MSE: 0.1278\n",
      "\n",
      "[[12823    50]\n",
      " [ 1836    51]]\n",
      "Расшифровка Матрицы Ошибок:\n",
      "TP, истинно положительные (дефолт классифицирован как дефолт): 51\n",
      "TN, истинно отрицательные (не-дефолт классифицирован как не-дефолт): 12823\n",
      "FN, ложно отрицательные (дефолт классифицирован как не-дефолт): 1836 - Bad, model, bad!!!\n",
      "FP, ложно положительные (не-дефолт классифицирован как дефолт): 50\n"
     ]
    },
    {
     "data": {
      "text/plain": [
       "<AxesSubplot:>"
      ]
     },
     "execution_count": 91,
     "metadata": {},
     "output_type": "execute_result"
    },
    {
     "data": {
      "image/png": "[encoded data removed]",
      "text/plain": [
       "<Figure size 432x288 with 2 Axes>"
      ]
     },
     "metadata": {
      "needs_background": "light"
     },
     "output_type": "display_data"
    }
   ],
   "source": [
    "model = LogisticRegression(penalty = 'l1', C = 1, solver = 'liblinear', max_iter = 100)\n",
    "model.fit(X, y)\n",
    "y_pred = model.predict(X_test)\n",
    "\n",
    "probs = model.predict_proba(X_test)\n",
    "probs = probs[:,1]\n",
    "\n",
    "fpr, tpr, threshold = roc_curve(y_test, probs)\n",
    "roc_auc = roc_auc_score(y_test, probs)\n",
    "\n",
    "print(f\"ROC AUC: {round(roc_auc, 6)}\\n\")\n",
    "\n",
    "plt.figure()\n",
    "plt.plot([0, 1], label='Baseline', linestyle='--')\n",
    "plt.plot(fpr, tpr, label = 'Regression')\n",
    "plt.title('Logistic Regression ROC AUC = %0.3f' % roc_auc)\n",
    "plt.ylabel('True Positive Rate')\n",
    "plt.xlabel('False Positive Rate')\n",
    "plt.legend(loc = 'lower right')\n",
    "plt.show()\n",
    "\n",
    "# Оценка качества:\n",
    "print('accuracy_score: {}'.format(np.round(accuracy_score(y_test, y_pred), 4)))\n",
    "print('f1_score: {}'.format(np.round(f1_score(y_test, y_pred), 4)))\n",
    "print('recall_score: {}'.format(np.round(recall_score(y_test, y_pred), 4)))\n",
    "print('MSE: {}\\n'.format(np.round(mean_squared_error(y_test, y_pred), 4)))\n",
    "\n",
    "cm = confusion_matrix(y_test, y_pred)\n",
    "print(cm)\n",
    "print(f\"Расшифровка Матрицы Ошибок:\")\n",
    "print(f\"TP, истинно положительные (дефолт классифицирован как дефолт): {cm[1,1]}\")\n",
    "print(f\"TN, истинно отрицательные (не-дефолт классифицирован как не-дефолт): {cm[0,0]}\")\n",
    "print(f\"FN, ложно отрицательные (дефолт классифицирован как не-дефолт): {cm[1,0]} - Bad, model, bad!!!\")\n",
    "print(f\"FP, ложно положительные (не-дефолт классифицирован как дефолт): {cm[0,1]}\")\n",
    "\n",
    "# Визуализация confusion matrix:\n",
    "sns.set_context(context='paper', font_scale=2, rc=None)\n",
    "group_names = ['True Neg', 'False Pos', 'False Neg', 'True Pos']\n",
    "group_counts = ['{0:0.0f}'.format(value) for value in\n",
    "                confusion_matrix(y_test, y_pred).flatten()]\n",
    "labels = [f'{v1}\\n{v2}' for v1, v2 in\n",
    "          zip(group_names, group_counts)]\n",
    "labels = np.asarray(labels).reshape(2, 2)\n",
    "sns.heatmap(confusion_matrix(y_test, y_pred), annot=labels, fmt='', cmap='Blues')"
   ]
  },
  {
   "cell_type": "markdown",
   "metadata": {},
   "source": [
    "### Выводы относительно модели №4 с гиперпараметрами:\n",
    "- Показывает ROC AUC = 0.724117 - улучшение при обучении;\n",
    "- А на test в Kaggle улучшения не наблюдается. Почему?\n",
    "- Confusion matrix по-прежнему меняется слабо:\n",
    " - _TN - спрогнозировали, что дефолта нет и его правда нет - 12823;_\n",
    " - _FN - спрогнозировали, что дефолта нет, а он есть - 1836;_\n",
    " - _TP - спрогнозировали, что дефолт есть, и он правда есть - 51;_\n",
    " - _FP - спрогнозировали, что дефолт есть, а его нет - 50._"
   ]
  },
  {
   "cell_type": "code",
   "execution_count": null,
   "metadata": {},
   "outputs": [],
   "source": []
  },
  {
   "cell_type": "markdown",
   "metadata": {},
   "source": [
    "### Сделаем submission с моделью №4 и гиперпараметрами\n",
    "penalty = 'l1', C = 1, solver = 'liblinear', max_iter = 100"
   ]
  },
  {
   "cell_type": "code",
   "execution_count": 92,
   "metadata": {},
   "outputs": [],
   "source": [
    "# Обучаем модель на всём сете train\n",
    "# train = pd.read_csv(path +'/train.csv')\n",
    "\n",
    "# X_bins, X_cats, X_nums = preprocessing_model_4(train)\n",
    "\n",
    "# X = np.hstack([X_bins, X_cats, X_nums])\n",
    "# y = train['default'].values\n",
    "\n",
    "model = LogisticRegression(penalty = 'l1', C = 1, solver = 'liblinear', max_iter = 100)\n",
    "model.fit(X, y)\n",
    "\n",
    "test = pd.read_csv(path +'/test.csv')\n",
    "\n",
    "# Применяем все наши манипуляции к test\n",
    "test_bins, test_cats, test_nums = preprocessing_model_4(test)\n",
    "\n",
    "test_submission = np.hstack([test_bins, test_cats, test_nums])\n",
    "y_submission = model.predict_proba(test_submission)\n",
    "\n",
    "y_submission = y_submission[:,1]\n",
    "\n",
    "test['default'] = y_submission\n",
    "\n",
    "submission = test[['client_id','default']]\n",
    "\n",
    "submission.to_csv(path + '/submission_r05_hyper.csv', index=False)"
   ]
  },
  {
   "cell_type": "code",
   "execution_count": null,
   "metadata": {},
   "outputs": [],
   "source": []
  },
  {
   "cell_type": "markdown",
   "metadata": {},
   "source": [
    "## 2.6. Пробуем oversampling и применяем модель №4 без гиперпараметров"
   ]
  },
  {
   "cell_type": "markdown",
   "metadata": {},
   "source": [
    "#### Функция oversample()\n",
    "Берём все строки из __df__ с default=1 и добавлем к самому __df N__ раз, где __N__ - соотношение количества строк с default=0 к количеству строк с default=1"
   ]
  },
  {
   "cell_type": "code",
   "execution_count": 93,
   "metadata": {},
   "outputs": [],
   "source": [
    "def oversample(df):\n",
    "    defaults_0 = df[df.default == 0]\n",
    "    defaults_1 = df[df.default == 1]\n",
    "    N = int(len(df) / len(defaults_1))\n",
    "    new_df = df\n",
    "    for i in range(N):\n",
    "        new_df = new_df.append(defaults_1).reset_index(drop=True)\n",
    "    return new_df"
   ]
  },
  {
   "cell_type": "code",
   "execution_count": 94,
   "metadata": {},
   "outputs": [],
   "source": [
    "# обрабатываем и разбиваем\n",
    "\n",
    "train = pd.read_csv(path +'/train.csv')\n",
    "\n",
    "train = oversample(train)\n",
    "\n",
    "X_bins, X_cats, X_nums = preprocessing_model_4(train)\n",
    "\n",
    "X = np.hstack([X_bins, X_cats, X_nums])\n",
    "y = train['default'].values\n",
    "\n",
    "X_train, X_test, y_train, y_test = train_test_split(X, y, test_size = 0.2, random_state=42)"
   ]
  },
  {
   "cell_type": "code",
   "execution_count": 95,
   "metadata": {},
   "outputs": [
    {
     "name": "stdout",
     "output_type": "stream",
     "text": [
      "ROC AUC: 0.739783\n",
      "\n"
     ]
    },
    {
     "data": {
      "image/png": "[encoded data removed]",
      "text/plain": [
       "<Figure size 432x288 with 1 Axes>"
      ]
     },
     "metadata": {
      "needs_background": "light"
     },
     "output_type": "display_data"
    },
    {
     "name": "stdout",
     "output_type": "stream",
     "text": [
      "accuracy_score: 0.6783\n",
      "f1_score: 0.7106\n",
      "recall_score: 0.7336\n",
      "MSE: 0.3217\n",
      "\n",
      "[[ 7902  4969]\n",
      " [ 3999 11011]]\n",
      "Расшифровка Матрицы Ошибок:\n",
      "TP, истинно положительные (дефолт классифицирован как дефолт): 11011\n",
      "TN, истинно отрицательные (не-дефолт классифицирован как не-дефолт): 7902\n",
      "FN, ложно отрицательные (дефолт классифицирован как не-дефолт): 3999 - Bad, model, bad!!!\n",
      "FP, ложно положительные (не-дефолт классифицирован как дефолт): 4969\n"
     ]
    },
    {
     "data": {
      "text/plain": [
       "<AxesSubplot:>"
      ]
     },
     "execution_count": 95,
     "metadata": {},
     "output_type": "execute_result"
    },
    {
     "data": {
      "image/png": "[encoded data removed]",
      "text/plain": [
       "<Figure size 432x288 with 2 Axes>"
      ]
     },
     "metadata": {
      "needs_background": "light"
     },
     "output_type": "display_data"
    }
   ],
   "source": [
    "model = LogisticRegression()\n",
    "model.fit(X_train, y_train)\n",
    "y_pred = model.predict(X_test)\n",
    "\n",
    "probs = model.predict_proba(X_test)\n",
    "probs = probs[:,1]\n",
    "\n",
    "fpr, tpr, threshold = roc_curve(y_test, probs)\n",
    "roc_auc = roc_auc_score(y_test, probs)\n",
    "\n",
    "print(f\"ROC AUC: {round(roc_auc, 6)}\\n\")\n",
    "\n",
    "\n",
    "plt.figure()\n",
    "plt.plot([0, 1], label='Baseline', linestyle='--')\n",
    "plt.plot(fpr, tpr, label = 'Regression')\n",
    "plt.title('Logistic Regression ROC AUC = %0.3f' % roc_auc)\n",
    "plt.ylabel('True Positive Rate')\n",
    "plt.xlabel('False Positive Rate')\n",
    "plt.legend(loc = 'lower right')\n",
    "plt.show()\n",
    "\n",
    "\n",
    "# Оценка качества:\n",
    "print('accuracy_score: {}'.format(np.round(accuracy_score(y_test, y_pred), 4)))\n",
    "print('f1_score: {}'.format(np.round(f1_score(y_test, y_pred), 4)))\n",
    "print('recall_score: {}'.format(np.round(recall_score(y_test, y_pred), 4)))\n",
    "print('MSE: {}\\n'.format(np.round(mean_squared_error(y_test, y_pred), 4)))\n",
    "\n",
    "cm = confusion_matrix(y_test, y_pred)\n",
    "print(cm)\n",
    "print(f\"Расшифровка Матрицы Ошибок:\")\n",
    "print(f\"TP, истинно положительные (дефолт классифицирован как дефолт): {cm[1,1]}\")\n",
    "print(f\"TN, истинно отрицательные (не-дефолт классифицирован как не-дефолт): {cm[0,0]}\")\n",
    "print(f\"FN, ложно отрицательные (дефолт классифицирован как не-дефолт): {cm[1,0]} - Bad, model, bad!!!\")\n",
    "print(f\"FP, ложно положительные (не-дефолт классифицирован как дефолт): {cm[0,1]}\")\n",
    "\n",
    "# Визуализация confusion matrix:\n",
    "sns.set_context(context='paper', font_scale=2, rc=None)\n",
    "group_names = ['True Neg', 'False Pos', 'False Neg', 'True Pos']\n",
    "group_counts = ['{0:0.0f}'.format(value) for value in\n",
    "                confusion_matrix(y_test, y_pred).flatten()]\n",
    "labels = [f'{v1}\\n{v2}' for v1, v2 in\n",
    "          zip(group_names, group_counts)]\n",
    "labels = np.asarray(labels).reshape(2, 2)\n",
    "sns.heatmap(confusion_matrix(y_test, y_pred), annot=labels, fmt='', cmap='Blues')"
   ]
  },
  {
   "cell_type": "markdown",
   "metadata": {},
   "source": [
    "### Выводы относительно модели с oversampling:\n",
    "- Показывает ROC AUC = 0.739783 - улучшение при обучении;\n",
    "- А на test в Kaggle результат резко хуже. Почему? Чего-то я не понимаю...\n",
    "- Зато confusion matrix становится приличнее - больше похожа на идеальную, то есть на единичную:\n",
    " - _TN - спрогнозировали, что дефолта нет и его правда нет - 7902;_\n",
    " - _FN - спрогнозировали, что дефолта нет, а он есть - 3999;_\n",
    " - _TP - спрогнозировали, что дефолт есть, и он правда есть - 11011;_\n",
    " - _FP - спрогнозировали, что дефолт есть, а его нет - 4969._\n",
    "- На месте банкира, я бы предпочел работать с такой матрицей, хотя уровень FN всё равно высокий."
   ]
  },
  {
   "cell_type": "code",
   "execution_count": null,
   "metadata": {},
   "outputs": [],
   "source": []
  },
  {
   "cell_type": "markdown",
   "metadata": {},
   "source": [
    "### Сделаем submission с моделью №4 и oversampling"
   ]
  },
  {
   "cell_type": "code",
   "execution_count": 96,
   "metadata": {},
   "outputs": [],
   "source": [
    "# Обучаем модель на всём сете train\n",
    "model = LogisticRegression()\n",
    "model.fit(X, y)\n",
    "\n",
    "test = pd.read_csv(path +'/test.csv')\n",
    "\n",
    "# Применяем все наши манипуляции к test\n",
    "test_bins, test_cats, test_nums = preprocessing_model_4(test)\n",
    "\n",
    "test_submission = np.hstack([test_bins, test_cats, test_nums])\n",
    "y_submission = model.predict_proba(test_submission)\n",
    "\n",
    "y_submission = y_submission[:,1]\n",
    "\n",
    "test['default'] = y_submission\n",
    "\n",
    "submission = test[['client_id','default']]\n",
    "\n",
    "submission.to_csv(path + '/submission_r06_oversample.csv', index=False)"
   ]
  },
  {
   "cell_type": "markdown",
   "metadata": {},
   "source": [
    "### Наблюдение относительно модели с oversampling:\n",
    "\n",
    "Результат на Kaggle падает с 0.73787 до 0.64185. Что-то я делаю не так."
   ]
  },
  {
   "cell_type": "code",
   "execution_count": null,
   "metadata": {},
   "outputs": [],
   "source": []
  },
  {
   "cell_type": "markdown",
   "metadata": {},
   "source": [
    "## 2.7. Пробуем SMOTE oversampling и применяем модель №4 c гиперпараметрами\n",
    "Время поджимает, надо остановиться и заняться оформлением "
   ]
  },
  {
   "cell_type": "code",
   "execution_count": 97,
   "metadata": {},
   "outputs": [],
   "source": [
    "# обрабатываем и разбиваем\n",
    "\n",
    "train = pd.read_csv(path +'/train.csv')\n",
    "\n",
    "X_bins, X_cats, X_nums = preprocessing_model_4(train)\n",
    "\n",
    "X = np.hstack([X_bins, X_cats, X_nums])\n",
    "y = train['default'].values\n",
    "\n",
    "# Resampling\n",
    "sm = SMOTE(random_state=42)\n",
    "X_res, y_res = sm.fit_resample(X, y)\n",
    "\n",
    "X_train, X_test, y_train, y_test = train_test_split(X_res, y_res, test_size = 0.2, random_state=42)"
   ]
  },
  {
   "cell_type": "code",
   "execution_count": 98,
   "metadata": {},
   "outputs": [
    {
     "name": "stdout",
     "output_type": "stream",
     "text": [
      "ROC AUC: 0.752484\n",
      "\n"
     ]
    },
    {
     "data": {
      "image/png": "[encoded data removed]",
      "text/plain": [
       "<Figure size 432x288 with 1 Axes>"
      ]
     },
     "metadata": {
      "needs_background": "light"
     },
     "output_type": "display_data"
    },
    {
     "name": "stdout",
     "output_type": "stream",
     "text": [
      "accuracy_score: 0.6858\n",
      "f1_score: 0.6892\n",
      "recall_score: 0.6962\n",
      "MSE: 0.3142\n",
      "\n",
      "[[8697 4180]\n",
      " [3917 8977]]\n",
      "Расшифровка Матрицы Ошибок:\n",
      "TP, истинно положительные (дефолт классифицирован как дефолт): 8977\n",
      "TN, истинно отрицательные (не-дефолт классифицирован как не-дефолт): 8697\n",
      "FN, ложно отрицательные (дефолт классифицирован как не-дефолт): 3917 - Bad, model, bad!!!\n",
      "FP, ложно положительные (не-дефолт классифицирован как дефолт): 4180\n"
     ]
    },
    {
     "data": {
      "text/plain": [
       "<AxesSubplot:>"
      ]
     },
     "execution_count": 98,
     "metadata": {},
     "output_type": "execute_result"
    },
    {
     "data": {
      "image/png": "[encoded data removed]",
      "text/plain": [
       "<Figure size 432x288 with 2 Axes>"
      ]
     },
     "metadata": {
      "needs_background": "light"
     },
     "output_type": "display_data"
    }
   ],
   "source": [
    "model = LogisticRegression(penalty = 'l1', C = 1, solver = 'liblinear', max_iter = 100)\n",
    "model.fit(X_train, y_train)\n",
    "y_pred = model.predict(X_test)\n",
    "\n",
    "probs = model.predict_proba(X_test)\n",
    "probs = probs[:,1]\n",
    "\n",
    "fpr, tpr, threshold = roc_curve(y_test, probs)\n",
    "roc_auc = roc_auc_score(y_test, probs)\n",
    "\n",
    "print(f\"ROC AUC: {round(roc_auc, 6)}\\n\")\n",
    "\n",
    "\n",
    "plt.figure()\n",
    "plt.plot([0, 1], label='Baseline', linestyle='--')\n",
    "plt.plot(fpr, tpr, label = 'Regression')\n",
    "plt.title('Logistic Regression ROC AUC = %0.3f' % roc_auc)\n",
    "plt.ylabel('True Positive Rate')\n",
    "plt.xlabel('False Positive Rate')\n",
    "plt.legend(loc = 'lower right')\n",
    "plt.show()\n",
    "\n",
    "\n",
    "# Оценка качества:\n",
    "print('accuracy_score: {}'.format(np.round(accuracy_score(y_test, y_pred), 4)))\n",
    "print('f1_score: {}'.format(np.round(f1_score(y_test, y_pred), 4)))\n",
    "print('recall_score: {}'.format(np.round(recall_score(y_test, y_pred), 4)))\n",
    "print('MSE: {}\\n'.format(np.round(mean_squared_error(y_test, y_pred), 4)))\n",
    "\n",
    "cm = confusion_matrix(y_test, y_pred)\n",
    "print(cm)\n",
    "print(f\"Расшифровка Матрицы Ошибок:\")\n",
    "print(f\"TP, истинно положительные (дефолт классифицирован как дефолт): {cm[1,1]}\")\n",
    "print(f\"TN, истинно отрицательные (не-дефолт классифицирован как не-дефолт): {cm[0,0]}\")\n",
    "print(f\"FN, ложно отрицательные (дефолт классифицирован как не-дефолт): {cm[1,0]} - Bad, model, bad!!!\")\n",
    "print(f\"FP, ложно положительные (не-дефолт классифицирован как дефолт): {cm[0,1]}\")\n",
    "\n",
    "# Визуализация confusion matrix:\n",
    "sns.set_context(context='paper', font_scale=2, rc=None)\n",
    "group_names = ['True Neg', 'False Pos', 'False Neg', 'True Pos']\n",
    "group_counts = ['{0:0.0f}'.format(value) for value in\n",
    "                confusion_matrix(y_test, y_pred).flatten()]\n",
    "labels = [f'{v1}\\n{v2}' for v1, v2 in\n",
    "          zip(group_names, group_counts)]\n",
    "labels = np.asarray(labels).reshape(2, 2)\n",
    "sns.heatmap(confusion_matrix(y_test, y_pred), annot=labels, fmt='', cmap='Blues')"
   ]
  },
  {
   "cell_type": "markdown",
   "metadata": {},
   "source": [
    "### Выводы относительно модели с SMOTE oversampling:\n",
    "- Показывает ROC AUC = 0.752441 - улучшение при обучении;\n",
    "- А на test не улучшается :-(\n",
    "- Зато confusion matrix становится еще приличнее - больше похожа на идеальную, то есть на единичную:\n",
    " - _TN - спрогнозировали, что дефолта нет и его правда нет - 8697;_\n",
    " - _FN - спрогнозировали, что дефолта нет, а он есть - 3916;_\n",
    " - _TP - спрогнозировали, что дефолт есть, и он правда есть - 8978;_\n",
    " - _FP - спрогнозировали, что дефолт есть, а его нет - 4180._\n",
    "- На месте банкира, я бы предпочел работать с такой матрицей."
   ]
  },
  {
   "cell_type": "code",
   "execution_count": null,
   "metadata": {},
   "outputs": [],
   "source": []
  },
  {
   "cell_type": "markdown",
   "metadata": {},
   "source": [
    "### Сделаем submission с моделью №4 и oversampling"
   ]
  },
  {
   "cell_type": "code",
   "execution_count": 99,
   "metadata": {},
   "outputs": [],
   "source": [
    "# Обучаем модель на всём сете train\n",
    "model = LogisticRegression(penalty = 'l1', C = 1, solver = 'liblinear', max_iter = 100)\n",
    "model.fit(X, y)\n",
    "\n",
    "test = pd.read_csv(path +'/test.csv')\n",
    "\n",
    "# Применяем все наши манипуляции к test\n",
    "test_bins, test_cats, test_nums = preprocessing_model_4(test)\n",
    "\n",
    "test_submission = np.hstack([test_bins, test_cats, test_nums])\n",
    "y_submission = model.predict_proba(test_submission)\n",
    "\n",
    "y_submission = y_submission[:,1]\n",
    "\n",
    "test['default'] = y_submission\n",
    "\n",
    "submission = test[['client_id','default']]\n",
    "\n",
    "submission.to_csv(path + '/submission_r07_smote.csv', index=False)"
   ]
  },
  {
   "cell_type": "code",
   "execution_count": null,
   "metadata": {},
   "outputs": [],
   "source": []
  },
  {
   "cell_type": "code",
   "execution_count": 100,
   "metadata": {},
   "outputs": [
    {
     "name": "stdout",
     "output_type": "stream",
     "text": [
      "Тут и сказочке конец, а кто слушал молодец!\n"
     ]
    }
   ],
   "source": [
    "print(\"Тут и сказочке конец, а кто слушал молодец!\")"
   ]
  },
  {
   "cell_type": "code",
   "execution_count": null,
   "metadata": {},
   "outputs": [],
   "source": []
  }
 ],
 "metadata": {
  "kernelspec": {
   "display_name": "Python 3",
   "language": "python",
   "name": "python3"
  },
  "language_info": {
   "codemirror_mode": {
    "name": "ipython",
    "version": 3
   },
   "file_extension": ".py",
   "mimetype": "text/x-python",
   "name": "python",
   "nbconvert_exporter": "python",
   "pygments_lexer": "ipython3",
   "version": "3.8.5"
  },
  "papermill": {
   "default_parameters": {},
   "duration": 169.139489,
   "end_time": "2021-07-08T20:00:37.091651",
   "environment_variables": {},
   "exception": null,
   "input_path": "__notebook__.ipynb",
   "output_path": "__notebook__.ipynb",
   "parameters": {},
   "start_time": "2021-07-08T19:57:47.952162",
   "version": "2.2.2"
  }
 },
 "nbformat": 4,
 "nbformat_minor": 4
}
